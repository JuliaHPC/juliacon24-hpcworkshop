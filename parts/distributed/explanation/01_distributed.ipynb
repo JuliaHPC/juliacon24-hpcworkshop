{
 "cells": [
  {
   "cell_type": "markdown",
   "id": "01e47d24-5538-4a03-8aaf-f10436701dd7",
   "metadata": {
    "slideshow": {
     "slide_type": "skip"
    },
    "tags": []
   },
   "source": [
    "# Setup\n",
    "\n",
    "Note: you might need to run `Pkg.instantiate()` to ensure that the `Manifest.toml` is up to date. This only needs to be done once."
   ]
  },
  {
   "cell_type": "code",
   "execution_count": 1,
   "id": "926348ac-de9d-4fb9-879e-e2102dae99d8",
   "metadata": {
    "slideshow": {
     "slide_type": "skip"
    },
    "tags": []
   },
   "outputs": [
    {
     "name": "stderr",
     "output_type": "stream",
     "text": [
      "\u001b[32m\u001b[1m  Activating\u001b[22m\u001b[39m project at `/global/u1/b/blaschke/juliacon24-hpcworkshop/parts/distributed/explanation`\n"
     ]
    },
    {
     "name": "stdout",
     "output_type": "stream",
     "text": [
      "\u001b[32m\u001b[1mStatus\u001b[22m\u001b[39m `/global/u1/b/blaschke/juliacon24-hpcworkshop/parts/distributed/explanation/Project.toml`\n",
      "  \u001b[90m[34f1f09b] \u001b[39mClusterManagers v0.4.6\n",
      "  \u001b[90m[d58978e5] \u001b[39mDagger v0.18.12\n",
      "  \u001b[90m[aaf54ef3] \u001b[39mDistributedArrays v0.6.7\n",
      "  \u001b[90m[6f74fd91] \u001b[39mNetworkInterfaceControllers v0.1.0\n",
      "  \u001b[90m[91a5bcdd] \u001b[39mPlots v1.40.5\n"
     ]
    }
   ],
   "source": [
    "import Pkg;\n",
    "Pkg.activate(@__DIR__)\n",
    "Pkg.status()"
   ]
  },
  {
   "cell_type": "markdown",
   "id": "40fbafa5-a78f-42a1-94be-7f5ccdcd0340",
   "metadata": {
    "slideshow": {
     "slide_type": "slide"
    },
    "tags": []
   },
   "source": [
    "# Working with `Distributed.jl` on HPC"
   ]
  },
  {
   "cell_type": "markdown",
   "id": "a8f75749-8cd6-42ff-8a85-ac746fe1b3c4",
   "metadata": {
    "slideshow": {
     "slide_type": "fragment"
    },
    "tags": []
   },
   "source": [
    "As an example: we'll be working with 4 workers (Slurm decides where to place them)."
   ]
  },
  {
   "cell_type": "code",
   "execution_count": 2,
   "id": "ab1c3b87-e3bb-455c-9d3d-f5402a6e9348",
   "metadata": {
    "slideshow": {
     "slide_type": "fragment"
    },
    "tags": []
   },
   "outputs": [
    {
     "data": {
      "text/plain": [
       "4"
      ]
     },
     "execution_count": 2,
     "metadata": {},
     "output_type": "execute_result"
    }
   ],
   "source": [
    "NWORKERS = 4"
   ]
  },
  {
   "cell_type": "markdown",
   "id": "b309452f-a599-410c-ae49-907df442e13f",
   "metadata": {
    "slideshow": {
     "slide_type": "subslide"
    },
    "tags": []
   },
   "source": [
    "**Disclaimer:** This is a work in progress -- and things will get easier (and better) over time. So keep an eye out for this!"
   ]
  },
  {
   "cell_type": "markdown",
   "id": "a091249f-d444-442a-843c-4b7eaf827f45",
   "metadata": {
    "slideshow": {
     "slide_type": "slide"
    },
    "tags": []
   },
   "source": [
    "## Using `ElasticManager`"
   ]
  },
  {
   "cell_type": "markdown",
   "id": "87fcd45e-5a31-47a0-a60c-8e7f25f296be",
   "metadata": {
    "slideshow": {
     "slide_type": "fragment"
    },
    "tags": []
   },
   "source": [
    "On your laptop you would do something like:\n",
    "\n",
    "```julia\n",
    "using Distributed\n",
    "addprocs(4)\n",
    "```"
   ]
  },
  {
   "cell_type": "markdown",
   "id": "bca7ab68-7d71-443c-ae1a-cb79cad0c778",
   "metadata": {
    "slideshow": {
     "slide_type": "subslide"
    },
    "tags": []
   },
   "source": [
    "On most HPC systems you need to work with a resource manager to request resources. You have two options:\n",
    "1. Use something like `SlurmManager.jl` to handle talking to your resource manager for you. Pro: when it works it's \"cleaner\". Con: when it doesn't work, it's harder to fix.\n",
    "2. Use `ElasticManager` (from `ClusterManagers.jl`) to \"wait for\" incoming workers. Then have your resource manager to launch workers for you. Pro: more flexible. Con: more work for you."
   ]
  },
  {
   "cell_type": "code",
   "execution_count": 3,
   "id": "a4650a3c-afcc-40af-8eef-4f6eb995f385",
   "metadata": {
    "slideshow": {
     "slide_type": "subslide"
    },
    "tags": []
   },
   "outputs": [
    {
     "data": {
      "text/plain": [
       "ip\"128.55.84.171\""
      ]
     },
     "execution_count": 3,
     "metadata": {},
     "output_type": "execute_result"
    }
   ],
   "source": [
    "using Distributed, ClusterManagers\n",
    "\n",
    "using NetworkInterfaceControllers, Sockets\n",
    "interfaces = NetworkInterfaceControllers.get_interface_data(IPv4)\n",
    "\n",
    "hsn0_public = filter(\n",
    "    x->(x.name==\"hsn0:chn\" && x.version==:v4), interfaces\n",
    ") |> only \n",
    "hsn0_public.ip"
   ]
  },
  {
   "cell_type": "markdown",
   "id": "67e4c1c9-af5a-4a11-b378-0ca618aa3923",
   "metadata": {
    "slideshow": {
     "slide_type": "fragment"
    },
    "tags": []
   },
   "source": [
    "Hack 1: you need all workers to know their public HSN address. In the future this will be automated. Currently what we do is we do is to add the code above to: `$JULIA_DEPOT_PATH/config/startup.jl`:\n",
    "\n",
    "```julia\n",
    "using NetworkInterfaceControllers, Sockets\n",
    "...\n",
    "Sockets.getipaddr() = hsn0_public.ip\n",
    "```"
   ]
  },
  {
   "cell_type": "code",
   "execution_count": 4,
   "id": "9daadd7a-6ce4-447c-8e74-f2eefd604cf0",
   "metadata": {
    "slideshow": {
     "slide_type": "subslide"
    },
    "tags": []
   },
   "outputs": [
    {
     "name": "stdout",
     "output_type": "stream",
     "text": [
      "ElasticManager:\n",
      "  Active workers : []\n",
      "  Number of workers to be added  : 0\n",
      "  Terminated workers : []\n",
      "  Worker connect command : \n",
      "    /global/common/software/nersc/n9/julia/1.9.4/bin/julia --project=/global/u1/b/blaschke/juliacon24-hpcworkshop/parts/distributed/explanation/Project.toml -e 'using ClusterManagers; ClusterManagers.elastic_worker(\"hYwEFbsjp1TfBPEP\",\"128.55.84.171\",10001)'\n",
      "Waiting for workers, got: 1\n",
      "Waiting for workers, got: 1\n",
      "Waiting for workers, got: 1\n",
      "Waiting for workers, got: 1\n",
      "Waiting for workers, got: 1\n",
      "Waiting for workers, got: 1\n",
      "Waiting for workers, got: 1\n"
     ]
    }
   ],
   "source": [
    "em = ElasticManager(addr=hsn0_public.ip, port=10001)  # or use: `addr=:auto`\n",
    "\n",
    "println(em)\n",
    "\n",
    "# launch workers\n",
    "@async run(`srun -n $NWORKERS sh -c $(ClusterManagers.get_connect_cmd(em))`)\n",
    "\n",
    "# wait for them to connect\n",
    "while nworkers()<NWORKERS\n",
    "    println(\"Waiting for workers, got: $(nworkers())\")\n",
    "    sleep(1)\n",
    "end"
   ]
  },
  {
   "cell_type": "code",
   "execution_count": 5,
   "id": "cea6ee3f-f7fc-4b03-80bf-b19eee3c3f5d",
   "metadata": {
    "slideshow": {
     "slide_type": "skip"
    },
    "tags": []
   },
   "outputs": [
    {
     "data": {
      "text/plain": [
       "4-element Vector{Int64}:\n",
       " 2\n",
       " 3\n",
       " 4\n",
       " 5"
      ]
     },
     "execution_count": 5,
     "metadata": {},
     "output_type": "execute_result"
    }
   ],
   "source": [
    "workers()"
   ]
  },
  {
   "cell_type": "markdown",
   "id": "0b5ca7de-60bc-4a2b-9fec-ea2822cb2c48",
   "metadata": {
    "slideshow": {
     "slide_type": "subslide"
    },
    "tags": []
   },
   "source": [
    "We've got a 4-node job here, so Slurm runs earch worker on a seperate node: "
   ]
  },
  {
   "cell_type": "code",
   "execution_count": 6,
   "id": "7b2b6e9d-25cf-481d-a56e-ad38daf64de3",
   "metadata": {
    "slideshow": {
     "slide_type": "fragment"
    },
    "tags": []
   },
   "outputs": [
    {
     "data": {
      "text/plain": [
       "4-element Vector{String}:\n",
       " \"nid200344\"\n",
       " \"nid200345\"\n",
       " \"nid200348\"\n",
       " \"nid200349\""
      ]
     },
     "execution_count": 6,
     "metadata": {},
     "output_type": "execute_result"
    }
   ],
   "source": [
    "[@fetchfrom p gethostname() for p in workers()]"
   ]
  },
  {
   "cell_type": "markdown",
   "id": "85876f8d-819d-49e8-8d10-200ba32854ef",
   "metadata": {
    "slideshow": {
     "slide_type": "slide"
    },
    "tags": []
   },
   "source": [
    "## 1D Solver Example"
   ]
  },
  {
   "cell_type": "markdown",
   "id": "cba483da-c9cb-4049-8cb6-0916fa9b7d8c",
   "metadata": {
    "slideshow": {
     "slide_type": "fragment"
    },
    "tags": []
   },
   "source": [
    "Let's set up a basic example: 1D diffusion! First we need some parameters:"
   ]
  },
  {
   "cell_type": "code",
   "execution_count": 7,
   "id": "d0601634-4b34-488a-af59-95b77d551f11",
   "metadata": {
    "slideshow": {
     "slide_type": "fragment"
    },
    "tags": []
   },
   "outputs": [],
   "source": [
    "@everywhere begin\n",
    "    D  = 1e-4\n",
    "    ds = 1e-4\n",
    "    dt = ds^2 / D / 8.2\n",
    "    qx(ix, D, C, ds) = -D * (C[ix+1, 1] - C[ix, 1]) / ds\n",
    "end"
   ]
  },
  {
   "cell_type": "markdown",
   "id": "30370ad6-3327-43d8-a752-651f7a518633",
   "metadata": {
    "slideshow": {
     "slide_type": "subslide"
    },
    "tags": []
   },
   "source": [
    "We can use DistributedArrays to handle to inter-process (inter-rank) communication for you. No more halo exchanges! YAY!"
   ]
  },
  {
   "cell_type": "code",
   "execution_count": 8,
   "id": "04f3b96e-286c-4493-9307-513385c9238b",
   "metadata": {
    "slideshow": {
     "slide_type": "fragment"
    },
    "tags": []
   },
   "outputs": [],
   "source": [
    "@everywhere using DistributedArrays"
   ]
  },
  {
   "cell_type": "code",
   "execution_count": 9,
   "id": "85bd0209-f32e-43ba-a4a7-8b92aab86d3a",
   "metadata": {
    "slideshow": {
     "slide_type": "fragment"
    },
    "tags": []
   },
   "outputs": [
    {
     "data": {
      "text/plain": [
       "40×1 DArray{Float64, 2, Matrix{Float64}}:\n",
       " 0.0\n",
       " 0.0\n",
       " 0.0\n",
       " 0.0\n",
       " 0.0\n",
       " 0.0\n",
       " 0.0\n",
       " 0.0\n",
       " 0.0\n",
       " 0.0\n",
       " 0.0\n",
       " 0.0\n",
       " 0.0\n",
       " ⋮\n",
       " 0.0\n",
       " 0.0\n",
       " 0.0\n",
       " 0.0\n",
       " 0.0\n",
       " 0.0\n",
       " 0.0\n",
       " 0.0\n",
       " 0.0\n",
       " 0.0\n",
       " 0.0\n",
       " 0.0"
      ]
     },
     "execution_count": 9,
     "metadata": {},
     "output_type": "execute_result"
    }
   ],
   "source": [
    "ras = [@spawnat p zeros(10, 1) for p in workers()]\n",
    "ras = reshape(ras, (nworkers(), 1))\n",
    "C   = DArray(ras)"
   ]
  },
  {
   "cell_type": "markdown",
   "id": "2022890a-6aa5-401b-8d3d-6fc7de0031ce",
   "metadata": {
    "slideshow": {
     "slide_type": "subslide"
    },
    "tags": []
   },
   "source": [
    "As the name suggest: `DistributedArrays` store their data accross processes -- this means the global address space is broken up into local parts:"
   ]
  },
  {
   "cell_type": "code",
   "execution_count": 10,
   "id": "7c72fa19-3414-4b4e-ae65-2aabea1f8383",
   "metadata": {
    "slideshow": {
     "slide_type": "fragment"
    },
    "tags": []
   },
   "outputs": [
    {
     "data": {
      "text/plain": [
       "4-element Vector{Tuple{UnitRange{Int64}, UnitRange{Int64}}}:\n",
       " (1:10, 1:1)\n",
       " (11:20, 1:1)\n",
       " (21:30, 1:1)\n",
       " (31:40, 1:1)"
      ]
     },
     "execution_count": 10,
     "metadata": {},
     "output_type": "execute_result"
    }
   ],
   "source": [
    "[@fetchfrom p localindices(C) for p in workers()]"
   ]
  },
  {
   "cell_type": "markdown",
   "id": "f6c516f4-d80c-4b48-9655-4d1dc6026877",
   "metadata": {
    "slideshow": {
     "slide_type": "subslide"
    },
    "tags": []
   },
   "source": [
    "One downslide (which packages like `Dagger.jl` solve is that we can't globally set elements of `DArray`s"
   ]
  },
  {
   "cell_type": "code",
   "execution_count": 11,
   "id": "ee62bf69-59cd-4a2d-bd1a-7c7cef9c12cd",
   "metadata": {
    "slideshow": {
     "slide_type": "fragment"
    },
    "tags": []
   },
   "outputs": [
    {
     "ename": "LoadError",
     "evalue": "CanonicalIndexError: setindex! not defined for DArray{Float64, 2, Matrix{Float64}}",
     "output_type": "error",
     "traceback": [
      "CanonicalIndexError: setindex! not defined for DArray{Float64, 2, Matrix{Float64}}",
      "",
      "Stacktrace:",
      " [1] error_if_canonical_setindex(::IndexCartesian, ::DArray{Float64, 2, Matrix{Float64}}, ::Int64, ::Int64)",
      "   @ Base ./abstractarray.jl:1409",
      " [2] setindex!(::DArray{Float64, 2, Matrix{Float64}}, ::Float64, ::Int64, ::Int64)",
      "   @ Base ./abstractarray.jl:1398",
      " [3] top-level scope",
      "   @ In[11]:1"
     ]
    }
   ],
   "source": [
    "C[20,1] = 1/ds"
   ]
  },
  {
   "cell_type": "markdown",
   "id": "62a0ac21-bc50-4b11-a354-6220ef7e37b1",
   "metadata": {
    "slideshow": {
     "slide_type": "subslide"
    },
    "tags": []
   },
   "source": [
    "Instead we have to work on the `localparts` and construct a new `DArray`:"
   ]
  },
  {
   "cell_type": "code",
   "execution_count": 12,
   "id": "aeb6bf9f-dd09-45b9-8401-f02c00ac1ce8",
   "metadata": {
    "slideshow": {
     "slide_type": "fragment"
    },
    "tags": []
   },
   "outputs": [
    {
     "data": {
      "text/plain": [
       "40×1 DArray{Float64, 2, Matrix{Float64}}:\n",
       " 0.0\n",
       " 0.0\n",
       " 0.0\n",
       " 0.0\n",
       " 0.0\n",
       " 0.0\n",
       " 0.0\n",
       " 0.0\n",
       " 0.0\n",
       " 0.0\n",
       " 0.0\n",
       " 0.0\n",
       " 0.0\n",
       " ⋮\n",
       " 0.0\n",
       " 0.0\n",
       " 0.0\n",
       " 0.0\n",
       " 0.0\n",
       " 0.0\n",
       " 0.0\n",
       " 0.0\n",
       " 0.0\n",
       " 0.0\n",
       " 0.0\n",
       " 0.0"
      ]
     },
     "execution_count": 12,
     "metadata": {},
     "output_type": "execute_result"
    }
   ],
   "source": [
    "target_index = 20\n",
    "target_value = 1/ds\n",
    "\n",
    "C = DArray(size(C)) do I\n",
    "    loc = localpart(C)\n",
    "    idx = localindices(C)[1] # working in 1D\n",
    "    \n",
    "    # If target_index is in the local index, then change the localpart\n",
    "    if target_index in idx\n",
    "        loc_i = findfirst(x->x==target_index, idx)\n",
    "        loc[loc_i] = target_value\n",
    "    end\n",
    "    loc\n",
    "end"
   ]
  },
  {
   "cell_type": "markdown",
   "id": "c4226f08-478d-422f-9366-f5b63a05a0bf",
   "metadata": {
    "slideshow": {
     "slide_type": "subslide"
    },
    "tags": []
   },
   "source": [
    "Sanity check: the \"area under the curve\" should be 1."
   ]
  },
  {
   "cell_type": "code",
   "execution_count": 13,
   "id": "15d1300c-c84d-4a2d-94b1-a68365c08975",
   "metadata": {
    "slideshow": {
     "slide_type": "fragment"
    },
    "tags": []
   },
   "outputs": [
    {
     "data": {
      "text/plain": [
       "1.0"
      ]
     },
     "execution_count": 13,
     "metadata": {},
     "output_type": "execute_result"
    }
   ],
   "source": [
    "sum(C)*ds"
   ]
  },
  {
   "cell_type": "markdown",
   "id": "7c009769-6f13-4ca6-be8e-4602669eae07",
   "metadata": {
    "slideshow": {
     "slide_type": "fragment"
    },
    "tags": []
   },
   "source": [
    "You can access any part from `DArray` from anywhere (this is what makes them more convenient than MPI, but possibly slower if you use unneccessary communication)"
   ]
  },
  {
   "cell_type": "markdown",
   "id": "95a83481-0ad2-4637-bdc2-d37266833602",
   "metadata": {
    "slideshow": {
     "slide_type": "subslide"
    },
    "tags": []
   },
   "source": [
    "So now we can write our 1D diffusion algorithm :)"
   ]
  },
  {
   "cell_type": "code",
   "execution_count": 14,
   "id": "5c167e00-781d-4948-9bd7-bb95b66adf6d",
   "metadata": {
    "slideshow": {
     "slide_type": "subslide"
    },
    "tags": []
   },
   "outputs": [
    {
     "data": {
      "text/plain": [
       "step_diffusion (generic function with 1 method)"
      ]
     },
     "execution_count": 14,
     "metadata": {},
     "output_type": "execute_result"
    }
   ],
   "source": [
    "function step_diffusion(C)\n",
    "    DArray(size(C)) do I\n",
    "        loc = localpart(C)\n",
    "        idx = localindices(C)[1] # working in 1D\n",
    "\n",
    "        off = idx[1]-1\n",
    "        for i in idx\n",
    "            # absorbing boundary conditions (lo, hi are always set to zero)\n",
    "            if i==1 || i==size(C, 1)\n",
    "                continue\n",
    "            end\n",
    "            il = i - off\n",
    "            loc[il] = loc[il] - dt * (qx(i, D, C, ds) - qx(i-1, D, C, ds)) / ds\n",
    "        end\n",
    "\n",
    "        loc\n",
    "    end\n",
    "end"
   ]
  },
  {
   "cell_type": "markdown",
   "id": "bd0ced63-f6ba-4472-ba20-aa3657099643",
   "metadata": {
    "slideshow": {
     "slide_type": "subslide"
    },
    "tags": []
   },
   "source": [
    "Which we run for 100 time steps. We save every 10th timestep. This is great for debugging and illustration, but it's is super wasteful, don't do this in production"
   ]
  },
  {
   "cell_type": "code",
   "execution_count": 15,
   "id": "f7a9f106-3fa7-4987-98a1-15fe068e45a6",
   "metadata": {
    "slideshow": {
     "slide_type": "fragment"
    },
    "tags": []
   },
   "outputs": [],
   "source": [
    "sols = [Array(C)]\n",
    "for i in 1:100\n",
    "    C = step_diffusion(C)\n",
    "    # Save timesteps:\n",
    "    if i%10 == 0\n",
    "        push!(sols, Array(C))\n",
    "    end\n",
    "end"
   ]
  },
  {
   "cell_type": "code",
   "execution_count": 16,
   "id": "50907b05-4ed9-4158-beee-f5eb39e9c719",
   "metadata": {
    "slideshow": {
     "slide_type": "skip"
    },
    "tags": []
   },
   "outputs": [],
   "source": [
    "using Plots"
   ]
  },
  {
   "cell_type": "code",
   "execution_count": 20,
   "id": "0f67b11e-d202-4a82-b7c8-cb829d715a37",
   "metadata": {
    "slideshow": {
     "slide_type": "subslide"
    },
    "tags": []
   },
   "outputs": [
    {
     "data": {
      "image/png": "[encoded data removed]",
      "image/svg+xml": [
       "<?xml version=\"1.0\" encoding=\"utf-8\"?>\n",
       "<svg xmlns=\"http://www.w3.org/2000/svg\" xmlns:xlink=\"http://www.w3.org/1999/xlink\" width=\"600\" height=\"400\" viewBox=\"0 0 2400 1600\">\n",
       "<defs>\n",
       "  <clipPath id=\"clip300\">\n",
       "    <rect x=\"0\" y=\"0\" width=\"2400\" height=\"1600\"/>\n",
       "  </clipPath>\n",
       "</defs>\n",
       "<path clip-path=\"url(#clip300)\" d=\"M0 1600 L2400 1600 L2400 0 L0 0  Z\" fill=\"#ffffff\" fill-rule=\"evenodd\" fill-opacity=\"1\"/>\n",
       "<defs>\n",
       "  <clipPath id=\"clip301\">\n",
       "    <rect x=\"480\" y=\"0\" width=\"1681\" height=\"1600\"/>\n",
       "  </clipPath>\n",
       "</defs>\n",
       "<path clip-path=\"url(#clip300)\" d=\"M229.445 1486.45 L2352.76 1486.45 L2352.76 47.2441 L229.445 47.2441  Z\" fill=\"#ffffff\" fill-rule=\"evenodd\" fill-opacity=\"1\"/>\n",
       "<defs>\n",
       "  <clipPath id=\"clip302\">\n",
       "    <rect x=\"229\" y=\"47\" width=\"2124\" height=\"1440\"/>\n",
       "  </clipPath>\n",
       "</defs>\n",
       "<polyline clip-path=\"url(#clip302)\" style=\"stroke:#000000; stroke-linecap:round; stroke-linejoin:round; stroke-width:2; stroke-opacity:0.1; fill:none\" points=\"238.177,1486.45 238.177,47.2441 \"/>\n",
       "<polyline clip-path=\"url(#clip302)\" style=\"stroke:#000000; stroke-linecap:round; stroke-linejoin:round; stroke-width:2; stroke-opacity:0.1; fill:none\" points=\"751.798,1486.45 751.798,47.2441 \"/>\n",
       "<polyline clip-path=\"url(#clip302)\" style=\"stroke:#000000; stroke-linecap:round; stroke-linejoin:round; stroke-width:2; stroke-opacity:0.1; fill:none\" points=\"1265.42,1486.45 1265.42,47.2441 \"/>\n",
       "<polyline clip-path=\"url(#clip302)\" style=\"stroke:#000000; stroke-linecap:round; stroke-linejoin:round; stroke-width:2; stroke-opacity:0.1; fill:none\" points=\"1779.04,1486.45 1779.04,47.2441 \"/>\n",
       "<polyline clip-path=\"url(#clip302)\" style=\"stroke:#000000; stroke-linecap:round; stroke-linejoin:round; stroke-width:2; stroke-opacity:0.1; fill:none\" points=\"2292.66,1486.45 2292.66,47.2441 \"/>\n",
       "<polyline clip-path=\"url(#clip300)\" style=\"stroke:#000000; stroke-linecap:round; stroke-linejoin:round; stroke-width:4; stroke-opacity:1; fill:none\" points=\"229.445,1486.45 2352.76,1486.45 \"/>\n",
       "<polyline clip-path=\"url(#clip300)\" style=\"stroke:#000000; stroke-linecap:round; stroke-linejoin:round; stroke-width:4; stroke-opacity:1; fill:none\" points=\"238.177,1486.45 238.177,1467.55 \"/>\n",
       "<polyline clip-path=\"url(#clip300)\" style=\"stroke:#000000; stroke-linecap:round; stroke-linejoin:round; stroke-width:4; stroke-opacity:1; fill:none\" points=\"751.798,1486.45 751.798,1467.55 \"/>\n",
       "<polyline clip-path=\"url(#clip300)\" style=\"stroke:#000000; stroke-linecap:round; stroke-linejoin:round; stroke-width:4; stroke-opacity:1; fill:none\" points=\"1265.42,1486.45 1265.42,1467.55 \"/>\n",
       "<polyline clip-path=\"url(#clip300)\" style=\"stroke:#000000; stroke-linecap:round; stroke-linejoin:round; stroke-width:4; stroke-opacity:1; fill:none\" points=\"1779.04,1486.45 1779.04,1467.55 \"/>\n",
       "<polyline clip-path=\"url(#clip300)\" style=\"stroke:#000000; stroke-linecap:round; stroke-linejoin:round; stroke-width:4; stroke-opacity:1; fill:none\" points=\"2292.66,1486.45 2292.66,1467.55 \"/>\n",
       "<path clip-path=\"url(#clip300)\" d=\"M238.177 1517.37 Q234.566 1517.37 232.737 1520.93 Q230.931 1524.47 230.931 1531.6 Q230.931 1538.71 232.737 1542.27 Q234.566 1545.82 238.177 1545.82 Q241.811 1545.82 243.616 1542.27 Q245.445 1538.71 245.445 1531.6 Q245.445 1524.47 243.616 1520.93 Q241.811 1517.37 238.177 1517.37 M238.177 1513.66 Q243.987 1513.66 247.042 1518.27 Q250.121 1522.85 250.121 1531.6 Q250.121 1540.33 247.042 1544.94 Q243.987 1549.52 238.177 1549.52 Q232.366 1549.52 229.288 1544.94 Q226.232 1540.33 226.232 1531.6 Q226.232 1522.85 229.288 1518.27 Q232.366 1513.66 238.177 1513.66 Z\" fill=\"#000000\" fill-rule=\"nonzero\" fill-opacity=\"1\" /><path clip-path=\"url(#clip300)\" d=\"M726.486 1544.91 L734.125 1544.91 L734.125 1518.55 L725.814 1520.21 L725.814 1515.95 L734.078 1514.29 L738.754 1514.29 L738.754 1544.91 L746.393 1544.91 L746.393 1548.85 L726.486 1548.85 L726.486 1544.91 Z\" fill=\"#000000\" fill-rule=\"nonzero\" fill-opacity=\"1\" /><path clip-path=\"url(#clip300)\" d=\"M765.837 1517.37 Q762.226 1517.37 760.398 1520.93 Q758.592 1524.47 758.592 1531.6 Q758.592 1538.71 760.398 1542.27 Q762.226 1545.82 765.837 1545.82 Q769.472 1545.82 771.277 1542.27 Q773.106 1538.71 773.106 1531.6 Q773.106 1524.47 771.277 1520.93 Q769.472 1517.37 765.837 1517.37 M765.837 1513.66 Q771.647 1513.66 774.703 1518.27 Q777.782 1522.85 777.782 1531.6 Q777.782 1540.33 774.703 1544.94 Q771.647 1549.52 765.837 1549.52 Q760.027 1549.52 756.948 1544.94 Q753.893 1540.33 753.893 1531.6 Q753.893 1522.85 756.948 1518.27 Q760.027 1513.66 765.837 1513.66 Z\" fill=\"#000000\" fill-rule=\"nonzero\" fill-opacity=\"1\" /><path clip-path=\"url(#clip300)\" d=\"M1244.19 1544.91 L1260.51 1544.91 L1260.51 1548.85 L1238.57 1548.85 L1238.57 1544.91 Q1241.23 1542.16 1245.81 1537.53 Q1250.42 1532.88 1251.6 1531.53 Q1253.85 1529.01 1254.73 1527.27 Q1255.63 1525.51 1255.63 1523.82 Q1255.63 1521.07 1253.68 1519.33 Q1251.76 1517.6 1248.66 1517.6 Q1246.46 1517.6 1244.01 1518.36 Q1241.58 1519.13 1238.8 1520.68 L1238.8 1515.95 Q1241.62 1514.82 1244.08 1514.24 Q1246.53 1513.66 1248.57 1513.66 Q1253.94 1513.66 1257.13 1516.35 Q1260.33 1519.03 1260.33 1523.52 Q1260.33 1525.65 1259.52 1527.57 Q1258.73 1529.47 1256.62 1532.07 Q1256.04 1532.74 1252.94 1535.95 Q1249.84 1539.15 1244.19 1544.91 Z\" fill=\"#000000\" fill-rule=\"nonzero\" fill-opacity=\"1\" /><path clip-path=\"url(#clip300)\" d=\"M1280.33 1517.37 Q1276.72 1517.37 1274.89 1520.93 Q1273.08 1524.47 1273.08 1531.6 Q1273.08 1538.71 1274.89 1542.27 Q1276.72 1545.82 1280.33 1545.82 Q1283.96 1545.82 1285.77 1542.27 Q1287.6 1538.71 1287.6 1531.6 Q1287.6 1524.47 1285.77 1520.93 Q1283.96 1517.37 1280.33 1517.37 M1280.33 1513.66 Q1286.14 1513.66 1289.19 1518.27 Q1292.27 1522.85 1292.27 1531.6 Q1292.27 1540.33 1289.19 1544.94 Q1286.14 1549.52 1280.33 1549.52 Q1274.52 1549.52 1271.44 1544.94 Q1268.38 1540.33 1268.38 1531.6 Q1268.38 1522.85 1271.44 1518.27 Q1274.52 1513.66 1280.33 1513.66 Z\" fill=\"#000000\" fill-rule=\"nonzero\" fill-opacity=\"1\" /><path clip-path=\"url(#clip300)\" d=\"M1767.88 1530.21 Q1771.24 1530.93 1773.11 1533.2 Q1775.01 1535.47 1775.01 1538.8 Q1775.01 1543.92 1771.49 1546.72 Q1767.98 1549.52 1761.49 1549.52 Q1759.32 1549.52 1757 1549.08 Q1754.71 1548.66 1752.26 1547.81 L1752.26 1543.29 Q1754.2 1544.43 1756.52 1545.01 Q1758.83 1545.58 1761.36 1545.58 Q1765.75 1545.58 1768.05 1543.85 Q1770.36 1542.11 1770.36 1538.8 Q1770.36 1535.75 1768.21 1534.03 Q1766.08 1532.3 1762.26 1532.3 L1758.23 1532.3 L1758.23 1528.45 L1762.44 1528.45 Q1765.89 1528.45 1767.72 1527.09 Q1769.55 1525.7 1769.55 1523.11 Q1769.55 1520.45 1767.65 1519.03 Q1765.78 1517.6 1762.26 1517.6 Q1760.34 1517.6 1758.14 1518.01 Q1755.94 1518.43 1753.3 1519.31 L1753.3 1515.14 Q1755.96 1514.4 1758.28 1514.03 Q1760.61 1513.66 1762.68 1513.66 Q1768 1513.66 1771.1 1516.09 Q1774.2 1518.5 1774.2 1522.62 Q1774.2 1525.49 1772.56 1527.48 Q1770.92 1529.45 1767.88 1530.21 Z\" fill=\"#000000\" fill-rule=\"nonzero\" fill-opacity=\"1\" /><path clip-path=\"url(#clip300)\" d=\"M1793.88 1517.37 Q1790.27 1517.37 1788.44 1520.93 Q1786.63 1524.47 1786.63 1531.6 Q1786.63 1538.71 1788.44 1542.27 Q1790.27 1545.82 1793.88 1545.82 Q1797.51 1545.82 1799.32 1542.27 Q1801.15 1538.71 1801.15 1531.6 Q1801.15 1524.47 1799.32 1520.93 Q1797.51 1517.37 1793.88 1517.37 M1793.88 1513.66 Q1799.69 1513.66 1802.74 1518.27 Q1805.82 1522.85 1805.82 1531.6 Q1805.82 1540.33 1802.74 1544.94 Q1799.69 1549.52 1793.88 1549.52 Q1788.07 1549.52 1784.99 1544.94 Q1781.93 1540.33 1781.93 1531.6 Q1781.93 1522.85 1784.99 1518.27 Q1788.07 1513.66 1793.88 1513.66 Z\" fill=\"#000000\" fill-rule=\"nonzero\" fill-opacity=\"1\" /><path clip-path=\"url(#clip300)\" d=\"M2280.83 1518.36 L2269.03 1536.81 L2280.83 1536.81 L2280.83 1518.36 M2279.61 1514.29 L2285.49 1514.29 L2285.49 1536.81 L2290.42 1536.81 L2290.42 1540.7 L2285.49 1540.7 L2285.49 1548.85 L2280.83 1548.85 L2280.83 1540.7 L2265.23 1540.7 L2265.23 1536.19 L2279.61 1514.29 Z\" fill=\"#000000\" fill-rule=\"nonzero\" fill-opacity=\"1\" /><path clip-path=\"url(#clip300)\" d=\"M2308.15 1517.37 Q2304.54 1517.37 2302.71 1520.93 Q2300.9 1524.47 2300.9 1531.6 Q2300.9 1538.71 2302.71 1542.27 Q2304.54 1545.82 2308.15 1545.82 Q2311.78 1545.82 2313.59 1542.27 Q2315.42 1538.71 2315.42 1531.6 Q2315.42 1524.47 2313.59 1520.93 Q2311.78 1517.37 2308.15 1517.37 M2308.15 1513.66 Q2313.96 1513.66 2317.01 1518.27 Q2320.09 1522.85 2320.09 1531.6 Q2320.09 1540.33 2317.01 1544.94 Q2313.96 1549.52 2308.15 1549.52 Q2302.34 1549.52 2299.26 1544.94 Q2296.2 1540.33 2296.2 1531.6 Q2296.2 1522.85 2299.26 1518.27 Q2302.34 1513.66 2308.15 1513.66 Z\" fill=\"#000000\" fill-rule=\"nonzero\" fill-opacity=\"1\" /><polyline clip-path=\"url(#clip302)\" style=\"stroke:#000000; stroke-linecap:round; stroke-linejoin:round; stroke-width:2; stroke-opacity:0.1; fill:none\" points=\"229.445,1445.72 2352.76,1445.72 \"/>\n",
       "<polyline clip-path=\"url(#clip302)\" style=\"stroke:#000000; stroke-linecap:round; stroke-linejoin:round; stroke-width:2; stroke-opacity:0.1; fill:none\" points=\"229.445,1106.28 2352.76,1106.28 \"/>\n",
       "<polyline clip-path=\"url(#clip302)\" style=\"stroke:#000000; stroke-linecap:round; stroke-linejoin:round; stroke-width:2; stroke-opacity:0.1; fill:none\" points=\"229.445,766.846 2352.76,766.846 \"/>\n",
       "<polyline clip-path=\"url(#clip302)\" style=\"stroke:#000000; stroke-linecap:round; stroke-linejoin:round; stroke-width:2; stroke-opacity:0.1; fill:none\" points=\"229.445,427.411 2352.76,427.411 \"/>\n",
       "<polyline clip-path=\"url(#clip302)\" style=\"stroke:#000000; stroke-linecap:round; stroke-linejoin:round; stroke-width:2; stroke-opacity:0.1; fill:none\" points=\"229.445,87.9763 2352.76,87.9763 \"/>\n",
       "<polyline clip-path=\"url(#clip300)\" style=\"stroke:#000000; stroke-linecap:round; stroke-linejoin:round; stroke-width:4; stroke-opacity:1; fill:none\" points=\"229.445,1486.45 229.445,47.2441 \"/>\n",
       "<polyline clip-path=\"url(#clip300)\" style=\"stroke:#000000; stroke-linecap:round; stroke-linejoin:round; stroke-width:4; stroke-opacity:1; fill:none\" points=\"229.445,1445.72 248.343,1445.72 \"/>\n",
       "<polyline clip-path=\"url(#clip300)\" style=\"stroke:#000000; stroke-linecap:round; stroke-linejoin:round; stroke-width:4; stroke-opacity:1; fill:none\" points=\"229.445,1106.28 248.343,1106.28 \"/>\n",
       "<polyline clip-path=\"url(#clip300)\" style=\"stroke:#000000; stroke-linecap:round; stroke-linejoin:round; stroke-width:4; stroke-opacity:1; fill:none\" points=\"229.445,766.846 248.343,766.846 \"/>\n",
       "<polyline clip-path=\"url(#clip300)\" style=\"stroke:#000000; stroke-linecap:round; stroke-linejoin:round; stroke-width:4; stroke-opacity:1; fill:none\" points=\"229.445,427.411 248.343,427.411 \"/>\n",
       "<polyline clip-path=\"url(#clip300)\" style=\"stroke:#000000; stroke-linecap:round; stroke-linejoin:round; stroke-width:4; stroke-opacity:1; fill:none\" points=\"229.445,87.9763 248.343,87.9763 \"/>\n",
       "<path clip-path=\"url(#clip300)\" d=\"M181.501 1431.51 Q177.89 1431.51 176.061 1435.08 Q174.255 1438.62 174.255 1445.75 Q174.255 1452.86 176.061 1456.42 Q177.89 1459.96 181.501 1459.96 Q185.135 1459.96 186.94 1456.42 Q188.769 1452.86 188.769 1445.75 Q188.769 1438.62 186.94 1435.08 Q185.135 1431.51 181.501 1431.51 M181.501 1427.81 Q187.311 1427.81 190.366 1432.42 Q193.445 1437 193.445 1445.75 Q193.445 1454.48 190.366 1459.08 Q187.311 1463.67 181.501 1463.67 Q175.691 1463.67 172.612 1459.08 Q169.556 1454.48 169.556 1445.75 Q169.556 1437 172.612 1432.42 Q175.691 1427.81 181.501 1427.81 Z\" fill=\"#000000\" fill-rule=\"nonzero\" fill-opacity=\"1\" /><path clip-path=\"url(#clip300)\" d=\"M85.0429 1119.63 L101.362 1119.63 L101.362 1123.56 L79.4179 1123.56 L79.4179 1119.63 Q82.0799 1116.87 86.6632 1112.24 Q91.2697 1107.59 92.4502 1106.25 Q94.6956 1103.72 95.5752 1101.99 Q96.478 1100.23 96.478 1098.54 Q96.478 1095.78 94.5336 1094.05 Q92.6123 1092.31 89.5104 1092.31 Q87.3114 1092.31 84.8577 1093.07 Q82.4271 1093.84 79.6494 1095.39 L79.6494 1090.67 Q82.4734 1089.53 84.9271 1088.95 Q87.3808 1088.38 89.4178 1088.38 Q94.7882 1088.38 97.9826 1091.06 Q101.177 1093.75 101.177 1098.24 Q101.177 1100.37 100.367 1102.29 Q99.5798 1104.19 97.4734 1106.78 Q96.8947 1107.45 93.7928 1110.67 Q90.691 1113.86 85.0429 1119.63 Z\" fill=\"#000000\" fill-rule=\"nonzero\" fill-opacity=\"1\" /><path clip-path=\"url(#clip300)\" d=\"M111.223 1089 L129.58 1089 L129.58 1092.94 L115.506 1092.94 L115.506 1101.41 Q116.524 1101.06 117.543 1100.9 Q118.561 1100.71 119.58 1100.71 Q125.367 1100.71 128.746 1103.89 Q132.126 1107.06 132.126 1112.47 Q132.126 1118.05 128.654 1121.15 Q125.182 1124.23 118.862 1124.23 Q116.686 1124.23 114.418 1123.86 Q112.172 1123.49 109.765 1122.75 L109.765 1118.05 Q111.848 1119.19 114.07 1119.74 Q116.293 1120.3 118.77 1120.3 Q122.774 1120.3 125.112 1118.19 Q127.45 1116.08 127.45 1112.47 Q127.45 1108.86 125.112 1106.76 Q122.774 1104.65 118.77 1104.65 Q116.895 1104.65 115.02 1105.07 Q113.168 1105.48 111.223 1106.36 L111.223 1089 Z\" fill=\"#000000\" fill-rule=\"nonzero\" fill-opacity=\"1\" /><path clip-path=\"url(#clip300)\" d=\"M151.339 1092.08 Q147.728 1092.08 145.899 1095.64 Q144.093 1099.19 144.093 1106.32 Q144.093 1113.42 145.899 1116.99 Q147.728 1120.53 151.339 1120.53 Q154.973 1120.53 156.779 1116.99 Q158.607 1113.42 158.607 1106.32 Q158.607 1099.19 156.779 1095.64 Q154.973 1092.08 151.339 1092.08 M151.339 1088.38 Q157.149 1088.38 160.205 1092.98 Q163.283 1097.57 163.283 1106.32 Q163.283 1115.04 160.205 1119.65 Q157.149 1124.23 151.339 1124.23 Q145.529 1124.23 142.45 1119.65 Q139.394 1115.04 139.394 1106.32 Q139.394 1097.57 142.45 1092.98 Q145.529 1088.38 151.339 1088.38 Z\" fill=\"#000000\" fill-rule=\"nonzero\" fill-opacity=\"1\" /><path clip-path=\"url(#clip300)\" d=\"M181.501 1092.08 Q177.89 1092.08 176.061 1095.64 Q174.255 1099.19 174.255 1106.32 Q174.255 1113.42 176.061 1116.99 Q177.89 1120.53 181.501 1120.53 Q185.135 1120.53 186.94 1116.99 Q188.769 1113.42 188.769 1106.32 Q188.769 1099.19 186.94 1095.64 Q185.135 1092.08 181.501 1092.08 M181.501 1088.38 Q187.311 1088.38 190.366 1092.98 Q193.445 1097.57 193.445 1106.32 Q193.445 1115.04 190.366 1119.65 Q187.311 1124.23 181.501 1124.23 Q175.691 1124.23 172.612 1119.65 Q169.556 1115.04 169.556 1106.32 Q169.556 1097.57 172.612 1092.98 Q175.691 1088.38 181.501 1088.38 Z\" fill=\"#000000\" fill-rule=\"nonzero\" fill-opacity=\"1\" /><path clip-path=\"url(#clip300)\" d=\"M81.0614 749.566 L99.4178 749.566 L99.4178 753.501 L85.3438 753.501 L85.3438 761.973 Q86.3623 761.626 87.3808 761.464 Q88.3993 761.279 89.4178 761.279 Q95.2049 761.279 98.5845 764.45 Q101.964 767.621 101.964 773.038 Q101.964 778.617 98.4919 781.719 Q95.0197 784.797 88.7003 784.797 Q86.5243 784.797 84.2558 784.427 Q82.0105 784.057 79.6031 783.316 L79.6031 778.617 Q81.6864 779.751 83.9086 780.307 Q86.1308 780.862 88.6077 780.862 Q92.6123 780.862 94.9502 778.756 Q97.2882 776.649 97.2882 773.038 Q97.2882 769.427 94.9502 767.321 Q92.6123 765.214 88.6077 765.214 Q86.7327 765.214 84.8577 765.631 Q83.0058 766.047 81.0614 766.927 L81.0614 749.566 Z\" fill=\"#000000\" fill-rule=\"nonzero\" fill-opacity=\"1\" /><path clip-path=\"url(#clip300)\" d=\"M121.177 752.645 Q117.566 752.645 115.737 756.209 Q113.932 759.751 113.932 766.881 Q113.932 773.987 115.737 777.552 Q117.566 781.094 121.177 781.094 Q124.811 781.094 126.617 777.552 Q128.445 773.987 128.445 766.881 Q128.445 759.751 126.617 756.209 Q124.811 752.645 121.177 752.645 M121.177 748.941 Q126.987 748.941 130.043 753.547 Q133.121 758.131 133.121 766.881 Q133.121 775.608 130.043 780.214 Q126.987 784.797 121.177 784.797 Q115.367 784.797 112.288 780.214 Q109.233 775.608 109.233 766.881 Q109.233 758.131 112.288 753.547 Q115.367 748.941 121.177 748.941 Z\" fill=\"#000000\" fill-rule=\"nonzero\" fill-opacity=\"1\" /><path clip-path=\"url(#clip300)\" d=\"M151.339 752.645 Q147.728 752.645 145.899 756.209 Q144.093 759.751 144.093 766.881 Q144.093 773.987 145.899 777.552 Q147.728 781.094 151.339 781.094 Q154.973 781.094 156.779 777.552 Q158.607 773.987 158.607 766.881 Q158.607 759.751 156.779 756.209 Q154.973 752.645 151.339 752.645 M151.339 748.941 Q157.149 748.941 160.205 753.547 Q163.283 758.131 163.283 766.881 Q163.283 775.608 160.205 780.214 Q157.149 784.797 151.339 784.797 Q145.529 784.797 142.45 780.214 Q139.394 775.608 139.394 766.881 Q139.394 758.131 142.45 753.547 Q145.529 748.941 151.339 748.941 Z\" fill=\"#000000\" fill-rule=\"nonzero\" fill-opacity=\"1\" /><path clip-path=\"url(#clip300)\" d=\"M181.501 752.645 Q177.89 752.645 176.061 756.209 Q174.255 759.751 174.255 766.881 Q174.255 773.987 176.061 777.552 Q177.89 781.094 181.501 781.094 Q185.135 781.094 186.94 777.552 Q188.769 773.987 188.769 766.881 Q188.769 759.751 186.94 756.209 Q185.135 752.645 181.501 752.645 M181.501 748.941 Q187.311 748.941 190.366 753.547 Q193.445 758.131 193.445 766.881 Q193.445 775.608 190.366 780.214 Q187.311 784.797 181.501 784.797 Q175.691 784.797 172.612 780.214 Q169.556 775.608 169.556 766.881 Q169.556 758.131 172.612 753.547 Q175.691 748.941 181.501 748.941 Z\" fill=\"#000000\" fill-rule=\"nonzero\" fill-opacity=\"1\" /><path clip-path=\"url(#clip300)\" d=\"M79.8346 410.131 L102.057 410.131 L102.057 412.122 L89.5104 444.691 L84.6262 444.691 L96.4317 414.066 L79.8346 414.066 L79.8346 410.131 Z\" fill=\"#000000\" fill-rule=\"nonzero\" fill-opacity=\"1\" /><path clip-path=\"url(#clip300)\" d=\"M111.223 410.131 L129.58 410.131 L129.58 414.066 L115.506 414.066 L115.506 422.538 Q116.524 422.191 117.543 422.029 Q118.561 421.844 119.58 421.844 Q125.367 421.844 128.746 425.015 Q132.126 428.187 132.126 433.603 Q132.126 439.182 128.654 442.284 Q125.182 445.362 118.862 445.362 Q116.686 445.362 114.418 444.992 Q112.172 444.622 109.765 443.881 L109.765 439.182 Q111.848 440.316 114.07 440.872 Q116.293 441.427 118.77 441.427 Q122.774 441.427 125.112 439.321 Q127.45 437.214 127.45 433.603 Q127.45 429.992 125.112 427.886 Q122.774 425.779 118.77 425.779 Q116.895 425.779 115.02 426.196 Q113.168 426.613 111.223 427.492 L111.223 410.131 Z\" fill=\"#000000\" fill-rule=\"nonzero\" fill-opacity=\"1\" /><path clip-path=\"url(#clip300)\" d=\"M151.339 413.21 Q147.728 413.21 145.899 416.775 Q144.093 420.316 144.093 427.446 Q144.093 434.552 145.899 438.117 Q147.728 441.659 151.339 441.659 Q154.973 441.659 156.779 438.117 Q158.607 434.552 158.607 427.446 Q158.607 420.316 156.779 416.775 Q154.973 413.21 151.339 413.21 M151.339 409.506 Q157.149 409.506 160.205 414.113 Q163.283 418.696 163.283 427.446 Q163.283 436.173 160.205 440.779 Q157.149 445.362 151.339 445.362 Q145.529 445.362 142.45 440.779 Q139.394 436.173 139.394 427.446 Q139.394 418.696 142.45 414.113 Q145.529 409.506 151.339 409.506 Z\" fill=\"#000000\" fill-rule=\"nonzero\" fill-opacity=\"1\" /><path clip-path=\"url(#clip300)\" d=\"M181.501 413.21 Q177.89 413.21 176.061 416.775 Q174.255 420.316 174.255 427.446 Q174.255 434.552 176.061 438.117 Q177.89 441.659 181.501 441.659 Q185.135 441.659 186.94 438.117 Q188.769 434.552 188.769 427.446 Q188.769 420.316 186.94 416.775 Q185.135 413.21 181.501 413.21 M181.501 409.506 Q187.311 409.506 190.366 414.113 Q193.445 418.696 193.445 427.446 Q193.445 436.173 190.366 440.779 Q187.311 445.362 181.501 445.362 Q175.691 445.362 172.612 440.779 Q169.556 436.173 169.556 427.446 Q169.556 418.696 172.612 414.113 Q175.691 409.506 181.501 409.506 Z\" fill=\"#000000\" fill-rule=\"nonzero\" fill-opacity=\"1\" /><path clip-path=\"url(#clip300)\" d=\"M51.6634 101.321 L59.3023 101.321 L59.3023 74.9555 L50.9921 76.6222 L50.9921 72.3629 L59.256 70.6963 L63.9319 70.6963 L63.9319 101.321 L71.5707 101.321 L71.5707 105.256 L51.6634 105.256 L51.6634 101.321 Z\" fill=\"#000000\" fill-rule=\"nonzero\" fill-opacity=\"1\" /><path clip-path=\"url(#clip300)\" d=\"M91.0151 73.775 Q87.404 73.775 85.5753 77.3398 Q83.7697 80.8814 83.7697 88.011 Q83.7697 95.1174 85.5753 98.6822 Q87.404 102.224 91.0151 102.224 Q94.6493 102.224 96.4548 98.6822 Q98.2835 95.1174 98.2835 88.011 Q98.2835 80.8814 96.4548 77.3398 Q94.6493 73.775 91.0151 73.775 M91.0151 70.0713 Q96.8252 70.0713 99.8808 74.6777 Q102.959 79.261 102.959 88.011 Q102.959 96.7378 99.8808 101.344 Q96.8252 105.928 91.0151 105.928 Q85.2049 105.928 82.1262 101.344 Q79.0707 96.7378 79.0707 88.011 Q79.0707 79.261 82.1262 74.6777 Q85.2049 70.0713 91.0151 70.0713 Z\" fill=\"#000000\" fill-rule=\"nonzero\" fill-opacity=\"1\" /><path clip-path=\"url(#clip300)\" d=\"M121.177 73.775 Q117.566 73.775 115.737 77.3398 Q113.932 80.8814 113.932 88.011 Q113.932 95.1174 115.737 98.6822 Q117.566 102.224 121.177 102.224 Q124.811 102.224 126.617 98.6822 Q128.445 95.1174 128.445 88.011 Q128.445 80.8814 126.617 77.3398 Q124.811 73.775 121.177 73.775 M121.177 70.0713 Q126.987 70.0713 130.043 74.6777 Q133.121 79.261 133.121 88.011 Q133.121 96.7378 130.043 101.344 Q126.987 105.928 121.177 105.928 Q115.367 105.928 112.288 101.344 Q109.233 96.7378 109.233 88.011 Q109.233 79.261 112.288 74.6777 Q115.367 70.0713 121.177 70.0713 Z\" fill=\"#000000\" fill-rule=\"nonzero\" fill-opacity=\"1\" /><path clip-path=\"url(#clip300)\" d=\"M151.339 73.775 Q147.728 73.775 145.899 77.3398 Q144.093 80.8814 144.093 88.011 Q144.093 95.1174 145.899 98.6822 Q147.728 102.224 151.339 102.224 Q154.973 102.224 156.779 98.6822 Q158.607 95.1174 158.607 88.011 Q158.607 80.8814 156.779 77.3398 Q154.973 73.775 151.339 73.775 M151.339 70.0713 Q157.149 70.0713 160.205 74.6777 Q163.283 79.261 163.283 88.011 Q163.283 96.7378 160.205 101.344 Q157.149 105.928 151.339 105.928 Q145.529 105.928 142.45 101.344 Q139.394 96.7378 139.394 88.011 Q139.394 79.261 142.45 74.6777 Q145.529 70.0713 151.339 70.0713 Z\" fill=\"#000000\" fill-rule=\"nonzero\" fill-opacity=\"1\" /><path clip-path=\"url(#clip300)\" d=\"M181.501 73.775 Q177.89 73.775 176.061 77.3398 Q174.255 80.8814 174.255 88.011 Q174.255 95.1174 176.061 98.6822 Q177.89 102.224 181.501 102.224 Q185.135 102.224 186.94 98.6822 Q188.769 95.1174 188.769 88.011 Q188.769 80.8814 186.94 77.3398 Q185.135 73.775 181.501 73.775 M181.501 70.0713 Q187.311 70.0713 190.366 74.6777 Q193.445 79.261 193.445 88.011 Q193.445 96.7378 190.366 101.344 Q187.311 105.928 181.501 105.928 Q175.691 105.928 172.612 101.344 Q169.556 96.7378 169.556 88.011 Q169.556 79.261 172.612 74.6777 Q175.691 70.0713 181.501 70.0713 Z\" fill=\"#000000\" fill-rule=\"nonzero\" fill-opacity=\"1\" /><polyline clip-path=\"url(#clip302)\" style=\"stroke:#009af9; stroke-linecap:round; stroke-linejoin:round; stroke-width:4; stroke-opacity:1; fill:none\" points=\"289.539,1445.72 340.901,1445.72 392.263,1445.72 443.625,1445.72 494.987,1445.72 546.349,1445.72 597.712,1445.72 649.074,1445.72 700.436,1445.72 751.798,1445.72 803.16,1445.72 854.522,1445.72 905.884,1445.72 957.247,1445.72 1008.61,1445.72 1059.97,1445.72 1111.33,1445.72 1162.7,1445.72 1214.06,1445.72 1265.42,87.9763 1316.78,1445.72 1368.14,1445.72 1419.51,1445.72 1470.87,1445.72 1522.23,1445.72 1573.59,1445.72 1624.95,1445.72 1676.32,1445.72 1727.68,1445.72 1779.04,1445.72 1830.4,1445.72 1881.77,1445.72 1933.13,1445.72 1984.49,1445.72 2035.85,1445.72 2087.21,1445.72 2138.58,1445.72 2189.94,1445.72 2241.3,1445.72 2292.66,1445.72 \"/>\n",
       "<polyline clip-path=\"url(#clip302)\" style=\"stroke:#e26f46; stroke-linecap:round; stroke-linejoin:round; stroke-width:4; stroke-opacity:1; fill:none\" points=\"289.539,1445.72 340.901,1445.72 392.263,1445.72 443.625,1445.72 494.987,1445.72 546.349,1445.72 597.712,1445.72 649.074,1445.72 700.436,1445.72 751.798,1445.72 803.16,1445.72 854.522,1445.71 905.884,1445.69 957.247,1445.37 1008.61,1443 1059.97,1430.56 1111.33,1385.76 1162.7,1279.84 1214.06,1134.18 1265.42,1063.7 1316.78,1134.18 1368.14,1274.03 1419.51,1370.57 1470.87,1417.9 1522.23,1436.65 1573.59,1443.05 1624.95,1444.99 1676.32,1445.53 1727.68,1445.67 1779.04,1445.71 1830.4,1445.71 1881.77,1445.72 1933.13,1445.72 1984.49,1445.72 2035.85,1445.72 2087.21,1445.72 2138.58,1445.72 2189.94,1445.72 2241.3,1445.72 2292.66,1445.72 \"/>\n",
       "<polyline clip-path=\"url(#clip302)\" style=\"stroke:#3da44d; stroke-linecap:round; stroke-linejoin:round; stroke-width:4; stroke-opacity:1; fill:none\" points=\"289.539,1445.72 340.901,1445.72 392.263,1445.72 443.625,1445.72 494.987,1445.72 546.349,1445.72 597.712,1445.72 649.074,1445.72 700.436,1445.71 751.798,1445.7 803.16,1445.62 854.522,1445.22 905.884,1443.6 957.247,1438.17 1008.61,1423.37 1059.97,1390.94 1111.33,1335.37 1162.7,1264.17 1214.06,1202.74 1265.42,1180.73 1316.78,1202.74 1368.14,1265.08 1419.51,1331.11 1470.87,1382.23 1522.23,1414.4 1573.59,1431.74 1624.95,1440 1676.32,1443.55 1727.68,1444.95 1779.04,1445.46 1830.4,1445.65 1881.77,1445.7 1933.13,1445.71 1984.49,1445.71 2035.85,1445.72 2087.21,1445.72 2138.58,1445.72 2189.94,1445.72 2241.3,1445.72 2292.66,1445.72 \"/>\n",
       "<polyline clip-path=\"url(#clip302)\" style=\"stroke:#c271d2; stroke-linecap:round; stroke-linejoin:round; stroke-width:4; stroke-opacity:1; fill:none\" points=\"289.539,1445.72 340.901,1445.72 392.263,1445.72 443.625,1445.72 494.987,1445.72 546.349,1445.72 597.712,1445.71 649.074,1445.7 700.436,1445.64 751.798,1445.4 803.16,1444.65 854.522,1442.42 905.884,1436.87 957.247,1424.9 1008.61,1402.74 1059.97,1368.05 1111.33,1323.1 1162.7,1276.66 1214.06,1241.97 1265.42,1230.36 1316.78,1241.97 1368.14,1278.05 1419.51,1322.47 1470.87,1364.01 1522.23,1396.41 1573.59,1418.38 1624.95,1431.69 1676.32,1439.01 1727.68,1442.71 1779.04,1444.44 1830.4,1445.27 1881.77,1445.55 1933.13,1445.66 1984.49,1445.7 2035.85,1445.71 2087.21,1445.71 2138.58,1445.72 2189.94,1445.72 2241.3,1445.72 2292.66,1445.72 \"/>\n",
       "<polyline clip-path=\"url(#clip302)\" style=\"stroke:#ac8d18; stroke-linecap:round; stroke-linejoin:round; stroke-width:4; stroke-opacity:1; fill:none\" points=\"289.539,1445.72 340.901,1445.72 392.263,1445.72 443.625,1445.71 494.987,1445.71 546.349,1445.7 597.712,1445.67 649.074,1445.55 700.436,1445.22 751.798,1444.32 803.16,1442.17 854.522,1437.37 905.884,1428.2 957.247,1412.54 1008.61,1388.9 1059.97,1357.77 1111.33,1322.66 1162.7,1289.93 1214.06,1267.04 1265.42,1259.6 1316.78,1267.04 1368.14,1291.16 1419.51,1323.12 1470.87,1356.09 1522.23,1385.02 1573.59,1407.45 1624.95,1423.15 1676.32,1433.2 1727.68,1439.17 1779.04,1442.47 1830.4,1444.32 1881.77,1445.09 1933.13,1445.45 1984.49,1445.61 2035.85,1445.67 2087.21,1445.7 2138.58,1445.71 2189.94,1445.71 2241.3,1445.72 2292.66,1445.72 \"/>\n",
       "<polyline clip-path=\"url(#clip302)\" style=\"stroke:#00a9ad; stroke-linecap:round; stroke-linejoin:round; stroke-width:4; stroke-opacity:1; fill:none\" points=\"289.539,1445.72 340.901,1445.72 392.263,1445.71 443.625,1445.71 494.987,1445.69 546.349,1445.64 597.712,1445.49 649.074,1445.11 700.436,1444.22 751.798,1442.31 803.16,1438.54 854.522,1431.51 905.884,1420.07 957.247,1403.14 1008.61,1380.55 1059.97,1353.71 1111.33,1325.78 1162.7,1301.26 1214.06,1284.73 1265.42,1279.45 1316.78,1284.73 1368.14,1302.28 1419.51,1326.57 1470.87,1353.16 1522.23,1378.27 1573.59,1399.47 1624.95,1415.78 1676.32,1427.37 1727.68,1435.03 1779.04,1439.79 1830.4,1442.76 1881.77,1444.24 1933.13,1445 1984.49,1445.39 2035.85,1445.57 2087.21,1445.65 2138.58,1445.69 2189.94,1445.71 2241.3,1445.71 2292.66,1445.72 \"/>\n",
       "<polyline clip-path=\"url(#clip302)\" style=\"stroke:#ed5d92; stroke-linecap:round; stroke-linejoin:round; stroke-width:4; stroke-opacity:1; fill:none\" points=\"289.539,1445.72 340.901,1445.71 392.263,1445.7 443.625,1445.68 494.987,1445.61 546.349,1445.45 597.712,1445.08 649.074,1444.27 700.436,1442.65 751.798,1439.64 803.16,1434.45 854.522,1425.86 905.884,1413.32 957.247,1396.46 1008.61,1375.71 1059.97,1352.66 1111.33,1329.92 1162.7,1310.7 1214.06,1298.05 1265.42,1294.06 1316.78,1298.05 1368.14,1311.55 1419.51,1330.77 1470.87,1352.67 1522.23,1374.41 1573.59,1393.87 1624.95,1409.87 1676.32,1422.1 1727.68,1430.86 1779.04,1436.77 1830.4,1440.77 1881.77,1443 1933.13,1444.28 1984.49,1444.98 2035.85,1445.35 2087.21,1445.54 2138.58,1445.64 2189.94,1445.68 2241.3,1445.7 2292.66,1445.72 \"/>\n",
       "<polyline clip-path=\"url(#clip302)\" style=\"stroke:#c68125; stroke-linecap:round; stroke-linejoin:round; stroke-width:4; stroke-opacity:1; fill:none\" points=\"289.539,1445.72 340.901,1445.7 392.263,1445.67 443.625,1445.6 494.987,1445.44 546.349,1445.09 597.712,1444.39 649.074,1443.06 700.436,1440.67 751.798,1436.67 803.16,1430.38 854.522,1420.87 905.884,1408.01 957.247,1391.83 1008.61,1373.04 1059.97,1353.13 1111.33,1334.2 1162.7,1318.62 1214.06,1308.55 1265.42,1305.38 1316.78,1308.54 1368.14,1319.34 1419.51,1335.02 1470.87,1353.42 1522.23,1372.33 1573.59,1390.01 1624.95,1405.27 1676.32,1417.59 1727.68,1426.95 1779.04,1433.68 1830.4,1438.53 1881.77,1441.47 1933.13,1443.3 1984.49,1444.38 2035.85,1445.01 2087.21,1445.35 2138.58,1445.53 2189.94,1445.63 2241.3,1445.68 2292.66,1445.72 \"/>\n",
       "<polyline clip-path=\"url(#clip302)\" style=\"stroke:#00a98d; stroke-linecap:round; stroke-linejoin:round; stroke-width:4; stroke-opacity:1; fill:none\" points=\"289.539,1445.72 340.901,1445.67 392.263,1445.6 443.625,1445.45 494.987,1445.14 546.349,1444.55 597.712,1443.46 649.074,1441.56 700.436,1438.45 751.798,1433.64 803.16,1426.6 854.522,1416.64 905.884,1403.91 957.247,1388.67 1008.61,1371.72 1059.97,1354.36 1111.33,1338.31 1162.7,1325.36 1214.06,1317.08 1265.42,1314.5 1316.78,1317.08 1368.14,1325.97 1419.51,1339.08 1470.87,1354.78 1522.23,1371.37 1573.59,1387.39 1624.95,1401.74 1676.32,1413.82 1727.68,1423.44 1779.04,1430.71 1830.4,1436.19 1881.77,1439.76 1933.13,1442.11 1984.49,1443.61 2035.85,1444.52 2087.21,1445.06 2138.58,1445.37 2189.94,1445.54 2241.3,1445.64 2292.66,1445.72 \"/>\n",
       "<polyline clip-path=\"url(#clip302)\" style=\"stroke:#8e971d; stroke-linecap:round; stroke-linejoin:round; stroke-width:4; stroke-opacity:1; fill:none\" points=\"289.539,1445.72 340.901,1445.62 392.263,1445.47 443.625,1445.2 494.987,1444.7 546.349,1443.82 597.712,1442.32 649.074,1439.89 700.436,1436.16 751.798,1430.73 803.16,1423.22 854.522,1413.14 905.884,1400.79 957.247,1386.56 1008.61,1371.24 1059.97,1355.98 1111.33,1342.15 1162.7,1331.16 1214.06,1324.21 1265.42,1322.05 1316.78,1324.2 1368.14,1331.68 1419.51,1342.85 1470.87,1356.44 1522.23,1371.12 1573.59,1385.65 1624.95,1399.06 1676.32,1410.73 1727.68,1420.37 1779.04,1427.95 1830.4,1433.89 1881.77,1437.97 1933.13,1440.8 1984.49,1442.69 2035.85,1443.9 2087.21,1444.66 2138.58,1445.13 2189.94,1445.41 2241.3,1445.58 2292.66,1445.72 \"/>\n",
       "<polyline clip-path=\"url(#clip302)\" style=\"stroke:#00a8cb; stroke-linecap:round; stroke-linejoin:round; stroke-width:4; stroke-opacity:1; fill:none\" points=\"289.539,1445.72 340.901,1445.54 392.263,1445.29 443.625,1444.86 494.987,1444.14 546.349,1442.94 597.712,1441.04 649.074,1438.13 700.436,1433.9 751.798,1428.02 803.16,1420.26 854.522,1410.26 905.884,1398.43 957.247,1385.2 1008.61,1371.31 1059.97,1357.76 1111.33,1345.69 1162.7,1336.22 1214.06,1330.27 1265.42,1328.43 1316.78,1330.26 1368.14,1336.67 1419.51,1346.33 1470.87,1358.24 1522.23,1371.33 1573.59,1384.54 1624.95,1397.04 1676.32,1408.21 1727.68,1417.71 1779.04,1425.44 1830.4,1431.68 1881.77,1436.17 1933.13,1439.41 1984.49,1441.66 2035.85,1443.18 2087.21,1444.18 2138.58,1444.82 2189.94,1445.23 2241.3,1445.5 2292.66,1445.72 \"/>\n",
       "<path clip-path=\"url(#clip300)\" d=\"M2017.68 717.298 L2281.98 717.298 L2281.98 95.2176 L2017.68 95.2176  Z\" fill=\"#ffffff\" fill-rule=\"evenodd\" fill-opacity=\"1\"/>\n",
       "<polyline clip-path=\"url(#clip300)\" style=\"stroke:#000000; stroke-linecap:round; stroke-linejoin:round; stroke-width:4; stroke-opacity:1; fill:none\" points=\"2017.68,717.298 2281.98,717.298 2281.98,95.2176 2017.68,95.2176 2017.68,717.298 \"/>\n",
       "<polyline clip-path=\"url(#clip300)\" style=\"stroke:#009af9; stroke-linecap:round; stroke-linejoin:round; stroke-width:4; stroke-opacity:1; fill:none\" points=\"2041.27,147.058 2182.83,147.058 \"/>\n",
       "<path clip-path=\"url(#clip300)\" d=\"M2207.09 160.402 L2214.73 160.402 L2214.73 134.037 L2206.42 135.703 L2206.42 131.444 L2214.68 129.778 L2219.36 129.778 L2219.36 160.402 L2227 160.402 L2227 164.338 L2207.09 164.338 L2207.09 160.402 Z\" fill=\"#000000\" fill-rule=\"nonzero\" fill-opacity=\"1\" /><polyline clip-path=\"url(#clip300)\" style=\"stroke:#e26f46; stroke-linecap:round; stroke-linejoin:round; stroke-width:4; stroke-opacity:1; fill:none\" points=\"2041.27,198.898 2182.83,198.898 \"/>\n",
       "<path clip-path=\"url(#clip300)\" d=\"M2212.04 212.242 L2228.36 212.242 L2228.36 216.178 L2206.42 216.178 L2206.42 212.242 Q2209.08 209.488 2213.66 204.858 Q2218.27 200.205 2219.45 198.863 Q2221.7 196.34 2222.58 194.604 Q2223.48 192.844 2223.48 191.155 Q2223.48 188.4 2221.53 186.664 Q2219.61 184.928 2216.51 184.928 Q2214.31 184.928 2211.86 185.692 Q2209.43 186.455 2206.65 188.006 L2206.65 183.284 Q2209.47 182.15 2211.93 181.571 Q2214.38 180.993 2216.42 180.993 Q2221.79 180.993 2224.98 183.678 Q2228.18 186.363 2228.18 190.854 Q2228.18 192.983 2227.37 194.905 Q2226.58 196.803 2224.47 199.395 Q2223.9 200.067 2220.79 203.284 Q2217.69 206.479 2212.04 212.242 Z\" fill=\"#000000\" fill-rule=\"nonzero\" fill-opacity=\"1\" /><polyline clip-path=\"url(#clip300)\" style=\"stroke:#3da44d; stroke-linecap:round; stroke-linejoin:round; stroke-width:4; stroke-opacity:1; fill:none\" points=\"2041.27,250.738 2182.83,250.738 \"/>\n",
       "<path clip-path=\"url(#clip300)\" d=\"M2222.04 249.383 Q2225.4 250.101 2227.28 252.369 Q2229.17 254.638 2229.17 257.971 Q2229.17 263.087 2225.66 265.888 Q2222.14 268.689 2215.66 268.689 Q2213.48 268.689 2211.16 268.249 Q2208.87 267.832 2206.42 266.976 L2206.42 262.462 Q2208.36 263.596 2210.68 264.175 Q2212.99 264.754 2215.52 264.754 Q2219.91 264.754 2222.21 263.018 Q2224.52 261.281 2224.52 257.971 Q2224.52 254.916 2222.37 253.203 Q2220.24 251.467 2216.42 251.467 L2212.39 251.467 L2212.39 247.624 L2216.6 247.624 Q2220.05 247.624 2221.88 246.258 Q2223.71 244.87 2223.71 242.277 Q2223.71 239.615 2221.81 238.203 Q2219.94 236.768 2216.42 236.768 Q2214.5 236.768 2212.3 237.184 Q2210.1 237.601 2207.46 238.481 L2207.46 234.314 Q2210.12 233.573 2212.44 233.203 Q2214.78 232.833 2216.84 232.833 Q2222.16 232.833 2225.26 235.263 Q2228.36 237.67 2228.36 241.791 Q2228.36 244.661 2226.72 246.652 Q2225.08 248.62 2222.04 249.383 Z\" fill=\"#000000\" fill-rule=\"nonzero\" fill-opacity=\"1\" /><polyline clip-path=\"url(#clip300)\" style=\"stroke:#c271d2; stroke-linecap:round; stroke-linejoin:round; stroke-width:4; stroke-opacity:1; fill:none\" points=\"2041.27,302.578 2182.83,302.578 \"/>\n",
       "<path clip-path=\"url(#clip300)\" d=\"M2222.02 289.372 L2210.22 307.821 L2222.02 307.821 L2222.02 289.372 M2220.79 285.298 L2226.67 285.298 L2226.67 307.821 L2231.6 307.821 L2231.6 311.709 L2226.67 311.709 L2226.67 319.858 L2222.02 319.858 L2222.02 311.709 L2206.42 311.709 L2206.42 307.196 L2220.79 285.298 Z\" fill=\"#000000\" fill-rule=\"nonzero\" fill-opacity=\"1\" /><polyline clip-path=\"url(#clip300)\" style=\"stroke:#ac8d18; stroke-linecap:round; stroke-linejoin:round; stroke-width:4; stroke-opacity:1; fill:none\" points=\"2041.27,354.418 2182.83,354.418 \"/>\n",
       "<path clip-path=\"url(#clip300)\" d=\"M2207.88 337.138 L2226.23 337.138 L2226.23 341.073 L2212.16 341.073 L2212.16 349.545 Q2213.18 349.198 2214.2 349.036 Q2215.22 348.85 2216.23 348.85 Q2222.02 348.85 2225.4 352.022 Q2228.78 355.193 2228.78 360.61 Q2228.78 366.188 2225.31 369.29 Q2221.84 372.369 2215.52 372.369 Q2213.34 372.369 2211.07 371.998 Q2208.83 371.628 2206.42 370.887 L2206.42 366.188 Q2208.5 367.323 2210.72 367.878 Q2212.95 368.434 2215.42 368.434 Q2219.43 368.434 2221.77 366.327 Q2224.1 364.221 2224.1 360.61 Q2224.1 356.999 2221.77 354.892 Q2219.43 352.786 2215.42 352.786 Q2213.55 352.786 2211.67 353.202 Q2209.82 353.619 2207.88 354.499 L2207.88 337.138 Z\" fill=\"#000000\" fill-rule=\"nonzero\" fill-opacity=\"1\" /><polyline clip-path=\"url(#clip300)\" style=\"stroke:#00a9ad; stroke-linecap:round; stroke-linejoin:round; stroke-width:4; stroke-opacity:1; fill:none\" points=\"2041.27,406.258 2182.83,406.258 \"/>\n",
       "<path clip-path=\"url(#clip300)\" d=\"M2218.76 404.394 Q2215.61 404.394 2213.76 406.547 Q2211.93 408.7 2211.93 412.45 Q2211.93 416.176 2213.76 418.352 Q2215.61 420.505 2218.76 420.505 Q2221.91 420.505 2223.73 418.352 Q2225.59 416.176 2225.59 412.45 Q2225.59 408.7 2223.73 406.547 Q2221.91 404.394 2218.76 404.394 M2228.04 389.741 L2228.04 394.001 Q2226.28 393.167 2224.47 392.728 Q2222.69 392.288 2220.93 392.288 Q2216.3 392.288 2213.85 395.413 Q2211.42 398.538 2211.07 404.857 Q2212.44 402.843 2214.5 401.778 Q2216.56 400.69 2219.03 400.69 Q2224.24 400.69 2227.25 403.862 Q2230.28 407.01 2230.28 412.45 Q2230.28 417.774 2227.14 420.991 Q2223.99 424.209 2218.76 424.209 Q2212.76 424.209 2209.59 419.626 Q2206.42 415.019 2206.42 406.292 Q2206.42 398.098 2210.31 393.237 Q2214.2 388.353 2220.75 388.353 Q2222.51 388.353 2224.29 388.7 Q2226.1 389.047 2228.04 389.741 Z\" fill=\"#000000\" fill-rule=\"nonzero\" fill-opacity=\"1\" /><polyline clip-path=\"url(#clip300)\" style=\"stroke:#ed5d92; stroke-linecap:round; stroke-linejoin:round; stroke-width:4; stroke-opacity:1; fill:none\" points=\"2041.27,458.098 2182.83,458.098 \"/>\n",
       "<path clip-path=\"url(#clip300)\" d=\"M2206.42 440.818 L2228.64 440.818 L2228.64 442.808 L2216.1 475.378 L2211.21 475.378 L2223.02 444.753 L2206.42 444.753 L2206.42 440.818 Z\" fill=\"#000000\" fill-rule=\"nonzero\" fill-opacity=\"1\" /><polyline clip-path=\"url(#clip300)\" style=\"stroke:#c68125; stroke-linecap:round; stroke-linejoin:round; stroke-width:4; stroke-opacity:1; fill:none\" points=\"2041.27,509.938 2182.83,509.938 \"/>\n",
       "<path clip-path=\"url(#clip300)\" d=\"M2218.27 510.806 Q2214.94 510.806 2213.02 512.588 Q2211.12 514.37 2211.12 517.495 Q2211.12 520.62 2213.02 522.403 Q2214.94 524.185 2218.27 524.185 Q2221.6 524.185 2223.53 522.403 Q2225.45 520.597 2225.45 517.495 Q2225.45 514.37 2223.53 512.588 Q2221.63 510.806 2218.27 510.806 M2213.6 508.815 Q2210.59 508.074 2208.9 506.014 Q2207.23 503.954 2207.23 500.991 Q2207.23 496.847 2210.17 494.44 Q2213.13 492.033 2218.27 492.033 Q2223.43 492.033 2226.37 494.44 Q2229.31 496.847 2229.31 500.991 Q2229.31 503.954 2227.62 506.014 Q2225.96 508.074 2222.97 508.815 Q2226.35 509.602 2228.22 511.894 Q2230.12 514.185 2230.12 517.495 Q2230.12 522.519 2227.04 525.204 Q2223.99 527.889 2218.27 527.889 Q2212.55 527.889 2209.47 525.204 Q2206.42 522.519 2206.42 517.495 Q2206.42 514.185 2208.32 511.894 Q2210.22 509.602 2213.6 508.815 M2211.88 501.431 Q2211.88 504.116 2213.55 505.62 Q2215.24 507.125 2218.27 507.125 Q2221.28 507.125 2222.97 505.62 Q2224.68 504.116 2224.68 501.431 Q2224.68 498.745 2222.97 497.241 Q2221.28 495.736 2218.27 495.736 Q2215.24 495.736 2213.55 497.241 Q2211.88 498.745 2211.88 501.431 Z\" fill=\"#000000\" fill-rule=\"nonzero\" fill-opacity=\"1\" /><polyline clip-path=\"url(#clip300)\" style=\"stroke:#00a98d; stroke-linecap:round; stroke-linejoin:round; stroke-width:4; stroke-opacity:1; fill:none\" points=\"2041.27,561.778 2182.83,561.778 \"/>\n",
       "<path clip-path=\"url(#clip300)\" d=\"M2208.64 578.34 L2208.64 574.081 Q2210.4 574.914 2212.21 575.354 Q2214.01 575.794 2215.75 575.794 Q2220.38 575.794 2222.81 572.692 Q2225.26 569.567 2225.61 563.224 Q2224.27 565.215 2222.21 566.28 Q2220.15 567.345 2217.65 567.345 Q2212.46 567.345 2209.43 564.22 Q2206.42 561.072 2206.42 555.632 Q2206.42 550.308 2209.57 547.09 Q2212.72 543.873 2217.95 543.873 Q2223.94 543.873 2227.09 548.479 Q2230.26 553.062 2230.26 561.812 Q2230.26 569.984 2226.37 574.868 Q2222.51 579.729 2215.96 579.729 Q2214.2 579.729 2212.39 579.382 Q2210.59 579.034 2208.64 578.34 M2217.95 563.687 Q2221.1 563.687 2222.92 561.534 Q2224.78 559.382 2224.78 555.632 Q2224.78 551.905 2222.92 549.752 Q2221.1 547.576 2217.95 547.576 Q2214.8 547.576 2212.95 549.752 Q2211.12 551.905 2211.12 555.632 Q2211.12 559.382 2212.95 561.534 Q2214.8 563.687 2217.95 563.687 Z\" fill=\"#000000\" fill-rule=\"nonzero\" fill-opacity=\"1\" /><polyline clip-path=\"url(#clip300)\" style=\"stroke:#8e971d; stroke-linecap:round; stroke-linejoin:round; stroke-width:4; stroke-opacity:1; fill:none\" points=\"2041.27,613.618 2182.83,613.618 \"/>\n",
       "<path clip-path=\"url(#clip300)\" d=\"M2207.09 626.962 L2214.73 626.962 L2214.73 600.597 L2206.42 602.263 L2206.42 598.004 L2214.68 596.338 L2219.36 596.338 L2219.36 626.962 L2227 626.962 L2227 630.898 L2207.09 630.898 L2207.09 626.962 Z\" fill=\"#000000\" fill-rule=\"nonzero\" fill-opacity=\"1\" /><path clip-path=\"url(#clip300)\" d=\"M2246.44 599.416 Q2242.83 599.416 2241 602.981 Q2239.2 606.523 2239.2 613.652 Q2239.2 620.759 2241 624.324 Q2242.83 627.865 2246.44 627.865 Q2250.08 627.865 2251.88 624.324 Q2253.71 620.759 2253.71 613.652 Q2253.71 606.523 2251.88 602.981 Q2250.08 599.416 2246.44 599.416 M2246.44 595.713 Q2252.25 595.713 2255.31 600.319 Q2258.39 604.902 2258.39 613.652 Q2258.39 622.379 2255.31 626.986 Q2252.25 631.569 2246.44 631.569 Q2240.63 631.569 2237.55 626.986 Q2234.5 622.379 2234.5 613.652 Q2234.5 604.902 2237.55 600.319 Q2240.63 595.713 2246.44 595.713 Z\" fill=\"#000000\" fill-rule=\"nonzero\" fill-opacity=\"1\" /><polyline clip-path=\"url(#clip300)\" style=\"stroke:#00a8cb; stroke-linecap:round; stroke-linejoin:round; stroke-width:4; stroke-opacity:1; fill:none\" points=\"2041.27,665.458 2182.83,665.458 \"/>\n",
       "<path clip-path=\"url(#clip300)\" d=\"M2207.09 678.802 L2214.73 678.802 L2214.73 652.437 L2206.42 654.103 L2206.42 649.844 L2214.68 648.178 L2219.36 648.178 L2219.36 678.802 L2227 678.802 L2227 682.738 L2207.09 682.738 L2207.09 678.802 Z\" fill=\"#000000\" fill-rule=\"nonzero\" fill-opacity=\"1\" /><path clip-path=\"url(#clip300)\" d=\"M2237.25 678.802 L2244.89 678.802 L2244.89 652.437 L2236.58 654.103 L2236.58 649.844 L2244.84 648.178 L2249.52 648.178 L2249.52 678.802 L2257.16 678.802 L2257.16 682.738 L2237.25 682.738 L2237.25 678.802 Z\" fill=\"#000000\" fill-rule=\"nonzero\" fill-opacity=\"1\" /></svg>\n"
      ],
      "text/html": [
       "<?xml version=\"1.0\" encoding=\"utf-8\"?>\n",
       "<svg xmlns=\"http://www.w3.org/2000/svg\" xmlns:xlink=\"http://www.w3.org/1999/xlink\" width=\"600\" height=\"400\" viewBox=\"0 0 2400 1600\">\n",
       "<defs>\n",
       "  <clipPath id=\"clip350\">\n",
       "    <rect x=\"0\" y=\"0\" width=\"2400\" height=\"1600\"/>\n",
       "  </clipPath>\n",
       "</defs>\n",
       "<path clip-path=\"url(#clip350)\" d=\"M0 1600 L2400 1600 L2400 0 L0 0  Z\" fill=\"#ffffff\" fill-rule=\"evenodd\" fill-opacity=\"1\"/>\n",
       "<defs>\n",
       "  <clipPath id=\"clip351\">\n",
       "    <rect x=\"480\" y=\"0\" width=\"1681\" height=\"1600\"/>\n",
       "  </clipPath>\n",
       "</defs>\n",
       "<path clip-path=\"url(#clip350)\" d=\"M229.445 1486.45 L2352.76 1486.45 L2352.76 47.2441 L229.445 47.2441  Z\" fill=\"#ffffff\" fill-rule=\"evenodd\" fill-opacity=\"1\"/>\n",
       "<defs>\n",
       "  <clipPath id=\"clip352\">\n",
       "    <rect x=\"229\" y=\"47\" width=\"2124\" height=\"1440\"/>\n",
       "  </clipPath>\n",
       "</defs>\n",
       "<polyline clip-path=\"url(#clip352)\" style=\"stroke:#000000; stroke-linecap:round; stroke-linejoin:round; stroke-width:2; stroke-opacity:0.1; fill:none\" points=\"238.177,1486.45 238.177,47.2441 \"/>\n",
       "<polyline clip-path=\"url(#clip352)\" style=\"stroke:#000000; stroke-linecap:round; stroke-linejoin:round; stroke-width:2; stroke-opacity:0.1; fill:none\" points=\"751.798,1486.45 751.798,47.2441 \"/>\n",
       "<polyline clip-path=\"url(#clip352)\" style=\"stroke:#000000; stroke-linecap:round; stroke-linejoin:round; stroke-width:2; stroke-opacity:0.1; fill:none\" points=\"1265.42,1486.45 1265.42,47.2441 \"/>\n",
       "<polyline clip-path=\"url(#clip352)\" style=\"stroke:#000000; stroke-linecap:round; stroke-linejoin:round; stroke-width:2; stroke-opacity:0.1; fill:none\" points=\"1779.04,1486.45 1779.04,47.2441 \"/>\n",
       "<polyline clip-path=\"url(#clip352)\" style=\"stroke:#000000; stroke-linecap:round; stroke-linejoin:round; stroke-width:2; stroke-opacity:0.1; fill:none\" points=\"2292.66,1486.45 2292.66,47.2441 \"/>\n",
       "<polyline clip-path=\"url(#clip350)\" style=\"stroke:#000000; stroke-linecap:round; stroke-linejoin:round; stroke-width:4; stroke-opacity:1; fill:none\" points=\"229.445,1486.45 2352.76,1486.45 \"/>\n",
       "<polyline clip-path=\"url(#clip350)\" style=\"stroke:#000000; stroke-linecap:round; stroke-linejoin:round; stroke-width:4; stroke-opacity:1; fill:none\" points=\"238.177,1486.45 238.177,1467.55 \"/>\n",
       "<polyline clip-path=\"url(#clip350)\" style=\"stroke:#000000; stroke-linecap:round; stroke-linejoin:round; stroke-width:4; stroke-opacity:1; fill:none\" points=\"751.798,1486.45 751.798,1467.55 \"/>\n",
       "<polyline clip-path=\"url(#clip350)\" style=\"stroke:#000000; stroke-linecap:round; stroke-linejoin:round; stroke-width:4; stroke-opacity:1; fill:none\" points=\"1265.42,1486.45 1265.42,1467.55 \"/>\n",
       "<polyline clip-path=\"url(#clip350)\" style=\"stroke:#000000; stroke-linecap:round; stroke-linejoin:round; stroke-width:4; stroke-opacity:1; fill:none\" points=\"1779.04,1486.45 1779.04,1467.55 \"/>\n",
       "<polyline clip-path=\"url(#clip350)\" style=\"stroke:#000000; stroke-linecap:round; stroke-linejoin:round; stroke-width:4; stroke-opacity:1; fill:none\" points=\"2292.66,1486.45 2292.66,1467.55 \"/>\n",
       "<path clip-path=\"url(#clip350)\" d=\"M238.177 1517.37 Q234.566 1517.37 232.737 1520.93 Q230.931 1524.47 230.931 1531.6 Q230.931 1538.71 232.737 1542.27 Q234.566 1545.82 238.177 1545.82 Q241.811 1545.82 243.616 1542.27 Q245.445 1538.71 245.445 1531.6 Q245.445 1524.47 243.616 1520.93 Q241.811 1517.37 238.177 1517.37 M238.177 1513.66 Q243.987 1513.66 247.042 1518.27 Q250.121 1522.85 250.121 1531.6 Q250.121 1540.33 247.042 1544.94 Q243.987 1549.52 238.177 1549.52 Q232.366 1549.52 229.288 1544.94 Q226.232 1540.33 226.232 1531.6 Q226.232 1522.85 229.288 1518.27 Q232.366 1513.66 238.177 1513.66 Z\" fill=\"#000000\" fill-rule=\"nonzero\" fill-opacity=\"1\" /><path clip-path=\"url(#clip350)\" d=\"M726.486 1544.91 L734.125 1544.91 L734.125 1518.55 L725.814 1520.21 L725.814 1515.95 L734.078 1514.29 L738.754 1514.29 L738.754 1544.91 L746.393 1544.91 L746.393 1548.85 L726.486 1548.85 L726.486 1544.91 Z\" fill=\"#000000\" fill-rule=\"nonzero\" fill-opacity=\"1\" /><path clip-path=\"url(#clip350)\" d=\"M765.837 1517.37 Q762.226 1517.37 760.398 1520.93 Q758.592 1524.47 758.592 1531.6 Q758.592 1538.71 760.398 1542.27 Q762.226 1545.82 765.837 1545.82 Q769.472 1545.82 771.277 1542.27 Q773.106 1538.71 773.106 1531.6 Q773.106 1524.47 771.277 1520.93 Q769.472 1517.37 765.837 1517.37 M765.837 1513.66 Q771.647 1513.66 774.703 1518.27 Q777.782 1522.85 777.782 1531.6 Q777.782 1540.33 774.703 1544.94 Q771.647 1549.52 765.837 1549.52 Q760.027 1549.52 756.948 1544.94 Q753.893 1540.33 753.893 1531.6 Q753.893 1522.85 756.948 1518.27 Q760.027 1513.66 765.837 1513.66 Z\" fill=\"#000000\" fill-rule=\"nonzero\" fill-opacity=\"1\" /><path clip-path=\"url(#clip350)\" d=\"M1244.19 1544.91 L1260.51 1544.91 L1260.51 1548.85 L1238.57 1548.85 L1238.57 1544.91 Q1241.23 1542.16 1245.81 1537.53 Q1250.42 1532.88 1251.6 1531.53 Q1253.85 1529.01 1254.73 1527.27 Q1255.63 1525.51 1255.63 1523.82 Q1255.63 1521.07 1253.68 1519.33 Q1251.76 1517.6 1248.66 1517.6 Q1246.46 1517.6 1244.01 1518.36 Q1241.58 1519.13 1238.8 1520.68 L1238.8 1515.95 Q1241.62 1514.82 1244.08 1514.24 Q1246.53 1513.66 1248.57 1513.66 Q1253.94 1513.66 1257.13 1516.35 Q1260.33 1519.03 1260.33 1523.52 Q1260.33 1525.65 1259.52 1527.57 Q1258.73 1529.47 1256.62 1532.07 Q1256.04 1532.74 1252.94 1535.95 Q1249.84 1539.15 1244.19 1544.91 Z\" fill=\"#000000\" fill-rule=\"nonzero\" fill-opacity=\"1\" /><path clip-path=\"url(#clip350)\" d=\"M1280.33 1517.37 Q1276.72 1517.37 1274.89 1520.93 Q1273.08 1524.47 1273.08 1531.6 Q1273.08 1538.71 1274.89 1542.27 Q1276.72 1545.82 1280.33 1545.82 Q1283.96 1545.82 1285.77 1542.27 Q1287.6 1538.71 1287.6 1531.6 Q1287.6 1524.47 1285.77 1520.93 Q1283.96 1517.37 1280.33 1517.37 M1280.33 1513.66 Q1286.14 1513.66 1289.19 1518.27 Q1292.27 1522.85 1292.27 1531.6 Q1292.27 1540.33 1289.19 1544.94 Q1286.14 1549.52 1280.33 1549.52 Q1274.52 1549.52 1271.44 1544.94 Q1268.38 1540.33 1268.38 1531.6 Q1268.38 1522.85 1271.44 1518.27 Q1274.52 1513.66 1280.33 1513.66 Z\" fill=\"#000000\" fill-rule=\"nonzero\" fill-opacity=\"1\" /><path clip-path=\"url(#clip350)\" d=\"M1767.88 1530.21 Q1771.24 1530.93 1773.11 1533.2 Q1775.01 1535.47 1775.01 1538.8 Q1775.01 1543.92 1771.49 1546.72 Q1767.98 1549.52 1761.49 1549.52 Q1759.32 1549.52 1757 1549.08 Q1754.71 1548.66 1752.26 1547.81 L1752.26 1543.29 Q1754.2 1544.43 1756.52 1545.01 Q1758.83 1545.58 1761.36 1545.58 Q1765.75 1545.58 1768.05 1543.85 Q1770.36 1542.11 1770.36 1538.8 Q1770.36 1535.75 1768.21 1534.03 Q1766.08 1532.3 1762.26 1532.3 L1758.23 1532.3 L1758.23 1528.45 L1762.44 1528.45 Q1765.89 1528.45 1767.72 1527.09 Q1769.55 1525.7 1769.55 1523.11 Q1769.55 1520.45 1767.65 1519.03 Q1765.78 1517.6 1762.26 1517.6 Q1760.34 1517.6 1758.14 1518.01 Q1755.94 1518.43 1753.3 1519.31 L1753.3 1515.14 Q1755.96 1514.4 1758.28 1514.03 Q1760.61 1513.66 1762.68 1513.66 Q1768 1513.66 1771.1 1516.09 Q1774.2 1518.5 1774.2 1522.62 Q1774.2 1525.49 1772.56 1527.48 Q1770.92 1529.45 1767.88 1530.21 Z\" fill=\"#000000\" fill-rule=\"nonzero\" fill-opacity=\"1\" /><path clip-path=\"url(#clip350)\" d=\"M1793.88 1517.37 Q1790.27 1517.37 1788.44 1520.93 Q1786.63 1524.47 1786.63 1531.6 Q1786.63 1538.71 1788.44 1542.27 Q1790.27 1545.82 1793.88 1545.82 Q1797.51 1545.82 1799.32 1542.27 Q1801.15 1538.71 1801.15 1531.6 Q1801.15 1524.47 1799.32 1520.93 Q1797.51 1517.37 1793.88 1517.37 M1793.88 1513.66 Q1799.69 1513.66 1802.74 1518.27 Q1805.82 1522.85 1805.82 1531.6 Q1805.82 1540.33 1802.74 1544.94 Q1799.69 1549.52 1793.88 1549.52 Q1788.07 1549.52 1784.99 1544.94 Q1781.93 1540.33 1781.93 1531.6 Q1781.93 1522.85 1784.99 1518.27 Q1788.07 1513.66 1793.88 1513.66 Z\" fill=\"#000000\" fill-rule=\"nonzero\" fill-opacity=\"1\" /><path clip-path=\"url(#clip350)\" d=\"M2280.83 1518.36 L2269.03 1536.81 L2280.83 1536.81 L2280.83 1518.36 M2279.61 1514.29 L2285.49 1514.29 L2285.49 1536.81 L2290.42 1536.81 L2290.42 1540.7 L2285.49 1540.7 L2285.49 1548.85 L2280.83 1548.85 L2280.83 1540.7 L2265.23 1540.7 L2265.23 1536.19 L2279.61 1514.29 Z\" fill=\"#000000\" fill-rule=\"nonzero\" fill-opacity=\"1\" /><path clip-path=\"url(#clip350)\" d=\"M2308.15 1517.37 Q2304.54 1517.37 2302.71 1520.93 Q2300.9 1524.47 2300.9 1531.6 Q2300.9 1538.71 2302.71 1542.27 Q2304.54 1545.82 2308.15 1545.82 Q2311.78 1545.82 2313.59 1542.27 Q2315.42 1538.71 2315.42 1531.6 Q2315.42 1524.47 2313.59 1520.93 Q2311.78 1517.37 2308.15 1517.37 M2308.15 1513.66 Q2313.96 1513.66 2317.01 1518.27 Q2320.09 1522.85 2320.09 1531.6 Q2320.09 1540.33 2317.01 1544.94 Q2313.96 1549.52 2308.15 1549.52 Q2302.34 1549.52 2299.26 1544.94 Q2296.2 1540.33 2296.2 1531.6 Q2296.2 1522.85 2299.26 1518.27 Q2302.34 1513.66 2308.15 1513.66 Z\" fill=\"#000000\" fill-rule=\"nonzero\" fill-opacity=\"1\" /><polyline clip-path=\"url(#clip352)\" style=\"stroke:#000000; stroke-linecap:round; stroke-linejoin:round; stroke-width:2; stroke-opacity:0.1; fill:none\" points=\"229.445,1445.72 2352.76,1445.72 \"/>\n",
       "<polyline clip-path=\"url(#clip352)\" style=\"stroke:#000000; stroke-linecap:round; stroke-linejoin:round; stroke-width:2; stroke-opacity:0.1; fill:none\" points=\"229.445,1106.28 2352.76,1106.28 \"/>\n",
       "<polyline clip-path=\"url(#clip352)\" style=\"stroke:#000000; stroke-linecap:round; stroke-linejoin:round; stroke-width:2; stroke-opacity:0.1; fill:none\" points=\"229.445,766.846 2352.76,766.846 \"/>\n",
       "<polyline clip-path=\"url(#clip352)\" style=\"stroke:#000000; stroke-linecap:round; stroke-linejoin:round; stroke-width:2; stroke-opacity:0.1; fill:none\" points=\"229.445,427.411 2352.76,427.411 \"/>\n",
       "<polyline clip-path=\"url(#clip352)\" style=\"stroke:#000000; stroke-linecap:round; stroke-linejoin:round; stroke-width:2; stroke-opacity:0.1; fill:none\" points=\"229.445,87.9763 2352.76,87.9763 \"/>\n",
       "<polyline clip-path=\"url(#clip350)\" style=\"stroke:#000000; stroke-linecap:round; stroke-linejoin:round; stroke-width:4; stroke-opacity:1; fill:none\" points=\"229.445,1486.45 229.445,47.2441 \"/>\n",
       "<polyline clip-path=\"url(#clip350)\" style=\"stroke:#000000; stroke-linecap:round; stroke-linejoin:round; stroke-width:4; stroke-opacity:1; fill:none\" points=\"229.445,1445.72 248.343,1445.72 \"/>\n",
       "<polyline clip-path=\"url(#clip350)\" style=\"stroke:#000000; stroke-linecap:round; stroke-linejoin:round; stroke-width:4; stroke-opacity:1; fill:none\" points=\"229.445,1106.28 248.343,1106.28 \"/>\n",
       "<polyline clip-path=\"url(#clip350)\" style=\"stroke:#000000; stroke-linecap:round; stroke-linejoin:round; stroke-width:4; stroke-opacity:1; fill:none\" points=\"229.445,766.846 248.343,766.846 \"/>\n",
       "<polyline clip-path=\"url(#clip350)\" style=\"stroke:#000000; stroke-linecap:round; stroke-linejoin:round; stroke-width:4; stroke-opacity:1; fill:none\" points=\"229.445,427.411 248.343,427.411 \"/>\n",
       "<polyline clip-path=\"url(#clip350)\" style=\"stroke:#000000; stroke-linecap:round; stroke-linejoin:round; stroke-width:4; stroke-opacity:1; fill:none\" points=\"229.445,87.9763 248.343,87.9763 \"/>\n",
       "<path clip-path=\"url(#clip350)\" d=\"M181.501 1431.51 Q177.89 1431.51 176.061 1435.08 Q174.255 1438.62 174.255 1445.75 Q174.255 1452.86 176.061 1456.42 Q177.89 1459.96 181.501 1459.96 Q185.135 1459.96 186.94 1456.42 Q188.769 1452.86 188.769 1445.75 Q188.769 1438.62 186.94 1435.08 Q185.135 1431.51 181.501 1431.51 M181.501 1427.81 Q187.311 1427.81 190.366 1432.42 Q193.445 1437 193.445 1445.75 Q193.445 1454.48 190.366 1459.08 Q187.311 1463.67 181.501 1463.67 Q175.691 1463.67 172.612 1459.08 Q169.556 1454.48 169.556 1445.75 Q169.556 1437 172.612 1432.42 Q175.691 1427.81 181.501 1427.81 Z\" fill=\"#000000\" fill-rule=\"nonzero\" fill-opacity=\"1\" /><path clip-path=\"url(#clip350)\" d=\"M85.0429 1119.63 L101.362 1119.63 L101.362 1123.56 L79.4179 1123.56 L79.4179 1119.63 Q82.0799 1116.87 86.6632 1112.24 Q91.2697 1107.59 92.4502 1106.25 Q94.6956 1103.72 95.5752 1101.99 Q96.478 1100.23 96.478 1098.54 Q96.478 1095.78 94.5336 1094.05 Q92.6123 1092.31 89.5104 1092.31 Q87.3114 1092.31 84.8577 1093.07 Q82.4271 1093.84 79.6494 1095.39 L79.6494 1090.67 Q82.4734 1089.53 84.9271 1088.95 Q87.3808 1088.38 89.4178 1088.38 Q94.7882 1088.38 97.9826 1091.06 Q101.177 1093.75 101.177 1098.24 Q101.177 1100.37 100.367 1102.29 Q99.5798 1104.19 97.4734 1106.78 Q96.8947 1107.45 93.7928 1110.67 Q90.691 1113.86 85.0429 1119.63 Z\" fill=\"#000000\" fill-rule=\"nonzero\" fill-opacity=\"1\" /><path clip-path=\"url(#clip350)\" d=\"M111.223 1089 L129.58 1089 L129.58 1092.94 L115.506 1092.94 L115.506 1101.41 Q116.524 1101.06 117.543 1100.9 Q118.561 1100.71 119.58 1100.71 Q125.367 1100.71 128.746 1103.89 Q132.126 1107.06 132.126 1112.47 Q132.126 1118.05 128.654 1121.15 Q125.182 1124.23 118.862 1124.23 Q116.686 1124.23 114.418 1123.86 Q112.172 1123.49 109.765 1122.75 L109.765 1118.05 Q111.848 1119.19 114.07 1119.74 Q116.293 1120.3 118.77 1120.3 Q122.774 1120.3 125.112 1118.19 Q127.45 1116.08 127.45 1112.47 Q127.45 1108.86 125.112 1106.76 Q122.774 1104.65 118.77 1104.65 Q116.895 1104.65 115.02 1105.07 Q113.168 1105.48 111.223 1106.36 L111.223 1089 Z\" fill=\"#000000\" fill-rule=\"nonzero\" fill-opacity=\"1\" /><path clip-path=\"url(#clip350)\" d=\"M151.339 1092.08 Q147.728 1092.08 145.899 1095.64 Q144.093 1099.19 144.093 1106.32 Q144.093 1113.42 145.899 1116.99 Q147.728 1120.53 151.339 1120.53 Q154.973 1120.53 156.779 1116.99 Q158.607 1113.42 158.607 1106.32 Q158.607 1099.19 156.779 1095.64 Q154.973 1092.08 151.339 1092.08 M151.339 1088.38 Q157.149 1088.38 160.205 1092.98 Q163.283 1097.57 163.283 1106.32 Q163.283 1115.04 160.205 1119.65 Q157.149 1124.23 151.339 1124.23 Q145.529 1124.23 142.45 1119.65 Q139.394 1115.04 139.394 1106.32 Q139.394 1097.57 142.45 1092.98 Q145.529 1088.38 151.339 1088.38 Z\" fill=\"#000000\" fill-rule=\"nonzero\" fill-opacity=\"1\" /><path clip-path=\"url(#clip350)\" d=\"M181.501 1092.08 Q177.89 1092.08 176.061 1095.64 Q174.255 1099.19 174.255 1106.32 Q174.255 1113.42 176.061 1116.99 Q177.89 1120.53 181.501 1120.53 Q185.135 1120.53 186.94 1116.99 Q188.769 1113.42 188.769 1106.32 Q188.769 1099.19 186.94 1095.64 Q185.135 1092.08 181.501 1092.08 M181.501 1088.38 Q187.311 1088.38 190.366 1092.98 Q193.445 1097.57 193.445 1106.32 Q193.445 1115.04 190.366 1119.65 Q187.311 1124.23 181.501 1124.23 Q175.691 1124.23 172.612 1119.65 Q169.556 1115.04 169.556 1106.32 Q169.556 1097.57 172.612 1092.98 Q175.691 1088.38 181.501 1088.38 Z\" fill=\"#000000\" fill-rule=\"nonzero\" fill-opacity=\"1\" /><path clip-path=\"url(#clip350)\" d=\"M81.0614 749.566 L99.4178 749.566 L99.4178 753.501 L85.3438 753.501 L85.3438 761.973 Q86.3623 761.626 87.3808 761.464 Q88.3993 761.279 89.4178 761.279 Q95.2049 761.279 98.5845 764.45 Q101.964 767.621 101.964 773.038 Q101.964 778.617 98.4919 781.719 Q95.0197 784.797 88.7003 784.797 Q86.5243 784.797 84.2558 784.427 Q82.0105 784.057 79.6031 783.316 L79.6031 778.617 Q81.6864 779.751 83.9086 780.307 Q86.1308 780.862 88.6077 780.862 Q92.6123 780.862 94.9502 778.756 Q97.2882 776.649 97.2882 773.038 Q97.2882 769.427 94.9502 767.321 Q92.6123 765.214 88.6077 765.214 Q86.7327 765.214 84.8577 765.631 Q83.0058 766.047 81.0614 766.927 L81.0614 749.566 Z\" fill=\"#000000\" fill-rule=\"nonzero\" fill-opacity=\"1\" /><path clip-path=\"url(#clip350)\" d=\"M121.177 752.645 Q117.566 752.645 115.737 756.209 Q113.932 759.751 113.932 766.881 Q113.932 773.987 115.737 777.552 Q117.566 781.094 121.177 781.094 Q124.811 781.094 126.617 777.552 Q128.445 773.987 128.445 766.881 Q128.445 759.751 126.617 756.209 Q124.811 752.645 121.177 752.645 M121.177 748.941 Q126.987 748.941 130.043 753.547 Q133.121 758.131 133.121 766.881 Q133.121 775.608 130.043 780.214 Q126.987 784.797 121.177 784.797 Q115.367 784.797 112.288 780.214 Q109.233 775.608 109.233 766.881 Q109.233 758.131 112.288 753.547 Q115.367 748.941 121.177 748.941 Z\" fill=\"#000000\" fill-rule=\"nonzero\" fill-opacity=\"1\" /><path clip-path=\"url(#clip350)\" d=\"M151.339 752.645 Q147.728 752.645 145.899 756.209 Q144.093 759.751 144.093 766.881 Q144.093 773.987 145.899 777.552 Q147.728 781.094 151.339 781.094 Q154.973 781.094 156.779 777.552 Q158.607 773.987 158.607 766.881 Q158.607 759.751 156.779 756.209 Q154.973 752.645 151.339 752.645 M151.339 748.941 Q157.149 748.941 160.205 753.547 Q163.283 758.131 163.283 766.881 Q163.283 775.608 160.205 780.214 Q157.149 784.797 151.339 784.797 Q145.529 784.797 142.45 780.214 Q139.394 775.608 139.394 766.881 Q139.394 758.131 142.45 753.547 Q145.529 748.941 151.339 748.941 Z\" fill=\"#000000\" fill-rule=\"nonzero\" fill-opacity=\"1\" /><path clip-path=\"url(#clip350)\" d=\"M181.501 752.645 Q177.89 752.645 176.061 756.209 Q174.255 759.751 174.255 766.881 Q174.255 773.987 176.061 777.552 Q177.89 781.094 181.501 781.094 Q185.135 781.094 186.94 777.552 Q188.769 773.987 188.769 766.881 Q188.769 759.751 186.94 756.209 Q185.135 752.645 181.501 752.645 M181.501 748.941 Q187.311 748.941 190.366 753.547 Q193.445 758.131 193.445 766.881 Q193.445 775.608 190.366 780.214 Q187.311 784.797 181.501 784.797 Q175.691 784.797 172.612 780.214 Q169.556 775.608 169.556 766.881 Q169.556 758.131 172.612 753.547 Q175.691 748.941 181.501 748.941 Z\" fill=\"#000000\" fill-rule=\"nonzero\" fill-opacity=\"1\" /><path clip-path=\"url(#clip350)\" d=\"M79.8346 410.131 L102.057 410.131 L102.057 412.122 L89.5104 444.691 L84.6262 444.691 L96.4317 414.066 L79.8346 414.066 L79.8346 410.131 Z\" fill=\"#000000\" fill-rule=\"nonzero\" fill-opacity=\"1\" /><path clip-path=\"url(#clip350)\" d=\"M111.223 410.131 L129.58 410.131 L129.58 414.066 L115.506 414.066 L115.506 422.538 Q116.524 422.191 117.543 422.029 Q118.561 421.844 119.58 421.844 Q125.367 421.844 128.746 425.015 Q132.126 428.187 132.126 433.603 Q132.126 439.182 128.654 442.284 Q125.182 445.362 118.862 445.362 Q116.686 445.362 114.418 444.992 Q112.172 444.622 109.765 443.881 L109.765 439.182 Q111.848 440.316 114.07 440.872 Q116.293 441.427 118.77 441.427 Q122.774 441.427 125.112 439.321 Q127.45 437.214 127.45 433.603 Q127.45 429.992 125.112 427.886 Q122.774 425.779 118.77 425.779 Q116.895 425.779 115.02 426.196 Q113.168 426.613 111.223 427.492 L111.223 410.131 Z\" fill=\"#000000\" fill-rule=\"nonzero\" fill-opacity=\"1\" /><path clip-path=\"url(#clip350)\" d=\"M151.339 413.21 Q147.728 413.21 145.899 416.775 Q144.093 420.316 144.093 427.446 Q144.093 434.552 145.899 438.117 Q147.728 441.659 151.339 441.659 Q154.973 441.659 156.779 438.117 Q158.607 434.552 158.607 427.446 Q158.607 420.316 156.779 416.775 Q154.973 413.21 151.339 413.21 M151.339 409.506 Q157.149 409.506 160.205 414.113 Q163.283 418.696 163.283 427.446 Q163.283 436.173 160.205 440.779 Q157.149 445.362 151.339 445.362 Q145.529 445.362 142.45 440.779 Q139.394 436.173 139.394 427.446 Q139.394 418.696 142.45 414.113 Q145.529 409.506 151.339 409.506 Z\" fill=\"#000000\" fill-rule=\"nonzero\" fill-opacity=\"1\" /><path clip-path=\"url(#clip350)\" d=\"M181.501 413.21 Q177.89 413.21 176.061 416.775 Q174.255 420.316 174.255 427.446 Q174.255 434.552 176.061 438.117 Q177.89 441.659 181.501 441.659 Q185.135 441.659 186.94 438.117 Q188.769 434.552 188.769 427.446 Q188.769 420.316 186.94 416.775 Q185.135 413.21 181.501 413.21 M181.501 409.506 Q187.311 409.506 190.366 414.113 Q193.445 418.696 193.445 427.446 Q193.445 436.173 190.366 440.779 Q187.311 445.362 181.501 445.362 Q175.691 445.362 172.612 440.779 Q169.556 436.173 169.556 427.446 Q169.556 418.696 172.612 414.113 Q175.691 409.506 181.501 409.506 Z\" fill=\"#000000\" fill-rule=\"nonzero\" fill-opacity=\"1\" /><path clip-path=\"url(#clip350)\" d=\"M51.6634 101.321 L59.3023 101.321 L59.3023 74.9555 L50.9921 76.6222 L50.9921 72.3629 L59.256 70.6963 L63.9319 70.6963 L63.9319 101.321 L71.5707 101.321 L71.5707 105.256 L51.6634 105.256 L51.6634 101.321 Z\" fill=\"#000000\" fill-rule=\"nonzero\" fill-opacity=\"1\" /><path clip-path=\"url(#clip350)\" d=\"M91.0151 73.775 Q87.404 73.775 85.5753 77.3398 Q83.7697 80.8814 83.7697 88.011 Q83.7697 95.1174 85.5753 98.6822 Q87.404 102.224 91.0151 102.224 Q94.6493 102.224 96.4548 98.6822 Q98.2835 95.1174 98.2835 88.011 Q98.2835 80.8814 96.4548 77.3398 Q94.6493 73.775 91.0151 73.775 M91.0151 70.0713 Q96.8252 70.0713 99.8808 74.6777 Q102.959 79.261 102.959 88.011 Q102.959 96.7378 99.8808 101.344 Q96.8252 105.928 91.0151 105.928 Q85.2049 105.928 82.1262 101.344 Q79.0707 96.7378 79.0707 88.011 Q79.0707 79.261 82.1262 74.6777 Q85.2049 70.0713 91.0151 70.0713 Z\" fill=\"#000000\" fill-rule=\"nonzero\" fill-opacity=\"1\" /><path clip-path=\"url(#clip350)\" d=\"M121.177 73.775 Q117.566 73.775 115.737 77.3398 Q113.932 80.8814 113.932 88.011 Q113.932 95.1174 115.737 98.6822 Q117.566 102.224 121.177 102.224 Q124.811 102.224 126.617 98.6822 Q128.445 95.1174 128.445 88.011 Q128.445 80.8814 126.617 77.3398 Q124.811 73.775 121.177 73.775 M121.177 70.0713 Q126.987 70.0713 130.043 74.6777 Q133.121 79.261 133.121 88.011 Q133.121 96.7378 130.043 101.344 Q126.987 105.928 121.177 105.928 Q115.367 105.928 112.288 101.344 Q109.233 96.7378 109.233 88.011 Q109.233 79.261 112.288 74.6777 Q115.367 70.0713 121.177 70.0713 Z\" fill=\"#000000\" fill-rule=\"nonzero\" fill-opacity=\"1\" /><path clip-path=\"url(#clip350)\" d=\"M151.339 73.775 Q147.728 73.775 145.899 77.3398 Q144.093 80.8814 144.093 88.011 Q144.093 95.1174 145.899 98.6822 Q147.728 102.224 151.339 102.224 Q154.973 102.224 156.779 98.6822 Q158.607 95.1174 158.607 88.011 Q158.607 80.8814 156.779 77.3398 Q154.973 73.775 151.339 73.775 M151.339 70.0713 Q157.149 70.0713 160.205 74.6777 Q163.283 79.261 163.283 88.011 Q163.283 96.7378 160.205 101.344 Q157.149 105.928 151.339 105.928 Q145.529 105.928 142.45 101.344 Q139.394 96.7378 139.394 88.011 Q139.394 79.261 142.45 74.6777 Q145.529 70.0713 151.339 70.0713 Z\" fill=\"#000000\" fill-rule=\"nonzero\" fill-opacity=\"1\" /><path clip-path=\"url(#clip350)\" d=\"M181.501 73.775 Q177.89 73.775 176.061 77.3398 Q174.255 80.8814 174.255 88.011 Q174.255 95.1174 176.061 98.6822 Q177.89 102.224 181.501 102.224 Q185.135 102.224 186.94 98.6822 Q188.769 95.1174 188.769 88.011 Q188.769 80.8814 186.94 77.3398 Q185.135 73.775 181.501 73.775 M181.501 70.0713 Q187.311 70.0713 190.366 74.6777 Q193.445 79.261 193.445 88.011 Q193.445 96.7378 190.366 101.344 Q187.311 105.928 181.501 105.928 Q175.691 105.928 172.612 101.344 Q169.556 96.7378 169.556 88.011 Q169.556 79.261 172.612 74.6777 Q175.691 70.0713 181.501 70.0713 Z\" fill=\"#000000\" fill-rule=\"nonzero\" fill-opacity=\"1\" /><polyline clip-path=\"url(#clip352)\" style=\"stroke:#009af9; stroke-linecap:round; stroke-linejoin:round; stroke-width:4; stroke-opacity:1; fill:none\" points=\"289.539,1445.72 340.901,1445.72 392.263,1445.72 443.625,1445.72 494.987,1445.72 546.349,1445.72 597.712,1445.72 649.074,1445.72 700.436,1445.72 751.798,1445.72 803.16,1445.72 854.522,1445.72 905.884,1445.72 957.247,1445.72 1008.61,1445.72 1059.97,1445.72 1111.33,1445.72 1162.7,1445.72 1214.06,1445.72 1265.42,87.9763 1316.78,1445.72 1368.14,1445.72 1419.51,1445.72 1470.87,1445.72 1522.23,1445.72 1573.59,1445.72 1624.95,1445.72 1676.32,1445.72 1727.68,1445.72 1779.04,1445.72 1830.4,1445.72 1881.77,1445.72 1933.13,1445.72 1984.49,1445.72 2035.85,1445.72 2087.21,1445.72 2138.58,1445.72 2189.94,1445.72 2241.3,1445.72 2292.66,1445.72 \"/>\n",
       "<polyline clip-path=\"url(#clip352)\" style=\"stroke:#e26f46; stroke-linecap:round; stroke-linejoin:round; stroke-width:4; stroke-opacity:1; fill:none\" points=\"289.539,1445.72 340.901,1445.72 392.263,1445.72 443.625,1445.72 494.987,1445.72 546.349,1445.72 597.712,1445.72 649.074,1445.72 700.436,1445.72 751.798,1445.72 803.16,1445.72 854.522,1445.71 905.884,1445.69 957.247,1445.37 1008.61,1443 1059.97,1430.56 1111.33,1385.76 1162.7,1279.84 1214.06,1134.18 1265.42,1063.7 1316.78,1134.18 1368.14,1274.03 1419.51,1370.57 1470.87,1417.9 1522.23,1436.65 1573.59,1443.05 1624.95,1444.99 1676.32,1445.53 1727.68,1445.67 1779.04,1445.71 1830.4,1445.71 1881.77,1445.72 1933.13,1445.72 1984.49,1445.72 2035.85,1445.72 2087.21,1445.72 2138.58,1445.72 2189.94,1445.72 2241.3,1445.72 2292.66,1445.72 \"/>\n",
       "<polyline clip-path=\"url(#clip352)\" style=\"stroke:#3da44d; stroke-linecap:round; stroke-linejoin:round; stroke-width:4; stroke-opacity:1; fill:none\" points=\"289.539,1445.72 340.901,1445.72 392.263,1445.72 443.625,1445.72 494.987,1445.72 546.349,1445.72 597.712,1445.72 649.074,1445.72 700.436,1445.71 751.798,1445.7 803.16,1445.62 854.522,1445.22 905.884,1443.6 957.247,1438.17 1008.61,1423.37 1059.97,1390.94 1111.33,1335.37 1162.7,1264.17 1214.06,1202.74 1265.42,1180.73 1316.78,1202.74 1368.14,1265.08 1419.51,1331.11 1470.87,1382.23 1522.23,1414.4 1573.59,1431.74 1624.95,1440 1676.32,1443.55 1727.68,1444.95 1779.04,1445.46 1830.4,1445.65 1881.77,1445.7 1933.13,1445.71 1984.49,1445.71 2035.85,1445.72 2087.21,1445.72 2138.58,1445.72 2189.94,1445.72 2241.3,1445.72 2292.66,1445.72 \"/>\n",
       "<polyline clip-path=\"url(#clip352)\" style=\"stroke:#c271d2; stroke-linecap:round; stroke-linejoin:round; stroke-width:4; stroke-opacity:1; fill:none\" points=\"289.539,1445.72 340.901,1445.72 392.263,1445.72 443.625,1445.72 494.987,1445.72 546.349,1445.72 597.712,1445.71 649.074,1445.7 700.436,1445.64 751.798,1445.4 803.16,1444.65 854.522,1442.42 905.884,1436.87 957.247,1424.9 1008.61,1402.74 1059.97,1368.05 1111.33,1323.1 1162.7,1276.66 1214.06,1241.97 1265.42,1230.36 1316.78,1241.97 1368.14,1278.05 1419.51,1322.47 1470.87,1364.01 1522.23,1396.41 1573.59,1418.38 1624.95,1431.69 1676.32,1439.01 1727.68,1442.71 1779.04,1444.44 1830.4,1445.27 1881.77,1445.55 1933.13,1445.66 1984.49,1445.7 2035.85,1445.71 2087.21,1445.71 2138.58,1445.72 2189.94,1445.72 2241.3,1445.72 2292.66,1445.72 \"/>\n",
       "<polyline clip-path=\"url(#clip352)\" style=\"stroke:#ac8d18; stroke-linecap:round; stroke-linejoin:round; stroke-width:4; stroke-opacity:1; fill:none\" points=\"289.539,1445.72 340.901,1445.72 392.263,1445.72 443.625,1445.71 494.987,1445.71 546.349,1445.7 597.712,1445.67 649.074,1445.55 700.436,1445.22 751.798,1444.32 803.16,1442.17 854.522,1437.37 905.884,1428.2 957.247,1412.54 1008.61,1388.9 1059.97,1357.77 1111.33,1322.66 1162.7,1289.93 1214.06,1267.04 1265.42,1259.6 1316.78,1267.04 1368.14,1291.16 1419.51,1323.12 1470.87,1356.09 1522.23,1385.02 1573.59,1407.45 1624.95,1423.15 1676.32,1433.2 1727.68,1439.17 1779.04,1442.47 1830.4,1444.32 1881.77,1445.09 1933.13,1445.45 1984.49,1445.61 2035.85,1445.67 2087.21,1445.7 2138.58,1445.71 2189.94,1445.71 2241.3,1445.72 2292.66,1445.72 \"/>\n",
       "<polyline clip-path=\"url(#clip352)\" style=\"stroke:#00a9ad; stroke-linecap:round; stroke-linejoin:round; stroke-width:4; stroke-opacity:1; fill:none\" points=\"289.539,1445.72 340.901,1445.72 392.263,1445.71 443.625,1445.71 494.987,1445.69 546.349,1445.64 597.712,1445.49 649.074,1445.11 700.436,1444.22 751.798,1442.31 803.16,1438.54 854.522,1431.51 905.884,1420.07 957.247,1403.14 1008.61,1380.55 1059.97,1353.71 1111.33,1325.78 1162.7,1301.26 1214.06,1284.73 1265.42,1279.45 1316.78,1284.73 1368.14,1302.28 1419.51,1326.57 1470.87,1353.16 1522.23,1378.27 1573.59,1399.47 1624.95,1415.78 1676.32,1427.37 1727.68,1435.03 1779.04,1439.79 1830.4,1442.76 1881.77,1444.24 1933.13,1445 1984.49,1445.39 2035.85,1445.57 2087.21,1445.65 2138.58,1445.69 2189.94,1445.71 2241.3,1445.71 2292.66,1445.72 \"/>\n",
       "<polyline clip-path=\"url(#clip352)\" style=\"stroke:#ed5d92; stroke-linecap:round; stroke-linejoin:round; stroke-width:4; stroke-opacity:1; fill:none\" points=\"289.539,1445.72 340.901,1445.71 392.263,1445.7 443.625,1445.68 494.987,1445.61 546.349,1445.45 597.712,1445.08 649.074,1444.27 700.436,1442.65 751.798,1439.64 803.16,1434.45 854.522,1425.86 905.884,1413.32 957.247,1396.46 1008.61,1375.71 1059.97,1352.66 1111.33,1329.92 1162.7,1310.7 1214.06,1298.05 1265.42,1294.06 1316.78,1298.05 1368.14,1311.55 1419.51,1330.77 1470.87,1352.67 1522.23,1374.41 1573.59,1393.87 1624.95,1409.87 1676.32,1422.1 1727.68,1430.86 1779.04,1436.77 1830.4,1440.77 1881.77,1443 1933.13,1444.28 1984.49,1444.98 2035.85,1445.35 2087.21,1445.54 2138.58,1445.64 2189.94,1445.68 2241.3,1445.7 2292.66,1445.72 \"/>\n",
       "<polyline clip-path=\"url(#clip352)\" style=\"stroke:#c68125; stroke-linecap:round; stroke-linejoin:round; stroke-width:4; stroke-opacity:1; fill:none\" points=\"289.539,1445.72 340.901,1445.7 392.263,1445.67 443.625,1445.6 494.987,1445.44 546.349,1445.09 597.712,1444.39 649.074,1443.06 700.436,1440.67 751.798,1436.67 803.16,1430.38 854.522,1420.87 905.884,1408.01 957.247,1391.83 1008.61,1373.04 1059.97,1353.13 1111.33,1334.2 1162.7,1318.62 1214.06,1308.55 1265.42,1305.38 1316.78,1308.54 1368.14,1319.34 1419.51,1335.02 1470.87,1353.42 1522.23,1372.33 1573.59,1390.01 1624.95,1405.27 1676.32,1417.59 1727.68,1426.95 1779.04,1433.68 1830.4,1438.53 1881.77,1441.47 1933.13,1443.3 1984.49,1444.38 2035.85,1445.01 2087.21,1445.35 2138.58,1445.53 2189.94,1445.63 2241.3,1445.68 2292.66,1445.72 \"/>\n",
       "<polyline clip-path=\"url(#clip352)\" style=\"stroke:#00a98d; stroke-linecap:round; stroke-linejoin:round; stroke-width:4; stroke-opacity:1; fill:none\" points=\"289.539,1445.72 340.901,1445.67 392.263,1445.6 443.625,1445.45 494.987,1445.14 546.349,1444.55 597.712,1443.46 649.074,1441.56 700.436,1438.45 751.798,1433.64 803.16,1426.6 854.522,1416.64 905.884,1403.91 957.247,1388.67 1008.61,1371.72 1059.97,1354.36 1111.33,1338.31 1162.7,1325.36 1214.06,1317.08 1265.42,1314.5 1316.78,1317.08 1368.14,1325.97 1419.51,1339.08 1470.87,1354.78 1522.23,1371.37 1573.59,1387.39 1624.95,1401.74 1676.32,1413.82 1727.68,1423.44 1779.04,1430.71 1830.4,1436.19 1881.77,1439.76 1933.13,1442.11 1984.49,1443.61 2035.85,1444.52 2087.21,1445.06 2138.58,1445.37 2189.94,1445.54 2241.3,1445.64 2292.66,1445.72 \"/>\n",
       "<polyline clip-path=\"url(#clip352)\" style=\"stroke:#8e971d; stroke-linecap:round; stroke-linejoin:round; stroke-width:4; stroke-opacity:1; fill:none\" points=\"289.539,1445.72 340.901,1445.62 392.263,1445.47 443.625,1445.2 494.987,1444.7 546.349,1443.82 597.712,1442.32 649.074,1439.89 700.436,1436.16 751.798,1430.73 803.16,1423.22 854.522,1413.14 905.884,1400.79 957.247,1386.56 1008.61,1371.24 1059.97,1355.98 1111.33,1342.15 1162.7,1331.16 1214.06,1324.21 1265.42,1322.05 1316.78,1324.2 1368.14,1331.68 1419.51,1342.85 1470.87,1356.44 1522.23,1371.12 1573.59,1385.65 1624.95,1399.06 1676.32,1410.73 1727.68,1420.37 1779.04,1427.95 1830.4,1433.89 1881.77,1437.97 1933.13,1440.8 1984.49,1442.69 2035.85,1443.9 2087.21,1444.66 2138.58,1445.13 2189.94,1445.41 2241.3,1445.58 2292.66,1445.72 \"/>\n",
       "<polyline clip-path=\"url(#clip352)\" style=\"stroke:#00a8cb; stroke-linecap:round; stroke-linejoin:round; stroke-width:4; stroke-opacity:1; fill:none\" points=\"289.539,1445.72 340.901,1445.54 392.263,1445.29 443.625,1444.86 494.987,1444.14 546.349,1442.94 597.712,1441.04 649.074,1438.13 700.436,1433.9 751.798,1428.02 803.16,1420.26 854.522,1410.26 905.884,1398.43 957.247,1385.2 1008.61,1371.31 1059.97,1357.76 1111.33,1345.69 1162.7,1336.22 1214.06,1330.27 1265.42,1328.43 1316.78,1330.26 1368.14,1336.67 1419.51,1346.33 1470.87,1358.24 1522.23,1371.33 1573.59,1384.54 1624.95,1397.04 1676.32,1408.21 1727.68,1417.71 1779.04,1425.44 1830.4,1431.68 1881.77,1436.17 1933.13,1439.41 1984.49,1441.66 2035.85,1443.18 2087.21,1444.18 2138.58,1444.82 2189.94,1445.23 2241.3,1445.5 2292.66,1445.72 \"/>\n",
       "<path clip-path=\"url(#clip350)\" d=\"M2017.68 717.298 L2281.98 717.298 L2281.98 95.2176 L2017.68 95.2176  Z\" fill=\"#ffffff\" fill-rule=\"evenodd\" fill-opacity=\"1\"/>\n",
       "<polyline clip-path=\"url(#clip350)\" style=\"stroke:#000000; stroke-linecap:round; stroke-linejoin:round; stroke-width:4; stroke-opacity:1; fill:none\" points=\"2017.68,717.298 2281.98,717.298 2281.98,95.2176 2017.68,95.2176 2017.68,717.298 \"/>\n",
       "<polyline clip-path=\"url(#clip350)\" style=\"stroke:#009af9; stroke-linecap:round; stroke-linejoin:round; stroke-width:4; stroke-opacity:1; fill:none\" points=\"2041.27,147.058 2182.83,147.058 \"/>\n",
       "<path clip-path=\"url(#clip350)\" d=\"M2207.09 160.402 L2214.73 160.402 L2214.73 134.037 L2206.42 135.703 L2206.42 131.444 L2214.68 129.778 L2219.36 129.778 L2219.36 160.402 L2227 160.402 L2227 164.338 L2207.09 164.338 L2207.09 160.402 Z\" fill=\"#000000\" fill-rule=\"nonzero\" fill-opacity=\"1\" /><polyline clip-path=\"url(#clip350)\" style=\"stroke:#e26f46; stroke-linecap:round; stroke-linejoin:round; stroke-width:4; stroke-opacity:1; fill:none\" points=\"2041.27,198.898 2182.83,198.898 \"/>\n",
       "<path clip-path=\"url(#clip350)\" d=\"M2212.04 212.242 L2228.36 212.242 L2228.36 216.178 L2206.42 216.178 L2206.42 212.242 Q2209.08 209.488 2213.66 204.858 Q2218.27 200.205 2219.45 198.863 Q2221.7 196.34 2222.58 194.604 Q2223.48 192.844 2223.48 191.155 Q2223.48 188.4 2221.53 186.664 Q2219.61 184.928 2216.51 184.928 Q2214.31 184.928 2211.86 185.692 Q2209.43 186.455 2206.65 188.006 L2206.65 183.284 Q2209.47 182.15 2211.93 181.571 Q2214.38 180.993 2216.42 180.993 Q2221.79 180.993 2224.98 183.678 Q2228.18 186.363 2228.18 190.854 Q2228.18 192.983 2227.37 194.905 Q2226.58 196.803 2224.47 199.395 Q2223.9 200.067 2220.79 203.284 Q2217.69 206.479 2212.04 212.242 Z\" fill=\"#000000\" fill-rule=\"nonzero\" fill-opacity=\"1\" /><polyline clip-path=\"url(#clip350)\" style=\"stroke:#3da44d; stroke-linecap:round; stroke-linejoin:round; stroke-width:4; stroke-opacity:1; fill:none\" points=\"2041.27,250.738 2182.83,250.738 \"/>\n",
       "<path clip-path=\"url(#clip350)\" d=\"M2222.04 249.383 Q2225.4 250.101 2227.28 252.369 Q2229.17 254.638 2229.17 257.971 Q2229.17 263.087 2225.66 265.888 Q2222.14 268.689 2215.66 268.689 Q2213.48 268.689 2211.16 268.249 Q2208.87 267.832 2206.42 266.976 L2206.42 262.462 Q2208.36 263.596 2210.68 264.175 Q2212.99 264.754 2215.52 264.754 Q2219.91 264.754 2222.21 263.018 Q2224.52 261.281 2224.52 257.971 Q2224.52 254.916 2222.37 253.203 Q2220.24 251.467 2216.42 251.467 L2212.39 251.467 L2212.39 247.624 L2216.6 247.624 Q2220.05 247.624 2221.88 246.258 Q2223.71 244.87 2223.71 242.277 Q2223.71 239.615 2221.81 238.203 Q2219.94 236.768 2216.42 236.768 Q2214.5 236.768 2212.3 237.184 Q2210.1 237.601 2207.46 238.481 L2207.46 234.314 Q2210.12 233.573 2212.44 233.203 Q2214.78 232.833 2216.84 232.833 Q2222.16 232.833 2225.26 235.263 Q2228.36 237.67 2228.36 241.791 Q2228.36 244.661 2226.72 246.652 Q2225.08 248.62 2222.04 249.383 Z\" fill=\"#000000\" fill-rule=\"nonzero\" fill-opacity=\"1\" /><polyline clip-path=\"url(#clip350)\" style=\"stroke:#c271d2; stroke-linecap:round; stroke-linejoin:round; stroke-width:4; stroke-opacity:1; fill:none\" points=\"2041.27,302.578 2182.83,302.578 \"/>\n",
       "<path clip-path=\"url(#clip350)\" d=\"M2222.02 289.372 L2210.22 307.821 L2222.02 307.821 L2222.02 289.372 M2220.79 285.298 L2226.67 285.298 L2226.67 307.821 L2231.6 307.821 L2231.6 311.709 L2226.67 311.709 L2226.67 319.858 L2222.02 319.858 L2222.02 311.709 L2206.42 311.709 L2206.42 307.196 L2220.79 285.298 Z\" fill=\"#000000\" fill-rule=\"nonzero\" fill-opacity=\"1\" /><polyline clip-path=\"url(#clip350)\" style=\"stroke:#ac8d18; stroke-linecap:round; stroke-linejoin:round; stroke-width:4; stroke-opacity:1; fill:none\" points=\"2041.27,354.418 2182.83,354.418 \"/>\n",
       "<path clip-path=\"url(#clip350)\" d=\"M2207.88 337.138 L2226.23 337.138 L2226.23 341.073 L2212.16 341.073 L2212.16 349.545 Q2213.18 349.198 2214.2 349.036 Q2215.22 348.85 2216.23 348.85 Q2222.02 348.85 2225.4 352.022 Q2228.78 355.193 2228.78 360.61 Q2228.78 366.188 2225.31 369.29 Q2221.84 372.369 2215.52 372.369 Q2213.34 372.369 2211.07 371.998 Q2208.83 371.628 2206.42 370.887 L2206.42 366.188 Q2208.5 367.323 2210.72 367.878 Q2212.95 368.434 2215.42 368.434 Q2219.43 368.434 2221.77 366.327 Q2224.1 364.221 2224.1 360.61 Q2224.1 356.999 2221.77 354.892 Q2219.43 352.786 2215.42 352.786 Q2213.55 352.786 2211.67 353.202 Q2209.82 353.619 2207.88 354.499 L2207.88 337.138 Z\" fill=\"#000000\" fill-rule=\"nonzero\" fill-opacity=\"1\" /><polyline clip-path=\"url(#clip350)\" style=\"stroke:#00a9ad; stroke-linecap:round; stroke-linejoin:round; stroke-width:4; stroke-opacity:1; fill:none\" points=\"2041.27,406.258 2182.83,406.258 \"/>\n",
       "<path clip-path=\"url(#clip350)\" d=\"M2218.76 404.394 Q2215.61 404.394 2213.76 406.547 Q2211.93 408.7 2211.93 412.45 Q2211.93 416.176 2213.76 418.352 Q2215.61 420.505 2218.76 420.505 Q2221.91 420.505 2223.73 418.352 Q2225.59 416.176 2225.59 412.45 Q2225.59 408.7 2223.73 406.547 Q2221.91 404.394 2218.76 404.394 M2228.04 389.741 L2228.04 394.001 Q2226.28 393.167 2224.47 392.728 Q2222.69 392.288 2220.93 392.288 Q2216.3 392.288 2213.85 395.413 Q2211.42 398.538 2211.07 404.857 Q2212.44 402.843 2214.5 401.778 Q2216.56 400.69 2219.03 400.69 Q2224.24 400.69 2227.25 403.862 Q2230.28 407.01 2230.28 412.45 Q2230.28 417.774 2227.14 420.991 Q2223.99 424.209 2218.76 424.209 Q2212.76 424.209 2209.59 419.626 Q2206.42 415.019 2206.42 406.292 Q2206.42 398.098 2210.31 393.237 Q2214.2 388.353 2220.75 388.353 Q2222.51 388.353 2224.29 388.7 Q2226.1 389.047 2228.04 389.741 Z\" fill=\"#000000\" fill-rule=\"nonzero\" fill-opacity=\"1\" /><polyline clip-path=\"url(#clip350)\" style=\"stroke:#ed5d92; stroke-linecap:round; stroke-linejoin:round; stroke-width:4; stroke-opacity:1; fill:none\" points=\"2041.27,458.098 2182.83,458.098 \"/>\n",
       "<path clip-path=\"url(#clip350)\" d=\"M2206.42 440.818 L2228.64 440.818 L2228.64 442.808 L2216.1 475.378 L2211.21 475.378 L2223.02 444.753 L2206.42 444.753 L2206.42 440.818 Z\" fill=\"#000000\" fill-rule=\"nonzero\" fill-opacity=\"1\" /><polyline clip-path=\"url(#clip350)\" style=\"stroke:#c68125; stroke-linecap:round; stroke-linejoin:round; stroke-width:4; stroke-opacity:1; fill:none\" points=\"2041.27,509.938 2182.83,509.938 \"/>\n",
       "<path clip-path=\"url(#clip350)\" d=\"M2218.27 510.806 Q2214.94 510.806 2213.02 512.588 Q2211.12 514.37 2211.12 517.495 Q2211.12 520.62 2213.02 522.403 Q2214.94 524.185 2218.27 524.185 Q2221.6 524.185 2223.53 522.403 Q2225.45 520.597 2225.45 517.495 Q2225.45 514.37 2223.53 512.588 Q2221.63 510.806 2218.27 510.806 M2213.6 508.815 Q2210.59 508.074 2208.9 506.014 Q2207.23 503.954 2207.23 500.991 Q2207.23 496.847 2210.17 494.44 Q2213.13 492.033 2218.27 492.033 Q2223.43 492.033 2226.37 494.44 Q2229.31 496.847 2229.31 500.991 Q2229.31 503.954 2227.62 506.014 Q2225.96 508.074 2222.97 508.815 Q2226.35 509.602 2228.22 511.894 Q2230.12 514.185 2230.12 517.495 Q2230.12 522.519 2227.04 525.204 Q2223.99 527.889 2218.27 527.889 Q2212.55 527.889 2209.47 525.204 Q2206.42 522.519 2206.42 517.495 Q2206.42 514.185 2208.32 511.894 Q2210.22 509.602 2213.6 508.815 M2211.88 501.431 Q2211.88 504.116 2213.55 505.62 Q2215.24 507.125 2218.27 507.125 Q2221.28 507.125 2222.97 505.62 Q2224.68 504.116 2224.68 501.431 Q2224.68 498.745 2222.97 497.241 Q2221.28 495.736 2218.27 495.736 Q2215.24 495.736 2213.55 497.241 Q2211.88 498.745 2211.88 501.431 Z\" fill=\"#000000\" fill-rule=\"nonzero\" fill-opacity=\"1\" /><polyline clip-path=\"url(#clip350)\" style=\"stroke:#00a98d; stroke-linecap:round; stroke-linejoin:round; stroke-width:4; stroke-opacity:1; fill:none\" points=\"2041.27,561.778 2182.83,561.778 \"/>\n",
       "<path clip-path=\"url(#clip350)\" d=\"M2208.64 578.34 L2208.64 574.081 Q2210.4 574.914 2212.21 575.354 Q2214.01 575.794 2215.75 575.794 Q2220.38 575.794 2222.81 572.692 Q2225.26 569.567 2225.61 563.224 Q2224.27 565.215 2222.21 566.28 Q2220.15 567.345 2217.65 567.345 Q2212.46 567.345 2209.43 564.22 Q2206.42 561.072 2206.42 555.632 Q2206.42 550.308 2209.57 547.09 Q2212.72 543.873 2217.95 543.873 Q2223.94 543.873 2227.09 548.479 Q2230.26 553.062 2230.26 561.812 Q2230.26 569.984 2226.37 574.868 Q2222.51 579.729 2215.96 579.729 Q2214.2 579.729 2212.39 579.382 Q2210.59 579.034 2208.64 578.34 M2217.95 563.687 Q2221.1 563.687 2222.92 561.534 Q2224.78 559.382 2224.78 555.632 Q2224.78 551.905 2222.92 549.752 Q2221.1 547.576 2217.95 547.576 Q2214.8 547.576 2212.95 549.752 Q2211.12 551.905 2211.12 555.632 Q2211.12 559.382 2212.95 561.534 Q2214.8 563.687 2217.95 563.687 Z\" fill=\"#000000\" fill-rule=\"nonzero\" fill-opacity=\"1\" /><polyline clip-path=\"url(#clip350)\" style=\"stroke:#8e971d; stroke-linecap:round; stroke-linejoin:round; stroke-width:4; stroke-opacity:1; fill:none\" points=\"2041.27,613.618 2182.83,613.618 \"/>\n",
       "<path clip-path=\"url(#clip350)\" d=\"M2207.09 626.962 L2214.73 626.962 L2214.73 600.597 L2206.42 602.263 L2206.42 598.004 L2214.68 596.338 L2219.36 596.338 L2219.36 626.962 L2227 626.962 L2227 630.898 L2207.09 630.898 L2207.09 626.962 Z\" fill=\"#000000\" fill-rule=\"nonzero\" fill-opacity=\"1\" /><path clip-path=\"url(#clip350)\" d=\"M2246.44 599.416 Q2242.83 599.416 2241 602.981 Q2239.2 606.523 2239.2 613.652 Q2239.2 620.759 2241 624.324 Q2242.83 627.865 2246.44 627.865 Q2250.08 627.865 2251.88 624.324 Q2253.71 620.759 2253.71 613.652 Q2253.71 606.523 2251.88 602.981 Q2250.08 599.416 2246.44 599.416 M2246.44 595.713 Q2252.25 595.713 2255.31 600.319 Q2258.39 604.902 2258.39 613.652 Q2258.39 622.379 2255.31 626.986 Q2252.25 631.569 2246.44 631.569 Q2240.63 631.569 2237.55 626.986 Q2234.5 622.379 2234.5 613.652 Q2234.5 604.902 2237.55 600.319 Q2240.63 595.713 2246.44 595.713 Z\" fill=\"#000000\" fill-rule=\"nonzero\" fill-opacity=\"1\" /><polyline clip-path=\"url(#clip350)\" style=\"stroke:#00a8cb; stroke-linecap:round; stroke-linejoin:round; stroke-width:4; stroke-opacity:1; fill:none\" points=\"2041.27,665.458 2182.83,665.458 \"/>\n",
       "<path clip-path=\"url(#clip350)\" d=\"M2207.09 678.802 L2214.73 678.802 L2214.73 652.437 L2206.42 654.103 L2206.42 649.844 L2214.68 648.178 L2219.36 648.178 L2219.36 678.802 L2227 678.802 L2227 682.738 L2207.09 682.738 L2207.09 678.802 Z\" fill=\"#000000\" fill-rule=\"nonzero\" fill-opacity=\"1\" /><path clip-path=\"url(#clip350)\" d=\"M2237.25 678.802 L2244.89 678.802 L2244.89 652.437 L2236.58 654.103 L2236.58 649.844 L2244.84 648.178 L2249.52 648.178 L2249.52 678.802 L2257.16 678.802 L2257.16 682.738 L2237.25 682.738 L2237.25 678.802 Z\" fill=\"#000000\" fill-rule=\"nonzero\" fill-opacity=\"1\" /></svg>\n"
      ]
     },
     "execution_count": 20,
     "metadata": {},
     "output_type": "execute_result"
    }
   ],
   "source": [
    "plot()\n",
    "for (i,c) in enumerate(sols)\n",
    "    plot!(c, label=i)\n",
    "end\n",
    "plot!()"
   ]
  },
  {
   "cell_type": "code",
   "execution_count": 21,
   "id": "5113ce93-772d-40b8-8bd7-d05297aef242",
   "metadata": {
    "slideshow": {
     "slide_type": "subslide"
    },
    "tags": []
   },
   "outputs": [
    {
     "data": {
      "image/png": "[encoded data removed]",
      "image/svg+xml": [
       "<?xml version=\"1.0\" encoding=\"utf-8\"?>\n",
       "<svg xmlns=\"http://www.w3.org/2000/svg\" xmlns:xlink=\"http://www.w3.org/1999/xlink\" width=\"600\" height=\"400\" viewBox=\"0 0 2400 1600\">\n",
       "<defs>\n",
       "  <clipPath id=\"clip390\">\n",
       "    <rect x=\"0\" y=\"0\" width=\"2400\" height=\"1600\"/>\n",
       "  </clipPath>\n",
       "</defs>\n",
       "<path clip-path=\"url(#clip390)\" d=\"M0 1600 L2400 1600 L2400 0 L0 0  Z\" fill=\"#ffffff\" fill-rule=\"evenodd\" fill-opacity=\"1\"/>\n",
       "<defs>\n",
       "  <clipPath id=\"clip391\">\n",
       "    <rect x=\"480\" y=\"0\" width=\"1681\" height=\"1600\"/>\n",
       "  </clipPath>\n",
       "</defs>\n",
       "<path clip-path=\"url(#clip390)\" d=\"M214.353 1486.45 L2352.76 1486.45 L2352.76 47.2441 L214.353 47.2441  Z\" fill=\"#ffffff\" fill-rule=\"evenodd\" fill-opacity=\"1\"/>\n",
       "<defs>\n",
       "  <clipPath id=\"clip392\">\n",
       "    <rect x=\"214\" y=\"47\" width=\"2139\" height=\"1440\"/>\n",
       "  </clipPath>\n",
       "</defs>\n",
       "<polyline clip-path=\"url(#clip392)\" style=\"stroke:#000000; stroke-linecap:round; stroke-linejoin:round; stroke-width:2; stroke-opacity:0.1; fill:none\" points=\"476.61,1486.45 476.61,47.2441 \"/>\n",
       "<polyline clip-path=\"url(#clip392)\" style=\"stroke:#000000; stroke-linecap:round; stroke-linejoin:round; stroke-width:2; stroke-opacity:0.1; fill:none\" points=\"880.082,1486.45 880.082,47.2441 \"/>\n",
       "<polyline clip-path=\"url(#clip392)\" style=\"stroke:#000000; stroke-linecap:round; stroke-linejoin:round; stroke-width:2; stroke-opacity:0.1; fill:none\" points=\"1283.55,1486.45 1283.55,47.2441 \"/>\n",
       "<polyline clip-path=\"url(#clip392)\" style=\"stroke:#000000; stroke-linecap:round; stroke-linejoin:round; stroke-width:2; stroke-opacity:0.1; fill:none\" points=\"1687.03,1486.45 1687.03,47.2441 \"/>\n",
       "<polyline clip-path=\"url(#clip392)\" style=\"stroke:#000000; stroke-linecap:round; stroke-linejoin:round; stroke-width:2; stroke-opacity:0.1; fill:none\" points=\"2090.5,1486.45 2090.5,47.2441 \"/>\n",
       "<polyline clip-path=\"url(#clip390)\" style=\"stroke:#000000; stroke-linecap:round; stroke-linejoin:round; stroke-width:4; stroke-opacity:1; fill:none\" points=\"214.353,1486.45 2352.76,1486.45 \"/>\n",
       "<polyline clip-path=\"url(#clip390)\" style=\"stroke:#000000; stroke-linecap:round; stroke-linejoin:round; stroke-width:4; stroke-opacity:1; fill:none\" points=\"476.61,1486.45 476.61,1467.55 \"/>\n",
       "<polyline clip-path=\"url(#clip390)\" style=\"stroke:#000000; stroke-linecap:round; stroke-linejoin:round; stroke-width:4; stroke-opacity:1; fill:none\" points=\"880.082,1486.45 880.082,1467.55 \"/>\n",
       "<polyline clip-path=\"url(#clip390)\" style=\"stroke:#000000; stroke-linecap:round; stroke-linejoin:round; stroke-width:4; stroke-opacity:1; fill:none\" points=\"1283.55,1486.45 1283.55,1467.55 \"/>\n",
       "<polyline clip-path=\"url(#clip390)\" style=\"stroke:#000000; stroke-linecap:round; stroke-linejoin:round; stroke-width:4; stroke-opacity:1; fill:none\" points=\"1687.03,1486.45 1687.03,1467.55 \"/>\n",
       "<polyline clip-path=\"url(#clip390)\" style=\"stroke:#000000; stroke-linecap:round; stroke-linejoin:round; stroke-width:4; stroke-opacity:1; fill:none\" points=\"2090.5,1486.45 2090.5,1467.55 \"/>\n",
       "<path clip-path=\"url(#clip390)\" d=\"M471.262 1544.91 L487.582 1544.91 L487.582 1548.85 L465.637 1548.85 L465.637 1544.91 Q468.299 1542.16 472.883 1537.53 Q477.489 1532.88 478.67 1531.53 Q480.915 1529.01 481.795 1527.27 Q482.697 1525.51 482.697 1523.82 Q482.697 1521.07 480.753 1519.33 Q478.832 1517.6 475.73 1517.6 Q473.531 1517.6 471.077 1518.36 Q468.647 1519.13 465.869 1520.68 L465.869 1515.95 Q468.693 1514.82 471.147 1514.24 Q473.6 1513.66 475.637 1513.66 Q481.008 1513.66 484.202 1516.35 Q487.397 1519.03 487.397 1523.52 Q487.397 1525.65 486.586 1527.57 Q485.799 1529.47 483.693 1532.07 Q483.114 1532.74 480.012 1535.95 Q476.91 1539.15 471.262 1544.91 Z\" fill=\"#000000\" fill-rule=\"nonzero\" fill-opacity=\"1\" /><path clip-path=\"url(#clip390)\" d=\"M883.091 1518.36 L871.286 1536.81 L883.091 1536.81 L883.091 1518.36 M881.864 1514.29 L887.744 1514.29 L887.744 1536.81 L892.674 1536.81 L892.674 1540.7 L887.744 1540.7 L887.744 1548.85 L883.091 1548.85 L883.091 1540.7 L867.489 1540.7 L867.489 1536.19 L881.864 1514.29 Z\" fill=\"#000000\" fill-rule=\"nonzero\" fill-opacity=\"1\" /><path clip-path=\"url(#clip390)\" d=\"M1283.96 1529.7 Q1280.81 1529.7 1278.96 1531.86 Q1277.13 1534.01 1277.13 1537.76 Q1277.13 1541.49 1278.96 1543.66 Q1280.81 1545.82 1283.96 1545.82 Q1287.11 1545.82 1288.94 1543.66 Q1290.79 1541.49 1290.79 1537.76 Q1290.79 1534.01 1288.94 1531.86 Q1287.11 1529.7 1283.96 1529.7 M1293.24 1515.05 L1293.24 1519.31 Q1291.48 1518.48 1289.68 1518.04 Q1287.89 1517.6 1286.14 1517.6 Q1281.51 1517.6 1279.05 1520.72 Q1276.62 1523.85 1276.27 1530.17 Q1277.64 1528.15 1279.7 1527.09 Q1281.76 1526 1284.24 1526 Q1289.45 1526 1292.45 1529.17 Q1295.49 1532.32 1295.49 1537.76 Q1295.49 1543.08 1292.34 1546.3 Q1289.19 1549.52 1283.96 1549.52 Q1277.96 1549.52 1274.79 1544.94 Q1271.62 1540.33 1271.62 1531.6 Q1271.62 1523.41 1275.51 1518.55 Q1279.4 1513.66 1285.95 1513.66 Q1287.71 1513.66 1289.49 1514.01 Q1291.3 1514.36 1293.24 1515.05 Z\" fill=\"#000000\" fill-rule=\"nonzero\" fill-opacity=\"1\" /><path clip-path=\"url(#clip390)\" d=\"M1687.03 1532.44 Q1683.69 1532.44 1681.77 1534.22 Q1679.87 1536 1679.87 1539.13 Q1679.87 1542.25 1681.77 1544.03 Q1683.69 1545.82 1687.03 1545.82 Q1690.36 1545.82 1692.28 1544.03 Q1694.2 1542.23 1694.2 1539.13 Q1694.2 1536 1692.28 1534.22 Q1690.38 1532.44 1687.03 1532.44 M1682.35 1530.45 Q1679.34 1529.7 1677.65 1527.64 Q1675.98 1525.58 1675.98 1522.62 Q1675.98 1518.48 1678.92 1516.07 Q1681.89 1513.66 1687.03 1513.66 Q1692.19 1513.66 1695.13 1516.07 Q1698.07 1518.48 1698.07 1522.62 Q1698.07 1525.58 1696.38 1527.64 Q1694.71 1529.7 1691.73 1530.45 Q1695.11 1531.23 1696.98 1533.52 Q1698.88 1535.82 1698.88 1539.13 Q1698.88 1544.15 1695.8 1546.83 Q1692.74 1549.52 1687.03 1549.52 Q1681.31 1549.52 1678.23 1546.83 Q1675.17 1544.15 1675.17 1539.13 Q1675.17 1535.82 1677.07 1533.52 Q1678.97 1531.23 1682.35 1530.45 M1680.64 1523.06 Q1680.64 1525.75 1682.3 1527.25 Q1683.99 1528.76 1687.03 1528.76 Q1690.04 1528.76 1691.73 1527.25 Q1693.44 1525.75 1693.44 1523.06 Q1693.44 1520.38 1691.73 1518.87 Q1690.04 1517.37 1687.03 1517.37 Q1683.99 1517.37 1682.3 1518.87 Q1680.64 1520.38 1680.64 1523.06 Z\" fill=\"#000000\" fill-rule=\"nonzero\" fill-opacity=\"1\" /><path clip-path=\"url(#clip390)\" d=\"M2065.19 1544.91 L2072.83 1544.91 L2072.83 1518.55 L2064.52 1520.21 L2064.52 1515.95 L2072.78 1514.29 L2077.45 1514.29 L2077.45 1544.91 L2085.09 1544.91 L2085.09 1548.85 L2065.19 1548.85 L2065.19 1544.91 Z\" fill=\"#000000\" fill-rule=\"nonzero\" fill-opacity=\"1\" /><path clip-path=\"url(#clip390)\" d=\"M2104.54 1517.37 Q2100.93 1517.37 2099.1 1520.93 Q2097.29 1524.47 2097.29 1531.6 Q2097.29 1538.71 2099.1 1542.27 Q2100.93 1545.82 2104.54 1545.82 Q2108.17 1545.82 2109.98 1542.27 Q2111.81 1538.71 2111.81 1531.6 Q2111.81 1524.47 2109.98 1520.93 Q2108.17 1517.37 2104.54 1517.37 M2104.54 1513.66 Q2110.35 1513.66 2113.4 1518.27 Q2116.48 1522.85 2116.48 1531.6 Q2116.48 1540.33 2113.4 1544.94 Q2110.35 1549.52 2104.54 1549.52 Q2098.73 1549.52 2095.65 1544.94 Q2092.59 1540.33 2092.59 1531.6 Q2092.59 1522.85 2095.65 1518.27 Q2098.73 1513.66 2104.54 1513.66 Z\" fill=\"#000000\" fill-rule=\"nonzero\" fill-opacity=\"1\" /><polyline clip-path=\"url(#clip392)\" style=\"stroke:#000000; stroke-linecap:round; stroke-linejoin:round; stroke-width:2; stroke-opacity:0.1; fill:none\" points=\"214.353,1445.72 2352.76,1445.72 \"/>\n",
       "<polyline clip-path=\"url(#clip392)\" style=\"stroke:#000000; stroke-linecap:round; stroke-linejoin:round; stroke-width:2; stroke-opacity:0.1; fill:none\" points=\"214.353,1199.38 2352.76,1199.38 \"/>\n",
       "<polyline clip-path=\"url(#clip392)\" style=\"stroke:#000000; stroke-linecap:round; stroke-linejoin:round; stroke-width:2; stroke-opacity:0.1; fill:none\" points=\"214.353,953.049 2352.76,953.049 \"/>\n",
       "<polyline clip-path=\"url(#clip392)\" style=\"stroke:#000000; stroke-linecap:round; stroke-linejoin:round; stroke-width:2; stroke-opacity:0.1; fill:none\" points=\"214.353,706.716 2352.76,706.716 \"/>\n",
       "<polyline clip-path=\"url(#clip392)\" style=\"stroke:#000000; stroke-linecap:round; stroke-linejoin:round; stroke-width:2; stroke-opacity:0.1; fill:none\" points=\"214.353,460.382 2352.76,460.382 \"/>\n",
       "<polyline clip-path=\"url(#clip392)\" style=\"stroke:#000000; stroke-linecap:round; stroke-linejoin:round; stroke-width:2; stroke-opacity:0.1; fill:none\" points=\"214.353,214.049 2352.76,214.049 \"/>\n",
       "<polyline clip-path=\"url(#clip390)\" style=\"stroke:#000000; stroke-linecap:round; stroke-linejoin:round; stroke-width:4; stroke-opacity:1; fill:none\" points=\"214.353,1486.45 214.353,47.2441 \"/>\n",
       "<polyline clip-path=\"url(#clip390)\" style=\"stroke:#000000; stroke-linecap:round; stroke-linejoin:round; stroke-width:4; stroke-opacity:1; fill:none\" points=\"214.353,1445.72 233.25,1445.72 \"/>\n",
       "<polyline clip-path=\"url(#clip390)\" style=\"stroke:#000000; stroke-linecap:round; stroke-linejoin:round; stroke-width:4; stroke-opacity:1; fill:none\" points=\"214.353,1199.38 233.25,1199.38 \"/>\n",
       "<polyline clip-path=\"url(#clip390)\" style=\"stroke:#000000; stroke-linecap:round; stroke-linejoin:round; stroke-width:4; stroke-opacity:1; fill:none\" points=\"214.353,953.049 233.25,953.049 \"/>\n",
       "<polyline clip-path=\"url(#clip390)\" style=\"stroke:#000000; stroke-linecap:round; stroke-linejoin:round; stroke-width:4; stroke-opacity:1; fill:none\" points=\"214.353,706.716 233.25,706.716 \"/>\n",
       "<polyline clip-path=\"url(#clip390)\" style=\"stroke:#000000; stroke-linecap:round; stroke-linejoin:round; stroke-width:4; stroke-opacity:1; fill:none\" points=\"214.353,460.382 233.25,460.382 \"/>\n",
       "<polyline clip-path=\"url(#clip390)\" style=\"stroke:#000000; stroke-linecap:round; stroke-linejoin:round; stroke-width:4; stroke-opacity:1; fill:none\" points=\"214.353,214.049 233.25,214.049 \"/>\n",
       "<path clip-path=\"url(#clip390)\" d=\"M51.6634 1459.06 L59.3023 1459.06 L59.3023 1432.69 L50.9921 1434.36 L50.9921 1430.1 L59.256 1428.44 L63.9319 1428.44 L63.9319 1459.06 L71.5707 1459.06 L71.5707 1463 L51.6634 1463 L51.6634 1459.06 Z\" fill=\"#000000\" fill-rule=\"nonzero\" fill-opacity=\"1\" /><path clip-path=\"url(#clip390)\" d=\"M81.0151 1457.12 L85.8993 1457.12 L85.8993 1463 L81.0151 1463 L81.0151 1457.12 Z\" fill=\"#000000\" fill-rule=\"nonzero\" fill-opacity=\"1\" /><path clip-path=\"url(#clip390)\" d=\"M106.084 1431.51 Q102.473 1431.51 100.645 1435.08 Q98.8391 1438.62 98.8391 1445.75 Q98.8391 1452.86 100.645 1456.42 Q102.473 1459.96 106.084 1459.96 Q109.719 1459.96 111.524 1456.42 Q113.353 1452.86 113.353 1445.75 Q113.353 1438.62 111.524 1435.08 Q109.719 1431.51 106.084 1431.51 M106.084 1427.81 Q111.895 1427.81 114.95 1432.42 Q118.029 1437 118.029 1445.75 Q118.029 1454.48 114.95 1459.08 Q111.895 1463.67 106.084 1463.67 Q100.274 1463.67 97.1956 1459.08 Q94.14 1454.48 94.14 1445.75 Q94.14 1437 97.1956 1432.42 Q100.274 1427.81 106.084 1427.81 Z\" fill=\"#000000\" fill-rule=\"nonzero\" fill-opacity=\"1\" /><path clip-path=\"url(#clip390)\" d=\"M136.246 1431.51 Q132.635 1431.51 130.807 1435.08 Q129.001 1438.62 129.001 1445.75 Q129.001 1452.86 130.807 1456.42 Q132.635 1459.96 136.246 1459.96 Q139.881 1459.96 141.686 1456.42 Q143.515 1452.86 143.515 1445.75 Q143.515 1438.62 141.686 1435.08 Q139.881 1431.51 136.246 1431.51 M136.246 1427.81 Q142.056 1427.81 145.112 1432.42 Q148.191 1437 148.191 1445.75 Q148.191 1454.48 145.112 1459.08 Q142.056 1463.67 136.246 1463.67 Q130.436 1463.67 127.357 1459.08 Q124.302 1454.48 124.302 1445.75 Q124.302 1437 127.357 1432.42 Q130.436 1427.81 136.246 1427.81 Z\" fill=\"#000000\" fill-rule=\"nonzero\" fill-opacity=\"1\" /><path clip-path=\"url(#clip390)\" d=\"M166.408 1431.51 Q162.797 1431.51 160.968 1435.08 Q159.163 1438.62 159.163 1445.75 Q159.163 1452.86 160.968 1456.42 Q162.797 1459.96 166.408 1459.96 Q170.042 1459.96 171.848 1456.42 Q173.677 1452.86 173.677 1445.75 Q173.677 1438.62 171.848 1435.08 Q170.042 1431.51 166.408 1431.51 M166.408 1427.81 Q172.218 1427.81 175.274 1432.42 Q178.353 1437 178.353 1445.75 Q178.353 1454.48 175.274 1459.08 Q172.218 1463.67 166.408 1463.67 Q160.598 1463.67 157.519 1459.08 Q154.464 1454.48 154.464 1445.75 Q154.464 1437 157.519 1432.42 Q160.598 1427.81 166.408 1427.81 Z\" fill=\"#000000\" fill-rule=\"nonzero\" fill-opacity=\"1\" /><path clip-path=\"url(#clip390)\" d=\"M52.6588 1212.73 L60.2976 1212.73 L60.2976 1186.36 L51.9875 1188.03 L51.9875 1183.77 L60.2513 1182.1 L64.9272 1182.1 L64.9272 1212.73 L72.5661 1212.73 L72.5661 1216.66 L52.6588 1216.66 L52.6588 1212.73 Z\" fill=\"#000000\" fill-rule=\"nonzero\" fill-opacity=\"1\" /><path clip-path=\"url(#clip390)\" d=\"M82.0105 1210.78 L86.8947 1210.78 L86.8947 1216.66 L82.0105 1216.66 L82.0105 1210.78 Z\" fill=\"#000000\" fill-rule=\"nonzero\" fill-opacity=\"1\" /><path clip-path=\"url(#clip390)\" d=\"M107.08 1185.18 Q103.469 1185.18 101.64 1188.75 Q99.8345 1192.29 99.8345 1199.42 Q99.8345 1206.52 101.64 1210.09 Q103.469 1213.63 107.08 1213.63 Q110.714 1213.63 112.52 1210.09 Q114.348 1206.52 114.348 1199.42 Q114.348 1192.29 112.52 1188.75 Q110.714 1185.18 107.08 1185.18 M107.08 1181.48 Q112.89 1181.48 115.945 1186.08 Q119.024 1190.67 119.024 1199.42 Q119.024 1208.14 115.945 1212.75 Q112.89 1217.33 107.08 1217.33 Q101.27 1217.33 98.1909 1212.75 Q95.1354 1208.14 95.1354 1199.42 Q95.1354 1190.67 98.1909 1186.08 Q101.27 1181.48 107.08 1181.48 Z\" fill=\"#000000\" fill-rule=\"nonzero\" fill-opacity=\"1\" /><path clip-path=\"url(#clip390)\" d=\"M131.269 1212.73 L147.589 1212.73 L147.589 1216.66 L125.645 1216.66 L125.645 1212.73 Q128.307 1209.97 132.89 1205.34 Q137.496 1200.69 138.677 1199.35 Q140.922 1196.82 141.802 1195.09 Q142.705 1193.33 142.705 1191.64 Q142.705 1188.88 140.76 1187.15 Q138.839 1185.41 135.737 1185.41 Q133.538 1185.41 131.084 1186.18 Q128.654 1186.94 125.876 1188.49 L125.876 1183.77 Q128.7 1182.63 131.154 1182.06 Q133.607 1181.48 135.644 1181.48 Q141.015 1181.48 144.209 1184.16 Q147.404 1186.85 147.404 1191.34 Q147.404 1193.47 146.593 1195.39 Q145.806 1197.29 143.7 1199.88 Q143.121 1200.55 140.019 1203.77 Q136.918 1206.96 131.269 1212.73 Z\" fill=\"#000000\" fill-rule=\"nonzero\" fill-opacity=\"1\" /><path clip-path=\"url(#clip390)\" d=\"M157.45 1182.1 L175.806 1182.1 L175.806 1186.04 L161.732 1186.04 L161.732 1194.51 Q162.751 1194.16 163.769 1194 Q164.788 1193.82 165.806 1193.82 Q171.593 1193.82 174.973 1196.99 Q178.353 1200.16 178.353 1205.57 Q178.353 1211.15 174.88 1214.25 Q171.408 1217.33 165.089 1217.33 Q162.913 1217.33 160.644 1216.96 Q158.399 1216.59 155.992 1215.85 L155.992 1211.15 Q158.075 1212.29 160.297 1212.84 Q162.519 1213.4 164.996 1213.4 Q169.001 1213.4 171.339 1211.29 Q173.677 1209.19 173.677 1205.57 Q173.677 1201.96 171.339 1199.86 Q169.001 1197.75 164.996 1197.75 Q163.121 1197.75 161.246 1198.17 Q159.394 1198.58 157.45 1199.46 L157.45 1182.1 Z\" fill=\"#000000\" fill-rule=\"nonzero\" fill-opacity=\"1\" /><path clip-path=\"url(#clip390)\" d=\"M51.6634 966.394 L59.3023 966.394 L59.3023 940.028 L50.9921 941.695 L50.9921 937.436 L59.256 935.769 L63.9319 935.769 L63.9319 966.394 L71.5707 966.394 L71.5707 970.329 L51.6634 970.329 L51.6634 966.394 Z\" fill=\"#000000\" fill-rule=\"nonzero\" fill-opacity=\"1\" /><path clip-path=\"url(#clip390)\" d=\"M81.0151 964.449 L85.8993 964.449 L85.8993 970.329 L81.0151 970.329 L81.0151 964.449 Z\" fill=\"#000000\" fill-rule=\"nonzero\" fill-opacity=\"1\" /><path clip-path=\"url(#clip390)\" d=\"M106.084 938.848 Q102.473 938.848 100.645 942.413 Q98.8391 945.954 98.8391 953.084 Q98.8391 960.19 100.645 963.755 Q102.473 967.297 106.084 967.297 Q109.719 967.297 111.524 963.755 Q113.353 960.19 113.353 953.084 Q113.353 945.954 111.524 942.413 Q109.719 938.848 106.084 938.848 M106.084 935.144 Q111.895 935.144 114.95 939.751 Q118.029 944.334 118.029 953.084 Q118.029 961.811 114.95 966.417 Q111.895 971 106.084 971 Q100.274 971 97.1956 966.417 Q94.14 961.811 94.14 953.084 Q94.14 944.334 97.1956 939.751 Q100.274 935.144 106.084 935.144 Z\" fill=\"#000000\" fill-rule=\"nonzero\" fill-opacity=\"1\" /><path clip-path=\"url(#clip390)\" d=\"M126.293 935.769 L144.649 935.769 L144.649 939.704 L130.575 939.704 L130.575 948.176 Q131.594 947.829 132.612 947.667 Q133.631 947.482 134.649 947.482 Q140.436 947.482 143.816 950.653 Q147.195 953.825 147.195 959.241 Q147.195 964.82 143.723 967.922 Q140.251 971 133.931 971 Q131.756 971 129.487 970.63 Q127.242 970.26 124.834 969.519 L124.834 964.82 Q126.918 965.954 129.14 966.51 Q131.362 967.065 133.839 967.065 Q137.844 967.065 140.181 964.959 Q142.519 962.852 142.519 959.241 Q142.519 955.63 140.181 953.524 Q137.844 951.417 133.839 951.417 Q131.964 951.417 130.089 951.834 Q128.237 952.25 126.293 953.13 L126.293 935.769 Z\" fill=\"#000000\" fill-rule=\"nonzero\" fill-opacity=\"1\" /><path clip-path=\"url(#clip390)\" d=\"M166.408 938.848 Q162.797 938.848 160.968 942.413 Q159.163 945.954 159.163 953.084 Q159.163 960.19 160.968 963.755 Q162.797 967.297 166.408 967.297 Q170.042 967.297 171.848 963.755 Q173.677 960.19 173.677 953.084 Q173.677 945.954 171.848 942.413 Q170.042 938.848 166.408 938.848 M166.408 935.144 Q172.218 935.144 175.274 939.751 Q178.353 944.334 178.353 953.084 Q178.353 961.811 175.274 966.417 Q172.218 971 166.408 971 Q160.598 971 157.519 966.417 Q154.464 961.811 154.464 953.084 Q154.464 944.334 157.519 939.751 Q160.598 935.144 166.408 935.144 Z\" fill=\"#000000\" fill-rule=\"nonzero\" fill-opacity=\"1\" /><path clip-path=\"url(#clip390)\" d=\"M52.6588 720.061 L60.2976 720.061 L60.2976 693.695 L51.9875 695.362 L51.9875 691.102 L60.2513 689.436 L64.9272 689.436 L64.9272 720.061 L72.5661 720.061 L72.5661 723.996 L52.6588 723.996 L52.6588 720.061 Z\" fill=\"#000000\" fill-rule=\"nonzero\" fill-opacity=\"1\" /><path clip-path=\"url(#clip390)\" d=\"M82.0105 718.116 L86.8947 718.116 L86.8947 723.996 L82.0105 723.996 L82.0105 718.116 Z\" fill=\"#000000\" fill-rule=\"nonzero\" fill-opacity=\"1\" /><path clip-path=\"url(#clip390)\" d=\"M107.08 692.514 Q103.469 692.514 101.64 696.079 Q99.8345 699.621 99.8345 706.75 Q99.8345 713.857 101.64 717.422 Q103.469 720.963 107.08 720.963 Q110.714 720.963 112.52 717.422 Q114.348 713.857 114.348 706.75 Q114.348 699.621 112.52 696.079 Q110.714 692.514 107.08 692.514 M107.08 688.811 Q112.89 688.811 115.945 693.417 Q119.024 698.001 119.024 706.75 Q119.024 715.477 115.945 720.084 Q112.89 724.667 107.08 724.667 Q101.27 724.667 98.1909 720.084 Q95.1354 715.477 95.1354 706.75 Q95.1354 698.001 98.1909 693.417 Q101.27 688.811 107.08 688.811 Z\" fill=\"#000000\" fill-rule=\"nonzero\" fill-opacity=\"1\" /><path clip-path=\"url(#clip390)\" d=\"M126.061 689.436 L148.283 689.436 L148.283 691.427 L135.737 723.996 L130.853 723.996 L142.658 693.371 L126.061 693.371 L126.061 689.436 Z\" fill=\"#000000\" fill-rule=\"nonzero\" fill-opacity=\"1\" /><path clip-path=\"url(#clip390)\" d=\"M157.45 689.436 L175.806 689.436 L175.806 693.371 L161.732 693.371 L161.732 701.843 Q162.751 701.496 163.769 701.334 Q164.788 701.149 165.806 701.149 Q171.593 701.149 174.973 704.32 Q178.353 707.491 178.353 712.908 Q178.353 718.487 174.88 721.588 Q171.408 724.667 165.089 724.667 Q162.913 724.667 160.644 724.297 Q158.399 723.926 155.992 723.186 L155.992 718.487 Q158.075 719.621 160.297 720.176 Q162.519 720.732 164.996 720.732 Q169.001 720.732 171.339 718.625 Q173.677 716.519 173.677 712.908 Q173.677 709.297 171.339 707.19 Q169.001 705.084 164.996 705.084 Q163.121 705.084 161.246 705.501 Q159.394 705.917 157.45 706.797 L157.45 689.436 Z\" fill=\"#000000\" fill-rule=\"nonzero\" fill-opacity=\"1\" /><path clip-path=\"url(#clip390)\" d=\"M51.6634 473.727 L59.3023 473.727 L59.3023 447.362 L50.9921 449.028 L50.9921 444.769 L59.256 443.102 L63.9319 443.102 L63.9319 473.727 L71.5707 473.727 L71.5707 477.662 L51.6634 477.662 L51.6634 473.727 Z\" fill=\"#000000\" fill-rule=\"nonzero\" fill-opacity=\"1\" /><path clip-path=\"url(#clip390)\" d=\"M81.0151 471.783 L85.8993 471.783 L85.8993 477.662 L81.0151 477.662 L81.0151 471.783 Z\" fill=\"#000000\" fill-rule=\"nonzero\" fill-opacity=\"1\" /><path clip-path=\"url(#clip390)\" d=\"M96.8947 473.727 L104.534 473.727 L104.534 447.362 L96.2234 449.028 L96.2234 444.769 L104.487 443.102 L109.163 443.102 L109.163 473.727 L116.802 473.727 L116.802 477.662 L96.8947 477.662 L96.8947 473.727 Z\" fill=\"#000000\" fill-rule=\"nonzero\" fill-opacity=\"1\" /><path clip-path=\"url(#clip390)\" d=\"M136.246 446.181 Q132.635 446.181 130.807 449.746 Q129.001 453.288 129.001 460.417 Q129.001 467.524 130.807 471.088 Q132.635 474.63 136.246 474.63 Q139.881 474.63 141.686 471.088 Q143.515 467.524 143.515 460.417 Q143.515 453.288 141.686 449.746 Q139.881 446.181 136.246 446.181 M136.246 442.477 Q142.056 442.477 145.112 447.084 Q148.191 451.667 148.191 460.417 Q148.191 469.144 145.112 473.75 Q142.056 478.334 136.246 478.334 Q130.436 478.334 127.357 473.75 Q124.302 469.144 124.302 460.417 Q124.302 451.667 127.357 447.084 Q130.436 442.477 136.246 442.477 Z\" fill=\"#000000\" fill-rule=\"nonzero\" fill-opacity=\"1\" /><path clip-path=\"url(#clip390)\" d=\"M166.408 446.181 Q162.797 446.181 160.968 449.746 Q159.163 453.288 159.163 460.417 Q159.163 467.524 160.968 471.088 Q162.797 474.63 166.408 474.63 Q170.042 474.63 171.848 471.088 Q173.677 467.524 173.677 460.417 Q173.677 453.288 171.848 449.746 Q170.042 446.181 166.408 446.181 M166.408 442.477 Q172.218 442.477 175.274 447.084 Q178.353 451.667 178.353 460.417 Q178.353 469.144 175.274 473.75 Q172.218 478.334 166.408 478.334 Q160.598 478.334 157.519 473.75 Q154.464 469.144 154.464 460.417 Q154.464 451.667 157.519 447.084 Q160.598 442.477 166.408 442.477 Z\" fill=\"#000000\" fill-rule=\"nonzero\" fill-opacity=\"1\" /><path clip-path=\"url(#clip390)\" d=\"M52.6588 227.394 L60.2976 227.394 L60.2976 201.028 L51.9875 202.695 L51.9875 198.436 L60.2513 196.769 L64.9272 196.769 L64.9272 227.394 L72.5661 227.394 L72.5661 231.329 L52.6588 231.329 L52.6588 227.394 Z\" fill=\"#000000\" fill-rule=\"nonzero\" fill-opacity=\"1\" /><path clip-path=\"url(#clip390)\" d=\"M82.0105 225.45 L86.8947 225.45 L86.8947 231.329 L82.0105 231.329 L82.0105 225.45 Z\" fill=\"#000000\" fill-rule=\"nonzero\" fill-opacity=\"1\" /><path clip-path=\"url(#clip390)\" d=\"M97.89 227.394 L105.529 227.394 L105.529 201.028 L97.2187 202.695 L97.2187 198.436 L105.483 196.769 L110.158 196.769 L110.158 227.394 L117.797 227.394 L117.797 231.329 L97.89 231.329 L97.89 227.394 Z\" fill=\"#000000\" fill-rule=\"nonzero\" fill-opacity=\"1\" /><path clip-path=\"url(#clip390)\" d=\"M131.269 227.394 L147.589 227.394 L147.589 231.329 L125.645 231.329 L125.645 227.394 Q128.307 224.639 132.89 220.01 Q137.496 215.357 138.677 214.014 Q140.922 211.491 141.802 209.755 Q142.705 207.996 142.705 206.306 Q142.705 203.552 140.76 201.815 Q138.839 200.079 135.737 200.079 Q133.538 200.079 131.084 200.843 Q128.654 201.607 125.876 203.158 L125.876 198.436 Q128.7 197.302 131.154 196.723 Q133.607 196.144 135.644 196.144 Q141.015 196.144 144.209 198.829 Q147.404 201.515 147.404 206.005 Q147.404 208.135 146.593 210.056 Q145.806 211.954 143.7 214.547 Q143.121 215.218 140.019 218.436 Q136.918 221.63 131.269 227.394 Z\" fill=\"#000000\" fill-rule=\"nonzero\" fill-opacity=\"1\" /><path clip-path=\"url(#clip390)\" d=\"M157.45 196.769 L175.806 196.769 L175.806 200.704 L161.732 200.704 L161.732 209.177 Q162.751 208.829 163.769 208.667 Q164.788 208.482 165.806 208.482 Q171.593 208.482 174.973 211.653 Q178.353 214.825 178.353 220.241 Q178.353 225.82 174.88 228.922 Q171.408 232 165.089 232 Q162.913 232 160.644 231.63 Q158.399 231.26 155.992 230.519 L155.992 225.82 Q158.075 226.954 160.297 227.51 Q162.519 228.065 164.996 228.065 Q169.001 228.065 171.339 225.959 Q173.677 223.852 173.677 220.241 Q173.677 216.63 171.339 214.524 Q169.001 212.417 164.996 212.417 Q163.121 212.417 161.246 212.834 Q159.394 213.251 157.45 214.13 L157.45 196.769 Z\" fill=\"#000000\" fill-rule=\"nonzero\" fill-opacity=\"1\" /><polyline clip-path=\"url(#clip392)\" style=\"stroke:#009af9; stroke-linecap:round; stroke-linejoin:round; stroke-width:4; stroke-opacity:1; fill:none\" points=\"274.873,1445.72 476.61,148.242 678.346,99.6053 880.082,90.0625 1081.82,87.9763 1283.55,88.9789 1485.29,91.5044 1687.03,94.8286 1888.76,98.7414 2090.5,103.394 2292.24,109.166 \"/>\n",
       "<path clip-path=\"url(#clip390)\" d=\"M2015.21 1438.47 L2281.48 1438.47 L2281.48 1334.79 L2015.21 1334.79  Z\" fill=\"#ffffff\" fill-rule=\"evenodd\" fill-opacity=\"1\"/>\n",
       "<polyline clip-path=\"url(#clip390)\" style=\"stroke:#000000; stroke-linecap:round; stroke-linejoin:round; stroke-width:4; stroke-opacity:1; fill:none\" points=\"2015.21,1438.47 2281.48,1438.47 2281.48,1334.79 2015.21,1334.79 2015.21,1438.47 \"/>\n",
       "<polyline clip-path=\"url(#clip390)\" style=\"stroke:#009af9; stroke-linecap:round; stroke-linejoin:round; stroke-width:4; stroke-opacity:1; fill:none\" points=\"2038.97,1386.63 2181.53,1386.63 \"/>\n",
       "<path clip-path=\"url(#clip390)\" d=\"M2219.13 1406.32 Q2217.32 1410.95 2215.61 1412.36 Q2213.9 1413.78 2211.03 1413.78 L2207.62 1413.78 L2207.62 1410.21 L2210.12 1410.21 Q2211.88 1410.21 2212.85 1409.38 Q2213.83 1408.54 2215.01 1405.44 L2215.77 1403.5 L2205.29 1377.99 L2209.8 1377.99 L2217.9 1398.27 L2226 1377.99 L2230.52 1377.99 L2219.13 1406.32 Z\" fill=\"#000000\" fill-rule=\"nonzero\" fill-opacity=\"1\" /><path clip-path=\"url(#clip390)\" d=\"M2237.81 1399.98 L2245.45 1399.98 L2245.45 1373.61 L2237.14 1375.28 L2237.14 1371.02 L2245.4 1369.35 L2250.08 1369.35 L2250.08 1399.98 L2257.72 1399.98 L2257.72 1403.91 L2237.81 1403.91 L2237.81 1399.98 Z\" fill=\"#000000\" fill-rule=\"nonzero\" fill-opacity=\"1\" /></svg>\n"
      ],
      "text/html": [
       "<?xml version=\"1.0\" encoding=\"utf-8\"?>\n",
       "<svg xmlns=\"http://www.w3.org/2000/svg\" xmlns:xlink=\"http://www.w3.org/1999/xlink\" width=\"600\" height=\"400\" viewBox=\"0 0 2400 1600\">\n",
       "<defs>\n",
       "  <clipPath id=\"clip440\">\n",
       "    <rect x=\"0\" y=\"0\" width=\"2400\" height=\"1600\"/>\n",
       "  </clipPath>\n",
       "</defs>\n",
       "<path clip-path=\"url(#clip440)\" d=\"M0 1600 L2400 1600 L2400 0 L0 0  Z\" fill=\"#ffffff\" fill-rule=\"evenodd\" fill-opacity=\"1\"/>\n",
       "<defs>\n",
       "  <clipPath id=\"clip441\">\n",
       "    <rect x=\"480\" y=\"0\" width=\"1681\" height=\"1600\"/>\n",
       "  </clipPath>\n",
       "</defs>\n",
       "<path clip-path=\"url(#clip440)\" d=\"M214.353 1486.45 L2352.76 1486.45 L2352.76 47.2441 L214.353 47.2441  Z\" fill=\"#ffffff\" fill-rule=\"evenodd\" fill-opacity=\"1\"/>\n",
       "<defs>\n",
       "  <clipPath id=\"clip442\">\n",
       "    <rect x=\"214\" y=\"47\" width=\"2139\" height=\"1440\"/>\n",
       "  </clipPath>\n",
       "</defs>\n",
       "<polyline clip-path=\"url(#clip442)\" style=\"stroke:#000000; stroke-linecap:round; stroke-linejoin:round; stroke-width:2; stroke-opacity:0.1; fill:none\" points=\"476.61,1486.45 476.61,47.2441 \"/>\n",
       "<polyline clip-path=\"url(#clip442)\" style=\"stroke:#000000; stroke-linecap:round; stroke-linejoin:round; stroke-width:2; stroke-opacity:0.1; fill:none\" points=\"880.082,1486.45 880.082,47.2441 \"/>\n",
       "<polyline clip-path=\"url(#clip442)\" style=\"stroke:#000000; stroke-linecap:round; stroke-linejoin:round; stroke-width:2; stroke-opacity:0.1; fill:none\" points=\"1283.55,1486.45 1283.55,47.2441 \"/>\n",
       "<polyline clip-path=\"url(#clip442)\" style=\"stroke:#000000; stroke-linecap:round; stroke-linejoin:round; stroke-width:2; stroke-opacity:0.1; fill:none\" points=\"1687.03,1486.45 1687.03,47.2441 \"/>\n",
       "<polyline clip-path=\"url(#clip442)\" style=\"stroke:#000000; stroke-linecap:round; stroke-linejoin:round; stroke-width:2; stroke-opacity:0.1; fill:none\" points=\"2090.5,1486.45 2090.5,47.2441 \"/>\n",
       "<polyline clip-path=\"url(#clip440)\" style=\"stroke:#000000; stroke-linecap:round; stroke-linejoin:round; stroke-width:4; stroke-opacity:1; fill:none\" points=\"214.353,1486.45 2352.76,1486.45 \"/>\n",
       "<polyline clip-path=\"url(#clip440)\" style=\"stroke:#000000; stroke-linecap:round; stroke-linejoin:round; stroke-width:4; stroke-opacity:1; fill:none\" points=\"476.61,1486.45 476.61,1467.55 \"/>\n",
       "<polyline clip-path=\"url(#clip440)\" style=\"stroke:#000000; stroke-linecap:round; stroke-linejoin:round; stroke-width:4; stroke-opacity:1; fill:none\" points=\"880.082,1486.45 880.082,1467.55 \"/>\n",
       "<polyline clip-path=\"url(#clip440)\" style=\"stroke:#000000; stroke-linecap:round; stroke-linejoin:round; stroke-width:4; stroke-opacity:1; fill:none\" points=\"1283.55,1486.45 1283.55,1467.55 \"/>\n",
       "<polyline clip-path=\"url(#clip440)\" style=\"stroke:#000000; stroke-linecap:round; stroke-linejoin:round; stroke-width:4; stroke-opacity:1; fill:none\" points=\"1687.03,1486.45 1687.03,1467.55 \"/>\n",
       "<polyline clip-path=\"url(#clip440)\" style=\"stroke:#000000; stroke-linecap:round; stroke-linejoin:round; stroke-width:4; stroke-opacity:1; fill:none\" points=\"2090.5,1486.45 2090.5,1467.55 \"/>\n",
       "<path clip-path=\"url(#clip440)\" d=\"M471.262 1544.91 L487.582 1544.91 L487.582 1548.85 L465.637 1548.85 L465.637 1544.91 Q468.299 1542.16 472.883 1537.53 Q477.489 1532.88 478.67 1531.53 Q480.915 1529.01 481.795 1527.27 Q482.697 1525.51 482.697 1523.82 Q482.697 1521.07 480.753 1519.33 Q478.832 1517.6 475.73 1517.6 Q473.531 1517.6 471.077 1518.36 Q468.647 1519.13 465.869 1520.68 L465.869 1515.95 Q468.693 1514.82 471.147 1514.24 Q473.6 1513.66 475.637 1513.66 Q481.008 1513.66 484.202 1516.35 Q487.397 1519.03 487.397 1523.52 Q487.397 1525.65 486.586 1527.57 Q485.799 1529.47 483.693 1532.07 Q483.114 1532.74 480.012 1535.95 Q476.91 1539.15 471.262 1544.91 Z\" fill=\"#000000\" fill-rule=\"nonzero\" fill-opacity=\"1\" /><path clip-path=\"url(#clip440)\" d=\"M883.091 1518.36 L871.286 1536.81 L883.091 1536.81 L883.091 1518.36 M881.864 1514.29 L887.744 1514.29 L887.744 1536.81 L892.674 1536.81 L892.674 1540.7 L887.744 1540.7 L887.744 1548.85 L883.091 1548.85 L883.091 1540.7 L867.489 1540.7 L867.489 1536.19 L881.864 1514.29 Z\" fill=\"#000000\" fill-rule=\"nonzero\" fill-opacity=\"1\" /><path clip-path=\"url(#clip440)\" d=\"M1283.96 1529.7 Q1280.81 1529.7 1278.96 1531.86 Q1277.13 1534.01 1277.13 1537.76 Q1277.13 1541.49 1278.96 1543.66 Q1280.81 1545.82 1283.96 1545.82 Q1287.11 1545.82 1288.94 1543.66 Q1290.79 1541.49 1290.79 1537.76 Q1290.79 1534.01 1288.94 1531.86 Q1287.11 1529.7 1283.96 1529.7 M1293.24 1515.05 L1293.24 1519.31 Q1291.48 1518.48 1289.68 1518.04 Q1287.89 1517.6 1286.14 1517.6 Q1281.51 1517.6 1279.05 1520.72 Q1276.62 1523.85 1276.27 1530.17 Q1277.64 1528.15 1279.7 1527.09 Q1281.76 1526 1284.24 1526 Q1289.45 1526 1292.45 1529.17 Q1295.49 1532.32 1295.49 1537.76 Q1295.49 1543.08 1292.34 1546.3 Q1289.19 1549.52 1283.96 1549.52 Q1277.96 1549.52 1274.79 1544.94 Q1271.62 1540.33 1271.62 1531.6 Q1271.62 1523.41 1275.51 1518.55 Q1279.4 1513.66 1285.95 1513.66 Q1287.71 1513.66 1289.49 1514.01 Q1291.3 1514.36 1293.24 1515.05 Z\" fill=\"#000000\" fill-rule=\"nonzero\" fill-opacity=\"1\" /><path clip-path=\"url(#clip440)\" d=\"M1687.03 1532.44 Q1683.69 1532.44 1681.77 1534.22 Q1679.87 1536 1679.87 1539.13 Q1679.87 1542.25 1681.77 1544.03 Q1683.69 1545.82 1687.03 1545.82 Q1690.36 1545.82 1692.28 1544.03 Q1694.2 1542.23 1694.2 1539.13 Q1694.2 1536 1692.28 1534.22 Q1690.38 1532.44 1687.03 1532.44 M1682.35 1530.45 Q1679.34 1529.7 1677.65 1527.64 Q1675.98 1525.58 1675.98 1522.62 Q1675.98 1518.48 1678.92 1516.07 Q1681.89 1513.66 1687.03 1513.66 Q1692.19 1513.66 1695.13 1516.07 Q1698.07 1518.48 1698.07 1522.62 Q1698.07 1525.58 1696.38 1527.64 Q1694.71 1529.7 1691.73 1530.45 Q1695.11 1531.23 1696.98 1533.52 Q1698.88 1535.82 1698.88 1539.13 Q1698.88 1544.15 1695.8 1546.83 Q1692.74 1549.52 1687.03 1549.52 Q1681.31 1549.52 1678.23 1546.83 Q1675.17 1544.15 1675.17 1539.13 Q1675.17 1535.82 1677.07 1533.52 Q1678.97 1531.23 1682.35 1530.45 M1680.64 1523.06 Q1680.64 1525.75 1682.3 1527.25 Q1683.99 1528.76 1687.03 1528.76 Q1690.04 1528.76 1691.73 1527.25 Q1693.44 1525.75 1693.44 1523.06 Q1693.44 1520.38 1691.73 1518.87 Q1690.04 1517.37 1687.03 1517.37 Q1683.99 1517.37 1682.3 1518.87 Q1680.64 1520.38 1680.64 1523.06 Z\" fill=\"#000000\" fill-rule=\"nonzero\" fill-opacity=\"1\" /><path clip-path=\"url(#clip440)\" d=\"M2065.19 1544.91 L2072.83 1544.91 L2072.83 1518.55 L2064.52 1520.21 L2064.52 1515.95 L2072.78 1514.29 L2077.45 1514.29 L2077.45 1544.91 L2085.09 1544.91 L2085.09 1548.85 L2065.19 1548.85 L2065.19 1544.91 Z\" fill=\"#000000\" fill-rule=\"nonzero\" fill-opacity=\"1\" /><path clip-path=\"url(#clip440)\" d=\"M2104.54 1517.37 Q2100.93 1517.37 2099.1 1520.93 Q2097.29 1524.47 2097.29 1531.6 Q2097.29 1538.71 2099.1 1542.27 Q2100.93 1545.82 2104.54 1545.82 Q2108.17 1545.82 2109.98 1542.27 Q2111.81 1538.71 2111.81 1531.6 Q2111.81 1524.47 2109.98 1520.93 Q2108.17 1517.37 2104.54 1517.37 M2104.54 1513.66 Q2110.35 1513.66 2113.4 1518.27 Q2116.48 1522.85 2116.48 1531.6 Q2116.48 1540.33 2113.4 1544.94 Q2110.35 1549.52 2104.54 1549.52 Q2098.73 1549.52 2095.65 1544.94 Q2092.59 1540.33 2092.59 1531.6 Q2092.59 1522.85 2095.65 1518.27 Q2098.73 1513.66 2104.54 1513.66 Z\" fill=\"#000000\" fill-rule=\"nonzero\" fill-opacity=\"1\" /><polyline clip-path=\"url(#clip442)\" style=\"stroke:#000000; stroke-linecap:round; stroke-linejoin:round; stroke-width:2; stroke-opacity:0.1; fill:none\" points=\"214.353,1445.72 2352.76,1445.72 \"/>\n",
       "<polyline clip-path=\"url(#clip442)\" style=\"stroke:#000000; stroke-linecap:round; stroke-linejoin:round; stroke-width:2; stroke-opacity:0.1; fill:none\" points=\"214.353,1199.38 2352.76,1199.38 \"/>\n",
       "<polyline clip-path=\"url(#clip442)\" style=\"stroke:#000000; stroke-linecap:round; stroke-linejoin:round; stroke-width:2; stroke-opacity:0.1; fill:none\" points=\"214.353,953.049 2352.76,953.049 \"/>\n",
       "<polyline clip-path=\"url(#clip442)\" style=\"stroke:#000000; stroke-linecap:round; stroke-linejoin:round; stroke-width:2; stroke-opacity:0.1; fill:none\" points=\"214.353,706.716 2352.76,706.716 \"/>\n",
       "<polyline clip-path=\"url(#clip442)\" style=\"stroke:#000000; stroke-linecap:round; stroke-linejoin:round; stroke-width:2; stroke-opacity:0.1; fill:none\" points=\"214.353,460.382 2352.76,460.382 \"/>\n",
       "<polyline clip-path=\"url(#clip442)\" style=\"stroke:#000000; stroke-linecap:round; stroke-linejoin:round; stroke-width:2; stroke-opacity:0.1; fill:none\" points=\"214.353,214.049 2352.76,214.049 \"/>\n",
       "<polyline clip-path=\"url(#clip440)\" style=\"stroke:#000000; stroke-linecap:round; stroke-linejoin:round; stroke-width:4; stroke-opacity:1; fill:none\" points=\"214.353,1486.45 214.353,47.2441 \"/>\n",
       "<polyline clip-path=\"url(#clip440)\" style=\"stroke:#000000; stroke-linecap:round; stroke-linejoin:round; stroke-width:4; stroke-opacity:1; fill:none\" points=\"214.353,1445.72 233.25,1445.72 \"/>\n",
       "<polyline clip-path=\"url(#clip440)\" style=\"stroke:#000000; stroke-linecap:round; stroke-linejoin:round; stroke-width:4; stroke-opacity:1; fill:none\" points=\"214.353,1199.38 233.25,1199.38 \"/>\n",
       "<polyline clip-path=\"url(#clip440)\" style=\"stroke:#000000; stroke-linecap:round; stroke-linejoin:round; stroke-width:4; stroke-opacity:1; fill:none\" points=\"214.353,953.049 233.25,953.049 \"/>\n",
       "<polyline clip-path=\"url(#clip440)\" style=\"stroke:#000000; stroke-linecap:round; stroke-linejoin:round; stroke-width:4; stroke-opacity:1; fill:none\" points=\"214.353,706.716 233.25,706.716 \"/>\n",
       "<polyline clip-path=\"url(#clip440)\" style=\"stroke:#000000; stroke-linecap:round; stroke-linejoin:round; stroke-width:4; stroke-opacity:1; fill:none\" points=\"214.353,460.382 233.25,460.382 \"/>\n",
       "<polyline clip-path=\"url(#clip440)\" style=\"stroke:#000000; stroke-linecap:round; stroke-linejoin:round; stroke-width:4; stroke-opacity:1; fill:none\" points=\"214.353,214.049 233.25,214.049 \"/>\n",
       "<path clip-path=\"url(#clip440)\" d=\"M51.6634 1459.06 L59.3023 1459.06 L59.3023 1432.69 L50.9921 1434.36 L50.9921 1430.1 L59.256 1428.44 L63.9319 1428.44 L63.9319 1459.06 L71.5707 1459.06 L71.5707 1463 L51.6634 1463 L51.6634 1459.06 Z\" fill=\"#000000\" fill-rule=\"nonzero\" fill-opacity=\"1\" /><path clip-path=\"url(#clip440)\" d=\"M81.0151 1457.12 L85.8993 1457.12 L85.8993 1463 L81.0151 1463 L81.0151 1457.12 Z\" fill=\"#000000\" fill-rule=\"nonzero\" fill-opacity=\"1\" /><path clip-path=\"url(#clip440)\" d=\"M106.084 1431.51 Q102.473 1431.51 100.645 1435.08 Q98.8391 1438.62 98.8391 1445.75 Q98.8391 1452.86 100.645 1456.42 Q102.473 1459.96 106.084 1459.96 Q109.719 1459.96 111.524 1456.42 Q113.353 1452.86 113.353 1445.75 Q113.353 1438.62 111.524 1435.08 Q109.719 1431.51 106.084 1431.51 M106.084 1427.81 Q111.895 1427.81 114.95 1432.42 Q118.029 1437 118.029 1445.75 Q118.029 1454.48 114.95 1459.08 Q111.895 1463.67 106.084 1463.67 Q100.274 1463.67 97.1956 1459.08 Q94.14 1454.48 94.14 1445.75 Q94.14 1437 97.1956 1432.42 Q100.274 1427.81 106.084 1427.81 Z\" fill=\"#000000\" fill-rule=\"nonzero\" fill-opacity=\"1\" /><path clip-path=\"url(#clip440)\" d=\"M136.246 1431.51 Q132.635 1431.51 130.807 1435.08 Q129.001 1438.62 129.001 1445.75 Q129.001 1452.86 130.807 1456.42 Q132.635 1459.96 136.246 1459.96 Q139.881 1459.96 141.686 1456.42 Q143.515 1452.86 143.515 1445.75 Q143.515 1438.62 141.686 1435.08 Q139.881 1431.51 136.246 1431.51 M136.246 1427.81 Q142.056 1427.81 145.112 1432.42 Q148.191 1437 148.191 1445.75 Q148.191 1454.48 145.112 1459.08 Q142.056 1463.67 136.246 1463.67 Q130.436 1463.67 127.357 1459.08 Q124.302 1454.48 124.302 1445.75 Q124.302 1437 127.357 1432.42 Q130.436 1427.81 136.246 1427.81 Z\" fill=\"#000000\" fill-rule=\"nonzero\" fill-opacity=\"1\" /><path clip-path=\"url(#clip440)\" d=\"M166.408 1431.51 Q162.797 1431.51 160.968 1435.08 Q159.163 1438.62 159.163 1445.75 Q159.163 1452.86 160.968 1456.42 Q162.797 1459.96 166.408 1459.96 Q170.042 1459.96 171.848 1456.42 Q173.677 1452.86 173.677 1445.75 Q173.677 1438.62 171.848 1435.08 Q170.042 1431.51 166.408 1431.51 M166.408 1427.81 Q172.218 1427.81 175.274 1432.42 Q178.353 1437 178.353 1445.75 Q178.353 1454.48 175.274 1459.08 Q172.218 1463.67 166.408 1463.67 Q160.598 1463.67 157.519 1459.08 Q154.464 1454.48 154.464 1445.75 Q154.464 1437 157.519 1432.42 Q160.598 1427.81 166.408 1427.81 Z\" fill=\"#000000\" fill-rule=\"nonzero\" fill-opacity=\"1\" /><path clip-path=\"url(#clip440)\" d=\"M52.6588 1212.73 L60.2976 1212.73 L60.2976 1186.36 L51.9875 1188.03 L51.9875 1183.77 L60.2513 1182.1 L64.9272 1182.1 L64.9272 1212.73 L72.5661 1212.73 L72.5661 1216.66 L52.6588 1216.66 L52.6588 1212.73 Z\" fill=\"#000000\" fill-rule=\"nonzero\" fill-opacity=\"1\" /><path clip-path=\"url(#clip440)\" d=\"M82.0105 1210.78 L86.8947 1210.78 L86.8947 1216.66 L82.0105 1216.66 L82.0105 1210.78 Z\" fill=\"#000000\" fill-rule=\"nonzero\" fill-opacity=\"1\" /><path clip-path=\"url(#clip440)\" d=\"M107.08 1185.18 Q103.469 1185.18 101.64 1188.75 Q99.8345 1192.29 99.8345 1199.42 Q99.8345 1206.52 101.64 1210.09 Q103.469 1213.63 107.08 1213.63 Q110.714 1213.63 112.52 1210.09 Q114.348 1206.52 114.348 1199.42 Q114.348 1192.29 112.52 1188.75 Q110.714 1185.18 107.08 1185.18 M107.08 1181.48 Q112.89 1181.48 115.945 1186.08 Q119.024 1190.67 119.024 1199.42 Q119.024 1208.14 115.945 1212.75 Q112.89 1217.33 107.08 1217.33 Q101.27 1217.33 98.1909 1212.75 Q95.1354 1208.14 95.1354 1199.42 Q95.1354 1190.67 98.1909 1186.08 Q101.27 1181.48 107.08 1181.48 Z\" fill=\"#000000\" fill-rule=\"nonzero\" fill-opacity=\"1\" /><path clip-path=\"url(#clip440)\" d=\"M131.269 1212.73 L147.589 1212.73 L147.589 1216.66 L125.645 1216.66 L125.645 1212.73 Q128.307 1209.97 132.89 1205.34 Q137.496 1200.69 138.677 1199.35 Q140.922 1196.82 141.802 1195.09 Q142.705 1193.33 142.705 1191.64 Q142.705 1188.88 140.76 1187.15 Q138.839 1185.41 135.737 1185.41 Q133.538 1185.41 131.084 1186.18 Q128.654 1186.94 125.876 1188.49 L125.876 1183.77 Q128.7 1182.63 131.154 1182.06 Q133.607 1181.48 135.644 1181.48 Q141.015 1181.48 144.209 1184.16 Q147.404 1186.85 147.404 1191.34 Q147.404 1193.47 146.593 1195.39 Q145.806 1197.29 143.7 1199.88 Q143.121 1200.55 140.019 1203.77 Q136.918 1206.96 131.269 1212.73 Z\" fill=\"#000000\" fill-rule=\"nonzero\" fill-opacity=\"1\" /><path clip-path=\"url(#clip440)\" d=\"M157.45 1182.1 L175.806 1182.1 L175.806 1186.04 L161.732 1186.04 L161.732 1194.51 Q162.751 1194.16 163.769 1194 Q164.788 1193.82 165.806 1193.82 Q171.593 1193.82 174.973 1196.99 Q178.353 1200.16 178.353 1205.57 Q178.353 1211.15 174.88 1214.25 Q171.408 1217.33 165.089 1217.33 Q162.913 1217.33 160.644 1216.96 Q158.399 1216.59 155.992 1215.85 L155.992 1211.15 Q158.075 1212.29 160.297 1212.84 Q162.519 1213.4 164.996 1213.4 Q169.001 1213.4 171.339 1211.29 Q173.677 1209.19 173.677 1205.57 Q173.677 1201.96 171.339 1199.86 Q169.001 1197.75 164.996 1197.75 Q163.121 1197.75 161.246 1198.17 Q159.394 1198.58 157.45 1199.46 L157.45 1182.1 Z\" fill=\"#000000\" fill-rule=\"nonzero\" fill-opacity=\"1\" /><path clip-path=\"url(#clip440)\" d=\"M51.6634 966.394 L59.3023 966.394 L59.3023 940.028 L50.9921 941.695 L50.9921 937.436 L59.256 935.769 L63.9319 935.769 L63.9319 966.394 L71.5707 966.394 L71.5707 970.329 L51.6634 970.329 L51.6634 966.394 Z\" fill=\"#000000\" fill-rule=\"nonzero\" fill-opacity=\"1\" /><path clip-path=\"url(#clip440)\" d=\"M81.0151 964.449 L85.8993 964.449 L85.8993 970.329 L81.0151 970.329 L81.0151 964.449 Z\" fill=\"#000000\" fill-rule=\"nonzero\" fill-opacity=\"1\" /><path clip-path=\"url(#clip440)\" d=\"M106.084 938.848 Q102.473 938.848 100.645 942.413 Q98.8391 945.954 98.8391 953.084 Q98.8391 960.19 100.645 963.755 Q102.473 967.297 106.084 967.297 Q109.719 967.297 111.524 963.755 Q113.353 960.19 113.353 953.084 Q113.353 945.954 111.524 942.413 Q109.719 938.848 106.084 938.848 M106.084 935.144 Q111.895 935.144 114.95 939.751 Q118.029 944.334 118.029 953.084 Q118.029 961.811 114.95 966.417 Q111.895 971 106.084 971 Q100.274 971 97.1956 966.417 Q94.14 961.811 94.14 953.084 Q94.14 944.334 97.1956 939.751 Q100.274 935.144 106.084 935.144 Z\" fill=\"#000000\" fill-rule=\"nonzero\" fill-opacity=\"1\" /><path clip-path=\"url(#clip440)\" d=\"M126.293 935.769 L144.649 935.769 L144.649 939.704 L130.575 939.704 L130.575 948.176 Q131.594 947.829 132.612 947.667 Q133.631 947.482 134.649 947.482 Q140.436 947.482 143.816 950.653 Q147.195 953.825 147.195 959.241 Q147.195 964.82 143.723 967.922 Q140.251 971 133.931 971 Q131.756 971 129.487 970.63 Q127.242 970.26 124.834 969.519 L124.834 964.82 Q126.918 965.954 129.14 966.51 Q131.362 967.065 133.839 967.065 Q137.844 967.065 140.181 964.959 Q142.519 962.852 142.519 959.241 Q142.519 955.63 140.181 953.524 Q137.844 951.417 133.839 951.417 Q131.964 951.417 130.089 951.834 Q128.237 952.25 126.293 953.13 L126.293 935.769 Z\" fill=\"#000000\" fill-rule=\"nonzero\" fill-opacity=\"1\" /><path clip-path=\"url(#clip440)\" d=\"M166.408 938.848 Q162.797 938.848 160.968 942.413 Q159.163 945.954 159.163 953.084 Q159.163 960.19 160.968 963.755 Q162.797 967.297 166.408 967.297 Q170.042 967.297 171.848 963.755 Q173.677 960.19 173.677 953.084 Q173.677 945.954 171.848 942.413 Q170.042 938.848 166.408 938.848 M166.408 935.144 Q172.218 935.144 175.274 939.751 Q178.353 944.334 178.353 953.084 Q178.353 961.811 175.274 966.417 Q172.218 971 166.408 971 Q160.598 971 157.519 966.417 Q154.464 961.811 154.464 953.084 Q154.464 944.334 157.519 939.751 Q160.598 935.144 166.408 935.144 Z\" fill=\"#000000\" fill-rule=\"nonzero\" fill-opacity=\"1\" /><path clip-path=\"url(#clip440)\" d=\"M52.6588 720.061 L60.2976 720.061 L60.2976 693.695 L51.9875 695.362 L51.9875 691.102 L60.2513 689.436 L64.9272 689.436 L64.9272 720.061 L72.5661 720.061 L72.5661 723.996 L52.6588 723.996 L52.6588 720.061 Z\" fill=\"#000000\" fill-rule=\"nonzero\" fill-opacity=\"1\" /><path clip-path=\"url(#clip440)\" d=\"M82.0105 718.116 L86.8947 718.116 L86.8947 723.996 L82.0105 723.996 L82.0105 718.116 Z\" fill=\"#000000\" fill-rule=\"nonzero\" fill-opacity=\"1\" /><path clip-path=\"url(#clip440)\" d=\"M107.08 692.514 Q103.469 692.514 101.64 696.079 Q99.8345 699.621 99.8345 706.75 Q99.8345 713.857 101.64 717.422 Q103.469 720.963 107.08 720.963 Q110.714 720.963 112.52 717.422 Q114.348 713.857 114.348 706.75 Q114.348 699.621 112.52 696.079 Q110.714 692.514 107.08 692.514 M107.08 688.811 Q112.89 688.811 115.945 693.417 Q119.024 698.001 119.024 706.75 Q119.024 715.477 115.945 720.084 Q112.89 724.667 107.08 724.667 Q101.27 724.667 98.1909 720.084 Q95.1354 715.477 95.1354 706.75 Q95.1354 698.001 98.1909 693.417 Q101.27 688.811 107.08 688.811 Z\" fill=\"#000000\" fill-rule=\"nonzero\" fill-opacity=\"1\" /><path clip-path=\"url(#clip440)\" d=\"M126.061 689.436 L148.283 689.436 L148.283 691.427 L135.737 723.996 L130.853 723.996 L142.658 693.371 L126.061 693.371 L126.061 689.436 Z\" fill=\"#000000\" fill-rule=\"nonzero\" fill-opacity=\"1\" /><path clip-path=\"url(#clip440)\" d=\"M157.45 689.436 L175.806 689.436 L175.806 693.371 L161.732 693.371 L161.732 701.843 Q162.751 701.496 163.769 701.334 Q164.788 701.149 165.806 701.149 Q171.593 701.149 174.973 704.32 Q178.353 707.491 178.353 712.908 Q178.353 718.487 174.88 721.588 Q171.408 724.667 165.089 724.667 Q162.913 724.667 160.644 724.297 Q158.399 723.926 155.992 723.186 L155.992 718.487 Q158.075 719.621 160.297 720.176 Q162.519 720.732 164.996 720.732 Q169.001 720.732 171.339 718.625 Q173.677 716.519 173.677 712.908 Q173.677 709.297 171.339 707.19 Q169.001 705.084 164.996 705.084 Q163.121 705.084 161.246 705.501 Q159.394 705.917 157.45 706.797 L157.45 689.436 Z\" fill=\"#000000\" fill-rule=\"nonzero\" fill-opacity=\"1\" /><path clip-path=\"url(#clip440)\" d=\"M51.6634 473.727 L59.3023 473.727 L59.3023 447.362 L50.9921 449.028 L50.9921 444.769 L59.256 443.102 L63.9319 443.102 L63.9319 473.727 L71.5707 473.727 L71.5707 477.662 L51.6634 477.662 L51.6634 473.727 Z\" fill=\"#000000\" fill-rule=\"nonzero\" fill-opacity=\"1\" /><path clip-path=\"url(#clip440)\" d=\"M81.0151 471.783 L85.8993 471.783 L85.8993 477.662 L81.0151 477.662 L81.0151 471.783 Z\" fill=\"#000000\" fill-rule=\"nonzero\" fill-opacity=\"1\" /><path clip-path=\"url(#clip440)\" d=\"M96.8947 473.727 L104.534 473.727 L104.534 447.362 L96.2234 449.028 L96.2234 444.769 L104.487 443.102 L109.163 443.102 L109.163 473.727 L116.802 473.727 L116.802 477.662 L96.8947 477.662 L96.8947 473.727 Z\" fill=\"#000000\" fill-rule=\"nonzero\" fill-opacity=\"1\" /><path clip-path=\"url(#clip440)\" d=\"M136.246 446.181 Q132.635 446.181 130.807 449.746 Q129.001 453.288 129.001 460.417 Q129.001 467.524 130.807 471.088 Q132.635 474.63 136.246 474.63 Q139.881 474.63 141.686 471.088 Q143.515 467.524 143.515 460.417 Q143.515 453.288 141.686 449.746 Q139.881 446.181 136.246 446.181 M136.246 442.477 Q142.056 442.477 145.112 447.084 Q148.191 451.667 148.191 460.417 Q148.191 469.144 145.112 473.75 Q142.056 478.334 136.246 478.334 Q130.436 478.334 127.357 473.75 Q124.302 469.144 124.302 460.417 Q124.302 451.667 127.357 447.084 Q130.436 442.477 136.246 442.477 Z\" fill=\"#000000\" fill-rule=\"nonzero\" fill-opacity=\"1\" /><path clip-path=\"url(#clip440)\" d=\"M166.408 446.181 Q162.797 446.181 160.968 449.746 Q159.163 453.288 159.163 460.417 Q159.163 467.524 160.968 471.088 Q162.797 474.63 166.408 474.63 Q170.042 474.63 171.848 471.088 Q173.677 467.524 173.677 460.417 Q173.677 453.288 171.848 449.746 Q170.042 446.181 166.408 446.181 M166.408 442.477 Q172.218 442.477 175.274 447.084 Q178.353 451.667 178.353 460.417 Q178.353 469.144 175.274 473.75 Q172.218 478.334 166.408 478.334 Q160.598 478.334 157.519 473.75 Q154.464 469.144 154.464 460.417 Q154.464 451.667 157.519 447.084 Q160.598 442.477 166.408 442.477 Z\" fill=\"#000000\" fill-rule=\"nonzero\" fill-opacity=\"1\" /><path clip-path=\"url(#clip440)\" d=\"M52.6588 227.394 L60.2976 227.394 L60.2976 201.028 L51.9875 202.695 L51.9875 198.436 L60.2513 196.769 L64.9272 196.769 L64.9272 227.394 L72.5661 227.394 L72.5661 231.329 L52.6588 231.329 L52.6588 227.394 Z\" fill=\"#000000\" fill-rule=\"nonzero\" fill-opacity=\"1\" /><path clip-path=\"url(#clip440)\" d=\"M82.0105 225.45 L86.8947 225.45 L86.8947 231.329 L82.0105 231.329 L82.0105 225.45 Z\" fill=\"#000000\" fill-rule=\"nonzero\" fill-opacity=\"1\" /><path clip-path=\"url(#clip440)\" d=\"M97.89 227.394 L105.529 227.394 L105.529 201.028 L97.2187 202.695 L97.2187 198.436 L105.483 196.769 L110.158 196.769 L110.158 227.394 L117.797 227.394 L117.797 231.329 L97.89 231.329 L97.89 227.394 Z\" fill=\"#000000\" fill-rule=\"nonzero\" fill-opacity=\"1\" /><path clip-path=\"url(#clip440)\" d=\"M131.269 227.394 L147.589 227.394 L147.589 231.329 L125.645 231.329 L125.645 227.394 Q128.307 224.639 132.89 220.01 Q137.496 215.357 138.677 214.014 Q140.922 211.491 141.802 209.755 Q142.705 207.996 142.705 206.306 Q142.705 203.552 140.76 201.815 Q138.839 200.079 135.737 200.079 Q133.538 200.079 131.084 200.843 Q128.654 201.607 125.876 203.158 L125.876 198.436 Q128.7 197.302 131.154 196.723 Q133.607 196.144 135.644 196.144 Q141.015 196.144 144.209 198.829 Q147.404 201.515 147.404 206.005 Q147.404 208.135 146.593 210.056 Q145.806 211.954 143.7 214.547 Q143.121 215.218 140.019 218.436 Q136.918 221.63 131.269 227.394 Z\" fill=\"#000000\" fill-rule=\"nonzero\" fill-opacity=\"1\" /><path clip-path=\"url(#clip440)\" d=\"M157.45 196.769 L175.806 196.769 L175.806 200.704 L161.732 200.704 L161.732 209.177 Q162.751 208.829 163.769 208.667 Q164.788 208.482 165.806 208.482 Q171.593 208.482 174.973 211.653 Q178.353 214.825 178.353 220.241 Q178.353 225.82 174.88 228.922 Q171.408 232 165.089 232 Q162.913 232 160.644 231.63 Q158.399 231.26 155.992 230.519 L155.992 225.82 Q158.075 226.954 160.297 227.51 Q162.519 228.065 164.996 228.065 Q169.001 228.065 171.339 225.959 Q173.677 223.852 173.677 220.241 Q173.677 216.63 171.339 214.524 Q169.001 212.417 164.996 212.417 Q163.121 212.417 161.246 212.834 Q159.394 213.251 157.45 214.13 L157.45 196.769 Z\" fill=\"#000000\" fill-rule=\"nonzero\" fill-opacity=\"1\" /><polyline clip-path=\"url(#clip442)\" style=\"stroke:#009af9; stroke-linecap:round; stroke-linejoin:round; stroke-width:4; stroke-opacity:1; fill:none\" points=\"274.873,1445.72 476.61,148.242 678.346,99.6053 880.082,90.0625 1081.82,87.9763 1283.55,88.9789 1485.29,91.5044 1687.03,94.8286 1888.76,98.7414 2090.5,103.394 2292.24,109.166 \"/>\n",
       "<path clip-path=\"url(#clip440)\" d=\"M2015.21 1438.47 L2281.48 1438.47 L2281.48 1334.79 L2015.21 1334.79  Z\" fill=\"#ffffff\" fill-rule=\"evenodd\" fill-opacity=\"1\"/>\n",
       "<polyline clip-path=\"url(#clip440)\" style=\"stroke:#000000; stroke-linecap:round; stroke-linejoin:round; stroke-width:4; stroke-opacity:1; fill:none\" points=\"2015.21,1438.47 2281.48,1438.47 2281.48,1334.79 2015.21,1334.79 2015.21,1438.47 \"/>\n",
       "<polyline clip-path=\"url(#clip440)\" style=\"stroke:#009af9; stroke-linecap:round; stroke-linejoin:round; stroke-width:4; stroke-opacity:1; fill:none\" points=\"2038.97,1386.63 2181.53,1386.63 \"/>\n",
       "<path clip-path=\"url(#clip440)\" d=\"M2219.13 1406.32 Q2217.32 1410.95 2215.61 1412.36 Q2213.9 1413.78 2211.03 1413.78 L2207.62 1413.78 L2207.62 1410.21 L2210.12 1410.21 Q2211.88 1410.21 2212.85 1409.38 Q2213.83 1408.54 2215.01 1405.44 L2215.77 1403.5 L2205.29 1377.99 L2209.8 1377.99 L2217.9 1398.27 L2226 1377.99 L2230.52 1377.99 L2219.13 1406.32 Z\" fill=\"#000000\" fill-rule=\"nonzero\" fill-opacity=\"1\" /><path clip-path=\"url(#clip440)\" d=\"M2237.81 1399.98 L2245.45 1399.98 L2245.45 1373.61 L2237.14 1375.28 L2237.14 1371.02 L2245.4 1369.35 L2250.08 1369.35 L2250.08 1399.98 L2257.72 1399.98 L2257.72 1403.91 L2237.81 1403.91 L2237.81 1399.98 Z\" fill=\"#000000\" fill-rule=\"nonzero\" fill-opacity=\"1\" /></svg>\n"
      ]
     },
     "execution_count": 21,
     "metadata": {},
     "output_type": "execute_result"
    }
   ],
   "source": [
    "plot([sum(s) for s in sols]*ds)"
   ]
  },
  {
   "cell_type": "code",
   "execution_count": null,
   "id": "9b6b1213-0dee-4b39-9ed2-a1d4cb0927e0",
   "metadata": {
    "slideshow": {
     "slide_type": "skip"
    },
    "tags": []
   },
   "outputs": [],
   "source": []
  },
  {
   "cell_type": "code",
   "execution_count": 22,
   "id": "f073268b-f643-476d-9ab7-af55f8546303",
   "metadata": {
    "slideshow": {
     "slide_type": "skip"
    },
    "tags": []
   },
   "outputs": [
    {
     "data": {
      "text/plain": [
       "2"
      ]
     },
     "execution_count": 22,
     "metadata": {},
     "output_type": "execute_result"
    }
   ],
   "source": [
    "1+1"
   ]
  }
 ],
 "metadata": {
  "kernelspec": {
   "display_name": "Julia 1.9.4",
   "language": "julia",
   "name": "julia-1.9.4"
  },
  "language_info": {
   "file_extension": ".jl",
   "mimetype": "application/julia",
   "name": "julia",
   "version": "1.9.4"
  }
 },
 "nbformat": 4,
 "nbformat_minor": 5
}

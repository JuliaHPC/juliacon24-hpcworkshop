{
 "cells": [
  {
   "cell_type": "code",
   "execution_count": 3,
   "id": "2c352005-c33b-49be-bcb8-06d6aa9efd3e",
   "metadata": {
    "tags": []
   },
   "outputs": [
    {
     "name": "stderr",
     "output_type": "stream",
     "text": [
      "\u001b[32m\u001b[1m  Activating\u001b[22m\u001b[39m project at `/global/u1/b/blaschke/juliacon24-hpcworkshop/parts/distributed/explanation`\n"
     ]
    },
    {
     "name": "stdout",
     "output_type": "stream",
     "text": [
      "\u001b[32m\u001b[1mStatus\u001b[22m\u001b[39m `/global/u1/b/blaschke/juliacon24-hpcworkshop/parts/distributed/explanation/Project.toml`\n",
      "  \u001b[90m[d58978e5] \u001b[39mDagger v0.18.12\n",
      "  \u001b[90m[aaf54ef3] \u001b[39mDistributedArrays v0.6.7\n",
      "  \u001b[90m[91a5bcdd] \u001b[39mPlots v1.40.5\n"
     ]
    }
   ],
   "source": [
    "import Pkg;\n",
    "Pkg.activate(@__DIR__)\n",
    "Pkg.status()"
   ]
  },
  {
   "cell_type": "code",
   "execution_count": 4,
   "id": "9341a3c6-244c-4cdf-85a7-bbfce5de5678",
   "metadata": {
    "tags": []
   },
   "outputs": [],
   "source": [
    "using Plots"
   ]
  },
  {
   "cell_type": "code",
   "execution_count": 5,
   "id": "e30f8641-767b-4e2f-898b-28891b33bac4",
   "metadata": {
    "tags": []
   },
   "outputs": [
    {
     "data": {
      "text/plain": [
       "4-element Vector{Int64}:\n",
       " 2\n",
       " 3\n",
       " 4\n",
       " 5"
      ]
     },
     "execution_count": 5,
     "metadata": {},
     "output_type": "execute_result"
    }
   ],
   "source": [
    "using Distributed\n",
    "\n",
    "addprocs(4)"
   ]
  },
  {
   "cell_type": "code",
   "execution_count": 6,
   "id": "7f7c3233-35ac-485c-b018-2512abc05214",
   "metadata": {
    "tags": []
   },
   "outputs": [],
   "source": [
    "@everywhere begin\n",
    "    D  = 1e-4\n",
    "    ds = 1e-4\n",
    "    dt = ds^2 / D / 8.2\n",
    "    qx(ix, D, C, ds) = -D * (C[ix+1, 1] - C[ix, 1]) / ds\n",
    "end"
   ]
  },
  {
   "cell_type": "code",
   "execution_count": 7,
   "id": "4a89a1df-831c-4be9-a3f3-cecc4c6244aa",
   "metadata": {
    "tags": []
   },
   "outputs": [
    {
     "name": "stderr",
     "output_type": "stream",
     "text": [
      "WARNING: using Dagger.In in module Main conflicts with an existing identifier.\n",
      "WARNING: using Dagger.Out in module Main conflicts with an existing identifier.\n"
     ]
    }
   ],
   "source": [
    "@everywhere using Dagger"
   ]
  },
  {
   "cell_type": "code",
   "execution_count": 8,
   "id": "e2fb2446-56bf-45ec-8aa3-9bb40576ead3",
   "metadata": {
    "tags": []
   },
   "outputs": [
    {
     "data": {
      "text/plain": [
       "40x1 DMatrix{Float64} with 4x1 partitions of size 10x1:\n",
       "\u001b[33m~0% completed\u001b[39m\n",
       " \u001b[90m...\u001b[39m\n",
       " \u001b[90m...\u001b[39m\n",
       " \u001b[90m...\u001b[39m\n",
       " \u001b[90m...\u001b[39m\n",
       " \u001b[90m...\u001b[39m\n",
       " \u001b[90m...\u001b[39m\n",
       " \u001b[90m...\u001b[39m\n",
       " \u001b[90m...\u001b[39m\n",
       " \u001b[90m...\u001b[39m\n",
       " \u001b[90m...\u001b[39m\n",
       " \u001b[90m...\u001b[39m\n",
       " \u001b[90m...\u001b[39m\n",
       " \u001b[90m...\u001b[39m\n",
       " ⋮\n",
       " \u001b[90m...\u001b[39m\n",
       " \u001b[90m...\u001b[39m\n",
       " \u001b[90m...\u001b[39m\n",
       " \u001b[90m...\u001b[39m\n",
       " \u001b[90m...\u001b[39m\n",
       " \u001b[90m...\u001b[39m\n",
       " \u001b[90m...\u001b[39m\n",
       " \u001b[90m...\u001b[39m\n",
       " \u001b[90m...\u001b[39m\n",
       " \u001b[90m...\u001b[39m\n",
       " \u001b[90m...\u001b[39m\n",
       " \u001b[90m...\u001b[39m"
      ]
     },
     "execution_count": 8,
     "metadata": {},
     "output_type": "execute_result"
    }
   ],
   "source": [
    "# Also: try AutoBlocks()\n",
    "C = zeros(Blocks(10, 1), 40, 1)"
   ]
  },
  {
   "cell_type": "code",
   "execution_count": 11,
   "id": "28245817-b668-44aa-93d5-f5b4b0b6d11e",
   "metadata": {
    "tags": []
   },
   "outputs": [
    {
     "data": {
      "text/plain": [
       "40x1 DMatrix{Float64} with 4x1 partitions of size 10x1:\n",
       " \u001b[31m0.0\u001b[39m\n",
       " \u001b[31m0.0\u001b[39m\n",
       " \u001b[31m0.0\u001b[39m\n",
       " \u001b[31m0.0\u001b[39m\n",
       " \u001b[31m0.0\u001b[39m\n",
       " \u001b[31m0.0\u001b[39m\n",
       " \u001b[31m0.0\u001b[39m\n",
       " \u001b[31m0.0\u001b[39m\n",
       " \u001b[31m0.0\u001b[39m\n",
       " \u001b[31m0.0\u001b[39m\n",
       " \u001b[32m0.0\u001b[39m\n",
       " \u001b[32m0.0\u001b[39m\n",
       " \u001b[32m0.0\u001b[39m\n",
       " ⋮\n",
       " \u001b[33m0.0\u001b[39m\n",
       " \u001b[33m0.0\u001b[39m\n",
       " \u001b[34m0.0\u001b[39m\n",
       " \u001b[34m0.0\u001b[39m\n",
       " \u001b[34m0.0\u001b[39m\n",
       " \u001b[34m0.0\u001b[39m\n",
       " \u001b[34m0.0\u001b[39m\n",
       " \u001b[34m0.0\u001b[39m\n",
       " \u001b[34m0.0\u001b[39m\n",
       " \u001b[34m0.0\u001b[39m\n",
       " \u001b[34m0.0\u001b[39m\n",
       " \u001b[34m0.0\u001b[39m"
      ]
     },
     "execution_count": 11,
     "metadata": {},
     "output_type": "execute_result"
    }
   ],
   "source": [
    "C"
   ]
  },
  {
   "cell_type": "code",
   "execution_count": 12,
   "id": "e9b871fe-5437-41da-8634-53b660ba70c9",
   "metadata": {},
   "outputs": [
    {
     "data": {
      "text/plain": [
       "10000.0"
      ]
     },
     "execution_count": 12,
     "metadata": {},
     "output_type": "execute_result"
    }
   ],
   "source": [
    "C[20, 1] = 1/ds"
   ]
  },
  {
   "cell_type": "code",
   "execution_count": 14,
   "id": "6c04364c-2e88-4ca6-aea3-7961f503264c",
   "metadata": {
    "tags": []
   },
   "outputs": [
    {
     "data": {
      "text/plain": [
       "40x1 DMatrix{Float64} with 4x1 partitions of size 10x1:\n",
       "\u001b[33m~0% completed\u001b[39m\n",
       " \u001b[90m...\u001b[39m\n",
       " \u001b[90m...\u001b[39m\n",
       " \u001b[90m...\u001b[39m\n",
       " \u001b[90m...\u001b[39m\n",
       " \u001b[90m...\u001b[39m\n",
       " \u001b[90m...\u001b[39m\n",
       " \u001b[90m...\u001b[39m\n",
       " \u001b[90m...\u001b[39m\n",
       " \u001b[90m...\u001b[39m\n",
       " \u001b[90m...\u001b[39m\n",
       " \u001b[90m...\u001b[39m\n",
       " \u001b[90m...\u001b[39m\n",
       " \u001b[90m...\u001b[39m\n",
       " ⋮\n",
       " \u001b[90m...\u001b[39m\n",
       " \u001b[90m...\u001b[39m\n",
       " \u001b[90m...\u001b[39m\n",
       " \u001b[90m...\u001b[39m\n",
       " \u001b[90m...\u001b[39m\n",
       " \u001b[90m...\u001b[39m\n",
       " \u001b[90m...\u001b[39m\n",
       " \u001b[90m...\u001b[39m\n",
       " \u001b[90m...\u001b[39m\n",
       " \u001b[90m...\u001b[39m\n",
       " \u001b[90m...\u001b[39m\n",
       " \u001b[90m...\u001b[39m"
      ]
     },
     "execution_count": 14,
     "metadata": {},
     "output_type": "execute_result"
    }
   ],
   "source": [
    "C2 = similar(C)"
   ]
  },
  {
   "cell_type": "code",
   "execution_count": 15,
   "id": "966122c7-873a-4dd3-a595-b443a95860e3",
   "metadata": {
    "tags": []
   },
   "outputs": [
    {
     "data": {
      "text/plain": [
       "40x1 DMatrix{Float64} with 4x1 partitions of size 10x1:\n",
       " \u001b[31m6.93402e-310\u001b[39m\n",
       " \u001b[31m6.93402e-310\u001b[39m\n",
       " \u001b[31m6.93402e-310\u001b[39m\n",
       " \u001b[31m6.93402e-310\u001b[39m\n",
       " \u001b[31m6.93402e-310\u001b[39m\n",
       " \u001b[31m6.93402e-310\u001b[39m\n",
       " \u001b[31m6.93402e-310\u001b[39m\n",
       " \u001b[31m6.93402e-310\u001b[39m\n",
       " \u001b[31m6.93402e-310\u001b[39m\n",
       " \u001b[31m6.93402e-310\u001b[39m\n",
       " \u001b[32m2.0e-323\u001b[39m\n",
       " \u001b[32m4.0e-323\u001b[39m\n",
       " \u001b[32m1.5e-323\u001b[39m\n",
       " ⋮\n",
       " \u001b[33m1.0e-322\u001b[39m\n",
       " \u001b[33m5.0e-324\u001b[39m\n",
       " \u001b[34m2.0e-323\u001b[39m\n",
       " \u001b[34m4.0e-323\u001b[39m\n",
       " \u001b[34m1.5e-323\u001b[39m\n",
       " \u001b[34m1.6e-322\u001b[39m\n",
       " \u001b[34m2.61194e-314\u001b[39m\n",
       " \u001b[34m4.94e-322\u001b[39m\n",
       " \u001b[34m4.94e-321\u001b[39m\n",
       " \u001b[34m1.235e-321\u001b[39m\n",
       " \u001b[34m1.0e-322\u001b[39m\n",
       " \u001b[34m5.0e-324\u001b[39m"
      ]
     },
     "execution_count": 15,
     "metadata": {},
     "output_type": "execute_result"
    }
   ],
   "source": [
    "C2"
   ]
  },
  {
   "cell_type": "code",
   "execution_count": 20,
   "id": "446100c0-5e47-4470-8be0-448e34ec053b",
   "metadata": {
    "tags": []
   },
   "outputs": [
    {
     "data": {
      "text/plain": [
       "1"
      ]
     },
     "execution_count": 20,
     "metadata": {},
     "output_type": "execute_result"
    }
   ],
   "source": [
    "myid()"
   ]
  },
  {
   "cell_type": "code",
   "execution_count": 21,
   "id": "181d41c3-08b0-4eb4-b1f0-47d7fb798eb2",
   "metadata": {
    "tags": []
   },
   "outputs": [
    {
     "data": {
      "text/plain": [
       "DTask (running)"
      ]
     },
     "execution_count": 21,
     "metadata": {},
     "output_type": "execute_result"
    }
   ],
   "source": [
    "d1 = Dagger.@spawn myid()\n",
    "d2 = Dagger.@spawn myid()"
   ]
  },
  {
   "cell_type": "code",
   "execution_count": 22,
   "id": "b996adf3-5b66-4bf1-916f-f67d693c0cc1",
   "metadata": {
    "tags": []
   },
   "outputs": [
    {
     "data": {
      "text/plain": [
       "2"
      ]
     },
     "execution_count": 22,
     "metadata": {},
     "output_type": "execute_result"
    }
   ],
   "source": [
    "fetch(d1)"
   ]
  },
  {
   "cell_type": "code",
   "execution_count": 23,
   "id": "9be58c29-2ddc-457f-a295-3aafc7c479c3",
   "metadata": {
    "tags": []
   },
   "outputs": [
    {
     "data": {
      "text/plain": [
       "3"
      ]
     },
     "execution_count": 23,
     "metadata": {},
     "output_type": "execute_result"
    }
   ],
   "source": [
    "fetch(d2)"
   ]
  },
  {
   "cell_type": "code",
   "execution_count": 24,
   "id": "19641792-05cd-4bc9-af30-86fbab594b42",
   "metadata": {
    "tags": []
   },
   "outputs": [],
   "source": [
    "@everywhere function step_diffusion_local!(C2, C)\n",
    "    proc = myid() - 1\n",
    "    idx = C.subdomains[proc].indexes[1] # working in 1D\n",
    "    \n",
    "    for i in idx\n",
    "        # absorbing boundary conditions (lo, hi are always set to zero)\n",
    "        if i==1 || i==size(C, 1)\n",
    "            continue\n",
    "        end\n",
    "        C2[i] = C[i] - dt * (qx(i, D, C, ds) - qx(i-1, D, C, ds)) / ds\n",
    "    end\n",
    "end"
   ]
  },
  {
   "cell_type": "code",
   "execution_count": 25,
   "id": "5b39f1be-24a8-4957-af77-6093c202c7c5",
   "metadata": {
    "tags": []
   },
   "outputs": [
    {
     "data": {
      "text/plain": [
       "DTask (running)"
      ]
     },
     "execution_count": 25,
     "metadata": {},
     "output_type": "execute_result"
    }
   ],
   "source": [
    "d = Dagger.@spawn scope=Dagger.scope(worker=2) myid()"
   ]
  },
  {
   "cell_type": "code",
   "execution_count": 26,
   "id": "d8344f4a-826e-4ce6-89f4-d21a2a9fb4fe",
   "metadata": {
    "tags": []
   },
   "outputs": [
    {
     "data": {
      "text/plain": [
       "2"
      ]
     },
     "execution_count": 26,
     "metadata": {},
     "output_type": "execute_result"
    }
   ],
   "source": [
    "fetch(d)"
   ]
  },
  {
   "cell_type": "code",
   "execution_count": 30,
   "id": "0d389831-a061-4687-bfd6-cd8416e1a212",
   "metadata": {
    "tags": []
   },
   "outputs": [
    {
     "data": {
      "text/plain": [
       "DTask (running)"
      ]
     },
     "execution_count": 30,
     "metadata": {},
     "output_type": "execute_result"
    }
   ],
   "source": [
    "C2 = similar(C)\n",
    "d = Dagger.@spawn scope=Dagger.scope(worker=3) step_diffusion_local!(C2, C)"
   ]
  },
  {
   "cell_type": "code",
   "execution_count": 36,
   "id": "0a51e594-ceea-48ed-a220-ba423bf4e1aa",
   "metadata": {
    "tags": []
   },
   "outputs": [
    {
     "data": {
      "text/plain": [
       "21x1 DMatrix{Float64} with 3x1 partitions of size 10x1:\n",
       "    \u001b[31m6.93403e-310\u001b[39m\n",
       "    \u001b[32m0.0\u001b[39m\n",
       "    \u001b[32m0.0\u001b[39m\n",
       "    \u001b[32m0.0\u001b[39m\n",
       "    \u001b[32m0.0\u001b[39m\n",
       "    \u001b[32m0.0\u001b[39m\n",
       "    \u001b[32m0.0\u001b[39m\n",
       "    \u001b[32m0.0\u001b[39m\n",
       "    \u001b[32m0.0\u001b[39m\n",
       " \u001b[32m1219.51\u001b[39m\n",
       " \u001b[32m7560.98\u001b[39m\n",
       "    \u001b[33m2.0e-323\u001b[39m\n",
       "    \u001b[33m4.0e-323\u001b[39m\n",
       "    \u001b[33m1.5e-323\u001b[39m\n",
       "    \u001b[33m1.6e-322\u001b[39m\n",
       "    \u001b[33m6.93402e-310\u001b[39m\n",
       "    \u001b[33m4.94e-322\u001b[39m\n",
       "    \u001b[33m4.94e-321\u001b[39m\n",
       "    \u001b[33m1.235e-321\u001b[39m\n",
       "    \u001b[33m1.0e-322\u001b[39m\n",
       "    \u001b[33m6.93403e-310\u001b[39m"
      ]
     },
     "execution_count": 36,
     "metadata": {},
     "output_type": "execute_result"
    }
   ],
   "source": [
    "fetch(C2[10:30, 1])"
   ]
  },
  {
   "cell_type": "code",
   "execution_count": 37,
   "id": "66e26940-57b9-4937-8ccf-6dfc6b87fa83",
   "metadata": {
    "tags": []
   },
   "outputs": [
    {
     "data": {
      "text/plain": [
       "step_diffusion (generic function with 1 method)"
      ]
     },
     "execution_count": 37,
     "metadata": {},
     "output_type": "execute_result"
    }
   ],
   "source": [
    "function step_diffusion(C)\n",
    "    C2 = similar(C)\n",
    "    fill!(C2, 0)\n",
    "    \n",
    "    dtasks = Dagger.DTask[]\n",
    "    for w in workers()\n",
    "        push!(\n",
    "            dtasks,\n",
    "            Dagger.@spawn scope=Dagger.scope(worker=w) step_diffusion_local!(C2, C)\n",
    "        )\n",
    "    end\n",
    "    \n",
    "    # wait for workers\n",
    "    [fetch(d) for d in dtasks]\n",
    "    C2\n",
    "end"
   ]
  },
  {
   "cell_type": "code",
   "execution_count": 38,
   "id": "a1697ffd-f38a-4d1f-bef2-8117d0807388",
   "metadata": {
    "tags": []
   },
   "outputs": [],
   "source": [
    "sols = [Array(C)]\n",
    "for i in 1:100\n",
    "    C = step_diffusion(C)\n",
    "    # Save timesteps. This is super wasteful, don't do this in production\n",
    "    if i%10 == 0\n",
    "        push!(sols, Array(C))\n",
    "    end\n",
    "end"
   ]
  },
  {
   "cell_type": "code",
   "execution_count": null,
   "id": "7a44c2b7-a79d-4aa2-96dd-b061fa039787",
   "metadata": {
    "tags": []
   },
   "outputs": [],
   "source": [
    "# using Plots"
   ]
  },
  {
   "cell_type": "code",
   "execution_count": 39,
   "id": "f9f25bc5-56d4-4666-aef3-dee02a54ec72",
   "metadata": {
    "tags": []
   },
   "outputs": [
    {
     "data": {
      "image/png": "[encoded data removed]",
      "image/svg+xml": [
       "<?xml version=\"1.0\" encoding=\"utf-8\"?>\n",
       "<svg xmlns=\"http://www.w3.org/2000/svg\" xmlns:xlink=\"http://www.w3.org/1999/xlink\" width=\"600\" height=\"400\" viewBox=\"0 0 2400 1600\">\n",
       "<defs>\n",
       "  <clipPath id=\"clip710\">\n",
       "    <rect x=\"0\" y=\"0\" width=\"2400\" height=\"1600\"/>\n",
       "  </clipPath>\n",
       "</defs>\n",
       "<path clip-path=\"url(#clip710)\" d=\"M0 1600 L2400 1600 L2400 0 L0 0  Z\" fill=\"#ffffff\" fill-rule=\"evenodd\" fill-opacity=\"1\"/>\n",
       "<defs>\n",
       "  <clipPath id=\"clip711\">\n",
       "    <rect x=\"480\" y=\"0\" width=\"1681\" height=\"1600\"/>\n",
       "  </clipPath>\n",
       "</defs>\n",
       "<path clip-path=\"url(#clip710)\" d=\"M229.445 1486.45 L2352.76 1486.45 L2352.76 47.2441 L229.445 47.2441  Z\" fill=\"#ffffff\" fill-rule=\"evenodd\" fill-opacity=\"1\"/>\n",
       "<defs>\n",
       "  <clipPath id=\"clip712\">\n",
       "    <rect x=\"229\" y=\"47\" width=\"2124\" height=\"1440\"/>\n",
       "  </clipPath>\n",
       "</defs>\n",
       "<polyline clip-path=\"url(#clip712)\" style=\"stroke:#000000; stroke-linecap:round; stroke-linejoin:round; stroke-width:2; stroke-opacity:0.1; fill:none\" points=\"238.177,1486.45 238.177,47.2441 \"/>\n",
       "<polyline clip-path=\"url(#clip712)\" style=\"stroke:#000000; stroke-linecap:round; stroke-linejoin:round; stroke-width:2; stroke-opacity:0.1; fill:none\" points=\"751.798,1486.45 751.798,47.2441 \"/>\n",
       "<polyline clip-path=\"url(#clip712)\" style=\"stroke:#000000; stroke-linecap:round; stroke-linejoin:round; stroke-width:2; stroke-opacity:0.1; fill:none\" points=\"1265.42,1486.45 1265.42,47.2441 \"/>\n",
       "<polyline clip-path=\"url(#clip712)\" style=\"stroke:#000000; stroke-linecap:round; stroke-linejoin:round; stroke-width:2; stroke-opacity:0.1; fill:none\" points=\"1779.04,1486.45 1779.04,47.2441 \"/>\n",
       "<polyline clip-path=\"url(#clip712)\" style=\"stroke:#000000; stroke-linecap:round; stroke-linejoin:round; stroke-width:2; stroke-opacity:0.1; fill:none\" points=\"2292.66,1486.45 2292.66,47.2441 \"/>\n",
       "<polyline clip-path=\"url(#clip710)\" style=\"stroke:#000000; stroke-linecap:round; stroke-linejoin:round; stroke-width:4; stroke-opacity:1; fill:none\" points=\"229.445,1486.45 2352.76,1486.45 \"/>\n",
       "<polyline clip-path=\"url(#clip710)\" style=\"stroke:#000000; stroke-linecap:round; stroke-linejoin:round; stroke-width:4; stroke-opacity:1; fill:none\" points=\"238.177,1486.45 238.177,1467.55 \"/>\n",
       "<polyline clip-path=\"url(#clip710)\" style=\"stroke:#000000; stroke-linecap:round; stroke-linejoin:round; stroke-width:4; stroke-opacity:1; fill:none\" points=\"751.798,1486.45 751.798,1467.55 \"/>\n",
       "<polyline clip-path=\"url(#clip710)\" style=\"stroke:#000000; stroke-linecap:round; stroke-linejoin:round; stroke-width:4; stroke-opacity:1; fill:none\" points=\"1265.42,1486.45 1265.42,1467.55 \"/>\n",
       "<polyline clip-path=\"url(#clip710)\" style=\"stroke:#000000; stroke-linecap:round; stroke-linejoin:round; stroke-width:4; stroke-opacity:1; fill:none\" points=\"1779.04,1486.45 1779.04,1467.55 \"/>\n",
       "<polyline clip-path=\"url(#clip710)\" style=\"stroke:#000000; stroke-linecap:round; stroke-linejoin:round; stroke-width:4; stroke-opacity:1; fill:none\" points=\"2292.66,1486.45 2292.66,1467.55 \"/>\n",
       "<path clip-path=\"url(#clip710)\" d=\"M238.177 1517.37 Q234.566 1517.37 232.737 1520.93 Q230.931 1524.47 230.931 1531.6 Q230.931 1538.71 232.737 1542.27 Q234.566 1545.82 238.177 1545.82 Q241.811 1545.82 243.616 1542.27 Q245.445 1538.71 245.445 1531.6 Q245.445 1524.47 243.616 1520.93 Q241.811 1517.37 238.177 1517.37 M238.177 1513.66 Q243.987 1513.66 247.042 1518.27 Q250.121 1522.85 250.121 1531.6 Q250.121 1540.33 247.042 1544.94 Q243.987 1549.52 238.177 1549.52 Q232.366 1549.52 229.288 1544.94 Q226.232 1540.33 226.232 1531.6 Q226.232 1522.85 229.288 1518.27 Q232.366 1513.66 238.177 1513.66 Z\" fill=\"#000000\" fill-rule=\"nonzero\" fill-opacity=\"1\" /><path clip-path=\"url(#clip710)\" d=\"M726.486 1544.91 L734.125 1544.91 L734.125 1518.55 L725.814 1520.21 L725.814 1515.95 L734.078 1514.29 L738.754 1514.29 L738.754 1544.91 L746.393 1544.91 L746.393 1548.85 L726.486 1548.85 L726.486 1544.91 Z\" fill=\"#000000\" fill-rule=\"nonzero\" fill-opacity=\"1\" /><path clip-path=\"url(#clip710)\" d=\"M765.837 1517.37 Q762.226 1517.37 760.398 1520.93 Q758.592 1524.47 758.592 1531.6 Q758.592 1538.71 760.398 1542.27 Q762.226 1545.82 765.837 1545.82 Q769.472 1545.82 771.277 1542.27 Q773.106 1538.71 773.106 1531.6 Q773.106 1524.47 771.277 1520.93 Q769.472 1517.37 765.837 1517.37 M765.837 1513.66 Q771.647 1513.66 774.703 1518.27 Q777.782 1522.85 777.782 1531.6 Q777.782 1540.33 774.703 1544.94 Q771.647 1549.52 765.837 1549.52 Q760.027 1549.52 756.948 1544.94 Q753.893 1540.33 753.893 1531.6 Q753.893 1522.85 756.948 1518.27 Q760.027 1513.66 765.837 1513.66 Z\" fill=\"#000000\" fill-rule=\"nonzero\" fill-opacity=\"1\" /><path clip-path=\"url(#clip710)\" d=\"M1244.19 1544.91 L1260.51 1544.91 L1260.51 1548.85 L1238.57 1548.85 L1238.57 1544.91 Q1241.23 1542.16 1245.81 1537.53 Q1250.42 1532.88 1251.6 1531.53 Q1253.85 1529.01 1254.73 1527.27 Q1255.63 1525.51 1255.63 1523.82 Q1255.63 1521.07 1253.68 1519.33 Q1251.76 1517.6 1248.66 1517.6 Q1246.46 1517.6 1244.01 1518.36 Q1241.58 1519.13 1238.8 1520.68 L1238.8 1515.95 Q1241.62 1514.82 1244.08 1514.24 Q1246.53 1513.66 1248.57 1513.66 Q1253.94 1513.66 1257.13 1516.35 Q1260.33 1519.03 1260.33 1523.52 Q1260.33 1525.65 1259.52 1527.57 Q1258.73 1529.47 1256.62 1532.07 Q1256.04 1532.74 1252.94 1535.95 Q1249.84 1539.15 1244.19 1544.91 Z\" fill=\"#000000\" fill-rule=\"nonzero\" fill-opacity=\"1\" /><path clip-path=\"url(#clip710)\" d=\"M1280.33 1517.37 Q1276.72 1517.37 1274.89 1520.93 Q1273.08 1524.47 1273.08 1531.6 Q1273.08 1538.71 1274.89 1542.27 Q1276.72 1545.82 1280.33 1545.82 Q1283.96 1545.82 1285.77 1542.27 Q1287.6 1538.71 1287.6 1531.6 Q1287.6 1524.47 1285.77 1520.93 Q1283.96 1517.37 1280.33 1517.37 M1280.33 1513.66 Q1286.14 1513.66 1289.19 1518.27 Q1292.27 1522.85 1292.27 1531.6 Q1292.27 1540.33 1289.19 1544.94 Q1286.14 1549.52 1280.33 1549.52 Q1274.52 1549.52 1271.44 1544.94 Q1268.38 1540.33 1268.38 1531.6 Q1268.38 1522.85 1271.44 1518.27 Q1274.52 1513.66 1280.33 1513.66 Z\" fill=\"#000000\" fill-rule=\"nonzero\" fill-opacity=\"1\" /><path clip-path=\"url(#clip710)\" d=\"M1767.88 1530.21 Q1771.24 1530.93 1773.11 1533.2 Q1775.01 1535.47 1775.01 1538.8 Q1775.01 1543.92 1771.49 1546.72 Q1767.98 1549.52 1761.49 1549.52 Q1759.32 1549.52 1757 1549.08 Q1754.71 1548.66 1752.26 1547.81 L1752.26 1543.29 Q1754.2 1544.43 1756.52 1545.01 Q1758.83 1545.58 1761.36 1545.58 Q1765.75 1545.58 1768.05 1543.85 Q1770.36 1542.11 1770.36 1538.8 Q1770.36 1535.75 1768.21 1534.03 Q1766.08 1532.3 1762.26 1532.3 L1758.23 1532.3 L1758.23 1528.45 L1762.44 1528.45 Q1765.89 1528.45 1767.72 1527.09 Q1769.55 1525.7 1769.55 1523.11 Q1769.55 1520.45 1767.65 1519.03 Q1765.78 1517.6 1762.26 1517.6 Q1760.34 1517.6 1758.14 1518.01 Q1755.94 1518.43 1753.3 1519.31 L1753.3 1515.14 Q1755.96 1514.4 1758.28 1514.03 Q1760.61 1513.66 1762.68 1513.66 Q1768 1513.66 1771.1 1516.09 Q1774.2 1518.5 1774.2 1522.62 Q1774.2 1525.49 1772.56 1527.48 Q1770.92 1529.45 1767.88 1530.21 Z\" fill=\"#000000\" fill-rule=\"nonzero\" fill-opacity=\"1\" /><path clip-path=\"url(#clip710)\" d=\"M1793.88 1517.37 Q1790.27 1517.37 1788.44 1520.93 Q1786.63 1524.47 1786.63 1531.6 Q1786.63 1538.71 1788.44 1542.27 Q1790.27 1545.82 1793.88 1545.82 Q1797.51 1545.82 1799.32 1542.27 Q1801.15 1538.71 1801.15 1531.6 Q1801.15 1524.47 1799.32 1520.93 Q1797.51 1517.37 1793.88 1517.37 M1793.88 1513.66 Q1799.69 1513.66 1802.74 1518.27 Q1805.82 1522.85 1805.82 1531.6 Q1805.82 1540.33 1802.74 1544.94 Q1799.69 1549.52 1793.88 1549.52 Q1788.07 1549.52 1784.99 1544.94 Q1781.93 1540.33 1781.93 1531.6 Q1781.93 1522.85 1784.99 1518.27 Q1788.07 1513.66 1793.88 1513.66 Z\" fill=\"#000000\" fill-rule=\"nonzero\" fill-opacity=\"1\" /><path clip-path=\"url(#clip710)\" d=\"M2280.83 1518.36 L2269.03 1536.81 L2280.83 1536.81 L2280.83 1518.36 M2279.61 1514.29 L2285.49 1514.29 L2285.49 1536.81 L2290.42 1536.81 L2290.42 1540.7 L2285.49 1540.7 L2285.49 1548.85 L2280.83 1548.85 L2280.83 1540.7 L2265.23 1540.7 L2265.23 1536.19 L2279.61 1514.29 Z\" fill=\"#000000\" fill-rule=\"nonzero\" fill-opacity=\"1\" /><path clip-path=\"url(#clip710)\" d=\"M2308.15 1517.37 Q2304.54 1517.37 2302.71 1520.93 Q2300.9 1524.47 2300.9 1531.6 Q2300.9 1538.71 2302.71 1542.27 Q2304.54 1545.82 2308.15 1545.82 Q2311.78 1545.82 2313.59 1542.27 Q2315.42 1538.71 2315.42 1531.6 Q2315.42 1524.47 2313.59 1520.93 Q2311.78 1517.37 2308.15 1517.37 M2308.15 1513.66 Q2313.96 1513.66 2317.01 1518.27 Q2320.09 1522.85 2320.09 1531.6 Q2320.09 1540.33 2317.01 1544.94 Q2313.96 1549.52 2308.15 1549.52 Q2302.34 1549.52 2299.26 1544.94 Q2296.2 1540.33 2296.2 1531.6 Q2296.2 1522.85 2299.26 1518.27 Q2302.34 1513.66 2308.15 1513.66 Z\" fill=\"#000000\" fill-rule=\"nonzero\" fill-opacity=\"1\" /><polyline clip-path=\"url(#clip712)\" style=\"stroke:#000000; stroke-linecap:round; stroke-linejoin:round; stroke-width:2; stroke-opacity:0.1; fill:none\" points=\"229.445,1445.72 2352.76,1445.72 \"/>\n",
       "<polyline clip-path=\"url(#clip712)\" style=\"stroke:#000000; stroke-linecap:round; stroke-linejoin:round; stroke-width:2; stroke-opacity:0.1; fill:none\" points=\"229.445,1106.28 2352.76,1106.28 \"/>\n",
       "<polyline clip-path=\"url(#clip712)\" style=\"stroke:#000000; stroke-linecap:round; stroke-linejoin:round; stroke-width:2; stroke-opacity:0.1; fill:none\" points=\"229.445,766.846 2352.76,766.846 \"/>\n",
       "<polyline clip-path=\"url(#clip712)\" style=\"stroke:#000000; stroke-linecap:round; stroke-linejoin:round; stroke-width:2; stroke-opacity:0.1; fill:none\" points=\"229.445,427.411 2352.76,427.411 \"/>\n",
       "<polyline clip-path=\"url(#clip712)\" style=\"stroke:#000000; stroke-linecap:round; stroke-linejoin:round; stroke-width:2; stroke-opacity:0.1; fill:none\" points=\"229.445,87.9763 2352.76,87.9763 \"/>\n",
       "<polyline clip-path=\"url(#clip710)\" style=\"stroke:#000000; stroke-linecap:round; stroke-linejoin:round; stroke-width:4; stroke-opacity:1; fill:none\" points=\"229.445,1486.45 229.445,47.2441 \"/>\n",
       "<polyline clip-path=\"url(#clip710)\" style=\"stroke:#000000; stroke-linecap:round; stroke-linejoin:round; stroke-width:4; stroke-opacity:1; fill:none\" points=\"229.445,1445.72 248.343,1445.72 \"/>\n",
       "<polyline clip-path=\"url(#clip710)\" style=\"stroke:#000000; stroke-linecap:round; stroke-linejoin:round; stroke-width:4; stroke-opacity:1; fill:none\" points=\"229.445,1106.28 248.343,1106.28 \"/>\n",
       "<polyline clip-path=\"url(#clip710)\" style=\"stroke:#000000; stroke-linecap:round; stroke-linejoin:round; stroke-width:4; stroke-opacity:1; fill:none\" points=\"229.445,766.846 248.343,766.846 \"/>\n",
       "<polyline clip-path=\"url(#clip710)\" style=\"stroke:#000000; stroke-linecap:round; stroke-linejoin:round; stroke-width:4; stroke-opacity:1; fill:none\" points=\"229.445,427.411 248.343,427.411 \"/>\n",
       "<polyline clip-path=\"url(#clip710)\" style=\"stroke:#000000; stroke-linecap:round; stroke-linejoin:round; stroke-width:4; stroke-opacity:1; fill:none\" points=\"229.445,87.9763 248.343,87.9763 \"/>\n",
       "<path clip-path=\"url(#clip710)\" d=\"M181.501 1431.51 Q177.89 1431.51 176.061 1435.08 Q174.255 1438.62 174.255 1445.75 Q174.255 1452.86 176.061 1456.42 Q177.89 1459.96 181.501 1459.96 Q185.135 1459.96 186.94 1456.42 Q188.769 1452.86 188.769 1445.75 Q188.769 1438.62 186.94 1435.08 Q185.135 1431.51 181.501 1431.51 M181.501 1427.81 Q187.311 1427.81 190.366 1432.42 Q193.445 1437 193.445 1445.75 Q193.445 1454.48 190.366 1459.08 Q187.311 1463.67 181.501 1463.67 Q175.691 1463.67 172.612 1459.08 Q169.556 1454.48 169.556 1445.75 Q169.556 1437 172.612 1432.42 Q175.691 1427.81 181.501 1427.81 Z\" fill=\"#000000\" fill-rule=\"nonzero\" fill-opacity=\"1\" /><path clip-path=\"url(#clip710)\" d=\"M85.0429 1119.63 L101.362 1119.63 L101.362 1123.56 L79.4179 1123.56 L79.4179 1119.63 Q82.0799 1116.87 86.6632 1112.24 Q91.2697 1107.59 92.4502 1106.25 Q94.6956 1103.72 95.5752 1101.99 Q96.478 1100.23 96.478 1098.54 Q96.478 1095.78 94.5336 1094.05 Q92.6123 1092.31 89.5104 1092.31 Q87.3114 1092.31 84.8577 1093.07 Q82.4271 1093.84 79.6494 1095.39 L79.6494 1090.67 Q82.4734 1089.53 84.9271 1088.95 Q87.3808 1088.38 89.4178 1088.38 Q94.7882 1088.38 97.9826 1091.06 Q101.177 1093.75 101.177 1098.24 Q101.177 1100.37 100.367 1102.29 Q99.5798 1104.19 97.4734 1106.78 Q96.8947 1107.45 93.7928 1110.67 Q90.691 1113.86 85.0429 1119.63 Z\" fill=\"#000000\" fill-rule=\"nonzero\" fill-opacity=\"1\" /><path clip-path=\"url(#clip710)\" d=\"M111.223 1089 L129.58 1089 L129.58 1092.94 L115.506 1092.94 L115.506 1101.41 Q116.524 1101.06 117.543 1100.9 Q118.561 1100.71 119.58 1100.71 Q125.367 1100.71 128.746 1103.89 Q132.126 1107.06 132.126 1112.47 Q132.126 1118.05 128.654 1121.15 Q125.182 1124.23 118.862 1124.23 Q116.686 1124.23 114.418 1123.86 Q112.172 1123.49 109.765 1122.75 L109.765 1118.05 Q111.848 1119.19 114.07 1119.74 Q116.293 1120.3 118.77 1120.3 Q122.774 1120.3 125.112 1118.19 Q127.45 1116.08 127.45 1112.47 Q127.45 1108.86 125.112 1106.76 Q122.774 1104.65 118.77 1104.65 Q116.895 1104.65 115.02 1105.07 Q113.168 1105.48 111.223 1106.36 L111.223 1089 Z\" fill=\"#000000\" fill-rule=\"nonzero\" fill-opacity=\"1\" /><path clip-path=\"url(#clip710)\" d=\"M151.339 1092.08 Q147.728 1092.08 145.899 1095.64 Q144.093 1099.19 144.093 1106.32 Q144.093 1113.42 145.899 1116.99 Q147.728 1120.53 151.339 1120.53 Q154.973 1120.53 156.779 1116.99 Q158.607 1113.42 158.607 1106.32 Q158.607 1099.19 156.779 1095.64 Q154.973 1092.08 151.339 1092.08 M151.339 1088.38 Q157.149 1088.38 160.205 1092.98 Q163.283 1097.57 163.283 1106.32 Q163.283 1115.04 160.205 1119.65 Q157.149 1124.23 151.339 1124.23 Q145.529 1124.23 142.45 1119.65 Q139.394 1115.04 139.394 1106.32 Q139.394 1097.57 142.45 1092.98 Q145.529 1088.38 151.339 1088.38 Z\" fill=\"#000000\" fill-rule=\"nonzero\" fill-opacity=\"1\" /><path clip-path=\"url(#clip710)\" d=\"M181.501 1092.08 Q177.89 1092.08 176.061 1095.64 Q174.255 1099.19 174.255 1106.32 Q174.255 1113.42 176.061 1116.99 Q177.89 1120.53 181.501 1120.53 Q185.135 1120.53 186.94 1116.99 Q188.769 1113.42 188.769 1106.32 Q188.769 1099.19 186.94 1095.64 Q185.135 1092.08 181.501 1092.08 M181.501 1088.38 Q187.311 1088.38 190.366 1092.98 Q193.445 1097.57 193.445 1106.32 Q193.445 1115.04 190.366 1119.65 Q187.311 1124.23 181.501 1124.23 Q175.691 1124.23 172.612 1119.65 Q169.556 1115.04 169.556 1106.32 Q169.556 1097.57 172.612 1092.98 Q175.691 1088.38 181.501 1088.38 Z\" fill=\"#000000\" fill-rule=\"nonzero\" fill-opacity=\"1\" /><path clip-path=\"url(#clip710)\" d=\"M81.0614 749.566 L99.4178 749.566 L99.4178 753.501 L85.3438 753.501 L85.3438 761.973 Q86.3623 761.626 87.3808 761.464 Q88.3993 761.279 89.4178 761.279 Q95.2049 761.279 98.5845 764.45 Q101.964 767.621 101.964 773.038 Q101.964 778.617 98.4919 781.719 Q95.0197 784.797 88.7003 784.797 Q86.5243 784.797 84.2558 784.427 Q82.0105 784.057 79.6031 783.316 L79.6031 778.617 Q81.6864 779.751 83.9086 780.307 Q86.1308 780.862 88.6077 780.862 Q92.6123 780.862 94.9502 778.756 Q97.2882 776.649 97.2882 773.038 Q97.2882 769.427 94.9502 767.321 Q92.6123 765.214 88.6077 765.214 Q86.7327 765.214 84.8577 765.631 Q83.0058 766.047 81.0614 766.927 L81.0614 749.566 Z\" fill=\"#000000\" fill-rule=\"nonzero\" fill-opacity=\"1\" /><path clip-path=\"url(#clip710)\" d=\"M121.177 752.645 Q117.566 752.645 115.737 756.209 Q113.932 759.751 113.932 766.881 Q113.932 773.987 115.737 777.552 Q117.566 781.094 121.177 781.094 Q124.811 781.094 126.617 777.552 Q128.445 773.987 128.445 766.881 Q128.445 759.751 126.617 756.209 Q124.811 752.645 121.177 752.645 M121.177 748.941 Q126.987 748.941 130.043 753.547 Q133.121 758.131 133.121 766.881 Q133.121 775.608 130.043 780.214 Q126.987 784.797 121.177 784.797 Q115.367 784.797 112.288 780.214 Q109.233 775.608 109.233 766.881 Q109.233 758.131 112.288 753.547 Q115.367 748.941 121.177 748.941 Z\" fill=\"#000000\" fill-rule=\"nonzero\" fill-opacity=\"1\" /><path clip-path=\"url(#clip710)\" d=\"M151.339 752.645 Q147.728 752.645 145.899 756.209 Q144.093 759.751 144.093 766.881 Q144.093 773.987 145.899 777.552 Q147.728 781.094 151.339 781.094 Q154.973 781.094 156.779 777.552 Q158.607 773.987 158.607 766.881 Q158.607 759.751 156.779 756.209 Q154.973 752.645 151.339 752.645 M151.339 748.941 Q157.149 748.941 160.205 753.547 Q163.283 758.131 163.283 766.881 Q163.283 775.608 160.205 780.214 Q157.149 784.797 151.339 784.797 Q145.529 784.797 142.45 780.214 Q139.394 775.608 139.394 766.881 Q139.394 758.131 142.45 753.547 Q145.529 748.941 151.339 748.941 Z\" fill=\"#000000\" fill-rule=\"nonzero\" fill-opacity=\"1\" /><path clip-path=\"url(#clip710)\" d=\"M181.501 752.645 Q177.89 752.645 176.061 756.209 Q174.255 759.751 174.255 766.881 Q174.255 773.987 176.061 777.552 Q177.89 781.094 181.501 781.094 Q185.135 781.094 186.94 777.552 Q188.769 773.987 188.769 766.881 Q188.769 759.751 186.94 756.209 Q185.135 752.645 181.501 752.645 M181.501 748.941 Q187.311 748.941 190.366 753.547 Q193.445 758.131 193.445 766.881 Q193.445 775.608 190.366 780.214 Q187.311 784.797 181.501 784.797 Q175.691 784.797 172.612 780.214 Q169.556 775.608 169.556 766.881 Q169.556 758.131 172.612 753.547 Q175.691 748.941 181.501 748.941 Z\" fill=\"#000000\" fill-rule=\"nonzero\" fill-opacity=\"1\" /><path clip-path=\"url(#clip710)\" d=\"M79.8346 410.131 L102.057 410.131 L102.057 412.122 L89.5104 444.691 L84.6262 444.691 L96.4317 414.066 L79.8346 414.066 L79.8346 410.131 Z\" fill=\"#000000\" fill-rule=\"nonzero\" fill-opacity=\"1\" /><path clip-path=\"url(#clip710)\" d=\"M111.223 410.131 L129.58 410.131 L129.58 414.066 L115.506 414.066 L115.506 422.538 Q116.524 422.191 117.543 422.029 Q118.561 421.844 119.58 421.844 Q125.367 421.844 128.746 425.015 Q132.126 428.187 132.126 433.603 Q132.126 439.182 128.654 442.284 Q125.182 445.362 118.862 445.362 Q116.686 445.362 114.418 444.992 Q112.172 444.622 109.765 443.881 L109.765 439.182 Q111.848 440.316 114.07 440.872 Q116.293 441.427 118.77 441.427 Q122.774 441.427 125.112 439.321 Q127.45 437.214 127.45 433.603 Q127.45 429.992 125.112 427.886 Q122.774 425.779 118.77 425.779 Q116.895 425.779 115.02 426.196 Q113.168 426.613 111.223 427.492 L111.223 410.131 Z\" fill=\"#000000\" fill-rule=\"nonzero\" fill-opacity=\"1\" /><path clip-path=\"url(#clip710)\" d=\"M151.339 413.21 Q147.728 413.21 145.899 416.775 Q144.093 420.316 144.093 427.446 Q144.093 434.552 145.899 438.117 Q147.728 441.659 151.339 441.659 Q154.973 441.659 156.779 438.117 Q158.607 434.552 158.607 427.446 Q158.607 420.316 156.779 416.775 Q154.973 413.21 151.339 413.21 M151.339 409.506 Q157.149 409.506 160.205 414.113 Q163.283 418.696 163.283 427.446 Q163.283 436.173 160.205 440.779 Q157.149 445.362 151.339 445.362 Q145.529 445.362 142.45 440.779 Q139.394 436.173 139.394 427.446 Q139.394 418.696 142.45 414.113 Q145.529 409.506 151.339 409.506 Z\" fill=\"#000000\" fill-rule=\"nonzero\" fill-opacity=\"1\" /><path clip-path=\"url(#clip710)\" d=\"M181.501 413.21 Q177.89 413.21 176.061 416.775 Q174.255 420.316 174.255 427.446 Q174.255 434.552 176.061 438.117 Q177.89 441.659 181.501 441.659 Q185.135 441.659 186.94 438.117 Q188.769 434.552 188.769 427.446 Q188.769 420.316 186.94 416.775 Q185.135 413.21 181.501 413.21 M181.501 409.506 Q187.311 409.506 190.366 414.113 Q193.445 418.696 193.445 427.446 Q193.445 436.173 190.366 440.779 Q187.311 445.362 181.501 445.362 Q175.691 445.362 172.612 440.779 Q169.556 436.173 169.556 427.446 Q169.556 418.696 172.612 414.113 Q175.691 409.506 181.501 409.506 Z\" fill=\"#000000\" fill-rule=\"nonzero\" fill-opacity=\"1\" /><path clip-path=\"url(#clip710)\" d=\"M51.6634 101.321 L59.3023 101.321 L59.3023 74.9555 L50.9921 76.6222 L50.9921 72.3629 L59.256 70.6963 L63.9319 70.6963 L63.9319 101.321 L71.5707 101.321 L71.5707 105.256 L51.6634 105.256 L51.6634 101.321 Z\" fill=\"#000000\" fill-rule=\"nonzero\" fill-opacity=\"1\" /><path clip-path=\"url(#clip710)\" d=\"M91.0151 73.775 Q87.404 73.775 85.5753 77.3398 Q83.7697 80.8814 83.7697 88.011 Q83.7697 95.1174 85.5753 98.6822 Q87.404 102.224 91.0151 102.224 Q94.6493 102.224 96.4548 98.6822 Q98.2835 95.1174 98.2835 88.011 Q98.2835 80.8814 96.4548 77.3398 Q94.6493 73.775 91.0151 73.775 M91.0151 70.0713 Q96.8252 70.0713 99.8808 74.6777 Q102.959 79.261 102.959 88.011 Q102.959 96.7378 99.8808 101.344 Q96.8252 105.928 91.0151 105.928 Q85.2049 105.928 82.1262 101.344 Q79.0707 96.7378 79.0707 88.011 Q79.0707 79.261 82.1262 74.6777 Q85.2049 70.0713 91.0151 70.0713 Z\" fill=\"#000000\" fill-rule=\"nonzero\" fill-opacity=\"1\" /><path clip-path=\"url(#clip710)\" d=\"M121.177 73.775 Q117.566 73.775 115.737 77.3398 Q113.932 80.8814 113.932 88.011 Q113.932 95.1174 115.737 98.6822 Q117.566 102.224 121.177 102.224 Q124.811 102.224 126.617 98.6822 Q128.445 95.1174 128.445 88.011 Q128.445 80.8814 126.617 77.3398 Q124.811 73.775 121.177 73.775 M121.177 70.0713 Q126.987 70.0713 130.043 74.6777 Q133.121 79.261 133.121 88.011 Q133.121 96.7378 130.043 101.344 Q126.987 105.928 121.177 105.928 Q115.367 105.928 112.288 101.344 Q109.233 96.7378 109.233 88.011 Q109.233 79.261 112.288 74.6777 Q115.367 70.0713 121.177 70.0713 Z\" fill=\"#000000\" fill-rule=\"nonzero\" fill-opacity=\"1\" /><path clip-path=\"url(#clip710)\" d=\"M151.339 73.775 Q147.728 73.775 145.899 77.3398 Q144.093 80.8814 144.093 88.011 Q144.093 95.1174 145.899 98.6822 Q147.728 102.224 151.339 102.224 Q154.973 102.224 156.779 98.6822 Q158.607 95.1174 158.607 88.011 Q158.607 80.8814 156.779 77.3398 Q154.973 73.775 151.339 73.775 M151.339 70.0713 Q157.149 70.0713 160.205 74.6777 Q163.283 79.261 163.283 88.011 Q163.283 96.7378 160.205 101.344 Q157.149 105.928 151.339 105.928 Q145.529 105.928 142.45 101.344 Q139.394 96.7378 139.394 88.011 Q139.394 79.261 142.45 74.6777 Q145.529 70.0713 151.339 70.0713 Z\" fill=\"#000000\" fill-rule=\"nonzero\" fill-opacity=\"1\" /><path clip-path=\"url(#clip710)\" d=\"M181.501 73.775 Q177.89 73.775 176.061 77.3398 Q174.255 80.8814 174.255 88.011 Q174.255 95.1174 176.061 98.6822 Q177.89 102.224 181.501 102.224 Q185.135 102.224 186.94 98.6822 Q188.769 95.1174 188.769 88.011 Q188.769 80.8814 186.94 77.3398 Q185.135 73.775 181.501 73.775 M181.501 70.0713 Q187.311 70.0713 190.366 74.6777 Q193.445 79.261 193.445 88.011 Q193.445 96.7378 190.366 101.344 Q187.311 105.928 181.501 105.928 Q175.691 105.928 172.612 101.344 Q169.556 96.7378 169.556 88.011 Q169.556 79.261 172.612 74.6777 Q175.691 70.0713 181.501 70.0713 Z\" fill=\"#000000\" fill-rule=\"nonzero\" fill-opacity=\"1\" /><polyline clip-path=\"url(#clip712)\" style=\"stroke:#009af9; stroke-linecap:round; stroke-linejoin:round; stroke-width:4; stroke-opacity:1; fill:none\" points=\"289.539,1445.72 340.901,1445.72 392.263,1445.72 443.625,1445.72 494.987,1445.72 546.349,1445.72 597.712,1445.72 649.074,1445.72 700.436,1445.72 751.798,1445.72 803.16,1445.72 854.522,1445.72 905.884,1445.72 957.247,1445.72 1008.61,1445.72 1059.97,1445.72 1111.33,1445.72 1162.7,1445.72 1214.06,1445.72 1265.42,87.9763 1316.78,1445.72 1368.14,1445.72 1419.51,1445.72 1470.87,1445.72 1522.23,1445.72 1573.59,1445.72 1624.95,1445.72 1676.32,1445.72 1727.68,1445.72 1779.04,1445.72 1830.4,1445.72 1881.77,1445.72 1933.13,1445.72 1984.49,1445.72 2035.85,1445.72 2087.21,1445.72 2138.58,1445.72 2189.94,1445.72 2241.3,1445.72 2292.66,1445.72 \"/>\n",
       "<polyline clip-path=\"url(#clip712)\" style=\"stroke:#e26f46; stroke-linecap:round; stroke-linejoin:round; stroke-width:4; stroke-opacity:1; fill:none\" points=\"289.539,1445.72 340.901,1445.72 392.263,1445.72 443.625,1445.72 494.987,1445.72 546.349,1445.72 597.712,1445.72 649.074,1445.72 700.436,1445.72 751.798,1445.72 803.16,1445.72 854.522,1445.71 905.884,1445.69 957.247,1445.4 1008.61,1443.24 1059.97,1432.05 1111.33,1391.97 1162.7,1296.83 1214.06,1162.96 1265.42,1091.75 1316.78,1162.96 1368.14,1296.83 1419.51,1391.97 1470.87,1432.05 1522.23,1443.24 1573.59,1445.4 1624.95,1445.69 1676.32,1445.71 1727.68,1445.72 1779.04,1445.72 1830.4,1445.72 1881.77,1445.72 1933.13,1445.72 1984.49,1445.72 2035.85,1445.72 2087.21,1445.72 2138.58,1445.72 2189.94,1445.72 2241.3,1445.72 2292.66,1445.72 \"/>\n",
       "<polyline clip-path=\"url(#clip712)\" style=\"stroke:#3da44d; stroke-linecap:round; stroke-linejoin:round; stroke-width:4; stroke-opacity:1; fill:none\" points=\"289.539,1445.72 340.901,1445.72 392.263,1445.72 443.625,1445.72 494.987,1445.72 546.349,1445.72 597.712,1445.72 649.074,1445.72 700.436,1445.71 751.798,1445.7 803.16,1445.63 854.522,1445.3 905.884,1443.94 957.247,1439.38 1008.61,1426.8 1059.97,1398.77 1111.33,1349.42 1162.7,1283.62 1214.06,1223.35 1265.42,1198.47 1316.78,1223.35 1368.14,1283.62 1419.51,1349.42 1470.87,1398.77 1522.23,1426.8 1573.59,1439.38 1624.95,1443.94 1676.32,1445.3 1727.68,1445.63 1779.04,1445.7 1830.4,1445.71 1881.77,1445.72 1933.13,1445.72 1984.49,1445.72 2035.85,1445.72 2087.21,1445.72 2138.58,1445.72 2189.94,1445.72 2241.3,1445.72 2292.66,1445.72 \"/>\n",
       "<polyline clip-path=\"url(#clip712)\" style=\"stroke:#c271d2; stroke-linecap:round; stroke-linejoin:round; stroke-width:4; stroke-opacity:1; fill:none\" points=\"289.539,1445.72 340.901,1445.72 392.263,1445.72 443.625,1445.72 494.987,1445.72 546.349,1445.72 597.712,1445.71 649.074,1445.7 700.436,1445.65 751.798,1445.47 803.16,1444.86 854.522,1443.08 905.884,1438.58 957.247,1428.64 1008.61,1409.75 1059.97,1379.2 1111.33,1338 1162.7,1293.4 1214.06,1258.02 1265.42,1244.45 1316.78,1258.02 1368.14,1293.4 1419.51,1338 1470.87,1379.2 1522.23,1409.75 1573.59,1428.64 1624.95,1438.58 1676.32,1443.08 1727.68,1444.86 1779.04,1445.47 1830.4,1445.65 1881.77,1445.7 1933.13,1445.71 1984.49,1445.72 2035.85,1445.72 2087.21,1445.72 2138.58,1445.72 2189.94,1445.72 2241.3,1445.72 2292.66,1445.72 \"/>\n",
       "<polyline clip-path=\"url(#clip712)\" style=\"stroke:#ac8d18; stroke-linecap:round; stroke-linejoin:round; stroke-width:4; stroke-opacity:1; fill:none\" points=\"289.539,1445.72 340.901,1445.72 392.263,1445.72 443.625,1445.72 494.987,1445.71 546.349,1445.71 597.712,1445.68 649.074,1445.59 700.436,1445.33 751.798,1444.63 803.16,1442.91 854.522,1439.13 905.884,1431.66 957.247,1418.48 1008.61,1397.89 1059.97,1369.73 1111.33,1336.62 1162.7,1304.34 1214.06,1280.48 1265.42,1271.65 1316.78,1280.48 1368.14,1304.34 1419.51,1336.62 1470.87,1369.73 1522.23,1397.89 1573.59,1418.48 1624.95,1431.66 1676.32,1439.13 1727.68,1442.91 1779.04,1444.63 1830.4,1445.33 1881.77,1445.59 1933.13,1445.68 1984.49,1445.71 2035.85,1445.71 2087.21,1445.72 2138.58,1445.72 2189.94,1445.72 2241.3,1445.72 2292.66,1445.72 \"/>\n",
       "<polyline clip-path=\"url(#clip712)\" style=\"stroke:#00a9ad; stroke-linecap:round; stroke-linejoin:round; stroke-width:4; stroke-opacity:1; fill:none\" points=\"289.539,1445.72 340.901,1445.72 392.263,1445.71 443.625,1445.71 494.987,1445.7 546.349,1445.66 597.712,1445.55 649.074,1445.27 700.436,1444.59 751.798,1443.09 803.16,1440.07 854.522,1434.47 905.884,1425 957.247,1410.46 1008.61,1390.34 1059.97,1365.48 1111.33,1338.57 1162.7,1313.93 1214.06,1296.48 1265.42,1290.15 1316.78,1296.48 1368.14,1313.93 1419.51,1338.57 1470.87,1365.48 1522.23,1390.34 1573.59,1410.46 1624.95,1425 1676.32,1434.47 1727.68,1440.07 1779.04,1443.09 1830.4,1444.59 1881.77,1445.27 1933.13,1445.55 1984.49,1445.66 2035.85,1445.7 2087.21,1445.71 2138.58,1445.71 2189.94,1445.72 2241.3,1445.72 2292.66,1445.72 \"/>\n",
       "<polyline clip-path=\"url(#clip712)\" style=\"stroke:#ed5d92; stroke-linecap:round; stroke-linejoin:round; stroke-width:4; stroke-opacity:1; fill:none\" points=\"289.539,1445.72 340.901,1445.71 392.263,1445.71 443.625,1445.69 494.987,1445.64 546.349,1445.53 597.712,1445.25 649.074,1444.65 700.436,1443.41 751.798,1441.03 803.16,1436.81 854.522,1429.86 905.884,1419.29 957.247,1404.51 1008.61,1385.66 1059.97,1363.91 1111.33,1341.64 1162.7,1322.07 1214.06,1308.59 1265.42,1303.78 1316.78,1308.59 1368.14,1322.07 1419.51,1341.64 1470.87,1363.91 1522.23,1385.66 1573.59,1404.51 1624.95,1419.29 1676.32,1429.86 1727.68,1436.81 1779.04,1441.03 1830.4,1443.41 1881.77,1444.65 1933.13,1445.25 1984.49,1445.53 2035.85,1445.64 2087.21,1445.69 2138.58,1445.71 2189.94,1445.71 2241.3,1445.71 2292.66,1445.72 \"/>\n",
       "<polyline clip-path=\"url(#clip712)\" style=\"stroke:#c68125; stroke-linecap:round; stroke-linejoin:round; stroke-width:4; stroke-opacity:1; fill:none\" points=\"289.539,1445.72 340.901,1445.71 392.263,1445.69 443.625,1445.64 494.987,1445.52 546.349,1445.28 597.712,1444.76 649.074,1443.75 700.436,1441.9 751.798,1438.69 803.16,1433.51 854.522,1425.67 905.884,1414.62 957.247,1400.2 1008.61,1382.84 1059.97,1363.77 1111.33,1344.99 1162.7,1328.99 1214.06,1318.18 1265.42,1314.36 1316.78,1318.18 1368.14,1328.99 1419.51,1344.99 1470.87,1363.77 1522.23,1382.84 1573.59,1400.2 1624.95,1414.62 1676.32,1425.67 1727.68,1433.51 1779.04,1438.69 1830.4,1441.9 1881.77,1443.75 1933.13,1444.76 1984.49,1445.28 2035.85,1445.52 2087.21,1445.64 2138.58,1445.68 2189.94,1445.7 2241.3,1445.71 2292.66,1445.72 \"/>\n",
       "<polyline clip-path=\"url(#clip712)\" style=\"stroke:#00a98d; stroke-linecap:round; stroke-linejoin:round; stroke-width:4; stroke-opacity:1; fill:none\" points=\"289.539,1445.72 340.901,1445.69 392.263,1445.64 443.625,1445.53 494.987,1445.32 546.349,1444.89 597.712,1444.08 649.074,1442.63 700.436,1440.18 751.798,1436.27 803.16,1430.37 854.522,1422.01 905.884,1410.9 957.247,1397.1 1008.61,1381.22 1059.97,1364.4 1111.33,1348.33 1162.7,1334.92 1214.06,1326 1265.42,1322.87 1316.78,1326 1368.14,1334.92 1419.51,1348.33 1470.87,1364.4 1522.23,1381.22 1573.59,1397.1 1624.95,1410.9 1676.32,1422.01 1727.68,1430.37 1779.04,1436.27 1830.4,1440.18 1881.77,1442.63 1933.13,1444.08 1984.49,1444.89 2035.85,1445.32 2087.21,1445.53 2138.58,1445.64 2189.94,1445.68 2241.3,1445.7 2292.66,1445.72 \"/>\n",
       "<polyline clip-path=\"url(#clip712)\" style=\"stroke:#8e971d; stroke-linecap:round; stroke-linejoin:round; stroke-width:4; stroke-opacity:1; fill:none\" points=\"289.539,1445.72 340.901,1445.65 392.263,1445.55 443.625,1445.37 494.987,1445.01 546.349,1444.37 597.712,1443.23 649.074,1441.35 700.436,1438.37 751.798,1433.88 803.16,1427.5 854.522,1418.89 905.884,1407.95 957.247,1394.91 1008.61,1380.39 1059.97,1365.45 1111.33,1351.5 1162.7,1340.07 1214.06,1332.55 1265.42,1329.92 1316.78,1332.55 1368.14,1340.07 1419.51,1351.5 1470.87,1365.45 1522.23,1380.39 1573.59,1394.91 1624.95,1407.95 1676.32,1418.89 1727.68,1427.5 1779.04,1433.88 1830.4,1438.37 1881.77,1441.35 1933.13,1443.23 1984.49,1444.36 2035.85,1445.01 2087.21,1445.36 2138.58,1445.55 2189.94,1445.64 2241.3,1445.69 2292.66,1445.72 \"/>\n",
       "<polyline clip-path=\"url(#clip712)\" style=\"stroke:#00a8cb; stroke-linecap:round; stroke-linejoin:round; stroke-width:4; stroke-opacity:1; fill:none\" points=\"289.539,1445.72 340.901,1445.6 392.263,1445.43 443.625,1445.13 494.987,1444.61 546.349,1443.73 597.712,1442.27 649.074,1439.98 700.436,1436.54 751.798,1431.63 803.16,1424.93 854.522,1416.26 905.884,1405.64 957.247,1393.37 1008.61,1380.09 1059.97,1366.73 1111.33,1354.48 1162.7,1344.58 1214.06,1338.12 1265.42,1335.88 1316.78,1338.12 1368.14,1344.58 1419.51,1354.48 1470.87,1366.73 1522.23,1380.09 1573.59,1393.37 1624.95,1405.64 1676.32,1416.26 1727.68,1424.93 1779.04,1431.63 1830.4,1436.54 1881.77,1439.98 1933.13,1442.27 1984.49,1443.72 2035.85,1444.61 2087.21,1445.13 2138.58,1445.42 2189.94,1445.57 2241.3,1445.66 2292.66,1445.72 \"/>\n",
       "<path clip-path=\"url(#clip710)\" d=\"M2017.68 717.298 L2281.98 717.298 L2281.98 95.2176 L2017.68 95.2176  Z\" fill=\"#ffffff\" fill-rule=\"evenodd\" fill-opacity=\"1\"/>\n",
       "<polyline clip-path=\"url(#clip710)\" style=\"stroke:#000000; stroke-linecap:round; stroke-linejoin:round; stroke-width:4; stroke-opacity:1; fill:none\" points=\"2017.68,717.298 2281.98,717.298 2281.98,95.2176 2017.68,95.2176 2017.68,717.298 \"/>\n",
       "<polyline clip-path=\"url(#clip710)\" style=\"stroke:#009af9; stroke-linecap:round; stroke-linejoin:round; stroke-width:4; stroke-opacity:1; fill:none\" points=\"2041.27,147.058 2182.83,147.058 \"/>\n",
       "<path clip-path=\"url(#clip710)\" d=\"M2207.09 160.402 L2214.73 160.402 L2214.73 134.037 L2206.42 135.703 L2206.42 131.444 L2214.68 129.778 L2219.36 129.778 L2219.36 160.402 L2227 160.402 L2227 164.338 L2207.09 164.338 L2207.09 160.402 Z\" fill=\"#000000\" fill-rule=\"nonzero\" fill-opacity=\"1\" /><polyline clip-path=\"url(#clip710)\" style=\"stroke:#e26f46; stroke-linecap:round; stroke-linejoin:round; stroke-width:4; stroke-opacity:1; fill:none\" points=\"2041.27,198.898 2182.83,198.898 \"/>\n",
       "<path clip-path=\"url(#clip710)\" d=\"M2212.04 212.242 L2228.36 212.242 L2228.36 216.178 L2206.42 216.178 L2206.42 212.242 Q2209.08 209.488 2213.66 204.858 Q2218.27 200.205 2219.45 198.863 Q2221.7 196.34 2222.58 194.604 Q2223.48 192.844 2223.48 191.155 Q2223.48 188.4 2221.53 186.664 Q2219.61 184.928 2216.51 184.928 Q2214.31 184.928 2211.86 185.692 Q2209.43 186.455 2206.65 188.006 L2206.65 183.284 Q2209.47 182.15 2211.93 181.571 Q2214.38 180.993 2216.42 180.993 Q2221.79 180.993 2224.98 183.678 Q2228.18 186.363 2228.18 190.854 Q2228.18 192.983 2227.37 194.905 Q2226.58 196.803 2224.47 199.395 Q2223.9 200.067 2220.79 203.284 Q2217.69 206.479 2212.04 212.242 Z\" fill=\"#000000\" fill-rule=\"nonzero\" fill-opacity=\"1\" /><polyline clip-path=\"url(#clip710)\" style=\"stroke:#3da44d; stroke-linecap:round; stroke-linejoin:round; stroke-width:4; stroke-opacity:1; fill:none\" points=\"2041.27,250.738 2182.83,250.738 \"/>\n",
       "<path clip-path=\"url(#clip710)\" d=\"M2222.04 249.383 Q2225.4 250.101 2227.28 252.369 Q2229.17 254.638 2229.17 257.971 Q2229.17 263.087 2225.66 265.888 Q2222.14 268.689 2215.66 268.689 Q2213.48 268.689 2211.16 268.249 Q2208.87 267.832 2206.42 266.976 L2206.42 262.462 Q2208.36 263.596 2210.68 264.175 Q2212.99 264.754 2215.52 264.754 Q2219.91 264.754 2222.21 263.018 Q2224.52 261.281 2224.52 257.971 Q2224.52 254.916 2222.37 253.203 Q2220.24 251.467 2216.42 251.467 L2212.39 251.467 L2212.39 247.624 L2216.6 247.624 Q2220.05 247.624 2221.88 246.258 Q2223.71 244.87 2223.71 242.277 Q2223.71 239.615 2221.81 238.203 Q2219.94 236.768 2216.42 236.768 Q2214.5 236.768 2212.3 237.184 Q2210.1 237.601 2207.46 238.481 L2207.46 234.314 Q2210.12 233.573 2212.44 233.203 Q2214.78 232.833 2216.84 232.833 Q2222.16 232.833 2225.26 235.263 Q2228.36 237.67 2228.36 241.791 Q2228.36 244.661 2226.72 246.652 Q2225.08 248.62 2222.04 249.383 Z\" fill=\"#000000\" fill-rule=\"nonzero\" fill-opacity=\"1\" /><polyline clip-path=\"url(#clip710)\" style=\"stroke:#c271d2; stroke-linecap:round; stroke-linejoin:round; stroke-width:4; stroke-opacity:1; fill:none\" points=\"2041.27,302.578 2182.83,302.578 \"/>\n",
       "<path clip-path=\"url(#clip710)\" d=\"M2222.02 289.372 L2210.22 307.821 L2222.02 307.821 L2222.02 289.372 M2220.79 285.298 L2226.67 285.298 L2226.67 307.821 L2231.6 307.821 L2231.6 311.709 L2226.67 311.709 L2226.67 319.858 L2222.02 319.858 L2222.02 311.709 L2206.42 311.709 L2206.42 307.196 L2220.79 285.298 Z\" fill=\"#000000\" fill-rule=\"nonzero\" fill-opacity=\"1\" /><polyline clip-path=\"url(#clip710)\" style=\"stroke:#ac8d18; stroke-linecap:round; stroke-linejoin:round; stroke-width:4; stroke-opacity:1; fill:none\" points=\"2041.27,354.418 2182.83,354.418 \"/>\n",
       "<path clip-path=\"url(#clip710)\" d=\"M2207.88 337.138 L2226.23 337.138 L2226.23 341.073 L2212.16 341.073 L2212.16 349.545 Q2213.18 349.198 2214.2 349.036 Q2215.22 348.85 2216.23 348.85 Q2222.02 348.85 2225.4 352.022 Q2228.78 355.193 2228.78 360.61 Q2228.78 366.188 2225.31 369.29 Q2221.84 372.369 2215.52 372.369 Q2213.34 372.369 2211.07 371.998 Q2208.83 371.628 2206.42 370.887 L2206.42 366.188 Q2208.5 367.323 2210.72 367.878 Q2212.95 368.434 2215.42 368.434 Q2219.43 368.434 2221.77 366.327 Q2224.1 364.221 2224.1 360.61 Q2224.1 356.999 2221.77 354.892 Q2219.43 352.786 2215.42 352.786 Q2213.55 352.786 2211.67 353.202 Q2209.82 353.619 2207.88 354.499 L2207.88 337.138 Z\" fill=\"#000000\" fill-rule=\"nonzero\" fill-opacity=\"1\" /><polyline clip-path=\"url(#clip710)\" style=\"stroke:#00a9ad; stroke-linecap:round; stroke-linejoin:round; stroke-width:4; stroke-opacity:1; fill:none\" points=\"2041.27,406.258 2182.83,406.258 \"/>\n",
       "<path clip-path=\"url(#clip710)\" d=\"M2218.76 404.394 Q2215.61 404.394 2213.76 406.547 Q2211.93 408.7 2211.93 412.45 Q2211.93 416.176 2213.76 418.352 Q2215.61 420.505 2218.76 420.505 Q2221.91 420.505 2223.73 418.352 Q2225.59 416.176 2225.59 412.45 Q2225.59 408.7 2223.73 406.547 Q2221.91 404.394 2218.76 404.394 M2228.04 389.741 L2228.04 394.001 Q2226.28 393.167 2224.47 392.728 Q2222.69 392.288 2220.93 392.288 Q2216.3 392.288 2213.85 395.413 Q2211.42 398.538 2211.07 404.857 Q2212.44 402.843 2214.5 401.778 Q2216.56 400.69 2219.03 400.69 Q2224.24 400.69 2227.25 403.862 Q2230.28 407.01 2230.28 412.45 Q2230.28 417.774 2227.14 420.991 Q2223.99 424.209 2218.76 424.209 Q2212.76 424.209 2209.59 419.626 Q2206.42 415.019 2206.42 406.292 Q2206.42 398.098 2210.31 393.237 Q2214.2 388.353 2220.75 388.353 Q2222.51 388.353 2224.29 388.7 Q2226.1 389.047 2228.04 389.741 Z\" fill=\"#000000\" fill-rule=\"nonzero\" fill-opacity=\"1\" /><polyline clip-path=\"url(#clip710)\" style=\"stroke:#ed5d92; stroke-linecap:round; stroke-linejoin:round; stroke-width:4; stroke-opacity:1; fill:none\" points=\"2041.27,458.098 2182.83,458.098 \"/>\n",
       "<path clip-path=\"url(#clip710)\" d=\"M2206.42 440.818 L2228.64 440.818 L2228.64 442.808 L2216.1 475.378 L2211.21 475.378 L2223.02 444.753 L2206.42 444.753 L2206.42 440.818 Z\" fill=\"#000000\" fill-rule=\"nonzero\" fill-opacity=\"1\" /><polyline clip-path=\"url(#clip710)\" style=\"stroke:#c68125; stroke-linecap:round; stroke-linejoin:round; stroke-width:4; stroke-opacity:1; fill:none\" points=\"2041.27,509.938 2182.83,509.938 \"/>\n",
       "<path clip-path=\"url(#clip710)\" d=\"M2218.27 510.806 Q2214.94 510.806 2213.02 512.588 Q2211.12 514.37 2211.12 517.495 Q2211.12 520.62 2213.02 522.403 Q2214.94 524.185 2218.27 524.185 Q2221.6 524.185 2223.53 522.403 Q2225.45 520.597 2225.45 517.495 Q2225.45 514.37 2223.53 512.588 Q2221.63 510.806 2218.27 510.806 M2213.6 508.815 Q2210.59 508.074 2208.9 506.014 Q2207.23 503.954 2207.23 500.991 Q2207.23 496.847 2210.17 494.44 Q2213.13 492.033 2218.27 492.033 Q2223.43 492.033 2226.37 494.44 Q2229.31 496.847 2229.31 500.991 Q2229.31 503.954 2227.62 506.014 Q2225.96 508.074 2222.97 508.815 Q2226.35 509.602 2228.22 511.894 Q2230.12 514.185 2230.12 517.495 Q2230.12 522.519 2227.04 525.204 Q2223.99 527.889 2218.27 527.889 Q2212.55 527.889 2209.47 525.204 Q2206.42 522.519 2206.42 517.495 Q2206.42 514.185 2208.32 511.894 Q2210.22 509.602 2213.6 508.815 M2211.88 501.431 Q2211.88 504.116 2213.55 505.62 Q2215.24 507.125 2218.27 507.125 Q2221.28 507.125 2222.97 505.62 Q2224.68 504.116 2224.68 501.431 Q2224.68 498.745 2222.97 497.241 Q2221.28 495.736 2218.27 495.736 Q2215.24 495.736 2213.55 497.241 Q2211.88 498.745 2211.88 501.431 Z\" fill=\"#000000\" fill-rule=\"nonzero\" fill-opacity=\"1\" /><polyline clip-path=\"url(#clip710)\" style=\"stroke:#00a98d; stroke-linecap:round; stroke-linejoin:round; stroke-width:4; stroke-opacity:1; fill:none\" points=\"2041.27,561.778 2182.83,561.778 \"/>\n",
       "<path clip-path=\"url(#clip710)\" d=\"M2208.64 578.34 L2208.64 574.081 Q2210.4 574.914 2212.21 575.354 Q2214.01 575.794 2215.75 575.794 Q2220.38 575.794 2222.81 572.692 Q2225.26 569.567 2225.61 563.224 Q2224.27 565.215 2222.21 566.28 Q2220.15 567.345 2217.65 567.345 Q2212.46 567.345 2209.43 564.22 Q2206.42 561.072 2206.42 555.632 Q2206.42 550.308 2209.57 547.09 Q2212.72 543.873 2217.95 543.873 Q2223.94 543.873 2227.09 548.479 Q2230.26 553.062 2230.26 561.812 Q2230.26 569.984 2226.37 574.868 Q2222.51 579.729 2215.96 579.729 Q2214.2 579.729 2212.39 579.382 Q2210.59 579.034 2208.64 578.34 M2217.95 563.687 Q2221.1 563.687 2222.92 561.534 Q2224.78 559.382 2224.78 555.632 Q2224.78 551.905 2222.92 549.752 Q2221.1 547.576 2217.95 547.576 Q2214.8 547.576 2212.95 549.752 Q2211.12 551.905 2211.12 555.632 Q2211.12 559.382 2212.95 561.534 Q2214.8 563.687 2217.95 563.687 Z\" fill=\"#000000\" fill-rule=\"nonzero\" fill-opacity=\"1\" /><polyline clip-path=\"url(#clip710)\" style=\"stroke:#8e971d; stroke-linecap:round; stroke-linejoin:round; stroke-width:4; stroke-opacity:1; fill:none\" points=\"2041.27,613.618 2182.83,613.618 \"/>\n",
       "<path clip-path=\"url(#clip710)\" d=\"M2207.09 626.962 L2214.73 626.962 L2214.73 600.597 L2206.42 602.263 L2206.42 598.004 L2214.68 596.338 L2219.36 596.338 L2219.36 626.962 L2227 626.962 L2227 630.898 L2207.09 630.898 L2207.09 626.962 Z\" fill=\"#000000\" fill-rule=\"nonzero\" fill-opacity=\"1\" /><path clip-path=\"url(#clip710)\" d=\"M2246.44 599.416 Q2242.83 599.416 2241 602.981 Q2239.2 606.523 2239.2 613.652 Q2239.2 620.759 2241 624.324 Q2242.83 627.865 2246.44 627.865 Q2250.08 627.865 2251.88 624.324 Q2253.71 620.759 2253.71 613.652 Q2253.71 606.523 2251.88 602.981 Q2250.08 599.416 2246.44 599.416 M2246.44 595.713 Q2252.25 595.713 2255.31 600.319 Q2258.39 604.902 2258.39 613.652 Q2258.39 622.379 2255.31 626.986 Q2252.25 631.569 2246.44 631.569 Q2240.63 631.569 2237.55 626.986 Q2234.5 622.379 2234.5 613.652 Q2234.5 604.902 2237.55 600.319 Q2240.63 595.713 2246.44 595.713 Z\" fill=\"#000000\" fill-rule=\"nonzero\" fill-opacity=\"1\" /><polyline clip-path=\"url(#clip710)\" style=\"stroke:#00a8cb; stroke-linecap:round; stroke-linejoin:round; stroke-width:4; stroke-opacity:1; fill:none\" points=\"2041.27,665.458 2182.83,665.458 \"/>\n",
       "<path clip-path=\"url(#clip710)\" d=\"M2207.09 678.802 L2214.73 678.802 L2214.73 652.437 L2206.42 654.103 L2206.42 649.844 L2214.68 648.178 L2219.36 648.178 L2219.36 678.802 L2227 678.802 L2227 682.738 L2207.09 682.738 L2207.09 678.802 Z\" fill=\"#000000\" fill-rule=\"nonzero\" fill-opacity=\"1\" /><path clip-path=\"url(#clip710)\" d=\"M2237.25 678.802 L2244.89 678.802 L2244.89 652.437 L2236.58 654.103 L2236.58 649.844 L2244.84 648.178 L2249.52 648.178 L2249.52 678.802 L2257.16 678.802 L2257.16 682.738 L2237.25 682.738 L2237.25 678.802 Z\" fill=\"#000000\" fill-rule=\"nonzero\" fill-opacity=\"1\" /></svg>\n"
      ],
      "text/html": [
       "<?xml version=\"1.0\" encoding=\"utf-8\"?>\n",
       "<svg xmlns=\"http://www.w3.org/2000/svg\" xmlns:xlink=\"http://www.w3.org/1999/xlink\" width=\"600\" height=\"400\" viewBox=\"0 0 2400 1600\">\n",
       "<defs>\n",
       "  <clipPath id=\"clip760\">\n",
       "    <rect x=\"0\" y=\"0\" width=\"2400\" height=\"1600\"/>\n",
       "  </clipPath>\n",
       "</defs>\n",
       "<path clip-path=\"url(#clip760)\" d=\"M0 1600 L2400 1600 L2400 0 L0 0  Z\" fill=\"#ffffff\" fill-rule=\"evenodd\" fill-opacity=\"1\"/>\n",
       "<defs>\n",
       "  <clipPath id=\"clip761\">\n",
       "    <rect x=\"480\" y=\"0\" width=\"1681\" height=\"1600\"/>\n",
       "  </clipPath>\n",
       "</defs>\n",
       "<path clip-path=\"url(#clip760)\" d=\"M229.445 1486.45 L2352.76 1486.45 L2352.76 47.2441 L229.445 47.2441  Z\" fill=\"#ffffff\" fill-rule=\"evenodd\" fill-opacity=\"1\"/>\n",
       "<defs>\n",
       "  <clipPath id=\"clip762\">\n",
       "    <rect x=\"229\" y=\"47\" width=\"2124\" height=\"1440\"/>\n",
       "  </clipPath>\n",
       "</defs>\n",
       "<polyline clip-path=\"url(#clip762)\" style=\"stroke:#000000; stroke-linecap:round; stroke-linejoin:round; stroke-width:2; stroke-opacity:0.1; fill:none\" points=\"238.177,1486.45 238.177,47.2441 \"/>\n",
       "<polyline clip-path=\"url(#clip762)\" style=\"stroke:#000000; stroke-linecap:round; stroke-linejoin:round; stroke-width:2; stroke-opacity:0.1; fill:none\" points=\"751.798,1486.45 751.798,47.2441 \"/>\n",
       "<polyline clip-path=\"url(#clip762)\" style=\"stroke:#000000; stroke-linecap:round; stroke-linejoin:round; stroke-width:2; stroke-opacity:0.1; fill:none\" points=\"1265.42,1486.45 1265.42,47.2441 \"/>\n",
       "<polyline clip-path=\"url(#clip762)\" style=\"stroke:#000000; stroke-linecap:round; stroke-linejoin:round; stroke-width:2; stroke-opacity:0.1; fill:none\" points=\"1779.04,1486.45 1779.04,47.2441 \"/>\n",
       "<polyline clip-path=\"url(#clip762)\" style=\"stroke:#000000; stroke-linecap:round; stroke-linejoin:round; stroke-width:2; stroke-opacity:0.1; fill:none\" points=\"2292.66,1486.45 2292.66,47.2441 \"/>\n",
       "<polyline clip-path=\"url(#clip760)\" style=\"stroke:#000000; stroke-linecap:round; stroke-linejoin:round; stroke-width:4; stroke-opacity:1; fill:none\" points=\"229.445,1486.45 2352.76,1486.45 \"/>\n",
       "<polyline clip-path=\"url(#clip760)\" style=\"stroke:#000000; stroke-linecap:round; stroke-linejoin:round; stroke-width:4; stroke-opacity:1; fill:none\" points=\"238.177,1486.45 238.177,1467.55 \"/>\n",
       "<polyline clip-path=\"url(#clip760)\" style=\"stroke:#000000; stroke-linecap:round; stroke-linejoin:round; stroke-width:4; stroke-opacity:1; fill:none\" points=\"751.798,1486.45 751.798,1467.55 \"/>\n",
       "<polyline clip-path=\"url(#clip760)\" style=\"stroke:#000000; stroke-linecap:round; stroke-linejoin:round; stroke-width:4; stroke-opacity:1; fill:none\" points=\"1265.42,1486.45 1265.42,1467.55 \"/>\n",
       "<polyline clip-path=\"url(#clip760)\" style=\"stroke:#000000; stroke-linecap:round; stroke-linejoin:round; stroke-width:4; stroke-opacity:1; fill:none\" points=\"1779.04,1486.45 1779.04,1467.55 \"/>\n",
       "<polyline clip-path=\"url(#clip760)\" style=\"stroke:#000000; stroke-linecap:round; stroke-linejoin:round; stroke-width:4; stroke-opacity:1; fill:none\" points=\"2292.66,1486.45 2292.66,1467.55 \"/>\n",
       "<path clip-path=\"url(#clip760)\" d=\"M238.177 1517.37 Q234.566 1517.37 232.737 1520.93 Q230.931 1524.47 230.931 1531.6 Q230.931 1538.71 232.737 1542.27 Q234.566 1545.82 238.177 1545.82 Q241.811 1545.82 243.616 1542.27 Q245.445 1538.71 245.445 1531.6 Q245.445 1524.47 243.616 1520.93 Q241.811 1517.37 238.177 1517.37 M238.177 1513.66 Q243.987 1513.66 247.042 1518.27 Q250.121 1522.85 250.121 1531.6 Q250.121 1540.33 247.042 1544.94 Q243.987 1549.52 238.177 1549.52 Q232.366 1549.52 229.288 1544.94 Q226.232 1540.33 226.232 1531.6 Q226.232 1522.85 229.288 1518.27 Q232.366 1513.66 238.177 1513.66 Z\" fill=\"#000000\" fill-rule=\"nonzero\" fill-opacity=\"1\" /><path clip-path=\"url(#clip760)\" d=\"M726.486 1544.91 L734.125 1544.91 L734.125 1518.55 L725.814 1520.21 L725.814 1515.95 L734.078 1514.29 L738.754 1514.29 L738.754 1544.91 L746.393 1544.91 L746.393 1548.85 L726.486 1548.85 L726.486 1544.91 Z\" fill=\"#000000\" fill-rule=\"nonzero\" fill-opacity=\"1\" /><path clip-path=\"url(#clip760)\" d=\"M765.837 1517.37 Q762.226 1517.37 760.398 1520.93 Q758.592 1524.47 758.592 1531.6 Q758.592 1538.71 760.398 1542.27 Q762.226 1545.82 765.837 1545.82 Q769.472 1545.82 771.277 1542.27 Q773.106 1538.71 773.106 1531.6 Q773.106 1524.47 771.277 1520.93 Q769.472 1517.37 765.837 1517.37 M765.837 1513.66 Q771.647 1513.66 774.703 1518.27 Q777.782 1522.85 777.782 1531.6 Q777.782 1540.33 774.703 1544.94 Q771.647 1549.52 765.837 1549.52 Q760.027 1549.52 756.948 1544.94 Q753.893 1540.33 753.893 1531.6 Q753.893 1522.85 756.948 1518.27 Q760.027 1513.66 765.837 1513.66 Z\" fill=\"#000000\" fill-rule=\"nonzero\" fill-opacity=\"1\" /><path clip-path=\"url(#clip760)\" d=\"M1244.19 1544.91 L1260.51 1544.91 L1260.51 1548.85 L1238.57 1548.85 L1238.57 1544.91 Q1241.23 1542.16 1245.81 1537.53 Q1250.42 1532.88 1251.6 1531.53 Q1253.85 1529.01 1254.73 1527.27 Q1255.63 1525.51 1255.63 1523.82 Q1255.63 1521.07 1253.68 1519.33 Q1251.76 1517.6 1248.66 1517.6 Q1246.46 1517.6 1244.01 1518.36 Q1241.58 1519.13 1238.8 1520.68 L1238.8 1515.95 Q1241.62 1514.82 1244.08 1514.24 Q1246.53 1513.66 1248.57 1513.66 Q1253.94 1513.66 1257.13 1516.35 Q1260.33 1519.03 1260.33 1523.52 Q1260.33 1525.65 1259.52 1527.57 Q1258.73 1529.47 1256.62 1532.07 Q1256.04 1532.74 1252.94 1535.95 Q1249.84 1539.15 1244.19 1544.91 Z\" fill=\"#000000\" fill-rule=\"nonzero\" fill-opacity=\"1\" /><path clip-path=\"url(#clip760)\" d=\"M1280.33 1517.37 Q1276.72 1517.37 1274.89 1520.93 Q1273.08 1524.47 1273.08 1531.6 Q1273.08 1538.71 1274.89 1542.27 Q1276.72 1545.82 1280.33 1545.82 Q1283.96 1545.82 1285.77 1542.27 Q1287.6 1538.71 1287.6 1531.6 Q1287.6 1524.47 1285.77 1520.93 Q1283.96 1517.37 1280.33 1517.37 M1280.33 1513.66 Q1286.14 1513.66 1289.19 1518.27 Q1292.27 1522.85 1292.27 1531.6 Q1292.27 1540.33 1289.19 1544.94 Q1286.14 1549.52 1280.33 1549.52 Q1274.52 1549.52 1271.44 1544.94 Q1268.38 1540.33 1268.38 1531.6 Q1268.38 1522.85 1271.44 1518.27 Q1274.52 1513.66 1280.33 1513.66 Z\" fill=\"#000000\" fill-rule=\"nonzero\" fill-opacity=\"1\" /><path clip-path=\"url(#clip760)\" d=\"M1767.88 1530.21 Q1771.24 1530.93 1773.11 1533.2 Q1775.01 1535.47 1775.01 1538.8 Q1775.01 1543.92 1771.49 1546.72 Q1767.98 1549.52 1761.49 1549.52 Q1759.32 1549.52 1757 1549.08 Q1754.71 1548.66 1752.26 1547.81 L1752.26 1543.29 Q1754.2 1544.43 1756.52 1545.01 Q1758.83 1545.58 1761.36 1545.58 Q1765.75 1545.58 1768.05 1543.85 Q1770.36 1542.11 1770.36 1538.8 Q1770.36 1535.75 1768.21 1534.03 Q1766.08 1532.3 1762.26 1532.3 L1758.23 1532.3 L1758.23 1528.45 L1762.44 1528.45 Q1765.89 1528.45 1767.72 1527.09 Q1769.55 1525.7 1769.55 1523.11 Q1769.55 1520.45 1767.65 1519.03 Q1765.78 1517.6 1762.26 1517.6 Q1760.34 1517.6 1758.14 1518.01 Q1755.94 1518.43 1753.3 1519.31 L1753.3 1515.14 Q1755.96 1514.4 1758.28 1514.03 Q1760.61 1513.66 1762.68 1513.66 Q1768 1513.66 1771.1 1516.09 Q1774.2 1518.5 1774.2 1522.62 Q1774.2 1525.49 1772.56 1527.48 Q1770.92 1529.45 1767.88 1530.21 Z\" fill=\"#000000\" fill-rule=\"nonzero\" fill-opacity=\"1\" /><path clip-path=\"url(#clip760)\" d=\"M1793.88 1517.37 Q1790.27 1517.37 1788.44 1520.93 Q1786.63 1524.47 1786.63 1531.6 Q1786.63 1538.71 1788.44 1542.27 Q1790.27 1545.82 1793.88 1545.82 Q1797.51 1545.82 1799.32 1542.27 Q1801.15 1538.71 1801.15 1531.6 Q1801.15 1524.47 1799.32 1520.93 Q1797.51 1517.37 1793.88 1517.37 M1793.88 1513.66 Q1799.69 1513.66 1802.74 1518.27 Q1805.82 1522.85 1805.82 1531.6 Q1805.82 1540.33 1802.74 1544.94 Q1799.69 1549.52 1793.88 1549.52 Q1788.07 1549.52 1784.99 1544.94 Q1781.93 1540.33 1781.93 1531.6 Q1781.93 1522.85 1784.99 1518.27 Q1788.07 1513.66 1793.88 1513.66 Z\" fill=\"#000000\" fill-rule=\"nonzero\" fill-opacity=\"1\" /><path clip-path=\"url(#clip760)\" d=\"M2280.83 1518.36 L2269.03 1536.81 L2280.83 1536.81 L2280.83 1518.36 M2279.61 1514.29 L2285.49 1514.29 L2285.49 1536.81 L2290.42 1536.81 L2290.42 1540.7 L2285.49 1540.7 L2285.49 1548.85 L2280.83 1548.85 L2280.83 1540.7 L2265.23 1540.7 L2265.23 1536.19 L2279.61 1514.29 Z\" fill=\"#000000\" fill-rule=\"nonzero\" fill-opacity=\"1\" /><path clip-path=\"url(#clip760)\" d=\"M2308.15 1517.37 Q2304.54 1517.37 2302.71 1520.93 Q2300.9 1524.47 2300.9 1531.6 Q2300.9 1538.71 2302.71 1542.27 Q2304.54 1545.82 2308.15 1545.82 Q2311.78 1545.82 2313.59 1542.27 Q2315.42 1538.71 2315.42 1531.6 Q2315.42 1524.47 2313.59 1520.93 Q2311.78 1517.37 2308.15 1517.37 M2308.15 1513.66 Q2313.96 1513.66 2317.01 1518.27 Q2320.09 1522.85 2320.09 1531.6 Q2320.09 1540.33 2317.01 1544.94 Q2313.96 1549.52 2308.15 1549.52 Q2302.34 1549.52 2299.26 1544.94 Q2296.2 1540.33 2296.2 1531.6 Q2296.2 1522.85 2299.26 1518.27 Q2302.34 1513.66 2308.15 1513.66 Z\" fill=\"#000000\" fill-rule=\"nonzero\" fill-opacity=\"1\" /><polyline clip-path=\"url(#clip762)\" style=\"stroke:#000000; stroke-linecap:round; stroke-linejoin:round; stroke-width:2; stroke-opacity:0.1; fill:none\" points=\"229.445,1445.72 2352.76,1445.72 \"/>\n",
       "<polyline clip-path=\"url(#clip762)\" style=\"stroke:#000000; stroke-linecap:round; stroke-linejoin:round; stroke-width:2; stroke-opacity:0.1; fill:none\" points=\"229.445,1106.28 2352.76,1106.28 \"/>\n",
       "<polyline clip-path=\"url(#clip762)\" style=\"stroke:#000000; stroke-linecap:round; stroke-linejoin:round; stroke-width:2; stroke-opacity:0.1; fill:none\" points=\"229.445,766.846 2352.76,766.846 \"/>\n",
       "<polyline clip-path=\"url(#clip762)\" style=\"stroke:#000000; stroke-linecap:round; stroke-linejoin:round; stroke-width:2; stroke-opacity:0.1; fill:none\" points=\"229.445,427.411 2352.76,427.411 \"/>\n",
       "<polyline clip-path=\"url(#clip762)\" style=\"stroke:#000000; stroke-linecap:round; stroke-linejoin:round; stroke-width:2; stroke-opacity:0.1; fill:none\" points=\"229.445,87.9763 2352.76,87.9763 \"/>\n",
       "<polyline clip-path=\"url(#clip760)\" style=\"stroke:#000000; stroke-linecap:round; stroke-linejoin:round; stroke-width:4; stroke-opacity:1; fill:none\" points=\"229.445,1486.45 229.445,47.2441 \"/>\n",
       "<polyline clip-path=\"url(#clip760)\" style=\"stroke:#000000; stroke-linecap:round; stroke-linejoin:round; stroke-width:4; stroke-opacity:1; fill:none\" points=\"229.445,1445.72 248.343,1445.72 \"/>\n",
       "<polyline clip-path=\"url(#clip760)\" style=\"stroke:#000000; stroke-linecap:round; stroke-linejoin:round; stroke-width:4; stroke-opacity:1; fill:none\" points=\"229.445,1106.28 248.343,1106.28 \"/>\n",
       "<polyline clip-path=\"url(#clip760)\" style=\"stroke:#000000; stroke-linecap:round; stroke-linejoin:round; stroke-width:4; stroke-opacity:1; fill:none\" points=\"229.445,766.846 248.343,766.846 \"/>\n",
       "<polyline clip-path=\"url(#clip760)\" style=\"stroke:#000000; stroke-linecap:round; stroke-linejoin:round; stroke-width:4; stroke-opacity:1; fill:none\" points=\"229.445,427.411 248.343,427.411 \"/>\n",
       "<polyline clip-path=\"url(#clip760)\" style=\"stroke:#000000; stroke-linecap:round; stroke-linejoin:round; stroke-width:4; stroke-opacity:1; fill:none\" points=\"229.445,87.9763 248.343,87.9763 \"/>\n",
       "<path clip-path=\"url(#clip760)\" d=\"M181.501 1431.51 Q177.89 1431.51 176.061 1435.08 Q174.255 1438.62 174.255 1445.75 Q174.255 1452.86 176.061 1456.42 Q177.89 1459.96 181.501 1459.96 Q185.135 1459.96 186.94 1456.42 Q188.769 1452.86 188.769 1445.75 Q188.769 1438.62 186.94 1435.08 Q185.135 1431.51 181.501 1431.51 M181.501 1427.81 Q187.311 1427.81 190.366 1432.42 Q193.445 1437 193.445 1445.75 Q193.445 1454.48 190.366 1459.08 Q187.311 1463.67 181.501 1463.67 Q175.691 1463.67 172.612 1459.08 Q169.556 1454.48 169.556 1445.75 Q169.556 1437 172.612 1432.42 Q175.691 1427.81 181.501 1427.81 Z\" fill=\"#000000\" fill-rule=\"nonzero\" fill-opacity=\"1\" /><path clip-path=\"url(#clip760)\" d=\"M85.0429 1119.63 L101.362 1119.63 L101.362 1123.56 L79.4179 1123.56 L79.4179 1119.63 Q82.0799 1116.87 86.6632 1112.24 Q91.2697 1107.59 92.4502 1106.25 Q94.6956 1103.72 95.5752 1101.99 Q96.478 1100.23 96.478 1098.54 Q96.478 1095.78 94.5336 1094.05 Q92.6123 1092.31 89.5104 1092.31 Q87.3114 1092.31 84.8577 1093.07 Q82.4271 1093.84 79.6494 1095.39 L79.6494 1090.67 Q82.4734 1089.53 84.9271 1088.95 Q87.3808 1088.38 89.4178 1088.38 Q94.7882 1088.38 97.9826 1091.06 Q101.177 1093.75 101.177 1098.24 Q101.177 1100.37 100.367 1102.29 Q99.5798 1104.19 97.4734 1106.78 Q96.8947 1107.45 93.7928 1110.67 Q90.691 1113.86 85.0429 1119.63 Z\" fill=\"#000000\" fill-rule=\"nonzero\" fill-opacity=\"1\" /><path clip-path=\"url(#clip760)\" d=\"M111.223 1089 L129.58 1089 L129.58 1092.94 L115.506 1092.94 L115.506 1101.41 Q116.524 1101.06 117.543 1100.9 Q118.561 1100.71 119.58 1100.71 Q125.367 1100.71 128.746 1103.89 Q132.126 1107.06 132.126 1112.47 Q132.126 1118.05 128.654 1121.15 Q125.182 1124.23 118.862 1124.23 Q116.686 1124.23 114.418 1123.86 Q112.172 1123.49 109.765 1122.75 L109.765 1118.05 Q111.848 1119.19 114.07 1119.74 Q116.293 1120.3 118.77 1120.3 Q122.774 1120.3 125.112 1118.19 Q127.45 1116.08 127.45 1112.47 Q127.45 1108.86 125.112 1106.76 Q122.774 1104.65 118.77 1104.65 Q116.895 1104.65 115.02 1105.07 Q113.168 1105.48 111.223 1106.36 L111.223 1089 Z\" fill=\"#000000\" fill-rule=\"nonzero\" fill-opacity=\"1\" /><path clip-path=\"url(#clip760)\" d=\"M151.339 1092.08 Q147.728 1092.08 145.899 1095.64 Q144.093 1099.19 144.093 1106.32 Q144.093 1113.42 145.899 1116.99 Q147.728 1120.53 151.339 1120.53 Q154.973 1120.53 156.779 1116.99 Q158.607 1113.42 158.607 1106.32 Q158.607 1099.19 156.779 1095.64 Q154.973 1092.08 151.339 1092.08 M151.339 1088.38 Q157.149 1088.38 160.205 1092.98 Q163.283 1097.57 163.283 1106.32 Q163.283 1115.04 160.205 1119.65 Q157.149 1124.23 151.339 1124.23 Q145.529 1124.23 142.45 1119.65 Q139.394 1115.04 139.394 1106.32 Q139.394 1097.57 142.45 1092.98 Q145.529 1088.38 151.339 1088.38 Z\" fill=\"#000000\" fill-rule=\"nonzero\" fill-opacity=\"1\" /><path clip-path=\"url(#clip760)\" d=\"M181.501 1092.08 Q177.89 1092.08 176.061 1095.64 Q174.255 1099.19 174.255 1106.32 Q174.255 1113.42 176.061 1116.99 Q177.89 1120.53 181.501 1120.53 Q185.135 1120.53 186.94 1116.99 Q188.769 1113.42 188.769 1106.32 Q188.769 1099.19 186.94 1095.64 Q185.135 1092.08 181.501 1092.08 M181.501 1088.38 Q187.311 1088.38 190.366 1092.98 Q193.445 1097.57 193.445 1106.32 Q193.445 1115.04 190.366 1119.65 Q187.311 1124.23 181.501 1124.23 Q175.691 1124.23 172.612 1119.65 Q169.556 1115.04 169.556 1106.32 Q169.556 1097.57 172.612 1092.98 Q175.691 1088.38 181.501 1088.38 Z\" fill=\"#000000\" fill-rule=\"nonzero\" fill-opacity=\"1\" /><path clip-path=\"url(#clip760)\" d=\"M81.0614 749.566 L99.4178 749.566 L99.4178 753.501 L85.3438 753.501 L85.3438 761.973 Q86.3623 761.626 87.3808 761.464 Q88.3993 761.279 89.4178 761.279 Q95.2049 761.279 98.5845 764.45 Q101.964 767.621 101.964 773.038 Q101.964 778.617 98.4919 781.719 Q95.0197 784.797 88.7003 784.797 Q86.5243 784.797 84.2558 784.427 Q82.0105 784.057 79.6031 783.316 L79.6031 778.617 Q81.6864 779.751 83.9086 780.307 Q86.1308 780.862 88.6077 780.862 Q92.6123 780.862 94.9502 778.756 Q97.2882 776.649 97.2882 773.038 Q97.2882 769.427 94.9502 767.321 Q92.6123 765.214 88.6077 765.214 Q86.7327 765.214 84.8577 765.631 Q83.0058 766.047 81.0614 766.927 L81.0614 749.566 Z\" fill=\"#000000\" fill-rule=\"nonzero\" fill-opacity=\"1\" /><path clip-path=\"url(#clip760)\" d=\"M121.177 752.645 Q117.566 752.645 115.737 756.209 Q113.932 759.751 113.932 766.881 Q113.932 773.987 115.737 777.552 Q117.566 781.094 121.177 781.094 Q124.811 781.094 126.617 777.552 Q128.445 773.987 128.445 766.881 Q128.445 759.751 126.617 756.209 Q124.811 752.645 121.177 752.645 M121.177 748.941 Q126.987 748.941 130.043 753.547 Q133.121 758.131 133.121 766.881 Q133.121 775.608 130.043 780.214 Q126.987 784.797 121.177 784.797 Q115.367 784.797 112.288 780.214 Q109.233 775.608 109.233 766.881 Q109.233 758.131 112.288 753.547 Q115.367 748.941 121.177 748.941 Z\" fill=\"#000000\" fill-rule=\"nonzero\" fill-opacity=\"1\" /><path clip-path=\"url(#clip760)\" d=\"M151.339 752.645 Q147.728 752.645 145.899 756.209 Q144.093 759.751 144.093 766.881 Q144.093 773.987 145.899 777.552 Q147.728 781.094 151.339 781.094 Q154.973 781.094 156.779 777.552 Q158.607 773.987 158.607 766.881 Q158.607 759.751 156.779 756.209 Q154.973 752.645 151.339 752.645 M151.339 748.941 Q157.149 748.941 160.205 753.547 Q163.283 758.131 163.283 766.881 Q163.283 775.608 160.205 780.214 Q157.149 784.797 151.339 784.797 Q145.529 784.797 142.45 780.214 Q139.394 775.608 139.394 766.881 Q139.394 758.131 142.45 753.547 Q145.529 748.941 151.339 748.941 Z\" fill=\"#000000\" fill-rule=\"nonzero\" fill-opacity=\"1\" /><path clip-path=\"url(#clip760)\" d=\"M181.501 752.645 Q177.89 752.645 176.061 756.209 Q174.255 759.751 174.255 766.881 Q174.255 773.987 176.061 777.552 Q177.89 781.094 181.501 781.094 Q185.135 781.094 186.94 777.552 Q188.769 773.987 188.769 766.881 Q188.769 759.751 186.94 756.209 Q185.135 752.645 181.501 752.645 M181.501 748.941 Q187.311 748.941 190.366 753.547 Q193.445 758.131 193.445 766.881 Q193.445 775.608 190.366 780.214 Q187.311 784.797 181.501 784.797 Q175.691 784.797 172.612 780.214 Q169.556 775.608 169.556 766.881 Q169.556 758.131 172.612 753.547 Q175.691 748.941 181.501 748.941 Z\" fill=\"#000000\" fill-rule=\"nonzero\" fill-opacity=\"1\" /><path clip-path=\"url(#clip760)\" d=\"M79.8346 410.131 L102.057 410.131 L102.057 412.122 L89.5104 444.691 L84.6262 444.691 L96.4317 414.066 L79.8346 414.066 L79.8346 410.131 Z\" fill=\"#000000\" fill-rule=\"nonzero\" fill-opacity=\"1\" /><path clip-path=\"url(#clip760)\" d=\"M111.223 410.131 L129.58 410.131 L129.58 414.066 L115.506 414.066 L115.506 422.538 Q116.524 422.191 117.543 422.029 Q118.561 421.844 119.58 421.844 Q125.367 421.844 128.746 425.015 Q132.126 428.187 132.126 433.603 Q132.126 439.182 128.654 442.284 Q125.182 445.362 118.862 445.362 Q116.686 445.362 114.418 444.992 Q112.172 444.622 109.765 443.881 L109.765 439.182 Q111.848 440.316 114.07 440.872 Q116.293 441.427 118.77 441.427 Q122.774 441.427 125.112 439.321 Q127.45 437.214 127.45 433.603 Q127.45 429.992 125.112 427.886 Q122.774 425.779 118.77 425.779 Q116.895 425.779 115.02 426.196 Q113.168 426.613 111.223 427.492 L111.223 410.131 Z\" fill=\"#000000\" fill-rule=\"nonzero\" fill-opacity=\"1\" /><path clip-path=\"url(#clip760)\" d=\"M151.339 413.21 Q147.728 413.21 145.899 416.775 Q144.093 420.316 144.093 427.446 Q144.093 434.552 145.899 438.117 Q147.728 441.659 151.339 441.659 Q154.973 441.659 156.779 438.117 Q158.607 434.552 158.607 427.446 Q158.607 420.316 156.779 416.775 Q154.973 413.21 151.339 413.21 M151.339 409.506 Q157.149 409.506 160.205 414.113 Q163.283 418.696 163.283 427.446 Q163.283 436.173 160.205 440.779 Q157.149 445.362 151.339 445.362 Q145.529 445.362 142.45 440.779 Q139.394 436.173 139.394 427.446 Q139.394 418.696 142.45 414.113 Q145.529 409.506 151.339 409.506 Z\" fill=\"#000000\" fill-rule=\"nonzero\" fill-opacity=\"1\" /><path clip-path=\"url(#clip760)\" d=\"M181.501 413.21 Q177.89 413.21 176.061 416.775 Q174.255 420.316 174.255 427.446 Q174.255 434.552 176.061 438.117 Q177.89 441.659 181.501 441.659 Q185.135 441.659 186.94 438.117 Q188.769 434.552 188.769 427.446 Q188.769 420.316 186.94 416.775 Q185.135 413.21 181.501 413.21 M181.501 409.506 Q187.311 409.506 190.366 414.113 Q193.445 418.696 193.445 427.446 Q193.445 436.173 190.366 440.779 Q187.311 445.362 181.501 445.362 Q175.691 445.362 172.612 440.779 Q169.556 436.173 169.556 427.446 Q169.556 418.696 172.612 414.113 Q175.691 409.506 181.501 409.506 Z\" fill=\"#000000\" fill-rule=\"nonzero\" fill-opacity=\"1\" /><path clip-path=\"url(#clip760)\" d=\"M51.6634 101.321 L59.3023 101.321 L59.3023 74.9555 L50.9921 76.6222 L50.9921 72.3629 L59.256 70.6963 L63.9319 70.6963 L63.9319 101.321 L71.5707 101.321 L71.5707 105.256 L51.6634 105.256 L51.6634 101.321 Z\" fill=\"#000000\" fill-rule=\"nonzero\" fill-opacity=\"1\" /><path clip-path=\"url(#clip760)\" d=\"M91.0151 73.775 Q87.404 73.775 85.5753 77.3398 Q83.7697 80.8814 83.7697 88.011 Q83.7697 95.1174 85.5753 98.6822 Q87.404 102.224 91.0151 102.224 Q94.6493 102.224 96.4548 98.6822 Q98.2835 95.1174 98.2835 88.011 Q98.2835 80.8814 96.4548 77.3398 Q94.6493 73.775 91.0151 73.775 M91.0151 70.0713 Q96.8252 70.0713 99.8808 74.6777 Q102.959 79.261 102.959 88.011 Q102.959 96.7378 99.8808 101.344 Q96.8252 105.928 91.0151 105.928 Q85.2049 105.928 82.1262 101.344 Q79.0707 96.7378 79.0707 88.011 Q79.0707 79.261 82.1262 74.6777 Q85.2049 70.0713 91.0151 70.0713 Z\" fill=\"#000000\" fill-rule=\"nonzero\" fill-opacity=\"1\" /><path clip-path=\"url(#clip760)\" d=\"M121.177 73.775 Q117.566 73.775 115.737 77.3398 Q113.932 80.8814 113.932 88.011 Q113.932 95.1174 115.737 98.6822 Q117.566 102.224 121.177 102.224 Q124.811 102.224 126.617 98.6822 Q128.445 95.1174 128.445 88.011 Q128.445 80.8814 126.617 77.3398 Q124.811 73.775 121.177 73.775 M121.177 70.0713 Q126.987 70.0713 130.043 74.6777 Q133.121 79.261 133.121 88.011 Q133.121 96.7378 130.043 101.344 Q126.987 105.928 121.177 105.928 Q115.367 105.928 112.288 101.344 Q109.233 96.7378 109.233 88.011 Q109.233 79.261 112.288 74.6777 Q115.367 70.0713 121.177 70.0713 Z\" fill=\"#000000\" fill-rule=\"nonzero\" fill-opacity=\"1\" /><path clip-path=\"url(#clip760)\" d=\"M151.339 73.775 Q147.728 73.775 145.899 77.3398 Q144.093 80.8814 144.093 88.011 Q144.093 95.1174 145.899 98.6822 Q147.728 102.224 151.339 102.224 Q154.973 102.224 156.779 98.6822 Q158.607 95.1174 158.607 88.011 Q158.607 80.8814 156.779 77.3398 Q154.973 73.775 151.339 73.775 M151.339 70.0713 Q157.149 70.0713 160.205 74.6777 Q163.283 79.261 163.283 88.011 Q163.283 96.7378 160.205 101.344 Q157.149 105.928 151.339 105.928 Q145.529 105.928 142.45 101.344 Q139.394 96.7378 139.394 88.011 Q139.394 79.261 142.45 74.6777 Q145.529 70.0713 151.339 70.0713 Z\" fill=\"#000000\" fill-rule=\"nonzero\" fill-opacity=\"1\" /><path clip-path=\"url(#clip760)\" d=\"M181.501 73.775 Q177.89 73.775 176.061 77.3398 Q174.255 80.8814 174.255 88.011 Q174.255 95.1174 176.061 98.6822 Q177.89 102.224 181.501 102.224 Q185.135 102.224 186.94 98.6822 Q188.769 95.1174 188.769 88.011 Q188.769 80.8814 186.94 77.3398 Q185.135 73.775 181.501 73.775 M181.501 70.0713 Q187.311 70.0713 190.366 74.6777 Q193.445 79.261 193.445 88.011 Q193.445 96.7378 190.366 101.344 Q187.311 105.928 181.501 105.928 Q175.691 105.928 172.612 101.344 Q169.556 96.7378 169.556 88.011 Q169.556 79.261 172.612 74.6777 Q175.691 70.0713 181.501 70.0713 Z\" fill=\"#000000\" fill-rule=\"nonzero\" fill-opacity=\"1\" /><polyline clip-path=\"url(#clip762)\" style=\"stroke:#009af9; stroke-linecap:round; stroke-linejoin:round; stroke-width:4; stroke-opacity:1; fill:none\" points=\"289.539,1445.72 340.901,1445.72 392.263,1445.72 443.625,1445.72 494.987,1445.72 546.349,1445.72 597.712,1445.72 649.074,1445.72 700.436,1445.72 751.798,1445.72 803.16,1445.72 854.522,1445.72 905.884,1445.72 957.247,1445.72 1008.61,1445.72 1059.97,1445.72 1111.33,1445.72 1162.7,1445.72 1214.06,1445.72 1265.42,87.9763 1316.78,1445.72 1368.14,1445.72 1419.51,1445.72 1470.87,1445.72 1522.23,1445.72 1573.59,1445.72 1624.95,1445.72 1676.32,1445.72 1727.68,1445.72 1779.04,1445.72 1830.4,1445.72 1881.77,1445.72 1933.13,1445.72 1984.49,1445.72 2035.85,1445.72 2087.21,1445.72 2138.58,1445.72 2189.94,1445.72 2241.3,1445.72 2292.66,1445.72 \"/>\n",
       "<polyline clip-path=\"url(#clip762)\" style=\"stroke:#e26f46; stroke-linecap:round; stroke-linejoin:round; stroke-width:4; stroke-opacity:1; fill:none\" points=\"289.539,1445.72 340.901,1445.72 392.263,1445.72 443.625,1445.72 494.987,1445.72 546.349,1445.72 597.712,1445.72 649.074,1445.72 700.436,1445.72 751.798,1445.72 803.16,1445.72 854.522,1445.71 905.884,1445.69 957.247,1445.4 1008.61,1443.24 1059.97,1432.05 1111.33,1391.97 1162.7,1296.83 1214.06,1162.96 1265.42,1091.75 1316.78,1162.96 1368.14,1296.83 1419.51,1391.97 1470.87,1432.05 1522.23,1443.24 1573.59,1445.4 1624.95,1445.69 1676.32,1445.71 1727.68,1445.72 1779.04,1445.72 1830.4,1445.72 1881.77,1445.72 1933.13,1445.72 1984.49,1445.72 2035.85,1445.72 2087.21,1445.72 2138.58,1445.72 2189.94,1445.72 2241.3,1445.72 2292.66,1445.72 \"/>\n",
       "<polyline clip-path=\"url(#clip762)\" style=\"stroke:#3da44d; stroke-linecap:round; stroke-linejoin:round; stroke-width:4; stroke-opacity:1; fill:none\" points=\"289.539,1445.72 340.901,1445.72 392.263,1445.72 443.625,1445.72 494.987,1445.72 546.349,1445.72 597.712,1445.72 649.074,1445.72 700.436,1445.71 751.798,1445.7 803.16,1445.63 854.522,1445.3 905.884,1443.94 957.247,1439.38 1008.61,1426.8 1059.97,1398.77 1111.33,1349.42 1162.7,1283.62 1214.06,1223.35 1265.42,1198.47 1316.78,1223.35 1368.14,1283.62 1419.51,1349.42 1470.87,1398.77 1522.23,1426.8 1573.59,1439.38 1624.95,1443.94 1676.32,1445.3 1727.68,1445.63 1779.04,1445.7 1830.4,1445.71 1881.77,1445.72 1933.13,1445.72 1984.49,1445.72 2035.85,1445.72 2087.21,1445.72 2138.58,1445.72 2189.94,1445.72 2241.3,1445.72 2292.66,1445.72 \"/>\n",
       "<polyline clip-path=\"url(#clip762)\" style=\"stroke:#c271d2; stroke-linecap:round; stroke-linejoin:round; stroke-width:4; stroke-opacity:1; fill:none\" points=\"289.539,1445.72 340.901,1445.72 392.263,1445.72 443.625,1445.72 494.987,1445.72 546.349,1445.72 597.712,1445.71 649.074,1445.7 700.436,1445.65 751.798,1445.47 803.16,1444.86 854.522,1443.08 905.884,1438.58 957.247,1428.64 1008.61,1409.75 1059.97,1379.2 1111.33,1338 1162.7,1293.4 1214.06,1258.02 1265.42,1244.45 1316.78,1258.02 1368.14,1293.4 1419.51,1338 1470.87,1379.2 1522.23,1409.75 1573.59,1428.64 1624.95,1438.58 1676.32,1443.08 1727.68,1444.86 1779.04,1445.47 1830.4,1445.65 1881.77,1445.7 1933.13,1445.71 1984.49,1445.72 2035.85,1445.72 2087.21,1445.72 2138.58,1445.72 2189.94,1445.72 2241.3,1445.72 2292.66,1445.72 \"/>\n",
       "<polyline clip-path=\"url(#clip762)\" style=\"stroke:#ac8d18; stroke-linecap:round; stroke-linejoin:round; stroke-width:4; stroke-opacity:1; fill:none\" points=\"289.539,1445.72 340.901,1445.72 392.263,1445.72 443.625,1445.72 494.987,1445.71 546.349,1445.71 597.712,1445.68 649.074,1445.59 700.436,1445.33 751.798,1444.63 803.16,1442.91 854.522,1439.13 905.884,1431.66 957.247,1418.48 1008.61,1397.89 1059.97,1369.73 1111.33,1336.62 1162.7,1304.34 1214.06,1280.48 1265.42,1271.65 1316.78,1280.48 1368.14,1304.34 1419.51,1336.62 1470.87,1369.73 1522.23,1397.89 1573.59,1418.48 1624.95,1431.66 1676.32,1439.13 1727.68,1442.91 1779.04,1444.63 1830.4,1445.33 1881.77,1445.59 1933.13,1445.68 1984.49,1445.71 2035.85,1445.71 2087.21,1445.72 2138.58,1445.72 2189.94,1445.72 2241.3,1445.72 2292.66,1445.72 \"/>\n",
       "<polyline clip-path=\"url(#clip762)\" style=\"stroke:#00a9ad; stroke-linecap:round; stroke-linejoin:round; stroke-width:4; stroke-opacity:1; fill:none\" points=\"289.539,1445.72 340.901,1445.72 392.263,1445.71 443.625,1445.71 494.987,1445.7 546.349,1445.66 597.712,1445.55 649.074,1445.27 700.436,1444.59 751.798,1443.09 803.16,1440.07 854.522,1434.47 905.884,1425 957.247,1410.46 1008.61,1390.34 1059.97,1365.48 1111.33,1338.57 1162.7,1313.93 1214.06,1296.48 1265.42,1290.15 1316.78,1296.48 1368.14,1313.93 1419.51,1338.57 1470.87,1365.48 1522.23,1390.34 1573.59,1410.46 1624.95,1425 1676.32,1434.47 1727.68,1440.07 1779.04,1443.09 1830.4,1444.59 1881.77,1445.27 1933.13,1445.55 1984.49,1445.66 2035.85,1445.7 2087.21,1445.71 2138.58,1445.71 2189.94,1445.72 2241.3,1445.72 2292.66,1445.72 \"/>\n",
       "<polyline clip-path=\"url(#clip762)\" style=\"stroke:#ed5d92; stroke-linecap:round; stroke-linejoin:round; stroke-width:4; stroke-opacity:1; fill:none\" points=\"289.539,1445.72 340.901,1445.71 392.263,1445.71 443.625,1445.69 494.987,1445.64 546.349,1445.53 597.712,1445.25 649.074,1444.65 700.436,1443.41 751.798,1441.03 803.16,1436.81 854.522,1429.86 905.884,1419.29 957.247,1404.51 1008.61,1385.66 1059.97,1363.91 1111.33,1341.64 1162.7,1322.07 1214.06,1308.59 1265.42,1303.78 1316.78,1308.59 1368.14,1322.07 1419.51,1341.64 1470.87,1363.91 1522.23,1385.66 1573.59,1404.51 1624.95,1419.29 1676.32,1429.86 1727.68,1436.81 1779.04,1441.03 1830.4,1443.41 1881.77,1444.65 1933.13,1445.25 1984.49,1445.53 2035.85,1445.64 2087.21,1445.69 2138.58,1445.71 2189.94,1445.71 2241.3,1445.71 2292.66,1445.72 \"/>\n",
       "<polyline clip-path=\"url(#clip762)\" style=\"stroke:#c68125; stroke-linecap:round; stroke-linejoin:round; stroke-width:4; stroke-opacity:1; fill:none\" points=\"289.539,1445.72 340.901,1445.71 392.263,1445.69 443.625,1445.64 494.987,1445.52 546.349,1445.28 597.712,1444.76 649.074,1443.75 700.436,1441.9 751.798,1438.69 803.16,1433.51 854.522,1425.67 905.884,1414.62 957.247,1400.2 1008.61,1382.84 1059.97,1363.77 1111.33,1344.99 1162.7,1328.99 1214.06,1318.18 1265.42,1314.36 1316.78,1318.18 1368.14,1328.99 1419.51,1344.99 1470.87,1363.77 1522.23,1382.84 1573.59,1400.2 1624.95,1414.62 1676.32,1425.67 1727.68,1433.51 1779.04,1438.69 1830.4,1441.9 1881.77,1443.75 1933.13,1444.76 1984.49,1445.28 2035.85,1445.52 2087.21,1445.64 2138.58,1445.68 2189.94,1445.7 2241.3,1445.71 2292.66,1445.72 \"/>\n",
       "<polyline clip-path=\"url(#clip762)\" style=\"stroke:#00a98d; stroke-linecap:round; stroke-linejoin:round; stroke-width:4; stroke-opacity:1; fill:none\" points=\"289.539,1445.72 340.901,1445.69 392.263,1445.64 443.625,1445.53 494.987,1445.32 546.349,1444.89 597.712,1444.08 649.074,1442.63 700.436,1440.18 751.798,1436.27 803.16,1430.37 854.522,1422.01 905.884,1410.9 957.247,1397.1 1008.61,1381.22 1059.97,1364.4 1111.33,1348.33 1162.7,1334.92 1214.06,1326 1265.42,1322.87 1316.78,1326 1368.14,1334.92 1419.51,1348.33 1470.87,1364.4 1522.23,1381.22 1573.59,1397.1 1624.95,1410.9 1676.32,1422.01 1727.68,1430.37 1779.04,1436.27 1830.4,1440.18 1881.77,1442.63 1933.13,1444.08 1984.49,1444.89 2035.85,1445.32 2087.21,1445.53 2138.58,1445.64 2189.94,1445.68 2241.3,1445.7 2292.66,1445.72 \"/>\n",
       "<polyline clip-path=\"url(#clip762)\" style=\"stroke:#8e971d; stroke-linecap:round; stroke-linejoin:round; stroke-width:4; stroke-opacity:1; fill:none\" points=\"289.539,1445.72 340.901,1445.65 392.263,1445.55 443.625,1445.37 494.987,1445.01 546.349,1444.37 597.712,1443.23 649.074,1441.35 700.436,1438.37 751.798,1433.88 803.16,1427.5 854.522,1418.89 905.884,1407.95 957.247,1394.91 1008.61,1380.39 1059.97,1365.45 1111.33,1351.5 1162.7,1340.07 1214.06,1332.55 1265.42,1329.92 1316.78,1332.55 1368.14,1340.07 1419.51,1351.5 1470.87,1365.45 1522.23,1380.39 1573.59,1394.91 1624.95,1407.95 1676.32,1418.89 1727.68,1427.5 1779.04,1433.88 1830.4,1438.37 1881.77,1441.35 1933.13,1443.23 1984.49,1444.36 2035.85,1445.01 2087.21,1445.36 2138.58,1445.55 2189.94,1445.64 2241.3,1445.69 2292.66,1445.72 \"/>\n",
       "<polyline clip-path=\"url(#clip762)\" style=\"stroke:#00a8cb; stroke-linecap:round; stroke-linejoin:round; stroke-width:4; stroke-opacity:1; fill:none\" points=\"289.539,1445.72 340.901,1445.6 392.263,1445.43 443.625,1445.13 494.987,1444.61 546.349,1443.73 597.712,1442.27 649.074,1439.98 700.436,1436.54 751.798,1431.63 803.16,1424.93 854.522,1416.26 905.884,1405.64 957.247,1393.37 1008.61,1380.09 1059.97,1366.73 1111.33,1354.48 1162.7,1344.58 1214.06,1338.12 1265.42,1335.88 1316.78,1338.12 1368.14,1344.58 1419.51,1354.48 1470.87,1366.73 1522.23,1380.09 1573.59,1393.37 1624.95,1405.64 1676.32,1416.26 1727.68,1424.93 1779.04,1431.63 1830.4,1436.54 1881.77,1439.98 1933.13,1442.27 1984.49,1443.72 2035.85,1444.61 2087.21,1445.13 2138.58,1445.42 2189.94,1445.57 2241.3,1445.66 2292.66,1445.72 \"/>\n",
       "<path clip-path=\"url(#clip760)\" d=\"M2017.68 717.298 L2281.98 717.298 L2281.98 95.2176 L2017.68 95.2176  Z\" fill=\"#ffffff\" fill-rule=\"evenodd\" fill-opacity=\"1\"/>\n",
       "<polyline clip-path=\"url(#clip760)\" style=\"stroke:#000000; stroke-linecap:round; stroke-linejoin:round; stroke-width:4; stroke-opacity:1; fill:none\" points=\"2017.68,717.298 2281.98,717.298 2281.98,95.2176 2017.68,95.2176 2017.68,717.298 \"/>\n",
       "<polyline clip-path=\"url(#clip760)\" style=\"stroke:#009af9; stroke-linecap:round; stroke-linejoin:round; stroke-width:4; stroke-opacity:1; fill:none\" points=\"2041.27,147.058 2182.83,147.058 \"/>\n",
       "<path clip-path=\"url(#clip760)\" d=\"M2207.09 160.402 L2214.73 160.402 L2214.73 134.037 L2206.42 135.703 L2206.42 131.444 L2214.68 129.778 L2219.36 129.778 L2219.36 160.402 L2227 160.402 L2227 164.338 L2207.09 164.338 L2207.09 160.402 Z\" fill=\"#000000\" fill-rule=\"nonzero\" fill-opacity=\"1\" /><polyline clip-path=\"url(#clip760)\" style=\"stroke:#e26f46; stroke-linecap:round; stroke-linejoin:round; stroke-width:4; stroke-opacity:1; fill:none\" points=\"2041.27,198.898 2182.83,198.898 \"/>\n",
       "<path clip-path=\"url(#clip760)\" d=\"M2212.04 212.242 L2228.36 212.242 L2228.36 216.178 L2206.42 216.178 L2206.42 212.242 Q2209.08 209.488 2213.66 204.858 Q2218.27 200.205 2219.45 198.863 Q2221.7 196.34 2222.58 194.604 Q2223.48 192.844 2223.48 191.155 Q2223.48 188.4 2221.53 186.664 Q2219.61 184.928 2216.51 184.928 Q2214.31 184.928 2211.86 185.692 Q2209.43 186.455 2206.65 188.006 L2206.65 183.284 Q2209.47 182.15 2211.93 181.571 Q2214.38 180.993 2216.42 180.993 Q2221.79 180.993 2224.98 183.678 Q2228.18 186.363 2228.18 190.854 Q2228.18 192.983 2227.37 194.905 Q2226.58 196.803 2224.47 199.395 Q2223.9 200.067 2220.79 203.284 Q2217.69 206.479 2212.04 212.242 Z\" fill=\"#000000\" fill-rule=\"nonzero\" fill-opacity=\"1\" /><polyline clip-path=\"url(#clip760)\" style=\"stroke:#3da44d; stroke-linecap:round; stroke-linejoin:round; stroke-width:4; stroke-opacity:1; fill:none\" points=\"2041.27,250.738 2182.83,250.738 \"/>\n",
       "<path clip-path=\"url(#clip760)\" d=\"M2222.04 249.383 Q2225.4 250.101 2227.28 252.369 Q2229.17 254.638 2229.17 257.971 Q2229.17 263.087 2225.66 265.888 Q2222.14 268.689 2215.66 268.689 Q2213.48 268.689 2211.16 268.249 Q2208.87 267.832 2206.42 266.976 L2206.42 262.462 Q2208.36 263.596 2210.68 264.175 Q2212.99 264.754 2215.52 264.754 Q2219.91 264.754 2222.21 263.018 Q2224.52 261.281 2224.52 257.971 Q2224.52 254.916 2222.37 253.203 Q2220.24 251.467 2216.42 251.467 L2212.39 251.467 L2212.39 247.624 L2216.6 247.624 Q2220.05 247.624 2221.88 246.258 Q2223.71 244.87 2223.71 242.277 Q2223.71 239.615 2221.81 238.203 Q2219.94 236.768 2216.42 236.768 Q2214.5 236.768 2212.3 237.184 Q2210.1 237.601 2207.46 238.481 L2207.46 234.314 Q2210.12 233.573 2212.44 233.203 Q2214.78 232.833 2216.84 232.833 Q2222.16 232.833 2225.26 235.263 Q2228.36 237.67 2228.36 241.791 Q2228.36 244.661 2226.72 246.652 Q2225.08 248.62 2222.04 249.383 Z\" fill=\"#000000\" fill-rule=\"nonzero\" fill-opacity=\"1\" /><polyline clip-path=\"url(#clip760)\" style=\"stroke:#c271d2; stroke-linecap:round; stroke-linejoin:round; stroke-width:4; stroke-opacity:1; fill:none\" points=\"2041.27,302.578 2182.83,302.578 \"/>\n",
       "<path clip-path=\"url(#clip760)\" d=\"M2222.02 289.372 L2210.22 307.821 L2222.02 307.821 L2222.02 289.372 M2220.79 285.298 L2226.67 285.298 L2226.67 307.821 L2231.6 307.821 L2231.6 311.709 L2226.67 311.709 L2226.67 319.858 L2222.02 319.858 L2222.02 311.709 L2206.42 311.709 L2206.42 307.196 L2220.79 285.298 Z\" fill=\"#000000\" fill-rule=\"nonzero\" fill-opacity=\"1\" /><polyline clip-path=\"url(#clip760)\" style=\"stroke:#ac8d18; stroke-linecap:round; stroke-linejoin:round; stroke-width:4; stroke-opacity:1; fill:none\" points=\"2041.27,354.418 2182.83,354.418 \"/>\n",
       "<path clip-path=\"url(#clip760)\" d=\"M2207.88 337.138 L2226.23 337.138 L2226.23 341.073 L2212.16 341.073 L2212.16 349.545 Q2213.18 349.198 2214.2 349.036 Q2215.22 348.85 2216.23 348.85 Q2222.02 348.85 2225.4 352.022 Q2228.78 355.193 2228.78 360.61 Q2228.78 366.188 2225.31 369.29 Q2221.84 372.369 2215.52 372.369 Q2213.34 372.369 2211.07 371.998 Q2208.83 371.628 2206.42 370.887 L2206.42 366.188 Q2208.5 367.323 2210.72 367.878 Q2212.95 368.434 2215.42 368.434 Q2219.43 368.434 2221.77 366.327 Q2224.1 364.221 2224.1 360.61 Q2224.1 356.999 2221.77 354.892 Q2219.43 352.786 2215.42 352.786 Q2213.55 352.786 2211.67 353.202 Q2209.82 353.619 2207.88 354.499 L2207.88 337.138 Z\" fill=\"#000000\" fill-rule=\"nonzero\" fill-opacity=\"1\" /><polyline clip-path=\"url(#clip760)\" style=\"stroke:#00a9ad; stroke-linecap:round; stroke-linejoin:round; stroke-width:4; stroke-opacity:1; fill:none\" points=\"2041.27,406.258 2182.83,406.258 \"/>\n",
       "<path clip-path=\"url(#clip760)\" d=\"M2218.76 404.394 Q2215.61 404.394 2213.76 406.547 Q2211.93 408.7 2211.93 412.45 Q2211.93 416.176 2213.76 418.352 Q2215.61 420.505 2218.76 420.505 Q2221.91 420.505 2223.73 418.352 Q2225.59 416.176 2225.59 412.45 Q2225.59 408.7 2223.73 406.547 Q2221.91 404.394 2218.76 404.394 M2228.04 389.741 L2228.04 394.001 Q2226.28 393.167 2224.47 392.728 Q2222.69 392.288 2220.93 392.288 Q2216.3 392.288 2213.85 395.413 Q2211.42 398.538 2211.07 404.857 Q2212.44 402.843 2214.5 401.778 Q2216.56 400.69 2219.03 400.69 Q2224.24 400.69 2227.25 403.862 Q2230.28 407.01 2230.28 412.45 Q2230.28 417.774 2227.14 420.991 Q2223.99 424.209 2218.76 424.209 Q2212.76 424.209 2209.59 419.626 Q2206.42 415.019 2206.42 406.292 Q2206.42 398.098 2210.31 393.237 Q2214.2 388.353 2220.75 388.353 Q2222.51 388.353 2224.29 388.7 Q2226.1 389.047 2228.04 389.741 Z\" fill=\"#000000\" fill-rule=\"nonzero\" fill-opacity=\"1\" /><polyline clip-path=\"url(#clip760)\" style=\"stroke:#ed5d92; stroke-linecap:round; stroke-linejoin:round; stroke-width:4; stroke-opacity:1; fill:none\" points=\"2041.27,458.098 2182.83,458.098 \"/>\n",
       "<path clip-path=\"url(#clip760)\" d=\"M2206.42 440.818 L2228.64 440.818 L2228.64 442.808 L2216.1 475.378 L2211.21 475.378 L2223.02 444.753 L2206.42 444.753 L2206.42 440.818 Z\" fill=\"#000000\" fill-rule=\"nonzero\" fill-opacity=\"1\" /><polyline clip-path=\"url(#clip760)\" style=\"stroke:#c68125; stroke-linecap:round; stroke-linejoin:round; stroke-width:4; stroke-opacity:1; fill:none\" points=\"2041.27,509.938 2182.83,509.938 \"/>\n",
       "<path clip-path=\"url(#clip760)\" d=\"M2218.27 510.806 Q2214.94 510.806 2213.02 512.588 Q2211.12 514.37 2211.12 517.495 Q2211.12 520.62 2213.02 522.403 Q2214.94 524.185 2218.27 524.185 Q2221.6 524.185 2223.53 522.403 Q2225.45 520.597 2225.45 517.495 Q2225.45 514.37 2223.53 512.588 Q2221.63 510.806 2218.27 510.806 M2213.6 508.815 Q2210.59 508.074 2208.9 506.014 Q2207.23 503.954 2207.23 500.991 Q2207.23 496.847 2210.17 494.44 Q2213.13 492.033 2218.27 492.033 Q2223.43 492.033 2226.37 494.44 Q2229.31 496.847 2229.31 500.991 Q2229.31 503.954 2227.62 506.014 Q2225.96 508.074 2222.97 508.815 Q2226.35 509.602 2228.22 511.894 Q2230.12 514.185 2230.12 517.495 Q2230.12 522.519 2227.04 525.204 Q2223.99 527.889 2218.27 527.889 Q2212.55 527.889 2209.47 525.204 Q2206.42 522.519 2206.42 517.495 Q2206.42 514.185 2208.32 511.894 Q2210.22 509.602 2213.6 508.815 M2211.88 501.431 Q2211.88 504.116 2213.55 505.62 Q2215.24 507.125 2218.27 507.125 Q2221.28 507.125 2222.97 505.62 Q2224.68 504.116 2224.68 501.431 Q2224.68 498.745 2222.97 497.241 Q2221.28 495.736 2218.27 495.736 Q2215.24 495.736 2213.55 497.241 Q2211.88 498.745 2211.88 501.431 Z\" fill=\"#000000\" fill-rule=\"nonzero\" fill-opacity=\"1\" /><polyline clip-path=\"url(#clip760)\" style=\"stroke:#00a98d; stroke-linecap:round; stroke-linejoin:round; stroke-width:4; stroke-opacity:1; fill:none\" points=\"2041.27,561.778 2182.83,561.778 \"/>\n",
       "<path clip-path=\"url(#clip760)\" d=\"M2208.64 578.34 L2208.64 574.081 Q2210.4 574.914 2212.21 575.354 Q2214.01 575.794 2215.75 575.794 Q2220.38 575.794 2222.81 572.692 Q2225.26 569.567 2225.61 563.224 Q2224.27 565.215 2222.21 566.28 Q2220.15 567.345 2217.65 567.345 Q2212.46 567.345 2209.43 564.22 Q2206.42 561.072 2206.42 555.632 Q2206.42 550.308 2209.57 547.09 Q2212.72 543.873 2217.95 543.873 Q2223.94 543.873 2227.09 548.479 Q2230.26 553.062 2230.26 561.812 Q2230.26 569.984 2226.37 574.868 Q2222.51 579.729 2215.96 579.729 Q2214.2 579.729 2212.39 579.382 Q2210.59 579.034 2208.64 578.34 M2217.95 563.687 Q2221.1 563.687 2222.92 561.534 Q2224.78 559.382 2224.78 555.632 Q2224.78 551.905 2222.92 549.752 Q2221.1 547.576 2217.95 547.576 Q2214.8 547.576 2212.95 549.752 Q2211.12 551.905 2211.12 555.632 Q2211.12 559.382 2212.95 561.534 Q2214.8 563.687 2217.95 563.687 Z\" fill=\"#000000\" fill-rule=\"nonzero\" fill-opacity=\"1\" /><polyline clip-path=\"url(#clip760)\" style=\"stroke:#8e971d; stroke-linecap:round; stroke-linejoin:round; stroke-width:4; stroke-opacity:1; fill:none\" points=\"2041.27,613.618 2182.83,613.618 \"/>\n",
       "<path clip-path=\"url(#clip760)\" d=\"M2207.09 626.962 L2214.73 626.962 L2214.73 600.597 L2206.42 602.263 L2206.42 598.004 L2214.68 596.338 L2219.36 596.338 L2219.36 626.962 L2227 626.962 L2227 630.898 L2207.09 630.898 L2207.09 626.962 Z\" fill=\"#000000\" fill-rule=\"nonzero\" fill-opacity=\"1\" /><path clip-path=\"url(#clip760)\" d=\"M2246.44 599.416 Q2242.83 599.416 2241 602.981 Q2239.2 606.523 2239.2 613.652 Q2239.2 620.759 2241 624.324 Q2242.83 627.865 2246.44 627.865 Q2250.08 627.865 2251.88 624.324 Q2253.71 620.759 2253.71 613.652 Q2253.71 606.523 2251.88 602.981 Q2250.08 599.416 2246.44 599.416 M2246.44 595.713 Q2252.25 595.713 2255.31 600.319 Q2258.39 604.902 2258.39 613.652 Q2258.39 622.379 2255.31 626.986 Q2252.25 631.569 2246.44 631.569 Q2240.63 631.569 2237.55 626.986 Q2234.5 622.379 2234.5 613.652 Q2234.5 604.902 2237.55 600.319 Q2240.63 595.713 2246.44 595.713 Z\" fill=\"#000000\" fill-rule=\"nonzero\" fill-opacity=\"1\" /><polyline clip-path=\"url(#clip760)\" style=\"stroke:#00a8cb; stroke-linecap:round; stroke-linejoin:round; stroke-width:4; stroke-opacity:1; fill:none\" points=\"2041.27,665.458 2182.83,665.458 \"/>\n",
       "<path clip-path=\"url(#clip760)\" d=\"M2207.09 678.802 L2214.73 678.802 L2214.73 652.437 L2206.42 654.103 L2206.42 649.844 L2214.68 648.178 L2219.36 648.178 L2219.36 678.802 L2227 678.802 L2227 682.738 L2207.09 682.738 L2207.09 678.802 Z\" fill=\"#000000\" fill-rule=\"nonzero\" fill-opacity=\"1\" /><path clip-path=\"url(#clip760)\" d=\"M2237.25 678.802 L2244.89 678.802 L2244.89 652.437 L2236.58 654.103 L2236.58 649.844 L2244.84 648.178 L2249.52 648.178 L2249.52 678.802 L2257.16 678.802 L2257.16 682.738 L2237.25 682.738 L2237.25 678.802 Z\" fill=\"#000000\" fill-rule=\"nonzero\" fill-opacity=\"1\" /></svg>\n"
      ]
     },
     "execution_count": 39,
     "metadata": {},
     "output_type": "execute_result"
    }
   ],
   "source": [
    "plot()\n",
    "for (i,c) in enumerate(sols)\n",
    "    plot!(c, label=i)\n",
    "end\n",
    "plot!()"
   ]
  },
  {
   "cell_type": "code",
   "execution_count": null,
   "id": "05e1a1e0-cd8d-4408-be3c-bb2edde853d8",
   "metadata": {},
   "outputs": [],
   "source": []
  },
  {
   "cell_type": "code",
   "execution_count": null,
   "id": "c8fb83e6-8dab-41e9-9098-3c28a37e3f25",
   "metadata": {},
   "outputs": [],
   "source": []
  },
  {
   "cell_type": "code",
   "execution_count": null,
   "id": "1c4daa47-bf5a-4258-a344-11184f1d54e6",
   "metadata": {},
   "outputs": [],
   "source": []
  },
  {
   "cell_type": "code",
   "execution_count": 40,
   "id": "55c9e588-9210-4eae-87a7-73c14460203a",
   "metadata": {
    "tags": []
   },
   "outputs": [
    {
     "data": {
      "text/plain": [
       "2"
      ]
     },
     "execution_count": 40,
     "metadata": {},
     "output_type": "execute_result"
    }
   ],
   "source": [
    "1+1"
   ]
  },
  {
   "cell_type": "code",
   "execution_count": null,
   "id": "6282c3dc-56e8-40f2-b72d-60d64e6b3ca0",
   "metadata": {},
   "outputs": [],
   "source": []
  }
 ],
 "metadata": {
  "kernelspec": {
   "display_name": "Julia 1.9.4",
   "language": "julia",
   "name": "julia-1.9.4"
  },
  "language_info": {
   "file_extension": ".jl",
   "mimetype": "application/julia",
   "name": "julia",
   "version": "1.9.4"
  }
 },
 "nbformat": 4,
 "nbformat_minor": 5
}

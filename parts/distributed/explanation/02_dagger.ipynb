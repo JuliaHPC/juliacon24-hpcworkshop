{
 "cells": [
  {
   "cell_type": "code",
   "execution_count": 5,
   "id": "2c352005-c33b-49be-bcb8-06d6aa9efd3e",
   "metadata": {
    "tags": []
   },
   "outputs": [
    {
     "name": "stdout",
     "output_type": "stream",
     "text": [
      "\u001b[32m\u001b[1mStatus\u001b[22m\u001b[39m `/global/u1/b/blaschke/juliacon24-hpcworkshop/parts/distributed/Project.toml`\n",
      "  \u001b[90m[d58978e5] \u001b[39mDagger v0.18.12\n",
      "  \u001b[90m[aaf54ef3] \u001b[39mDistributedArrays v0.6.7\n"
     ]
    },
    {
     "name": "stderr",
     "output_type": "stream",
     "text": [
      "\u001b[32m\u001b[1m  Activating\u001b[22m\u001b[39m project at `/global/u1/b/blaschke/juliacon24-hpcworkshop/parts/distributed`\n"
     ]
    }
   ],
   "source": [
    "import Pkg;\n",
    "Pkg.activate(@__DIR__)\n",
    "Pkg.status()"
   ]
  },
  {
   "cell_type": "code",
   "execution_count": 6,
   "id": "e30f8641-767b-4e2f-898b-28891b33bac4",
   "metadata": {
    "tags": []
   },
   "outputs": [
    {
     "data": {
      "text/plain": [
       "4-element Vector{Int64}:\n",
       " 2\n",
       " 3\n",
       " 4\n",
       " 5"
      ]
     },
     "execution_count": 6,
     "metadata": {},
     "output_type": "execute_result"
    }
   ],
   "source": [
    "using Distributed\n",
    "\n",
    "addprocs(4)"
   ]
  },
  {
   "cell_type": "code",
   "execution_count": 10,
   "id": "4a89a1df-831c-4be9-a3f3-cecc4c6244aa",
   "metadata": {
    "tags": []
   },
   "outputs": [],
   "source": [
    "@everywhere using Dagger"
   ]
  },
  {
   "cell_type": "code",
   "execution_count": 11,
   "id": "82b566bc-45d7-4c2a-944c-0b0e385dd7c9",
   "metadata": {
    "tags": []
   },
   "outputs": [
    {
     "data": {
      "text/plain": [
       "100x100 DMatrix{Float64} with 2x2 partitions of size 50x50:\n",
       "\u001b[33m~0% completed\u001b[39m\n",
       " \u001b[90m...\u001b[39m  \u001b[90m...\u001b[39m  \u001b[90m...\u001b[39m  \u001b[90m...\u001b[39m  \u001b[90m...\u001b[39m  …  \u001b[90m...\u001b[39m  \u001b[90m...\u001b[39m  \u001b[90m...\u001b[39m  \u001b[90m...\u001b[39m  \u001b[90m...\u001b[39m\n",
       " \u001b[90m...\u001b[39m  \u001b[90m...\u001b[39m  \u001b[90m...\u001b[39m  \u001b[90m...\u001b[39m  \u001b[90m...\u001b[39m     \u001b[90m...\u001b[39m  \u001b[90m...\u001b[39m  \u001b[90m...\u001b[39m  \u001b[90m...\u001b[39m  \u001b[90m...\u001b[39m\n",
       " \u001b[90m...\u001b[39m  \u001b[90m...\u001b[39m  \u001b[90m...\u001b[39m  \u001b[90m...\u001b[39m  \u001b[90m...\u001b[39m     \u001b[90m...\u001b[39m  \u001b[90m...\u001b[39m  \u001b[90m...\u001b[39m  \u001b[90m...\u001b[39m  \u001b[90m...\u001b[39m\n",
       " \u001b[90m...\u001b[39m  \u001b[90m...\u001b[39m  \u001b[90m...\u001b[39m  \u001b[90m...\u001b[39m  \u001b[90m...\u001b[39m     \u001b[90m...\u001b[39m  \u001b[90m...\u001b[39m  \u001b[90m...\u001b[39m  \u001b[90m...\u001b[39m  \u001b[90m...\u001b[39m\n",
       " \u001b[90m...\u001b[39m  \u001b[90m...\u001b[39m  \u001b[90m...\u001b[39m  \u001b[90m...\u001b[39m  \u001b[90m...\u001b[39m     \u001b[90m...\u001b[39m  \u001b[90m...\u001b[39m  \u001b[90m...\u001b[39m  \u001b[90m...\u001b[39m  \u001b[90m...\u001b[39m\n",
       " \u001b[90m...\u001b[39m  \u001b[90m...\u001b[39m  \u001b[90m...\u001b[39m  \u001b[90m...\u001b[39m  \u001b[90m...\u001b[39m  …  \u001b[90m...\u001b[39m  \u001b[90m...\u001b[39m  \u001b[90m...\u001b[39m  \u001b[90m...\u001b[39m  \u001b[90m...\u001b[39m\n",
       " \u001b[90m...\u001b[39m  \u001b[90m...\u001b[39m  \u001b[90m...\u001b[39m  \u001b[90m...\u001b[39m  \u001b[90m...\u001b[39m     \u001b[90m...\u001b[39m  \u001b[90m...\u001b[39m  \u001b[90m...\u001b[39m  \u001b[90m...\u001b[39m  \u001b[90m...\u001b[39m\n",
       " \u001b[90m...\u001b[39m  \u001b[90m...\u001b[39m  \u001b[90m...\u001b[39m  \u001b[90m...\u001b[39m  \u001b[90m...\u001b[39m     \u001b[90m...\u001b[39m  \u001b[90m...\u001b[39m  \u001b[90m...\u001b[39m  \u001b[90m...\u001b[39m  \u001b[90m...\u001b[39m\n",
       " \u001b[90m...\u001b[39m  \u001b[90m...\u001b[39m  \u001b[90m...\u001b[39m  \u001b[90m...\u001b[39m  \u001b[90m...\u001b[39m     \u001b[90m...\u001b[39m  \u001b[90m...\u001b[39m  \u001b[90m...\u001b[39m  \u001b[90m...\u001b[39m  \u001b[90m...\u001b[39m\n",
       " \u001b[90m...\u001b[39m  \u001b[90m...\u001b[39m  \u001b[90m...\u001b[39m  \u001b[90m...\u001b[39m  \u001b[90m...\u001b[39m     \u001b[90m...\u001b[39m  \u001b[90m...\u001b[39m  \u001b[90m...\u001b[39m  \u001b[90m...\u001b[39m  \u001b[90m...\u001b[39m\n",
       " \u001b[90m...\u001b[39m  \u001b[90m...\u001b[39m  \u001b[90m...\u001b[39m  \u001b[90m...\u001b[39m  \u001b[90m...\u001b[39m  …  \u001b[90m...\u001b[39m  \u001b[90m...\u001b[39m  \u001b[90m...\u001b[39m  \u001b[90m...\u001b[39m  \u001b[90m...\u001b[39m\n",
       " \u001b[90m...\u001b[39m  \u001b[90m...\u001b[39m  \u001b[90m...\u001b[39m  \u001b[90m...\u001b[39m  \u001b[90m...\u001b[39m     \u001b[90m...\u001b[39m  \u001b[90m...\u001b[39m  \u001b[90m...\u001b[39m  \u001b[90m...\u001b[39m  \u001b[90m...\u001b[39m\n",
       " \u001b[90m...\u001b[39m  \u001b[90m...\u001b[39m  \u001b[90m...\u001b[39m  \u001b[90m...\u001b[39m  \u001b[90m...\u001b[39m     \u001b[90m...\u001b[39m  \u001b[90m...\u001b[39m  \u001b[90m...\u001b[39m  \u001b[90m...\u001b[39m  \u001b[90m...\u001b[39m\n",
       " ⋮                                  ⋱  ⋮                           \n",
       " \u001b[90m...\u001b[39m  \u001b[90m...\u001b[39m  \u001b[90m...\u001b[39m  \u001b[90m...\u001b[39m  \u001b[90m...\u001b[39m     \u001b[90m...\u001b[39m  \u001b[90m...\u001b[39m  \u001b[90m...\u001b[39m  \u001b[90m...\u001b[39m  \u001b[90m...\u001b[39m\n",
       " \u001b[90m...\u001b[39m  \u001b[90m...\u001b[39m  \u001b[90m...\u001b[39m  \u001b[90m...\u001b[39m  \u001b[90m...\u001b[39m     \u001b[90m...\u001b[39m  \u001b[90m...\u001b[39m  \u001b[90m...\u001b[39m  \u001b[90m...\u001b[39m  \u001b[90m...\u001b[39m\n",
       " \u001b[90m...\u001b[39m  \u001b[90m...\u001b[39m  \u001b[90m...\u001b[39m  \u001b[90m...\u001b[39m  \u001b[90m...\u001b[39m  …  \u001b[90m...\u001b[39m  \u001b[90m...\u001b[39m  \u001b[90m...\u001b[39m  \u001b[90m...\u001b[39m  \u001b[90m...\u001b[39m\n",
       " \u001b[90m...\u001b[39m  \u001b[90m...\u001b[39m  \u001b[90m...\u001b[39m  \u001b[90m...\u001b[39m  \u001b[90m...\u001b[39m     \u001b[90m...\u001b[39m  \u001b[90m...\u001b[39m  \u001b[90m...\u001b[39m  \u001b[90m...\u001b[39m  \u001b[90m...\u001b[39m\n",
       " \u001b[90m...\u001b[39m  \u001b[90m...\u001b[39m  \u001b[90m...\u001b[39m  \u001b[90m...\u001b[39m  \u001b[90m...\u001b[39m     \u001b[90m...\u001b[39m  \u001b[90m...\u001b[39m  \u001b[90m...\u001b[39m  \u001b[90m...\u001b[39m  \u001b[90m...\u001b[39m\n",
       " \u001b[90m...\u001b[39m  \u001b[90m...\u001b[39m  \u001b[90m...\u001b[39m  \u001b[90m...\u001b[39m  \u001b[90m...\u001b[39m     \u001b[90m...\u001b[39m  \u001b[90m...\u001b[39m  \u001b[90m...\u001b[39m  \u001b[90m...\u001b[39m  \u001b[90m...\u001b[39m\n",
       " \u001b[90m...\u001b[39m  \u001b[90m...\u001b[39m  \u001b[90m...\u001b[39m  \u001b[90m...\u001b[39m  \u001b[90m...\u001b[39m     \u001b[90m...\u001b[39m  \u001b[90m...\u001b[39m  \u001b[90m...\u001b[39m  \u001b[90m...\u001b[39m  \u001b[90m...\u001b[39m\n",
       " \u001b[90m...\u001b[39m  \u001b[90m...\u001b[39m  \u001b[90m...\u001b[39m  \u001b[90m...\u001b[39m  \u001b[90m...\u001b[39m  …  \u001b[90m...\u001b[39m  \u001b[90m...\u001b[39m  \u001b[90m...\u001b[39m  \u001b[90m...\u001b[39m  \u001b[90m...\u001b[39m\n",
       " \u001b[90m...\u001b[39m  \u001b[90m...\u001b[39m  \u001b[90m...\u001b[39m  \u001b[90m...\u001b[39m  \u001b[90m...\u001b[39m     \u001b[90m...\u001b[39m  \u001b[90m...\u001b[39m  \u001b[90m...\u001b[39m  \u001b[90m...\u001b[39m  \u001b[90m...\u001b[39m\n",
       " \u001b[90m...\u001b[39m  \u001b[90m...\u001b[39m  \u001b[90m...\u001b[39m  \u001b[90m...\u001b[39m  \u001b[90m...\u001b[39m     \u001b[90m...\u001b[39m  \u001b[90m...\u001b[39m  \u001b[90m...\u001b[39m  \u001b[90m...\u001b[39m  \u001b[90m...\u001b[39m\n",
       " \u001b[90m...\u001b[39m  \u001b[90m...\u001b[39m  \u001b[90m...\u001b[39m  \u001b[90m...\u001b[39m  \u001b[90m...\u001b[39m     \u001b[90m...\u001b[39m  \u001b[90m...\u001b[39m  \u001b[90m...\u001b[39m  \u001b[90m...\u001b[39m  \u001b[90m...\u001b[39m\n",
       " \u001b[90m...\u001b[39m  \u001b[90m...\u001b[39m  \u001b[90m...\u001b[39m  \u001b[90m...\u001b[39m  \u001b[90m...\u001b[39m     \u001b[90m...\u001b[39m  \u001b[90m...\u001b[39m  \u001b[90m...\u001b[39m  \u001b[90m...\u001b[39m  \u001b[90m...\u001b[39m"
      ]
     },
     "execution_count": 11,
     "metadata": {},
     "output_type": "execute_result"
    }
   ],
   "source": [
    "DX = rand(Blocks(50, 50), 100, 100)"
   ]
  },
  {
   "cell_type": "code",
   "execution_count": 12,
   "id": "27deaf32-c0d9-4236-a2a2-a04a4f13847e",
   "metadata": {
    "tags": []
   },
   "outputs": [
    {
     "data": {
      "text/plain": [
       "100x100 DMatrix{Float64} with 2x2 partitions of size 50x50:\n",
       " \u001b[31m0.287058\u001b[39m   \u001b[31m0.932143\u001b[39m   \u001b[31m0.893901\u001b[39m   …  \u001b[33m0.787941\u001b[39m   \u001b[33m0.281469\u001b[39m    \u001b[33m0.797844\u001b[39m\n",
       " \u001b[31m0.0780438\u001b[39m  \u001b[31m0.117807\u001b[39m   \u001b[31m0.623861\u001b[39m      \u001b[33m0.726202\u001b[39m   \u001b[33m0.518999\u001b[39m    \u001b[33m0.108689\u001b[39m\n",
       " \u001b[31m0.209235\u001b[39m   \u001b[31m0.664006\u001b[39m   \u001b[31m0.843917\u001b[39m      \u001b[33m0.995339\u001b[39m   \u001b[33m0.128314\u001b[39m    \u001b[33m0.924156\u001b[39m\n",
       " \u001b[31m0.667049\u001b[39m   \u001b[31m0.962158\u001b[39m   \u001b[31m0.952806\u001b[39m      \u001b[33m0.505621\u001b[39m   \u001b[33m0.902641\u001b[39m    \u001b[33m0.35117\u001b[39m\n",
       " \u001b[31m0.422007\u001b[39m   \u001b[31m0.958753\u001b[39m   \u001b[31m0.312819\u001b[39m      \u001b[33m0.0161274\u001b[39m  \u001b[33m0.578171\u001b[39m    \u001b[33m0.271552\u001b[39m\n",
       " \u001b[31m0.977362\u001b[39m   \u001b[31m0.635106\u001b[39m   \u001b[31m0.199905\u001b[39m   …  \u001b[33m0.909914\u001b[39m   \u001b[33m0.103151\u001b[39m    \u001b[33m0.552586\u001b[39m\n",
       " \u001b[31m0.176873\u001b[39m   \u001b[31m0.121315\u001b[39m   \u001b[31m0.967516\u001b[39m      \u001b[33m0.633998\u001b[39m   \u001b[33m0.471396\u001b[39m    \u001b[33m0.80213\u001b[39m\n",
       " \u001b[31m0.773225\u001b[39m   \u001b[31m0.139292\u001b[39m   \u001b[31m0.0816662\u001b[39m     \u001b[33m0.176016\u001b[39m   \u001b[33m0.33704\u001b[39m     \u001b[33m0.365034\u001b[39m\n",
       " \u001b[31m0.708157\u001b[39m   \u001b[31m0.367415\u001b[39m   \u001b[31m0.830456\u001b[39m      \u001b[33m0.220995\u001b[39m   \u001b[33m0.329504\u001b[39m    \u001b[33m0.0199784\u001b[39m\n",
       " \u001b[31m0.85119\u001b[39m    \u001b[31m0.249636\u001b[39m   \u001b[31m0.565433\u001b[39m      \u001b[33m0.2289\u001b[39m     \u001b[33m0.972173\u001b[39m    \u001b[33m0.631671\u001b[39m\n",
       " \u001b[31m0.96518\u001b[39m    \u001b[31m0.679127\u001b[39m   \u001b[31m0.399155\u001b[39m   …  \u001b[33m0.391515\u001b[39m   \u001b[33m0.00204959\u001b[39m  \u001b[33m0.403234\u001b[39m\n",
       " \u001b[31m0.435758\u001b[39m   \u001b[31m0.629236\u001b[39m   \u001b[31m0.336337\u001b[39m      \u001b[33m0.976523\u001b[39m   \u001b[33m0.371747\u001b[39m    \u001b[33m0.200271\u001b[39m\n",
       " \u001b[31m0.670513\u001b[39m   \u001b[31m0.873129\u001b[39m   \u001b[31m0.715954\u001b[39m      \u001b[33m0.964522\u001b[39m   \u001b[33m0.225559\u001b[39m    \u001b[33m0.205521\u001b[39m\n",
       " ⋮                                ⋱                         \n",
       " \u001b[32m0.102087\u001b[39m   \u001b[32m0.0332413\u001b[39m  \u001b[32m0.617489\u001b[39m      \u001b[34m0.920314\u001b[39m   \u001b[34m0.140363\u001b[39m    \u001b[34m0.114657\u001b[39m\n",
       " \u001b[32m0.244911\u001b[39m   \u001b[32m0.299\u001b[39m      \u001b[32m0.208923\u001b[39m      \u001b[34m0.137593\u001b[39m   \u001b[34m0.11587\u001b[39m     \u001b[34m0.576408\u001b[39m\n",
       " \u001b[32m0.469323\u001b[39m   \u001b[32m0.136549\u001b[39m   \u001b[32m0.841502\u001b[39m   …  \u001b[34m0.229016\u001b[39m   \u001b[34m0.486091\u001b[39m    \u001b[34m0.780439\u001b[39m\n",
       " \u001b[32m0.986266\u001b[39m   \u001b[32m0.700703\u001b[39m   \u001b[32m0.176838\u001b[39m      \u001b[34m0.760252\u001b[39m   \u001b[34m0.256822\u001b[39m    \u001b[34m0.256944\u001b[39m\n",
       " \u001b[32m0.810027\u001b[39m   \u001b[32m0.999655\u001b[39m   \u001b[32m0.948483\u001b[39m      \u001b[34m0.0935368\u001b[39m  \u001b[34m0.440671\u001b[39m    \u001b[34m0.882621\u001b[39m\n",
       " \u001b[32m0.359086\u001b[39m   \u001b[32m0.75208\u001b[39m    \u001b[32m0.763633\u001b[39m      \u001b[34m0.434783\u001b[39m   \u001b[34m0.155546\u001b[39m    \u001b[34m0.149496\u001b[39m\n",
       " \u001b[32m0.408019\u001b[39m   \u001b[32m0.402066\u001b[39m   \u001b[32m0.698213\u001b[39m      \u001b[34m0.579936\u001b[39m   \u001b[34m0.441775\u001b[39m    \u001b[34m0.291537\u001b[39m\n",
       " \u001b[32m0.034792\u001b[39m   \u001b[32m0.0924474\u001b[39m  \u001b[32m0.0878359\u001b[39m  …  \u001b[34m0.21104\u001b[39m    \u001b[34m0.44615\u001b[39m     \u001b[34m0.92292\u001b[39m\n",
       " \u001b[32m0.349559\u001b[39m   \u001b[32m0.248476\u001b[39m   \u001b[32m0.362397\u001b[39m      \u001b[34m0.668606\u001b[39m   \u001b[34m0.32568\u001b[39m     \u001b[34m0.596347\u001b[39m\n",
       " \u001b[32m0.678954\u001b[39m   \u001b[32m0.377442\u001b[39m   \u001b[32m0.559165\u001b[39m      \u001b[34m0.736536\u001b[39m   \u001b[34m0.343685\u001b[39m    \u001b[34m0.906865\u001b[39m\n",
       " \u001b[32m0.229443\u001b[39m   \u001b[32m0.23745\u001b[39m    \u001b[32m0.446307\u001b[39m      \u001b[34m0.0124552\u001b[39m  \u001b[34m0.0173835\u001b[39m   \u001b[34m0.97496\u001b[39m\n",
       " \u001b[32m0.387665\u001b[39m   \u001b[32m0.504209\u001b[39m   \u001b[32m0.105239\u001b[39m      \u001b[34m0.975636\u001b[39m   \u001b[34m0.587511\u001b[39m    \u001b[34m0.699565\u001b[39m"
      ]
     },
     "execution_count": 12,
     "metadata": {},
     "output_type": "execute_result"
    }
   ],
   "source": [
    "DX"
   ]
  },
  {
   "cell_type": "code",
   "execution_count": 17,
   "id": "b28efb49-b454-49b0-984b-185aaf663d2f",
   "metadata": {
    "tags": []
   },
   "outputs": [
    {
     "data": {
      "text/plain": [
       "2×2 Dagger.DomainBlocks{2}:\n",
       " ArrayDomain{2, Tuple{UnitRange{Int64}, UnitRange{Int64}}}((1:50, 1:50))    …  ArrayDomain{2, Tuple{UnitRange{Int64}, UnitRange{Int64}}}((1:50, 51:100))\n",
       " ArrayDomain{2, Tuple{UnitRange{Int64}, UnitRange{Int64}}}((51:100, 1:50))     ArrayDomain{2, Tuple{UnitRange{Int64}, UnitRange{Int64}}}((51:100, 51:100))"
      ]
     },
     "execution_count": 17,
     "metadata": {},
     "output_type": "execute_result"
    }
   ],
   "source": [
    "DX.subdomains"
   ]
  },
  {
   "cell_type": "code",
   "execution_count": null,
   "id": "e9b871fe-5437-41da-8634-53b660ba70c9",
   "metadata": {},
   "outputs": [],
   "source": []
  }
 ],
 "metadata": {
  "kernelspec": {
   "display_name": "Julia 1.9.4",
   "language": "julia",
   "name": "julia-1.9.4"
  },
  "language_info": {
   "file_extension": ".jl",
   "mimetype": "application/julia",
   "name": "julia",
   "version": "1.9.4"
  }
 },
 "nbformat": 4,
 "nbformat_minor": 5
}

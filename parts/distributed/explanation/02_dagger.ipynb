{
 "cells": [
  {
   "cell_type": "markdown",
   "id": "96c95225-32f0-4d47-85bf-b515f4075667",
   "metadata": {
    "slideshow": {
     "slide_type": "skip"
    },
    "tags": []
   },
   "source": [
    "# Setup\n",
    "\n",
    "Note: you might need to run `Pkg.instantiate()` to ensure that the `Manifest.toml` is up to date. This only needs to be done once."
   ]
  },
  {
   "cell_type": "code",
   "execution_count": 1,
   "id": "7ce65ea7-2dc4-4793-ae39-616ef87836d5",
   "metadata": {
    "slideshow": {
     "slide_type": "skip"
    },
    "tags": []
   },
   "outputs": [
    {
     "name": "stderr",
     "output_type": "stream",
     "text": [
      "\u001b[32m\u001b[1m  Activating\u001b[22m\u001b[39m project at `/global/u1/b/blaschke/juliacon24-hpcworkshop/parts/distributed/explanation`\n"
     ]
    },
    {
     "name": "stdout",
     "output_type": "stream",
     "text": [
      "\u001b[32m\u001b[1mStatus\u001b[22m\u001b[39m `/global/u1/b/blaschke/juliacon24-hpcworkshop/parts/distributed/explanation/Project.toml`\n",
      "  \u001b[90m[34f1f09b] \u001b[39mClusterManagers v0.4.6\n",
      "  \u001b[90m[d58978e5] \u001b[39mDagger v0.18.12\n",
      "  \u001b[90m[aaf54ef3] \u001b[39mDistributedArrays v0.6.7\n",
      "  \u001b[90m[6f74fd91] \u001b[39mNetworkInterfaceControllers v0.1.0\n",
      "  \u001b[90m[91a5bcdd] \u001b[39mPlots v1.40.5\n"
     ]
    }
   ],
   "source": [
    "import Pkg;\n",
    "Pkg.activate(@__DIR__)\n",
    "Pkg.status()"
   ]
  },
  {
   "cell_type": "code",
   "execution_count": 2,
   "id": "fb96ef9a-fa42-4b2d-b209-33d0d8538f8c",
   "metadata": {
    "slideshow": {
     "slide_type": "skip"
    },
    "tags": []
   },
   "outputs": [
    {
     "data": {
      "text/plain": [
       "4"
      ]
     },
     "execution_count": 2,
     "metadata": {},
     "output_type": "execute_result"
    }
   ],
   "source": [
    "NWORKERS = 4"
   ]
  },
  {
   "cell_type": "markdown",
   "id": "7e06e62c-cb33-4c90-8766-8a3c9048852c",
   "metadata": {
    "slideshow": {
     "slide_type": "skip"
    },
    "tags": []
   },
   "source": [
    "On your laptop you would do something like:\n",
    "\n",
    "```julia\n",
    "using Distributed\n",
    "addprocs(4)\n",
    "```"
   ]
  },
  {
   "cell_type": "code",
   "execution_count": 3,
   "id": "2e0dfda0-cf8c-4f2e-9396-fc50a6f7eb18",
   "metadata": {
    "slideshow": {
     "slide_type": "skip"
    },
    "tags": []
   },
   "outputs": [
    {
     "data": {
      "text/plain": [
       "ip\"128.55.84.171\""
      ]
     },
     "execution_count": 3,
     "metadata": {},
     "output_type": "execute_result"
    }
   ],
   "source": [
    "using Distributed, ClusterManagers\n",
    "\n",
    "using NetworkInterfaceControllers, Sockets\n",
    "interfaces = NetworkInterfaceControllers.get_interface_data(IPv4)\n",
    "\n",
    "hsn0_public = filter(\n",
    "    x->(x.name==\"hsn0:chn\" && x.version==:v4), interfaces\n",
    ") |> only \n",
    "hsn0_public.ip"
   ]
  },
  {
   "cell_type": "code",
   "execution_count": 4,
   "id": "af56674e-1e0c-4ea0-8999-7a7b98167f3d",
   "metadata": {
    "slideshow": {
     "slide_type": "skip"
    },
    "tags": []
   },
   "outputs": [
    {
     "data": {
      "text/plain": [
       "1-element Vector{Int64}:\n",
       " 1"
      ]
     },
     "execution_count": 4,
     "metadata": {},
     "output_type": "execute_result"
    }
   ],
   "source": [
    "workers()"
   ]
  },
  {
   "cell_type": "code",
   "execution_count": 5,
   "id": "01d33c37-f4fd-4a56-aab4-bff92f6fd0f7",
   "metadata": {
    "slideshow": {
     "slide_type": "skip"
    },
    "tags": []
   },
   "outputs": [
    {
     "name": "stdout",
     "output_type": "stream",
     "text": [
      "ElasticManager:\n",
      "  Active workers : []\n",
      "  Number of workers to be added  : 0\n",
      "  Terminated workers : []\n",
      "  Worker connect command : \n",
      "    /global/common/software/nersc/n9/julia/1.9.4/bin/julia --project=/global/u1/b/blaschke/juliacon24-hpcworkshop/parts/distributed/explanation/Project.toml -e 'using ClusterManagers; ClusterManagers.elastic_worker(\"fFBNdLXOzFMcE7xa\",\"128.55.84.171\",10001)'\n",
      "Waiting for workers, got: 1\n",
      "Waiting for workers, got: 1\n",
      "Waiting for workers, got: 1\n",
      "Waiting for workers, got: 1\n",
      "Waiting for workers, got: 1\n",
      "Waiting for workers, got: 1\n",
      "Waiting for workers, got: 1\n",
      "Waiting for workers, got: 1\n"
     ]
    }
   ],
   "source": [
    "em = ElasticManager(addr=hsn0_public.ip, port=10001)  # or use: `addr=:auto`\n",
    "\n",
    "println(em)\n",
    "\n",
    "# launch workers\n",
    "@async run(`srun -n $NWORKERS sh -c $(ClusterManagers.get_connect_cmd(em))`)\n",
    "\n",
    "# wait for them to connect\n",
    "while nworkers()<NWORKERS\n",
    "    println(\"Waiting for workers, got: $(nworkers())\")\n",
    "    sleep(1)\n",
    "end"
   ]
  },
  {
   "cell_type": "code",
   "execution_count": 6,
   "id": "422985ca-c624-4bb3-8623-185e7faae1d0",
   "metadata": {
    "slideshow": {
     "slide_type": "skip"
    },
    "tags": []
   },
   "outputs": [
    {
     "data": {
      "text/plain": [
       "4-element Vector{Int64}:\n",
       " 2\n",
       " 3\n",
       " 4\n",
       " 5"
      ]
     },
     "execution_count": 6,
     "metadata": {},
     "output_type": "execute_result"
    }
   ],
   "source": [
    "workers()"
   ]
  },
  {
   "cell_type": "code",
   "execution_count": 7,
   "id": "1ab7441d-f6cf-44a0-84b4-8ce7f0ca90f4",
   "metadata": {
    "slideshow": {
     "slide_type": "skip"
    },
    "tags": []
   },
   "outputs": [
    {
     "data": {
      "text/plain": [
       "4-element Vector{String}:\n",
       " \"nid200348\"\n",
       " \"nid200345\"\n",
       " \"nid200349\"\n",
       " \"nid200344\""
      ]
     },
     "execution_count": 7,
     "metadata": {},
     "output_type": "execute_result"
    }
   ],
   "source": [
    "[@fetchfrom p gethostname() for p in workers()]"
   ]
  },
  {
   "cell_type": "markdown",
   "id": "57de2fd9-c5a1-4584-8c95-6d302520c2eb",
   "metadata": {
    "slideshow": {
     "slide_type": "slide"
    },
    "tags": []
   },
   "source": [
    "# Working with `Dagger.jl` on HPC"
   ]
  },
  {
   "cell_type": "markdown",
   "id": "4b23b8ee-d2eb-4f5e-b66c-e0531446a83b",
   "metadata": {
    "slideshow": {
     "slide_type": "fragment"
    },
    "tags": []
   },
   "source": [
    "We now do the previous example but with `Dagger.jl` on top of `Distributed.jl`"
   ]
  },
  {
   "cell_type": "markdown",
   "id": "b5b7c019-67ec-4d7e-9c3c-66f0a9212cd3",
   "metadata": {
    "slideshow": {
     "slide_type": "slide"
    },
    "tags": []
   },
   "source": [
    "## 1D Solver Example"
   ]
  },
  {
   "cell_type": "markdown",
   "id": "4a6cdc3b-a652-46f0-a0a4-1fbc3ade8bba",
   "metadata": {
    "slideshow": {
     "slide_type": "fragment"
    },
    "tags": []
   },
   "source": [
    "Let's set up a basic example: 1D diffusion! First we need some parameters:"
   ]
  },
  {
   "cell_type": "code",
   "execution_count": 8,
   "id": "7f7c3233-35ac-485c-b018-2512abc05214",
   "metadata": {
    "slideshow": {
     "slide_type": "fragment"
    },
    "tags": []
   },
   "outputs": [],
   "source": [
    "@everywhere begin\n",
    "    D  = 1e-4\n",
    "    ds = 1e-4\n",
    "    dt = ds^2 / D / 8.2\n",
    "    qx(ix, D, C, ds) = -D * (C[ix+1, 1] - C[ix, 1]) / ds\n",
    "end"
   ]
  },
  {
   "cell_type": "markdown",
   "id": "3b8b29cc-4413-4a26-88ad-f76ed23b76d7",
   "metadata": {
    "slideshow": {
     "slide_type": "subslide"
    },
    "tags": []
   },
   "source": [
    "Instead of using `DArray`s from `DistributedArrays.jl` we now use `DArray`s from `Dagger.jl`"
   ]
  },
  {
   "cell_type": "code",
   "execution_count": 29,
   "id": "4a89a1df-831c-4be9-a3f3-cecc4c6244aa",
   "metadata": {
    "slideshow": {
     "slide_type": "fragment"
    },
    "tags": []
   },
   "outputs": [],
   "source": [
    "@everywhere using Distributed, Dagger"
   ]
  },
  {
   "cell_type": "markdown",
   "id": "05645475-1cb3-436f-a1a1-4d7b59b16ac2",
   "metadata": {
    "slideshow": {
     "slide_type": "fragment"
    },
    "tags": []
   },
   "source": [
    "In `Dagger.jl` we can specify th underlying local blocks. Or you can use `AutoBlocks()` if you don't care."
   ]
  },
  {
   "cell_type": "code",
   "execution_count": 41,
   "id": "e2fb2446-56bf-45ec-8aa3-9bb40576ead3",
   "metadata": {
    "slideshow": {
     "slide_type": "fragment"
    },
    "tags": []
   },
   "outputs": [
    {
     "data": {
      "text/plain": [
       "40x1 DMatrix{Float64} with 4x1 partitions of size 10x1:\n",
       "\u001b[33m~0% completed\u001b[39m\n",
       " \u001b[90m...\u001b[39m\n",
       " \u001b[90m...\u001b[39m\n",
       " \u001b[90m...\u001b[39m\n",
       " \u001b[90m...\u001b[39m\n",
       " \u001b[90m...\u001b[39m\n",
       " \u001b[90m...\u001b[39m\n",
       " \u001b[90m...\u001b[39m\n",
       " \u001b[90m...\u001b[39m\n",
       " \u001b[90m...\u001b[39m\n",
       " \u001b[90m...\u001b[39m\n",
       " \u001b[90m...\u001b[39m\n",
       " \u001b[90m...\u001b[39m\n",
       " \u001b[90m...\u001b[39m\n",
       " ⋮\n",
       " \u001b[90m...\u001b[39m\n",
       " \u001b[90m...\u001b[39m\n",
       " \u001b[90m...\u001b[39m\n",
       " \u001b[90m...\u001b[39m\n",
       " \u001b[90m...\u001b[39m\n",
       " \u001b[90m...\u001b[39m\n",
       " \u001b[90m...\u001b[39m\n",
       " \u001b[90m...\u001b[39m\n",
       " \u001b[90m...\u001b[39m\n",
       " \u001b[90m...\u001b[39m\n",
       " \u001b[90m...\u001b[39m\n",
       " \u001b[90m...\u001b[39m"
      ]
     },
     "execution_count": 41,
     "metadata": {},
     "output_type": "execute_result"
    }
   ],
   "source": [
    "C = zeros(Blocks(10, 1), 40, 1)"
   ]
  },
  {
   "cell_type": "markdown",
   "id": "70b10ce1-f533-4ab4-aeb0-a6802e7139c8",
   "metadata": {
    "slideshow": {
     "slide_type": "subslide"
    },
    "tags": []
   },
   "source": [
    "`Dagger.jl` is non-blocking, so above you returned before `C` was filled. If you wait a little (or use `fetch(C)`) then it'll be ready:"
   ]
  },
  {
   "cell_type": "code",
   "execution_count": 42,
   "id": "28245817-b668-44aa-93d5-f5b4b0b6d11e",
   "metadata": {
    "slideshow": {
     "slide_type": "fragment"
    },
    "tags": []
   },
   "outputs": [
    {
     "data": {
      "text/plain": [
       "40x1 DMatrix{Float64} with 4x1 partitions of size 10x1:\n",
       " \u001b[31m0.0\u001b[39m\n",
       " \u001b[31m0.0\u001b[39m\n",
       " \u001b[31m0.0\u001b[39m\n",
       " \u001b[31m0.0\u001b[39m\n",
       " \u001b[31m0.0\u001b[39m\n",
       " \u001b[31m0.0\u001b[39m\n",
       " \u001b[31m0.0\u001b[39m\n",
       " \u001b[31m0.0\u001b[39m\n",
       " \u001b[31m0.0\u001b[39m\n",
       " \u001b[31m0.0\u001b[39m\n",
       " \u001b[32m0.0\u001b[39m\n",
       " \u001b[32m0.0\u001b[39m\n",
       " \u001b[32m0.0\u001b[39m\n",
       " ⋮\n",
       " \u001b[33m0.0\u001b[39m\n",
       " \u001b[33m0.0\u001b[39m\n",
       " \u001b[34m0.0\u001b[39m\n",
       " \u001b[34m0.0\u001b[39m\n",
       " \u001b[34m0.0\u001b[39m\n",
       " \u001b[34m0.0\u001b[39m\n",
       " \u001b[34m0.0\u001b[39m\n",
       " \u001b[34m0.0\u001b[39m\n",
       " \u001b[34m0.0\u001b[39m\n",
       " \u001b[34m0.0\u001b[39m\n",
       " \u001b[34m0.0\u001b[39m\n",
       " \u001b[34m0.0\u001b[39m"
      ]
     },
     "execution_count": 42,
     "metadata": {},
     "output_type": "execute_result"
    }
   ],
   "source": [
    "fetch(C)"
   ]
  },
  {
   "cell_type": "markdown",
   "id": "eb54c7bb-e2e4-4782-b71d-9bb7911bdae1",
   "metadata": {
    "slideshow": {
     "slide_type": "subslide"
    },
    "tags": []
   },
   "source": [
    "Unlike with `DistributedArrays.jl`, in `Dagger.jl` we have can use the global address space to also set items in a vector/array:"
   ]
  },
  {
   "cell_type": "code",
   "execution_count": 43,
   "id": "e9b871fe-5437-41da-8634-53b660ba70c9",
   "metadata": {
    "slideshow": {
     "slide_type": "fragment"
    },
    "tags": []
   },
   "outputs": [
    {
     "data": {
      "text/plain": [
       "10000.0"
      ]
     },
     "execution_count": 43,
     "metadata": {},
     "output_type": "execute_result"
    }
   ],
   "source": [
    "C[20, 1] = 1/ds"
   ]
  },
  {
   "cell_type": "code",
   "execution_count": 44,
   "id": "6c04364c-2e88-4ca6-aea3-7961f503264c",
   "metadata": {
    "slideshow": {
     "slide_type": "subslide"
    },
    "tags": []
   },
   "outputs": [
    {
     "data": {
      "text/plain": [
       "40x1 DMatrix{Float64} with 4x1 partitions of size 10x1:\n",
       "\u001b[33m~0% completed\u001b[39m\n",
       " \u001b[90m...\u001b[39m\n",
       " \u001b[90m...\u001b[39m\n",
       " \u001b[90m...\u001b[39m\n",
       " \u001b[90m...\u001b[39m\n",
       " \u001b[90m...\u001b[39m\n",
       " \u001b[90m...\u001b[39m\n",
       " \u001b[90m...\u001b[39m\n",
       " \u001b[90m...\u001b[39m\n",
       " \u001b[90m...\u001b[39m\n",
       " \u001b[90m...\u001b[39m\n",
       " \u001b[90m...\u001b[39m\n",
       " \u001b[90m...\u001b[39m\n",
       " \u001b[90m...\u001b[39m\n",
       " ⋮\n",
       " \u001b[90m...\u001b[39m\n",
       " \u001b[90m...\u001b[39m\n",
       " \u001b[90m...\u001b[39m\n",
       " \u001b[90m...\u001b[39m\n",
       " \u001b[90m...\u001b[39m\n",
       " \u001b[90m...\u001b[39m\n",
       " \u001b[90m...\u001b[39m\n",
       " \u001b[90m...\u001b[39m\n",
       " \u001b[90m...\u001b[39m\n",
       " \u001b[90m...\u001b[39m\n",
       " \u001b[90m...\u001b[39m\n",
       " \u001b[90m...\u001b[39m"
      ]
     },
     "execution_count": 44,
     "metadata": {},
     "output_type": "execute_result"
    }
   ],
   "source": [
    "C2 = similar(C)"
   ]
  },
  {
   "cell_type": "code",
   "execution_count": 45,
   "id": "966122c7-873a-4dd3-a595-b443a95860e3",
   "metadata": {
    "slideshow": {
     "slide_type": "fragment"
    },
    "tags": []
   },
   "outputs": [
    {
     "data": {
      "text/plain": [
       "40x1 DMatrix{Float64} with 4x1 partitions of size 10x1:\n",
       "   \u001b[31m6.95209e-310\u001b[39m\n",
       "   \u001b[31m6.95209e-310\u001b[39m\n",
       "   \u001b[31m6.95209e-310\u001b[39m\n",
       "   \u001b[31m6.95209e-310\u001b[39m\n",
       "   \u001b[31m6.95209e-310\u001b[39m\n",
       "   \u001b[31m6.95209e-310\u001b[39m\n",
       "   \u001b[31m6.95209e-310\u001b[39m\n",
       "   \u001b[31m6.95209e-310\u001b[39m\n",
       "   \u001b[31m6.95209e-310\u001b[39m\n",
       "   \u001b[31m6.95209e-310\u001b[39m\n",
       "   \u001b[32m1.66036e-319\u001b[39m\n",
       "   \u001b[32m6.94618e-310\u001b[39m\n",
       "   \u001b[32m1.01516e-316\u001b[39m\n",
       "   ⋮\n",
       "  \u001b[33m20.8662\u001b[39m\n",
       "   \u001b[33m0.0\u001b[39m\n",
       " \u001b[34m262.133\u001b[39m\n",
       " \u001b[34m288.385\u001b[39m\n",
       " \u001b[34m313.307\u001b[39m\n",
       "   \u001b[34m0.0\u001b[39m\n",
       "   \u001b[34m0.0\u001b[39m\n",
       "   \u001b[34m0.0\u001b[39m\n",
       "   \u001b[34m0.0\u001b[39m\n",
       "   \u001b[34m0.0\u001b[39m\n",
       "   \u001b[34m0.0\u001b[39m\n",
       "   \u001b[34m0.0\u001b[39m"
      ]
     },
     "execution_count": 45,
     "metadata": {},
     "output_type": "execute_result"
    }
   ],
   "source": [
    "fetch(C2)"
   ]
  },
  {
   "cell_type": "markdown",
   "id": "d60e42da-adb3-4ddc-81fd-75505b36e764",
   "metadata": {
    "slideshow": {
     "slide_type": "subslide"
    },
    "tags": []
   },
   "source": [
    "In `Dagger.jl` we can use write a diffusion step that operates only on the \"local\" part of the array. I.e. operting only on `C.subdomains[myid() - 1]`."
   ]
  },
  {
   "cell_type": "code",
   "execution_count": 15,
   "id": "19641792-05cd-4bc9-af30-86fbab594b42",
   "metadata": {
    "slideshow": {
     "slide_type": "fragment"
    },
    "tags": []
   },
   "outputs": [],
   "source": [
    "@everywhere function step_diffusion_local!(C2, C)\n",
    "    proc = myid() - 1\n",
    "    idx = C.subdomains[proc].indexes[1] # working in 1D\n",
    "    \n",
    "    for i in idx\n",
    "        # absorbing boundary conditions (lo, hi are always set to zero)\n",
    "        if i==1 || i==size(C, 1)\n",
    "            continue\n",
    "        end\n",
    "        C2[i] = C[i] - dt * (qx(i, D, C, ds) - qx(i-1, D, C, ds)) / ds\n",
    "    end\n",
    "end"
   ]
  },
  {
   "cell_type": "markdown",
   "id": "b648e5e4-e4e8-4afc-8cca-84612f5f3972",
   "metadata": {
    "slideshow": {
     "slide_type": "slide"
    },
    "tags": []
   },
   "source": [
    "## `Dagger.jl` scopes"
   ]
  },
  {
   "cell_type": "markdown",
   "id": "f518e866-a454-4306-ac37-11e14e7b38f9",
   "metadata": {
    "slideshow": {
     "slide_type": "fragment"
    },
    "tags": []
   },
   "source": [
    "in Dagger we don't have control _where_ things run by default"
   ]
  },
  {
   "cell_type": "code",
   "execution_count": 16,
   "id": "181d41c3-08b0-4eb4-b1f0-47d7fb798eb2",
   "metadata": {
    "slideshow": {
     "slide_type": "subslide"
    },
    "tags": []
   },
   "outputs": [
    {
     "data": {
      "text/plain": [
       "DTask (running)"
      ]
     },
     "execution_count": 16,
     "metadata": {},
     "output_type": "execute_result"
    }
   ],
   "source": [
    "d1 = Dagger.@spawn myid()\n",
    "d2 = Dagger.@spawn myid()"
   ]
  },
  {
   "cell_type": "code",
   "execution_count": 17,
   "id": "b996adf3-5b66-4bf1-916f-f67d693c0cc1",
   "metadata": {
    "slideshow": {
     "slide_type": "fragment"
    },
    "tags": []
   },
   "outputs": [
    {
     "data": {
      "text/plain": [
       "4"
      ]
     },
     "execution_count": 17,
     "metadata": {},
     "output_type": "execute_result"
    }
   ],
   "source": [
    "fetch(d1)"
   ]
  },
  {
   "cell_type": "code",
   "execution_count": 18,
   "id": "9be58c29-2ddc-457f-a295-3aafc7c479c3",
   "metadata": {
    "slideshow": {
     "slide_type": "fragment"
    },
    "tags": []
   },
   "outputs": [
    {
     "data": {
      "text/plain": [
       "3"
      ]
     },
     "execution_count": 18,
     "metadata": {},
     "output_type": "execute_result"
    }
   ],
   "source": [
    "fetch(d2)"
   ]
  },
  {
   "cell_type": "markdown",
   "id": "5a7f6163-ea0c-421f-a72d-3aacc864d5c5",
   "metadata": {
    "slideshow": {
     "slide_type": "subslide"
    },
    "tags": []
   },
   "source": [
    "For this we have `Dagger.scope`:"
   ]
  },
  {
   "cell_type": "code",
   "execution_count": 19,
   "id": "5b39f1be-24a8-4957-af77-6093c202c7c5",
   "metadata": {
    "slideshow": {
     "slide_type": "fragment"
    },
    "tags": []
   },
   "outputs": [
    {
     "data": {
      "text/plain": [
       "DTask (running)"
      ]
     },
     "execution_count": 19,
     "metadata": {},
     "output_type": "execute_result"
    }
   ],
   "source": [
    "d = Dagger.@spawn scope=Dagger.scope(worker=2) myid()"
   ]
  },
  {
   "cell_type": "code",
   "execution_count": 20,
   "id": "d8344f4a-826e-4ce6-89f4-d21a2a9fb4fe",
   "metadata": {
    "slideshow": {
     "slide_type": "fragment"
    },
    "tags": []
   },
   "outputs": [
    {
     "data": {
      "text/plain": [
       "2"
      ]
     },
     "execution_count": 20,
     "metadata": {},
     "output_type": "execute_result"
    }
   ],
   "source": [
    "fetch(d)"
   ]
  },
  {
   "cell_type": "markdown",
   "id": "84d40bce-1988-433a-bf62-7932e677666a",
   "metadata": {},
   "source": [
    "So if we run our local diffusion setp on worker 3 onlym then you see that we're filling in only part of `C2`:"
   ]
  },
  {
   "cell_type": "code",
   "execution_count": 21,
   "id": "0d389831-a061-4687-bfd6-cd8416e1a212",
   "metadata": {
    "slideshow": {
     "slide_type": "subslide"
    },
    "tags": []
   },
   "outputs": [
    {
     "data": {
      "text/plain": [
       "DTask (running)"
      ]
     },
     "execution_count": 21,
     "metadata": {},
     "output_type": "execute_result"
    }
   ],
   "source": [
    "C2 = similar(C)\n",
    "d = Dagger.@spawn scope=Dagger.scope(worker=3) step_diffusion_local!(C2, C)"
   ]
  },
  {
   "cell_type": "code",
   "execution_count": 22,
   "id": "0a51e594-ceea-48ed-a220-ba423bf4e1aa",
   "metadata": {
    "slideshow": {
     "slide_type": "fragment"
    },
    "tags": []
   },
   "outputs": [
    {
     "data": {
      "text/plain": [
       "21x1 DMatrix{Float64} with 3x1 partitions of size 10x1:\n",
       " \u001b[31m6.94666e-310\u001b[39m\n",
       " \u001b[32m0.0\u001b[39m\n",
       " \u001b[32m0.0\u001b[39m\n",
       " \u001b[32m0.0\u001b[39m\n",
       " \u001b[32m0.0\u001b[39m\n",
       " \u001b[32m0.0\u001b[39m\n",
       " \u001b[32m0.0\u001b[39m\n",
       " \u001b[32m0.0\u001b[39m\n",
       " \u001b[32m0.0\u001b[39m\n",
       " \u001b[32m0.0\u001b[39m\n",
       " \u001b[32m0.0\u001b[39m\n",
       " \u001b[33m2.0e-323\u001b[39m\n",
       " \u001b[33m4.0e-323\u001b[39m\n",
       " \u001b[33m1.5e-323\u001b[39m\n",
       " \u001b[33m1.6e-322\u001b[39m\n",
       " \u001b[33m2.30252e-314\u001b[39m\n",
       " \u001b[33m4.94e-322\u001b[39m\n",
       " \u001b[33m4.94e-321\u001b[39m\n",
       " \u001b[33m1.235e-321\u001b[39m\n",
       " \u001b[33m1.0e-322\u001b[39m\n",
       " \u001b[33m5.0e-324\u001b[39m"
      ]
     },
     "execution_count": 22,
     "metadata": {},
     "output_type": "execute_result"
    }
   ],
   "source": [
    "fetch(C2[10:30, 1])"
   ]
  },
  {
   "cell_type": "markdown",
   "id": "9388219c-ed0c-4e6f-9123-3ae8df7d8788",
   "metadata": {
    "slideshow": {
     "slide_type": "slide"
    },
    "tags": []
   },
   "source": [
    "## Putting it all together"
   ]
  },
  {
   "cell_type": "markdown",
   "id": "85c6c9aa-fb40-47b7-9bfd-7756c64e1b96",
   "metadata": {
    "slideshow": {
     "slide_type": "subslide"
    },
    "tags": []
   },
   "source": [
    "So now we have everything to solve our diffusion equation: for every timestep we start the local diffusion step (`step_diffusion_local!`) on every worker. We use `Dagger.scope` to ensure that each worker runs on each subdomain _once_ only."
   ]
  },
  {
   "cell_type": "code",
   "execution_count": 27,
   "id": "66e26940-57b9-4937-8ccf-6dfc6b87fa83",
   "metadata": {
    "slideshow": {
     "slide_type": "fragment"
    },
    "tags": []
   },
   "outputs": [
    {
     "data": {
      "text/plain": [
       "step_diffusion (generic function with 1 method)"
      ]
     },
     "execution_count": 27,
     "metadata": {},
     "output_type": "execute_result"
    }
   ],
   "source": [
    "function step_diffusion(C)\n",
    "    C2 = similar(C)\n",
    "    fill!(C2, 0)\n",
    "    \n",
    "    dtasks = Dagger.DTask[]\n",
    "    for w in workers()\n",
    "        push!(\n",
    "            dtasks,\n",
    "            Dagger.@spawn scope=Dagger.scope(worker=w) step_diffusion_local!(C2, C)\n",
    "        )\n",
    "    end\n",
    "    \n",
    "    # wait for workers\n",
    "    [fetch(d) for d in dtasks]\n",
    "    C2\n",
    "end"
   ]
  },
  {
   "cell_type": "markdown",
   "id": "fd015d51-fc8d-4ba0-b601-919f8ea0f9b5",
   "metadata": {
    "slideshow": {
     "slide_type": "subslide"
    },
    "tags": []
   },
   "source": [
    "Warm up:"
   ]
  },
  {
   "cell_type": "code",
   "execution_count": 46,
   "id": "d6e47cbd-4d1e-4e34-b45b-eb31f3a86d99",
   "metadata": {
    "slideshow": {
     "slide_type": "fragment"
    },
    "tags": []
   },
   "outputs": [
    {
     "data": {
      "text/plain": [
       "1-element Vector{Matrix{Float64}}:\n",
       " [0.0; 0.0; … ; 0.0; 0.0;;]"
      ]
     },
     "execution_count": 46,
     "metadata": {},
     "output_type": "execute_result"
    }
   ],
   "source": [
    "sols = [Array(step_diffusion(C))]"
   ]
  },
  {
   "cell_type": "markdown",
   "id": "52561c59-ee19-46d6-baa4-823ad77697fc",
   "metadata": {
    "slideshow": {
     "slide_type": "subslide"
    },
    "tags": []
   },
   "source": [
    "Again, we run 100 timesteps, and save every 10th. **Warning:** This is super wasteful, don't do this in production"
   ]
  },
  {
   "cell_type": "code",
   "execution_count": 47,
   "id": "a1697ffd-f38a-4d1f-bef2-8117d0807388",
   "metadata": {
    "slideshow": {
     "slide_type": "fragment"
    },
    "tags": []
   },
   "outputs": [],
   "source": [
    "for i in 1:100\n",
    "    C = step_diffusion(C)\n",
    "    # Save timesteps.\n",
    "    if i%10 == 0\n",
    "        push!(sols, Array(C))\n",
    "    end\n",
    "end"
   ]
  },
  {
   "cell_type": "code",
   "execution_count": 48,
   "id": "7a44c2b7-a79d-4aa2-96dd-b061fa039787",
   "metadata": {
    "slideshow": {
     "slide_type": "skip"
    },
    "tags": []
   },
   "outputs": [],
   "source": [
    "using Plots"
   ]
  },
  {
   "cell_type": "markdown",
   "id": "d8962b68-5e41-4375-b170-fba13f7861b7",
   "metadata": {
    "slideshow": {
     "slide_type": "subslide"
    },
    "tags": []
   },
   "source": [
    "And we see a nice diffusion process in 1D:"
   ]
  },
  {
   "cell_type": "code",
   "execution_count": 49,
   "id": "f9f25bc5-56d4-4666-aef3-dee02a54ec72",
   "metadata": {
    "slideshow": {
     "slide_type": "fragment"
    },
    "tags": []
   },
   "outputs": [
    {
     "data": {
      "image/png": "[encoded data removed]",
      "image/svg+xml": [
       "<?xml version=\"1.0\" encoding=\"utf-8\"?>\n",
       "<svg xmlns=\"http://www.w3.org/2000/svg\" xmlns:xlink=\"http://www.w3.org/1999/xlink\" width=\"600\" height=\"400\" viewBox=\"0 0 2400 1600\">\n",
       "<defs>\n",
       "  <clipPath id=\"clip340\">\n",
       "    <rect x=\"0\" y=\"0\" width=\"2400\" height=\"1600\"/>\n",
       "  </clipPath>\n",
       "</defs>\n",
       "<path clip-path=\"url(#clip340)\" d=\"M0 1600 L2400 1600 L2400 0 L0 0  Z\" fill=\"#ffffff\" fill-rule=\"evenodd\" fill-opacity=\"1\"/>\n",
       "<defs>\n",
       "  <clipPath id=\"clip341\">\n",
       "    <rect x=\"480\" y=\"0\" width=\"1681\" height=\"1600\"/>\n",
       "  </clipPath>\n",
       "</defs>\n",
       "<path clip-path=\"url(#clip340)\" d=\"M202.177 1486.45 L2352.76 1486.45 L2352.76 47.2441 L202.177 47.2441  Z\" fill=\"#ffffff\" fill-rule=\"evenodd\" fill-opacity=\"1\"/>\n",
       "<defs>\n",
       "  <clipPath id=\"clip342\">\n",
       "    <rect x=\"202\" y=\"47\" width=\"2152\" height=\"1440\"/>\n",
       "  </clipPath>\n",
       "</defs>\n",
       "<polyline clip-path=\"url(#clip342)\" style=\"stroke:#000000; stroke-linecap:round; stroke-linejoin:round; stroke-width:2; stroke-opacity:0.1; fill:none\" points=\"211.02,1486.45 211.02,47.2441 \"/>\n",
       "<polyline clip-path=\"url(#clip342)\" style=\"stroke:#000000; stroke-linecap:round; stroke-linejoin:round; stroke-width:2; stroke-opacity:0.1; fill:none\" points=\"731.238,1486.45 731.238,47.2441 \"/>\n",
       "<polyline clip-path=\"url(#clip342)\" style=\"stroke:#000000; stroke-linecap:round; stroke-linejoin:round; stroke-width:2; stroke-opacity:0.1; fill:none\" points=\"1251.46,1486.45 1251.46,47.2441 \"/>\n",
       "<polyline clip-path=\"url(#clip342)\" style=\"stroke:#000000; stroke-linecap:round; stroke-linejoin:round; stroke-width:2; stroke-opacity:0.1; fill:none\" points=\"1771.67,1486.45 1771.67,47.2441 \"/>\n",
       "<polyline clip-path=\"url(#clip342)\" style=\"stroke:#000000; stroke-linecap:round; stroke-linejoin:round; stroke-width:2; stroke-opacity:0.1; fill:none\" points=\"2291.89,1486.45 2291.89,47.2441 \"/>\n",
       "<polyline clip-path=\"url(#clip340)\" style=\"stroke:#000000; stroke-linecap:round; stroke-linejoin:round; stroke-width:4; stroke-opacity:1; fill:none\" points=\"202.177,1486.45 2352.76,1486.45 \"/>\n",
       "<polyline clip-path=\"url(#clip340)\" style=\"stroke:#000000; stroke-linecap:round; stroke-linejoin:round; stroke-width:4; stroke-opacity:1; fill:none\" points=\"211.02,1486.45 211.02,1467.55 \"/>\n",
       "<polyline clip-path=\"url(#clip340)\" style=\"stroke:#000000; stroke-linecap:round; stroke-linejoin:round; stroke-width:4; stroke-opacity:1; fill:none\" points=\"731.238,1486.45 731.238,1467.55 \"/>\n",
       "<polyline clip-path=\"url(#clip340)\" style=\"stroke:#000000; stroke-linecap:round; stroke-linejoin:round; stroke-width:4; stroke-opacity:1; fill:none\" points=\"1251.46,1486.45 1251.46,1467.55 \"/>\n",
       "<polyline clip-path=\"url(#clip340)\" style=\"stroke:#000000; stroke-linecap:round; stroke-linejoin:round; stroke-width:4; stroke-opacity:1; fill:none\" points=\"1771.67,1486.45 1771.67,1467.55 \"/>\n",
       "<polyline clip-path=\"url(#clip340)\" style=\"stroke:#000000; stroke-linecap:round; stroke-linejoin:round; stroke-width:4; stroke-opacity:1; fill:none\" points=\"2291.89,1486.45 2291.89,1467.55 \"/>\n",
       "<path clip-path=\"url(#clip340)\" d=\"M211.02 1517.37 Q207.409 1517.37 205.581 1520.93 Q203.775 1524.47 203.775 1531.6 Q203.775 1538.71 205.581 1542.27 Q207.409 1545.82 211.02 1545.82 Q214.655 1545.82 216.46 1542.27 Q218.289 1538.71 218.289 1531.6 Q218.289 1524.47 216.46 1520.93 Q214.655 1517.37 211.02 1517.37 M211.02 1513.66 Q216.831 1513.66 219.886 1518.27 Q222.965 1522.85 222.965 1531.6 Q222.965 1540.33 219.886 1544.94 Q216.831 1549.52 211.02 1549.52 Q205.21 1549.52 202.132 1544.94 Q199.076 1540.33 199.076 1531.6 Q199.076 1522.85 202.132 1518.27 Q205.21 1513.66 211.02 1513.66 Z\" fill=\"#000000\" fill-rule=\"nonzero\" fill-opacity=\"1\" /><path clip-path=\"url(#clip340)\" d=\"M705.926 1544.91 L713.564 1544.91 L713.564 1518.55 L705.254 1520.21 L705.254 1515.95 L713.518 1514.29 L718.194 1514.29 L718.194 1544.91 L725.833 1544.91 L725.833 1548.85 L705.926 1548.85 L705.926 1544.91 Z\" fill=\"#000000\" fill-rule=\"nonzero\" fill-opacity=\"1\" /><path clip-path=\"url(#clip340)\" d=\"M745.277 1517.37 Q741.666 1517.37 739.837 1520.93 Q738.032 1524.47 738.032 1531.6 Q738.032 1538.71 739.837 1542.27 Q741.666 1545.82 745.277 1545.82 Q748.911 1545.82 750.717 1542.27 Q752.546 1538.71 752.546 1531.6 Q752.546 1524.47 750.717 1520.93 Q748.911 1517.37 745.277 1517.37 M745.277 1513.66 Q751.087 1513.66 754.143 1518.27 Q757.222 1522.85 757.222 1531.6 Q757.222 1540.33 754.143 1544.94 Q751.087 1549.52 745.277 1549.52 Q739.467 1549.52 736.388 1544.94 Q733.333 1540.33 733.333 1531.6 Q733.333 1522.85 736.388 1518.27 Q739.467 1513.66 745.277 1513.66 Z\" fill=\"#000000\" fill-rule=\"nonzero\" fill-opacity=\"1\" /><path clip-path=\"url(#clip340)\" d=\"M1230.23 1544.91 L1246.55 1544.91 L1246.55 1548.85 L1224.6 1548.85 L1224.6 1544.91 Q1227.27 1542.16 1231.85 1537.53 Q1236.46 1532.88 1237.64 1531.53 Q1239.88 1529.01 1240.76 1527.27 Q1241.66 1525.51 1241.66 1523.82 Q1241.66 1521.07 1239.72 1519.33 Q1237.8 1517.6 1234.7 1517.6 Q1232.5 1517.6 1230.04 1518.36 Q1227.61 1519.13 1224.84 1520.68 L1224.84 1515.95 Q1227.66 1514.82 1230.11 1514.24 Q1232.57 1513.66 1234.6 1513.66 Q1239.97 1513.66 1243.17 1516.35 Q1246.36 1519.03 1246.36 1523.52 Q1246.36 1525.65 1245.55 1527.57 Q1244.77 1529.47 1242.66 1532.07 Q1242.08 1532.74 1238.98 1535.95 Q1235.88 1539.15 1230.23 1544.91 Z\" fill=\"#000000\" fill-rule=\"nonzero\" fill-opacity=\"1\" /><path clip-path=\"url(#clip340)\" d=\"M1266.36 1517.37 Q1262.75 1517.37 1260.92 1520.93 Q1259.12 1524.47 1259.12 1531.6 Q1259.12 1538.71 1260.92 1542.27 Q1262.75 1545.82 1266.36 1545.82 Q1270 1545.82 1271.8 1542.27 Q1273.63 1538.71 1273.63 1531.6 Q1273.63 1524.47 1271.8 1520.93 Q1270 1517.37 1266.36 1517.37 M1266.36 1513.66 Q1272.17 1513.66 1275.23 1518.27 Q1278.31 1522.85 1278.31 1531.6 Q1278.31 1540.33 1275.23 1544.94 Q1272.17 1549.52 1266.36 1549.52 Q1260.55 1549.52 1257.47 1544.94 Q1254.42 1540.33 1254.42 1531.6 Q1254.42 1522.85 1257.47 1518.27 Q1260.55 1513.66 1266.36 1513.66 Z\" fill=\"#000000\" fill-rule=\"nonzero\" fill-opacity=\"1\" /><path clip-path=\"url(#clip340)\" d=\"M1760.52 1530.21 Q1763.87 1530.93 1765.75 1533.2 Q1767.65 1535.47 1767.65 1538.8 Q1767.65 1543.92 1764.13 1546.72 Q1760.61 1549.52 1754.13 1549.52 Q1751.95 1549.52 1749.64 1549.08 Q1747.34 1548.66 1744.89 1547.81 L1744.89 1543.29 Q1746.84 1544.43 1749.15 1545.01 Q1751.46 1545.58 1753.99 1545.58 Q1758.39 1545.58 1760.68 1543.85 Q1762.99 1542.11 1762.99 1538.8 Q1762.99 1535.75 1760.84 1534.03 Q1758.71 1532.3 1754.89 1532.3 L1750.86 1532.3 L1750.86 1528.45 L1755.08 1528.45 Q1758.52 1528.45 1760.35 1527.09 Q1762.18 1525.7 1762.18 1523.11 Q1762.18 1520.45 1760.28 1519.03 Q1758.41 1517.6 1754.89 1517.6 Q1752.97 1517.6 1750.77 1518.01 Q1748.57 1518.43 1745.93 1519.31 L1745.93 1515.14 Q1748.59 1514.4 1750.91 1514.03 Q1753.25 1513.66 1755.31 1513.66 Q1760.63 1513.66 1763.73 1516.09 Q1766.84 1518.5 1766.84 1522.62 Q1766.84 1525.49 1765.19 1527.48 Q1763.55 1529.45 1760.52 1530.21 Z\" fill=\"#000000\" fill-rule=\"nonzero\" fill-opacity=\"1\" /><path clip-path=\"url(#clip340)\" d=\"M1786.51 1517.37 Q1782.9 1517.37 1781.07 1520.93 Q1779.27 1524.47 1779.27 1531.6 Q1779.27 1538.71 1781.07 1542.27 Q1782.9 1545.82 1786.51 1545.82 Q1790.15 1545.82 1791.95 1542.27 Q1793.78 1538.71 1793.78 1531.6 Q1793.78 1524.47 1791.95 1520.93 Q1790.15 1517.37 1786.51 1517.37 M1786.51 1513.66 Q1792.32 1513.66 1795.38 1518.27 Q1798.46 1522.85 1798.46 1531.6 Q1798.46 1540.33 1795.38 1544.94 Q1792.32 1549.52 1786.51 1549.52 Q1780.7 1549.52 1777.62 1544.94 Q1774.57 1540.33 1774.57 1531.6 Q1774.57 1522.85 1777.62 1518.27 Q1780.7 1513.66 1786.51 1513.66 Z\" fill=\"#000000\" fill-rule=\"nonzero\" fill-opacity=\"1\" /><path clip-path=\"url(#clip340)\" d=\"M2280.06 1518.36 L2268.26 1536.81 L2280.06 1536.81 L2280.06 1518.36 M2278.83 1514.29 L2284.71 1514.29 L2284.71 1536.81 L2289.65 1536.81 L2289.65 1540.7 L2284.71 1540.7 L2284.71 1548.85 L2280.06 1548.85 L2280.06 1540.7 L2264.46 1540.7 L2264.46 1536.19 L2278.83 1514.29 Z\" fill=\"#000000\" fill-rule=\"nonzero\" fill-opacity=\"1\" /><path clip-path=\"url(#clip340)\" d=\"M2307.38 1517.37 Q2303.77 1517.37 2301.94 1520.93 Q2300.13 1524.47 2300.13 1531.6 Q2300.13 1538.71 2301.94 1542.27 Q2303.77 1545.82 2307.38 1545.82 Q2311.01 1545.82 2312.82 1542.27 Q2314.64 1538.71 2314.64 1531.6 Q2314.64 1524.47 2312.82 1520.93 Q2311.01 1517.37 2307.38 1517.37 M2307.38 1513.66 Q2313.19 1513.66 2316.24 1518.27 Q2319.32 1522.85 2319.32 1531.6 Q2319.32 1540.33 2316.24 1544.94 Q2313.19 1549.52 2307.38 1549.52 Q2301.57 1549.52 2298.49 1544.94 Q2295.43 1540.33 2295.43 1531.6 Q2295.43 1522.85 2298.49 1518.27 Q2301.57 1513.66 2307.38 1513.66 Z\" fill=\"#000000\" fill-rule=\"nonzero\" fill-opacity=\"1\" /><polyline clip-path=\"url(#clip342)\" style=\"stroke:#000000; stroke-linecap:round; stroke-linejoin:round; stroke-width:2; stroke-opacity:0.1; fill:none\" points=\"202.177,1445.72 2352.76,1445.72 \"/>\n",
       "<polyline clip-path=\"url(#clip342)\" style=\"stroke:#000000; stroke-linecap:round; stroke-linejoin:round; stroke-width:2; stroke-opacity:0.1; fill:none\" points=\"202.177,1086.57 2352.76,1086.57 \"/>\n",
       "<polyline clip-path=\"url(#clip342)\" style=\"stroke:#000000; stroke-linecap:round; stroke-linejoin:round; stroke-width:2; stroke-opacity:0.1; fill:none\" points=\"202.177,727.428 2352.76,727.428 \"/>\n",
       "<polyline clip-path=\"url(#clip342)\" style=\"stroke:#000000; stroke-linecap:round; stroke-linejoin:round; stroke-width:2; stroke-opacity:0.1; fill:none\" points=\"202.177,368.284 2352.76,368.284 \"/>\n",
       "<polyline clip-path=\"url(#clip340)\" style=\"stroke:#000000; stroke-linecap:round; stroke-linejoin:round; stroke-width:4; stroke-opacity:1; fill:none\" points=\"202.177,1486.45 202.177,47.2441 \"/>\n",
       "<polyline clip-path=\"url(#clip340)\" style=\"stroke:#000000; stroke-linecap:round; stroke-linejoin:round; stroke-width:4; stroke-opacity:1; fill:none\" points=\"202.177,1445.72 221.074,1445.72 \"/>\n",
       "<polyline clip-path=\"url(#clip340)\" style=\"stroke:#000000; stroke-linecap:round; stroke-linejoin:round; stroke-width:4; stroke-opacity:1; fill:none\" points=\"202.177,1086.57 221.074,1086.57 \"/>\n",
       "<polyline clip-path=\"url(#clip340)\" style=\"stroke:#000000; stroke-linecap:round; stroke-linejoin:round; stroke-width:4; stroke-opacity:1; fill:none\" points=\"202.177,727.428 221.074,727.428 \"/>\n",
       "<polyline clip-path=\"url(#clip340)\" style=\"stroke:#000000; stroke-linecap:round; stroke-linejoin:round; stroke-width:4; stroke-opacity:1; fill:none\" points=\"202.177,368.284 221.074,368.284 \"/>\n",
       "<path clip-path=\"url(#clip340)\" d=\"M154.232 1431.51 Q150.621 1431.51 148.793 1435.08 Q146.987 1438.62 146.987 1445.75 Q146.987 1452.86 148.793 1456.42 Q150.621 1459.96 154.232 1459.96 Q157.867 1459.96 159.672 1456.42 Q161.501 1452.86 161.501 1445.75 Q161.501 1438.62 159.672 1435.08 Q157.867 1431.51 154.232 1431.51 M154.232 1427.81 Q160.042 1427.81 163.098 1432.42 Q166.177 1437 166.177 1445.75 Q166.177 1454.48 163.098 1459.08 Q160.042 1463.67 154.232 1463.67 Q148.422 1463.67 145.343 1459.08 Q142.288 1454.48 142.288 1445.75 Q142.288 1437 145.343 1432.42 Q148.422 1427.81 154.232 1427.81 Z\" fill=\"#000000\" fill-rule=\"nonzero\" fill-opacity=\"1\" /><path clip-path=\"url(#clip340)\" d=\"M57.7745 1099.92 L74.0939 1099.92 L74.0939 1103.85 L52.1495 1103.85 L52.1495 1099.92 Q54.8115 1097.16 59.3949 1092.53 Q64.0013 1087.88 65.1819 1086.54 Q67.4272 1084.01 68.3068 1082.28 Q69.2096 1080.52 69.2096 1078.83 Q69.2096 1076.07 67.2652 1074.34 Q65.3439 1072.6 62.2421 1072.6 Q60.043 1072.6 57.5893 1073.37 Q55.1588 1074.13 52.381 1075.68 L52.381 1070.96 Q55.2051 1069.82 57.6588 1069.25 Q60.1124 1068.67 62.1495 1068.67 Q67.5198 1068.67 70.7142 1071.35 Q73.9087 1074.04 73.9087 1078.53 Q73.9087 1080.66 73.0985 1082.58 Q72.3115 1084.48 70.205 1087.07 Q69.6263 1087.74 66.5245 1090.96 Q63.4226 1094.15 57.7745 1099.92 Z\" fill=\"#000000\" fill-rule=\"nonzero\" fill-opacity=\"1\" /><path clip-path=\"url(#clip340)\" d=\"M93.9086 1072.37 Q90.2975 1072.37 88.4688 1075.94 Q86.6632 1079.48 86.6632 1086.61 Q86.6632 1093.71 88.4688 1097.28 Q90.2975 1100.82 93.9086 1100.82 Q97.5428 1100.82 99.3483 1097.28 Q101.177 1093.71 101.177 1086.61 Q101.177 1079.48 99.3483 1075.94 Q97.5428 1072.37 93.9086 1072.37 M93.9086 1068.67 Q99.7187 1068.67 102.774 1073.27 Q105.853 1077.86 105.853 1086.61 Q105.853 1095.33 102.774 1099.94 Q99.7187 1104.52 93.9086 1104.52 Q88.0984 1104.52 85.0197 1099.94 Q81.9642 1095.33 81.9642 1086.61 Q81.9642 1077.86 85.0197 1073.27 Q88.0984 1068.67 93.9086 1068.67 Z\" fill=\"#000000\" fill-rule=\"nonzero\" fill-opacity=\"1\" /><path clip-path=\"url(#clip340)\" d=\"M124.07 1072.37 Q120.459 1072.37 118.631 1075.94 Q116.825 1079.48 116.825 1086.61 Q116.825 1093.71 118.631 1097.28 Q120.459 1100.82 124.07 1100.82 Q127.705 1100.82 129.51 1097.28 Q131.339 1093.71 131.339 1086.61 Q131.339 1079.48 129.51 1075.94 Q127.705 1072.37 124.07 1072.37 M124.07 1068.67 Q129.881 1068.67 132.936 1073.27 Q136.015 1077.86 136.015 1086.61 Q136.015 1095.33 132.936 1099.94 Q129.881 1104.52 124.07 1104.52 Q118.26 1104.52 115.182 1099.94 Q112.126 1095.33 112.126 1086.61 Q112.126 1077.86 115.182 1073.27 Q118.26 1068.67 124.07 1068.67 Z\" fill=\"#000000\" fill-rule=\"nonzero\" fill-opacity=\"1\" /><path clip-path=\"url(#clip340)\" d=\"M154.232 1072.37 Q150.621 1072.37 148.793 1075.94 Q146.987 1079.48 146.987 1086.61 Q146.987 1093.71 148.793 1097.28 Q150.621 1100.82 154.232 1100.82 Q157.867 1100.82 159.672 1097.28 Q161.501 1093.71 161.501 1086.61 Q161.501 1079.48 159.672 1075.94 Q157.867 1072.37 154.232 1072.37 M154.232 1068.67 Q160.042 1068.67 163.098 1073.27 Q166.177 1077.86 166.177 1086.61 Q166.177 1095.33 163.098 1099.94 Q160.042 1104.52 154.232 1104.52 Q148.422 1104.52 145.343 1099.94 Q142.288 1095.33 142.288 1086.61 Q142.288 1077.86 145.343 1073.27 Q148.422 1068.67 154.232 1068.67 Z\" fill=\"#000000\" fill-rule=\"nonzero\" fill-opacity=\"1\" /><path clip-path=\"url(#clip340)\" d=\"M66.5939 714.222 L54.7884 732.671 L66.5939 732.671 L66.5939 714.222 M65.367 710.148 L71.2466 710.148 L71.2466 732.671 L76.1772 732.671 L76.1772 736.56 L71.2466 736.56 L71.2466 744.708 L66.5939 744.708 L66.5939 736.56 L50.9921 736.56 L50.9921 732.046 L65.367 710.148 Z\" fill=\"#000000\" fill-rule=\"nonzero\" fill-opacity=\"1\" /><path clip-path=\"url(#clip340)\" d=\"M93.9086 713.226 Q90.2975 713.226 88.4688 716.791 Q86.6632 720.333 86.6632 727.462 Q86.6632 734.569 88.4688 738.134 Q90.2975 741.675 93.9086 741.675 Q97.5428 741.675 99.3483 738.134 Q101.177 734.569 101.177 727.462 Q101.177 720.333 99.3483 716.791 Q97.5428 713.226 93.9086 713.226 M93.9086 709.523 Q99.7187 709.523 102.774 714.129 Q105.853 718.713 105.853 727.462 Q105.853 736.189 102.774 740.796 Q99.7187 745.379 93.9086 745.379 Q88.0984 745.379 85.0197 740.796 Q81.9642 736.189 81.9642 727.462 Q81.9642 718.713 85.0197 714.129 Q88.0984 709.523 93.9086 709.523 Z\" fill=\"#000000\" fill-rule=\"nonzero\" fill-opacity=\"1\" /><path clip-path=\"url(#clip340)\" d=\"M124.07 713.226 Q120.459 713.226 118.631 716.791 Q116.825 720.333 116.825 727.462 Q116.825 734.569 118.631 738.134 Q120.459 741.675 124.07 741.675 Q127.705 741.675 129.51 738.134 Q131.339 734.569 131.339 727.462 Q131.339 720.333 129.51 716.791 Q127.705 713.226 124.07 713.226 M124.07 709.523 Q129.881 709.523 132.936 714.129 Q136.015 718.713 136.015 727.462 Q136.015 736.189 132.936 740.796 Q129.881 745.379 124.07 745.379 Q118.26 745.379 115.182 740.796 Q112.126 736.189 112.126 727.462 Q112.126 718.713 115.182 714.129 Q118.26 709.523 124.07 709.523 Z\" fill=\"#000000\" fill-rule=\"nonzero\" fill-opacity=\"1\" /><path clip-path=\"url(#clip340)\" d=\"M154.232 713.226 Q150.621 713.226 148.793 716.791 Q146.987 720.333 146.987 727.462 Q146.987 734.569 148.793 738.134 Q150.621 741.675 154.232 741.675 Q157.867 741.675 159.672 738.134 Q161.501 734.569 161.501 727.462 Q161.501 720.333 159.672 716.791 Q157.867 713.226 154.232 713.226 M154.232 709.523 Q160.042 709.523 163.098 714.129 Q166.177 718.713 166.177 727.462 Q166.177 736.189 163.098 740.796 Q160.042 745.379 154.232 745.379 Q148.422 745.379 145.343 740.796 Q142.288 736.189 142.288 727.462 Q142.288 718.713 145.343 714.129 Q148.422 709.523 154.232 709.523 Z\" fill=\"#000000\" fill-rule=\"nonzero\" fill-opacity=\"1\" /><path clip-path=\"url(#clip340)\" d=\"M64.3254 366.42 Q61.1773 366.42 59.3254 368.573 Q57.4967 370.726 57.4967 374.476 Q57.4967 378.203 59.3254 380.379 Q61.1773 382.531 64.3254 382.531 Q67.4735 382.531 69.3022 380.379 Q71.1541 378.203 71.1541 374.476 Q71.1541 370.726 69.3022 368.573 Q67.4735 366.42 64.3254 366.42 M73.6077 351.768 L73.6077 356.027 Q71.8485 355.194 70.0429 354.754 Q68.2606 354.314 66.5013 354.314 Q61.8717 354.314 59.418 357.439 Q56.9875 360.564 56.6402 366.883 Q58.006 364.869 60.0662 363.805 Q62.1263 362.717 64.6032 362.717 Q69.8115 362.717 72.8207 365.888 Q75.8531 369.036 75.8531 374.476 Q75.8531 379.8 72.705 383.017 Q69.5568 386.235 64.3254 386.235 Q58.33 386.235 55.1588 381.652 Q51.9875 377.045 51.9875 368.318 Q51.9875 360.124 55.8764 355.263 Q59.7652 350.379 66.3161 350.379 Q68.0754 350.379 69.8578 350.726 Q71.6633 351.073 73.6077 351.768 Z\" fill=\"#000000\" fill-rule=\"nonzero\" fill-opacity=\"1\" /><path clip-path=\"url(#clip340)\" d=\"M93.9086 354.082 Q90.2975 354.082 88.4688 357.647 Q86.6632 361.189 86.6632 368.318 Q86.6632 375.425 88.4688 378.99 Q90.2975 382.531 93.9086 382.531 Q97.5428 382.531 99.3483 378.99 Q101.177 375.425 101.177 368.318 Q101.177 361.189 99.3483 357.647 Q97.5428 354.082 93.9086 354.082 M93.9086 350.379 Q99.7187 350.379 102.774 354.985 Q105.853 359.569 105.853 368.318 Q105.853 377.045 102.774 381.652 Q99.7187 386.235 93.9086 386.235 Q88.0984 386.235 85.0197 381.652 Q81.9642 377.045 81.9642 368.318 Q81.9642 359.569 85.0197 354.985 Q88.0984 350.379 93.9086 350.379 Z\" fill=\"#000000\" fill-rule=\"nonzero\" fill-opacity=\"1\" /><path clip-path=\"url(#clip340)\" d=\"M124.07 354.082 Q120.459 354.082 118.631 357.647 Q116.825 361.189 116.825 368.318 Q116.825 375.425 118.631 378.99 Q120.459 382.531 124.07 382.531 Q127.705 382.531 129.51 378.99 Q131.339 375.425 131.339 368.318 Q131.339 361.189 129.51 357.647 Q127.705 354.082 124.07 354.082 M124.07 350.379 Q129.881 350.379 132.936 354.985 Q136.015 359.569 136.015 368.318 Q136.015 377.045 132.936 381.652 Q129.881 386.235 124.07 386.235 Q118.26 386.235 115.182 381.652 Q112.126 377.045 112.126 368.318 Q112.126 359.569 115.182 354.985 Q118.26 350.379 124.07 350.379 Z\" fill=\"#000000\" fill-rule=\"nonzero\" fill-opacity=\"1\" /><path clip-path=\"url(#clip340)\" d=\"M154.232 354.082 Q150.621 354.082 148.793 357.647 Q146.987 361.189 146.987 368.318 Q146.987 375.425 148.793 378.99 Q150.621 382.531 154.232 382.531 Q157.867 382.531 159.672 378.99 Q161.501 375.425 161.501 368.318 Q161.501 361.189 159.672 357.647 Q157.867 354.082 154.232 354.082 M154.232 350.379 Q160.042 350.379 163.098 354.985 Q166.177 359.569 166.177 368.318 Q166.177 377.045 163.098 381.652 Q160.042 386.235 154.232 386.235 Q148.422 386.235 145.343 381.652 Q142.288 377.045 142.288 368.318 Q142.288 359.569 145.343 354.985 Q148.422 350.379 154.232 350.379 Z\" fill=\"#000000\" fill-rule=\"nonzero\" fill-opacity=\"1\" /><polyline clip-path=\"url(#clip342)\" style=\"stroke:#009af9; stroke-linecap:round; stroke-linejoin:round; stroke-width:4; stroke-opacity:1; fill:none\" points=\"263.042,1445.72 315.064,1445.72 367.086,1445.72 419.107,1445.72 471.129,1445.72 523.151,1445.72 575.173,1445.72 627.194,1445.72 679.216,1445.72 731.238,1445.72 783.26,1445.72 835.281,1445.72 887.303,1445.72 939.325,1445.72 991.347,1445.72 1043.37,1445.72 1095.39,1445.72 1147.41,1445.72 1199.43,1226.73 1251.46,87.9763 1303.48,1226.73 1355.5,1445.72 1407.52,1445.72 1459.54,1445.72 1511.56,1445.72 1563.59,1445.72 1615.61,1445.72 1667.63,1445.72 1719.65,1445.72 1771.67,1445.72 1823.69,1445.72 1875.72,1445.72 1927.74,1445.72 1979.76,1445.72 2031.78,1445.72 2083.8,1445.72 2135.83,1445.72 2187.85,1445.72 2239.87,1445.72 2291.89,1445.72 \"/>\n",
       "<polyline clip-path=\"url(#clip342)\" style=\"stroke:#e26f46; stroke-linecap:round; stroke-linejoin:round; stroke-width:4; stroke-opacity:1; fill:none\" points=\"263.042,1445.72 315.064,1445.72 367.086,1445.72 419.107,1445.72 471.129,1445.72 523.151,1445.72 575.173,1445.72 627.194,1445.72 679.216,1445.72 731.238,1445.72 783.26,1445.72 835.281,1445.71 887.303,1445.68 939.325,1445.29 991.347,1442.44 1043.37,1427.64 1095.39,1374.63 1147.41,1248.81 1199.43,1071.75 1251.46,977.565 1303.48,1071.75 1355.5,1248.81 1407.52,1374.63 1459.54,1427.64 1511.56,1442.44 1563.59,1445.29 1615.61,1445.68 1667.63,1445.71 1719.65,1445.72 1771.67,1445.72 1823.69,1445.72 1875.72,1445.72 1927.74,1445.72 1979.76,1445.72 2031.78,1445.72 2083.8,1445.72 2135.83,1445.72 2187.85,1445.72 2239.87,1445.72 2291.89,1445.72 \"/>\n",
       "<polyline clip-path=\"url(#clip342)\" style=\"stroke:#3da44d; stroke-linecap:round; stroke-linejoin:round; stroke-width:4; stroke-opacity:1; fill:none\" points=\"263.042,1445.72 315.064,1445.72 367.086,1445.72 419.107,1445.72 471.129,1445.72 523.151,1445.72 575.173,1445.72 627.194,1445.72 679.216,1445.71 731.238,1445.7 783.26,1445.61 835.281,1445.16 887.303,1443.37 939.325,1437.33 991.347,1420.7 1043.37,1383.63 1095.39,1318.35 1147.41,1231.32 1199.43,1151.62 1251.46,1118.72 1303.48,1151.62 1355.5,1231.32 1407.52,1318.35 1459.54,1383.63 1511.56,1420.7 1563.59,1437.33 1615.61,1443.37 1667.63,1445.16 1719.65,1445.61 1771.67,1445.7 1823.69,1445.71 1875.72,1445.72 1927.74,1445.72 1979.76,1445.72 2031.78,1445.72 2083.8,1445.72 2135.83,1445.72 2187.85,1445.72 2239.87,1445.72 2291.89,1445.72 \"/>\n",
       "<polyline clip-path=\"url(#clip342)\" style=\"stroke:#c271d2; stroke-linecap:round; stroke-linejoin:round; stroke-width:4; stroke-opacity:1; fill:none\" points=\"263.042,1445.72 315.064,1445.72 367.086,1445.72 419.107,1445.72 471.129,1445.72 523.151,1445.71 575.173,1445.71 627.194,1445.7 679.216,1445.63 731.238,1445.39 783.26,1444.58 835.281,1442.23 887.303,1436.28 939.325,1423.14 991.347,1398.15 1043.37,1357.74 1095.39,1303.26 1147.41,1244.26 1199.43,1197.47 1251.46,1179.53 1303.48,1197.47 1355.5,1244.26 1407.52,1303.26 1459.54,1357.74 1511.56,1398.15 1563.59,1423.14 1615.61,1436.28 1667.63,1442.23 1719.65,1444.58 1771.67,1445.39 1823.69,1445.63 1875.72,1445.7 1927.74,1445.71 1979.76,1445.71 2031.78,1445.72 2083.8,1445.72 2135.83,1445.72 2187.85,1445.72 2239.87,1445.72 2291.89,1445.72 \"/>\n",
       "<polyline clip-path=\"url(#clip342)\" style=\"stroke:#ac8d18; stroke-linecap:round; stroke-linejoin:round; stroke-width:4; stroke-opacity:1; fill:none\" points=\"263.042,1445.72 315.064,1445.72 367.086,1445.72 419.107,1445.71 471.129,1445.71 523.151,1445.7 575.173,1445.67 627.194,1445.55 679.216,1445.21 731.238,1444.28 783.26,1442.01 835.281,1437.01 887.303,1427.13 939.325,1409.69 991.347,1382.46 1043.37,1345.22 1095.39,1301.43 1147.41,1258.73 1199.43,1227.18 1251.46,1215.51 1303.48,1227.18 1355.5,1258.73 1407.52,1301.43 1459.54,1345.22 1511.56,1382.46 1563.59,1409.69 1615.61,1427.13 1667.63,1437.01 1719.65,1442.01 1771.67,1444.28 1823.69,1445.21 1875.72,1445.55 1927.74,1445.67 1979.76,1445.7 2031.78,1445.71 2083.8,1445.71 2135.83,1445.72 2187.85,1445.72 2239.87,1445.72 2291.89,1445.72 \"/>\n",
       "<polyline clip-path=\"url(#clip342)\" style=\"stroke:#00a9ad; stroke-linecap:round; stroke-linejoin:round; stroke-width:4; stroke-opacity:1; fill:none\" points=\"263.042,1445.72 315.064,1445.72 367.086,1445.71 419.107,1445.71 471.129,1445.69 523.151,1445.64 575.173,1445.5 627.194,1445.12 679.216,1444.22 731.238,1442.25 783.26,1438.25 835.281,1430.84 887.303,1418.32 939.325,1399.09 991.347,1372.47 1043.37,1339.6 1095.39,1304.01 1147.41,1271.42 1199.43,1248.33 1251.46,1239.97 1303.48,1248.33 1355.5,1271.42 1407.52,1304.01 1459.54,1339.6 1511.56,1372.47 1563.59,1399.09 1615.61,1418.32 1667.63,1430.84 1719.65,1438.25 1771.67,1442.25 1823.69,1444.22 1875.72,1445.12 1927.74,1445.5 1979.76,1445.64 2031.78,1445.69 2083.8,1445.71 2135.83,1445.71 2187.85,1445.72 2239.87,1445.72 2291.89,1445.72 \"/>\n",
       "<polyline clip-path=\"url(#clip342)\" style=\"stroke:#ed5d92; stroke-linecap:round; stroke-linejoin:round; stroke-width:4; stroke-opacity:1; fill:none\" points=\"263.042,1445.72 315.064,1445.71 367.086,1445.7 419.107,1445.68 471.129,1445.62 523.151,1445.47 575.173,1445.1 627.194,1444.31 679.216,1442.67 731.238,1439.52 783.26,1433.94 835.281,1424.75 887.303,1410.77 939.325,1391.22 991.347,1366.28 1043.37,1337.52 1095.39,1308.06 1147.41,1282.19 1199.43,1264.36 1251.46,1258 1303.48,1264.36 1355.5,1282.19 1407.52,1308.06 1459.54,1337.52 1511.56,1366.28 1563.59,1391.22 1615.61,1410.77 1667.63,1424.75 1719.65,1433.94 1771.67,1439.52 1823.69,1442.67 1875.72,1444.31 1927.74,1445.1 1979.76,1445.47 2031.78,1445.62 2083.8,1445.68 2135.83,1445.7 2187.85,1445.71 2239.87,1445.71 2291.89,1445.72 \"/>\n",
       "<polyline clip-path=\"url(#clip342)\" style=\"stroke:#c68125; stroke-linecap:round; stroke-linejoin:round; stroke-width:4; stroke-opacity:1; fill:none\" points=\"263.042,1445.72 315.064,1445.7 367.086,1445.68 419.107,1445.61 471.129,1445.46 523.151,1445.13 575.173,1444.45 627.194,1443.12 679.216,1440.67 731.238,1436.43 783.26,1429.57 835.281,1419.2 887.303,1404.6 939.325,1385.52 991.347,1362.55 1043.37,1337.33 1095.39,1312.5 1147.41,1291.33 1199.43,1277.04 1251.46,1271.98 1303.48,1277.04 1355.5,1291.33 1407.52,1312.5 1459.54,1337.33 1511.56,1362.55 1563.59,1385.52 1615.61,1404.6 1667.63,1419.2 1719.65,1429.57 1771.67,1436.43 1823.69,1440.67 1875.72,1443.12 1927.74,1444.45 1979.76,1445.13 2031.78,1445.46 2083.8,1445.61 2135.83,1445.67 2187.85,1445.7 2239.87,1445.71 2291.89,1445.72 \"/>\n",
       "<polyline clip-path=\"url(#clip342)\" style=\"stroke:#00a98d; stroke-linecap:round; stroke-linejoin:round; stroke-width:4; stroke-opacity:1; fill:none\" points=\"263.042,1445.72 315.064,1445.68 367.086,1445.61 419.107,1445.47 471.129,1445.19 523.151,1444.62 575.173,1443.55 627.194,1441.63 679.216,1438.39 731.238,1433.22 783.26,1425.42 835.281,1414.36 887.303,1399.67 939.325,1381.42 991.347,1360.41 1043.37,1338.17 1095.39,1316.91 1147.41,1299.18 1199.43,1287.39 1251.46,1283.25 1303.48,1287.39 1355.5,1299.18 1407.52,1316.91 1459.54,1338.17 1511.56,1360.41 1563.59,1381.42 1615.61,1399.67 1667.63,1414.36 1719.65,1425.42 1771.67,1433.22 1823.69,1438.39 1875.72,1441.63 1927.74,1443.55 1979.76,1444.62 2031.78,1445.19 2083.8,1445.47 2135.83,1445.61 2187.85,1445.67 2239.87,1445.7 2291.89,1445.72 \"/>\n",
       "<polyline clip-path=\"url(#clip342)\" style=\"stroke:#8e971d; stroke-linecap:round; stroke-linejoin:round; stroke-width:4; stroke-opacity:1; fill:none\" points=\"263.042,1445.72 315.064,1445.63 367.086,1445.5 419.107,1445.25 471.129,1444.79 523.151,1443.93 575.173,1442.43 627.194,1439.94 679.216,1436 731.238,1430.07 783.26,1421.62 835.281,1410.24 887.303,1395.77 939.325,1378.52 991.347,1359.31 1043.37,1339.56 1095.39,1321.11 1147.41,1305.99 1199.43,1296.04 1251.46,1292.57 1303.48,1296.04 1355.5,1305.99 1407.52,1321.11 1459.54,1339.56 1511.56,1359.31 1563.59,1378.52 1615.61,1395.77 1667.63,1410.24 1719.65,1421.62 1771.67,1430.07 1823.69,1436 1875.72,1439.94 1927.74,1442.43 1979.76,1443.93 2031.78,1444.79 2083.8,1445.25 2135.83,1445.49 2187.85,1445.62 2239.87,1445.68 2291.89,1445.72 \"/>\n",
       "<polyline clip-path=\"url(#clip342)\" style=\"stroke:#00a8cb; stroke-linecap:round; stroke-linejoin:round; stroke-width:4; stroke-opacity:1; fill:none\" points=\"263.042,1445.72 315.064,1445.56 367.086,1445.33 419.107,1444.94 471.129,1444.26 523.151,1443.08 575.173,1441.16 627.194,1438.13 679.216,1433.58 731.238,1427.08 783.26,1418.22 835.281,1406.76 887.303,1392.72 939.325,1376.49 991.347,1358.91 1043.37,1341.25 1095.39,1325.05 1147.41,1311.95 1199.43,1303.42 1251.46,1300.45 1303.48,1303.42 1355.5,1311.95 1407.52,1325.05 1459.54,1341.25 1511.56,1358.91 1563.59,1376.49 1615.61,1392.72 1667.63,1406.76 1719.65,1418.22 1771.67,1427.08 1823.69,1433.58 1875.72,1438.13 1927.74,1441.16 1979.76,1443.08 2031.78,1444.25 2083.8,1444.94 2135.83,1445.32 2187.85,1445.53 2239.87,1445.64 2291.89,1445.72 \"/>\n",
       "<path clip-path=\"url(#clip340)\" d=\"M2014.04 717.298 L2281.07 717.298 L2281.07 95.2176 L2014.04 95.2176  Z\" fill=\"#ffffff\" fill-rule=\"evenodd\" fill-opacity=\"1\"/>\n",
       "<polyline clip-path=\"url(#clip340)\" style=\"stroke:#000000; stroke-linecap:round; stroke-linejoin:round; stroke-width:4; stroke-opacity:1; fill:none\" points=\"2014.04,717.298 2281.07,717.298 2281.07,95.2176 2014.04,95.2176 2014.04,717.298 \"/>\n",
       "<polyline clip-path=\"url(#clip340)\" style=\"stroke:#009af9; stroke-linecap:round; stroke-linejoin:round; stroke-width:4; stroke-opacity:1; fill:none\" points=\"2037.94,147.058 2181.31,147.058 \"/>\n",
       "<path clip-path=\"url(#clip340)\" d=\"M2205.88 160.402 L2213.52 160.402 L2213.52 134.037 L2205.21 135.703 L2205.21 131.444 L2213.47 129.778 L2218.15 129.778 L2218.15 160.402 L2225.79 160.402 L2225.79 164.338 L2205.88 164.338 L2205.88 160.402 Z\" fill=\"#000000\" fill-rule=\"nonzero\" fill-opacity=\"1\" /><polyline clip-path=\"url(#clip340)\" style=\"stroke:#e26f46; stroke-linecap:round; stroke-linejoin:round; stroke-width:4; stroke-opacity:1; fill:none\" points=\"2037.94,198.898 2181.31,198.898 \"/>\n",
       "<path clip-path=\"url(#clip340)\" d=\"M2210.83 212.242 L2227.15 212.242 L2227.15 216.178 L2205.21 216.178 L2205.21 212.242 Q2207.87 209.488 2212.45 204.858 Q2217.06 200.205 2218.24 198.863 Q2220.48 196.34 2221.36 194.604 Q2222.27 192.844 2222.27 191.155 Q2222.27 188.4 2220.32 186.664 Q2218.4 184.928 2215.3 184.928 Q2213.1 184.928 2210.65 185.692 Q2208.22 186.455 2205.44 188.006 L2205.44 183.284 Q2208.26 182.15 2210.72 181.571 Q2213.17 180.993 2215.21 180.993 Q2220.58 180.993 2223.77 183.678 Q2226.97 186.363 2226.97 190.854 Q2226.97 192.983 2226.16 194.905 Q2225.37 196.803 2223.26 199.395 Q2222.68 200.067 2219.58 203.284 Q2216.48 206.479 2210.83 212.242 Z\" fill=\"#000000\" fill-rule=\"nonzero\" fill-opacity=\"1\" /><polyline clip-path=\"url(#clip340)\" style=\"stroke:#3da44d; stroke-linecap:round; stroke-linejoin:round; stroke-width:4; stroke-opacity:1; fill:none\" points=\"2037.94,250.738 2181.31,250.738 \"/>\n",
       "<path clip-path=\"url(#clip340)\" d=\"M2220.83 249.383 Q2224.19 250.101 2226.06 252.369 Q2227.96 254.638 2227.96 257.971 Q2227.96 263.087 2224.44 265.888 Q2220.92 268.689 2214.44 268.689 Q2212.27 268.689 2209.95 268.249 Q2207.66 267.832 2205.21 266.976 L2205.21 262.462 Q2207.15 263.596 2209.47 264.175 Q2211.78 264.754 2214.3 264.754 Q2218.7 264.754 2220.99 263.018 Q2223.31 261.281 2223.31 257.971 Q2223.31 254.916 2221.16 253.203 Q2219.03 251.467 2215.21 251.467 L2211.18 251.467 L2211.18 247.624 L2215.39 247.624 Q2218.84 247.624 2220.67 246.258 Q2222.5 244.87 2222.5 242.277 Q2222.5 239.615 2220.6 238.203 Q2218.73 236.768 2215.21 236.768 Q2213.29 236.768 2211.09 237.184 Q2208.89 237.601 2206.25 238.481 L2206.25 234.314 Q2208.91 233.573 2211.23 233.203 Q2213.56 232.833 2215.62 232.833 Q2220.95 232.833 2224.05 235.263 Q2227.15 237.67 2227.15 241.791 Q2227.15 244.661 2225.51 246.652 Q2223.86 248.62 2220.83 249.383 Z\" fill=\"#000000\" fill-rule=\"nonzero\" fill-opacity=\"1\" /><polyline clip-path=\"url(#clip340)\" style=\"stroke:#c271d2; stroke-linecap:round; stroke-linejoin:round; stroke-width:4; stroke-opacity:1; fill:none\" points=\"2037.94,302.578 2181.31,302.578 \"/>\n",
       "<path clip-path=\"url(#clip340)\" d=\"M2220.81 289.372 L2209 307.821 L2220.81 307.821 L2220.81 289.372 M2219.58 285.298 L2225.46 285.298 L2225.46 307.821 L2230.39 307.821 L2230.39 311.709 L2225.46 311.709 L2225.46 319.858 L2220.81 319.858 L2220.81 311.709 L2205.21 311.709 L2205.21 307.196 L2219.58 285.298 Z\" fill=\"#000000\" fill-rule=\"nonzero\" fill-opacity=\"1\" /><polyline clip-path=\"url(#clip340)\" style=\"stroke:#ac8d18; stroke-linecap:round; stroke-linejoin:round; stroke-width:4; stroke-opacity:1; fill:none\" points=\"2037.94,354.418 2181.31,354.418 \"/>\n",
       "<path clip-path=\"url(#clip340)\" d=\"M2206.67 337.138 L2225.02 337.138 L2225.02 341.073 L2210.95 341.073 L2210.95 349.545 Q2211.97 349.198 2212.99 349.036 Q2214 348.85 2215.02 348.85 Q2220.81 348.85 2224.19 352.022 Q2227.57 355.193 2227.57 360.61 Q2227.57 366.188 2224.1 369.29 Q2220.62 372.369 2214.3 372.369 Q2212.13 372.369 2209.86 371.998 Q2207.61 371.628 2205.21 370.887 L2205.21 366.188 Q2207.29 367.323 2209.51 367.878 Q2211.74 368.434 2214.21 368.434 Q2218.22 368.434 2220.55 366.327 Q2222.89 364.221 2222.89 360.61 Q2222.89 356.999 2220.55 354.892 Q2218.22 352.786 2214.21 352.786 Q2212.34 352.786 2210.46 353.202 Q2208.61 353.619 2206.67 354.499 L2206.67 337.138 Z\" fill=\"#000000\" fill-rule=\"nonzero\" fill-opacity=\"1\" /><polyline clip-path=\"url(#clip340)\" style=\"stroke:#00a9ad; stroke-linecap:round; stroke-linejoin:round; stroke-width:4; stroke-opacity:1; fill:none\" points=\"2037.94,406.258 2181.31,406.258 \"/>\n",
       "<path clip-path=\"url(#clip340)\" d=\"M2217.55 404.394 Q2214.4 404.394 2212.55 406.547 Q2210.72 408.7 2210.72 412.45 Q2210.72 416.176 2212.55 418.352 Q2214.4 420.505 2217.55 420.505 Q2220.69 420.505 2222.52 418.352 Q2224.37 416.176 2224.37 412.45 Q2224.37 408.7 2222.52 406.547 Q2220.69 404.394 2217.55 404.394 M2226.83 389.741 L2226.83 394.001 Q2225.07 393.167 2223.26 392.728 Q2221.48 392.288 2219.72 392.288 Q2215.09 392.288 2212.64 395.413 Q2210.21 398.538 2209.86 404.857 Q2211.23 402.843 2213.29 401.778 Q2215.35 400.69 2217.82 400.69 Q2223.03 400.69 2226.04 403.862 Q2229.07 407.01 2229.07 412.45 Q2229.07 417.774 2225.92 420.991 Q2222.78 424.209 2217.55 424.209 Q2211.55 424.209 2208.38 419.626 Q2205.21 415.019 2205.21 406.292 Q2205.21 398.098 2209.1 393.237 Q2212.99 388.353 2219.54 388.353 Q2221.3 388.353 2223.08 388.7 Q2224.88 389.047 2226.83 389.741 Z\" fill=\"#000000\" fill-rule=\"nonzero\" fill-opacity=\"1\" /><polyline clip-path=\"url(#clip340)\" style=\"stroke:#ed5d92; stroke-linecap:round; stroke-linejoin:round; stroke-width:4; stroke-opacity:1; fill:none\" points=\"2037.94,458.098 2181.31,458.098 \"/>\n",
       "<path clip-path=\"url(#clip340)\" d=\"M2205.21 440.818 L2227.43 440.818 L2227.43 442.808 L2214.88 475.378 L2210 475.378 L2221.8 444.753 L2205.21 444.753 L2205.21 440.818 Z\" fill=\"#000000\" fill-rule=\"nonzero\" fill-opacity=\"1\" /><polyline clip-path=\"url(#clip340)\" style=\"stroke:#c68125; stroke-linecap:round; stroke-linejoin:round; stroke-width:4; stroke-opacity:1; fill:none\" points=\"2037.94,509.938 2181.31,509.938 \"/>\n",
       "<path clip-path=\"url(#clip340)\" d=\"M2217.06 510.806 Q2213.73 510.806 2211.8 512.588 Q2209.91 514.37 2209.91 517.495 Q2209.91 520.62 2211.8 522.403 Q2213.73 524.185 2217.06 524.185 Q2220.39 524.185 2222.31 522.403 Q2224.23 520.597 2224.23 517.495 Q2224.23 514.37 2222.31 512.588 Q2220.42 510.806 2217.06 510.806 M2212.38 508.815 Q2209.37 508.074 2207.68 506.014 Q2206.02 503.954 2206.02 500.991 Q2206.02 496.847 2208.96 494.44 Q2211.92 492.033 2217.06 492.033 Q2222.22 492.033 2225.16 494.44 Q2228.1 496.847 2228.1 500.991 Q2228.1 503.954 2226.41 506.014 Q2224.74 508.074 2221.76 508.815 Q2225.14 509.602 2227.01 511.894 Q2228.91 514.185 2228.91 517.495 Q2228.91 522.519 2225.83 525.204 Q2222.78 527.889 2217.06 527.889 Q2211.34 527.889 2208.26 525.204 Q2205.21 522.519 2205.21 517.495 Q2205.21 514.185 2207.11 511.894 Q2209 509.602 2212.38 508.815 M2210.67 501.431 Q2210.67 504.116 2212.34 505.62 Q2214.03 507.125 2217.06 507.125 Q2220.07 507.125 2221.76 505.62 Q2223.47 504.116 2223.47 501.431 Q2223.47 498.745 2221.76 497.241 Q2220.07 495.736 2217.06 495.736 Q2214.03 495.736 2212.34 497.241 Q2210.67 498.745 2210.67 501.431 Z\" fill=\"#000000\" fill-rule=\"nonzero\" fill-opacity=\"1\" /><polyline clip-path=\"url(#clip340)\" style=\"stroke:#00a98d; stroke-linecap:round; stroke-linejoin:round; stroke-width:4; stroke-opacity:1; fill:none\" points=\"2037.94,561.778 2181.31,561.778 \"/>\n",
       "<path clip-path=\"url(#clip340)\" d=\"M2207.43 578.34 L2207.43 574.081 Q2209.19 574.914 2210.99 575.354 Q2212.8 575.794 2214.54 575.794 Q2219.17 575.794 2221.6 572.692 Q2224.05 569.567 2224.4 563.224 Q2223.05 565.215 2220.99 566.28 Q2218.93 567.345 2216.43 567.345 Q2211.25 567.345 2208.22 564.22 Q2205.21 561.072 2205.21 555.632 Q2205.21 550.308 2208.36 547.09 Q2211.5 543.873 2216.74 543.873 Q2222.73 543.873 2225.88 548.479 Q2229.05 553.062 2229.05 561.812 Q2229.05 569.984 2225.16 574.868 Q2221.3 579.729 2214.74 579.729 Q2212.99 579.729 2211.18 579.382 Q2209.37 579.034 2207.43 578.34 M2216.74 563.687 Q2219.88 563.687 2221.71 561.534 Q2223.56 559.382 2223.56 555.632 Q2223.56 551.905 2221.71 549.752 Q2219.88 547.576 2216.74 547.576 Q2213.59 547.576 2211.74 549.752 Q2209.91 551.905 2209.91 555.632 Q2209.91 559.382 2211.74 561.534 Q2213.59 563.687 2216.74 563.687 Z\" fill=\"#000000\" fill-rule=\"nonzero\" fill-opacity=\"1\" /><polyline clip-path=\"url(#clip340)\" style=\"stroke:#8e971d; stroke-linecap:round; stroke-linejoin:round; stroke-width:4; stroke-opacity:1; fill:none\" points=\"2037.94,613.618 2181.31,613.618 \"/>\n",
       "<path clip-path=\"url(#clip340)\" d=\"M2205.88 626.962 L2213.52 626.962 L2213.52 600.597 L2205.21 602.263 L2205.21 598.004 L2213.47 596.338 L2218.15 596.338 L2218.15 626.962 L2225.79 626.962 L2225.79 630.898 L2205.88 630.898 L2205.88 626.962 Z\" fill=\"#000000\" fill-rule=\"nonzero\" fill-opacity=\"1\" /><path clip-path=\"url(#clip340)\" d=\"M2245.23 599.416 Q2241.62 599.416 2239.79 602.981 Q2237.98 606.523 2237.98 613.652 Q2237.98 620.759 2239.79 624.324 Q2241.62 627.865 2245.23 627.865 Q2248.86 627.865 2250.67 624.324 Q2252.5 620.759 2252.5 613.652 Q2252.5 606.523 2250.67 602.981 Q2248.86 599.416 2245.23 599.416 M2245.23 595.713 Q2251.04 595.713 2254.1 600.319 Q2257.17 604.902 2257.17 613.652 Q2257.17 622.379 2254.1 626.986 Q2251.04 631.569 2245.23 631.569 Q2239.42 631.569 2236.34 626.986 Q2233.29 622.379 2233.29 613.652 Q2233.29 604.902 2236.34 600.319 Q2239.42 595.713 2245.23 595.713 Z\" fill=\"#000000\" fill-rule=\"nonzero\" fill-opacity=\"1\" /><polyline clip-path=\"url(#clip340)\" style=\"stroke:#00a8cb; stroke-linecap:round; stroke-linejoin:round; stroke-width:4; stroke-opacity:1; fill:none\" points=\"2037.94,665.458 2181.31,665.458 \"/>\n",
       "<path clip-path=\"url(#clip340)\" d=\"M2205.88 678.802 L2213.52 678.802 L2213.52 652.437 L2205.21 654.103 L2205.21 649.844 L2213.47 648.178 L2218.15 648.178 L2218.15 678.802 L2225.79 678.802 L2225.79 682.738 L2205.88 682.738 L2205.88 678.802 Z\" fill=\"#000000\" fill-rule=\"nonzero\" fill-opacity=\"1\" /><path clip-path=\"url(#clip340)\" d=\"M2236.04 678.802 L2243.68 678.802 L2243.68 652.437 L2235.37 654.103 L2235.37 649.844 L2243.63 648.178 L2248.31 648.178 L2248.31 678.802 L2255.95 678.802 L2255.95 682.738 L2236.04 682.738 L2236.04 678.802 Z\" fill=\"#000000\" fill-rule=\"nonzero\" fill-opacity=\"1\" /></svg>\n"
      ],
      "text/html": [
       "<?xml version=\"1.0\" encoding=\"utf-8\"?>\n",
       "<svg xmlns=\"http://www.w3.org/2000/svg\" xmlns:xlink=\"http://www.w3.org/1999/xlink\" width=\"600\" height=\"400\" viewBox=\"0 0 2400 1600\">\n",
       "<defs>\n",
       "  <clipPath id=\"clip390\">\n",
       "    <rect x=\"0\" y=\"0\" width=\"2400\" height=\"1600\"/>\n",
       "  </clipPath>\n",
       "</defs>\n",
       "<path clip-path=\"url(#clip390)\" d=\"M0 1600 L2400 1600 L2400 0 L0 0  Z\" fill=\"#ffffff\" fill-rule=\"evenodd\" fill-opacity=\"1\"/>\n",
       "<defs>\n",
       "  <clipPath id=\"clip391\">\n",
       "    <rect x=\"480\" y=\"0\" width=\"1681\" height=\"1600\"/>\n",
       "  </clipPath>\n",
       "</defs>\n",
       "<path clip-path=\"url(#clip390)\" d=\"M202.177 1486.45 L2352.76 1486.45 L2352.76 47.2441 L202.177 47.2441  Z\" fill=\"#ffffff\" fill-rule=\"evenodd\" fill-opacity=\"1\"/>\n",
       "<defs>\n",
       "  <clipPath id=\"clip392\">\n",
       "    <rect x=\"202\" y=\"47\" width=\"2152\" height=\"1440\"/>\n",
       "  </clipPath>\n",
       "</defs>\n",
       "<polyline clip-path=\"url(#clip392)\" style=\"stroke:#000000; stroke-linecap:round; stroke-linejoin:round; stroke-width:2; stroke-opacity:0.1; fill:none\" points=\"211.02,1486.45 211.02,47.2441 \"/>\n",
       "<polyline clip-path=\"url(#clip392)\" style=\"stroke:#000000; stroke-linecap:round; stroke-linejoin:round; stroke-width:2; stroke-opacity:0.1; fill:none\" points=\"731.238,1486.45 731.238,47.2441 \"/>\n",
       "<polyline clip-path=\"url(#clip392)\" style=\"stroke:#000000; stroke-linecap:round; stroke-linejoin:round; stroke-width:2; stroke-opacity:0.1; fill:none\" points=\"1251.46,1486.45 1251.46,47.2441 \"/>\n",
       "<polyline clip-path=\"url(#clip392)\" style=\"stroke:#000000; stroke-linecap:round; stroke-linejoin:round; stroke-width:2; stroke-opacity:0.1; fill:none\" points=\"1771.67,1486.45 1771.67,47.2441 \"/>\n",
       "<polyline clip-path=\"url(#clip392)\" style=\"stroke:#000000; stroke-linecap:round; stroke-linejoin:round; stroke-width:2; stroke-opacity:0.1; fill:none\" points=\"2291.89,1486.45 2291.89,47.2441 \"/>\n",
       "<polyline clip-path=\"url(#clip390)\" style=\"stroke:#000000; stroke-linecap:round; stroke-linejoin:round; stroke-width:4; stroke-opacity:1; fill:none\" points=\"202.177,1486.45 2352.76,1486.45 \"/>\n",
       "<polyline clip-path=\"url(#clip390)\" style=\"stroke:#000000; stroke-linecap:round; stroke-linejoin:round; stroke-width:4; stroke-opacity:1; fill:none\" points=\"211.02,1486.45 211.02,1467.55 \"/>\n",
       "<polyline clip-path=\"url(#clip390)\" style=\"stroke:#000000; stroke-linecap:round; stroke-linejoin:round; stroke-width:4; stroke-opacity:1; fill:none\" points=\"731.238,1486.45 731.238,1467.55 \"/>\n",
       "<polyline clip-path=\"url(#clip390)\" style=\"stroke:#000000; stroke-linecap:round; stroke-linejoin:round; stroke-width:4; stroke-opacity:1; fill:none\" points=\"1251.46,1486.45 1251.46,1467.55 \"/>\n",
       "<polyline clip-path=\"url(#clip390)\" style=\"stroke:#000000; stroke-linecap:round; stroke-linejoin:round; stroke-width:4; stroke-opacity:1; fill:none\" points=\"1771.67,1486.45 1771.67,1467.55 \"/>\n",
       "<polyline clip-path=\"url(#clip390)\" style=\"stroke:#000000; stroke-linecap:round; stroke-linejoin:round; stroke-width:4; stroke-opacity:1; fill:none\" points=\"2291.89,1486.45 2291.89,1467.55 \"/>\n",
       "<path clip-path=\"url(#clip390)\" d=\"M211.02 1517.37 Q207.409 1517.37 205.581 1520.93 Q203.775 1524.47 203.775 1531.6 Q203.775 1538.71 205.581 1542.27 Q207.409 1545.82 211.02 1545.82 Q214.655 1545.82 216.46 1542.27 Q218.289 1538.71 218.289 1531.6 Q218.289 1524.47 216.46 1520.93 Q214.655 1517.37 211.02 1517.37 M211.02 1513.66 Q216.831 1513.66 219.886 1518.27 Q222.965 1522.85 222.965 1531.6 Q222.965 1540.33 219.886 1544.94 Q216.831 1549.52 211.02 1549.52 Q205.21 1549.52 202.132 1544.94 Q199.076 1540.33 199.076 1531.6 Q199.076 1522.85 202.132 1518.27 Q205.21 1513.66 211.02 1513.66 Z\" fill=\"#000000\" fill-rule=\"nonzero\" fill-opacity=\"1\" /><path clip-path=\"url(#clip390)\" d=\"M705.926 1544.91 L713.564 1544.91 L713.564 1518.55 L705.254 1520.21 L705.254 1515.95 L713.518 1514.29 L718.194 1514.29 L718.194 1544.91 L725.833 1544.91 L725.833 1548.85 L705.926 1548.85 L705.926 1544.91 Z\" fill=\"#000000\" fill-rule=\"nonzero\" fill-opacity=\"1\" /><path clip-path=\"url(#clip390)\" d=\"M745.277 1517.37 Q741.666 1517.37 739.837 1520.93 Q738.032 1524.47 738.032 1531.6 Q738.032 1538.71 739.837 1542.27 Q741.666 1545.82 745.277 1545.82 Q748.911 1545.82 750.717 1542.27 Q752.546 1538.71 752.546 1531.6 Q752.546 1524.47 750.717 1520.93 Q748.911 1517.37 745.277 1517.37 M745.277 1513.66 Q751.087 1513.66 754.143 1518.27 Q757.222 1522.85 757.222 1531.6 Q757.222 1540.33 754.143 1544.94 Q751.087 1549.52 745.277 1549.52 Q739.467 1549.52 736.388 1544.94 Q733.333 1540.33 733.333 1531.6 Q733.333 1522.85 736.388 1518.27 Q739.467 1513.66 745.277 1513.66 Z\" fill=\"#000000\" fill-rule=\"nonzero\" fill-opacity=\"1\" /><path clip-path=\"url(#clip390)\" d=\"M1230.23 1544.91 L1246.55 1544.91 L1246.55 1548.85 L1224.6 1548.85 L1224.6 1544.91 Q1227.27 1542.16 1231.85 1537.53 Q1236.46 1532.88 1237.64 1531.53 Q1239.88 1529.01 1240.76 1527.27 Q1241.66 1525.51 1241.66 1523.82 Q1241.66 1521.07 1239.72 1519.33 Q1237.8 1517.6 1234.7 1517.6 Q1232.5 1517.6 1230.04 1518.36 Q1227.61 1519.13 1224.84 1520.68 L1224.84 1515.95 Q1227.66 1514.82 1230.11 1514.24 Q1232.57 1513.66 1234.6 1513.66 Q1239.97 1513.66 1243.17 1516.35 Q1246.36 1519.03 1246.36 1523.52 Q1246.36 1525.65 1245.55 1527.57 Q1244.77 1529.47 1242.66 1532.07 Q1242.08 1532.74 1238.98 1535.95 Q1235.88 1539.15 1230.23 1544.91 Z\" fill=\"#000000\" fill-rule=\"nonzero\" fill-opacity=\"1\" /><path clip-path=\"url(#clip390)\" d=\"M1266.36 1517.37 Q1262.75 1517.37 1260.92 1520.93 Q1259.12 1524.47 1259.12 1531.6 Q1259.12 1538.71 1260.92 1542.27 Q1262.75 1545.82 1266.36 1545.82 Q1270 1545.82 1271.8 1542.27 Q1273.63 1538.71 1273.63 1531.6 Q1273.63 1524.47 1271.8 1520.93 Q1270 1517.37 1266.36 1517.37 M1266.36 1513.66 Q1272.17 1513.66 1275.23 1518.27 Q1278.31 1522.85 1278.31 1531.6 Q1278.31 1540.33 1275.23 1544.94 Q1272.17 1549.52 1266.36 1549.52 Q1260.55 1549.52 1257.47 1544.94 Q1254.42 1540.33 1254.42 1531.6 Q1254.42 1522.85 1257.47 1518.27 Q1260.55 1513.66 1266.36 1513.66 Z\" fill=\"#000000\" fill-rule=\"nonzero\" fill-opacity=\"1\" /><path clip-path=\"url(#clip390)\" d=\"M1760.52 1530.21 Q1763.87 1530.93 1765.75 1533.2 Q1767.65 1535.47 1767.65 1538.8 Q1767.65 1543.92 1764.13 1546.72 Q1760.61 1549.52 1754.13 1549.52 Q1751.95 1549.52 1749.64 1549.08 Q1747.34 1548.66 1744.89 1547.81 L1744.89 1543.29 Q1746.84 1544.43 1749.15 1545.01 Q1751.46 1545.58 1753.99 1545.58 Q1758.39 1545.58 1760.68 1543.85 Q1762.99 1542.11 1762.99 1538.8 Q1762.99 1535.75 1760.84 1534.03 Q1758.71 1532.3 1754.89 1532.3 L1750.86 1532.3 L1750.86 1528.45 L1755.08 1528.45 Q1758.52 1528.45 1760.35 1527.09 Q1762.18 1525.7 1762.18 1523.11 Q1762.18 1520.45 1760.28 1519.03 Q1758.41 1517.6 1754.89 1517.6 Q1752.97 1517.6 1750.77 1518.01 Q1748.57 1518.43 1745.93 1519.31 L1745.93 1515.14 Q1748.59 1514.4 1750.91 1514.03 Q1753.25 1513.66 1755.31 1513.66 Q1760.63 1513.66 1763.73 1516.09 Q1766.84 1518.5 1766.84 1522.62 Q1766.84 1525.49 1765.19 1527.48 Q1763.55 1529.45 1760.52 1530.21 Z\" fill=\"#000000\" fill-rule=\"nonzero\" fill-opacity=\"1\" /><path clip-path=\"url(#clip390)\" d=\"M1786.51 1517.37 Q1782.9 1517.37 1781.07 1520.93 Q1779.27 1524.47 1779.27 1531.6 Q1779.27 1538.71 1781.07 1542.27 Q1782.9 1545.82 1786.51 1545.82 Q1790.15 1545.82 1791.95 1542.27 Q1793.78 1538.71 1793.78 1531.6 Q1793.78 1524.47 1791.95 1520.93 Q1790.15 1517.37 1786.51 1517.37 M1786.51 1513.66 Q1792.32 1513.66 1795.38 1518.27 Q1798.46 1522.85 1798.46 1531.6 Q1798.46 1540.33 1795.38 1544.94 Q1792.32 1549.52 1786.51 1549.52 Q1780.7 1549.52 1777.62 1544.94 Q1774.57 1540.33 1774.57 1531.6 Q1774.57 1522.85 1777.62 1518.27 Q1780.7 1513.66 1786.51 1513.66 Z\" fill=\"#000000\" fill-rule=\"nonzero\" fill-opacity=\"1\" /><path clip-path=\"url(#clip390)\" d=\"M2280.06 1518.36 L2268.26 1536.81 L2280.06 1536.81 L2280.06 1518.36 M2278.83 1514.29 L2284.71 1514.29 L2284.71 1536.81 L2289.65 1536.81 L2289.65 1540.7 L2284.71 1540.7 L2284.71 1548.85 L2280.06 1548.85 L2280.06 1540.7 L2264.46 1540.7 L2264.46 1536.19 L2278.83 1514.29 Z\" fill=\"#000000\" fill-rule=\"nonzero\" fill-opacity=\"1\" /><path clip-path=\"url(#clip390)\" d=\"M2307.38 1517.37 Q2303.77 1517.37 2301.94 1520.93 Q2300.13 1524.47 2300.13 1531.6 Q2300.13 1538.71 2301.94 1542.27 Q2303.77 1545.82 2307.38 1545.82 Q2311.01 1545.82 2312.82 1542.27 Q2314.64 1538.71 2314.64 1531.6 Q2314.64 1524.47 2312.82 1520.93 Q2311.01 1517.37 2307.38 1517.37 M2307.38 1513.66 Q2313.19 1513.66 2316.24 1518.27 Q2319.32 1522.85 2319.32 1531.6 Q2319.32 1540.33 2316.24 1544.94 Q2313.19 1549.52 2307.38 1549.52 Q2301.57 1549.52 2298.49 1544.94 Q2295.43 1540.33 2295.43 1531.6 Q2295.43 1522.85 2298.49 1518.27 Q2301.57 1513.66 2307.38 1513.66 Z\" fill=\"#000000\" fill-rule=\"nonzero\" fill-opacity=\"1\" /><polyline clip-path=\"url(#clip392)\" style=\"stroke:#000000; stroke-linecap:round; stroke-linejoin:round; stroke-width:2; stroke-opacity:0.1; fill:none\" points=\"202.177,1445.72 2352.76,1445.72 \"/>\n",
       "<polyline clip-path=\"url(#clip392)\" style=\"stroke:#000000; stroke-linecap:round; stroke-linejoin:round; stroke-width:2; stroke-opacity:0.1; fill:none\" points=\"202.177,1086.57 2352.76,1086.57 \"/>\n",
       "<polyline clip-path=\"url(#clip392)\" style=\"stroke:#000000; stroke-linecap:round; stroke-linejoin:round; stroke-width:2; stroke-opacity:0.1; fill:none\" points=\"202.177,727.428 2352.76,727.428 \"/>\n",
       "<polyline clip-path=\"url(#clip392)\" style=\"stroke:#000000; stroke-linecap:round; stroke-linejoin:round; stroke-width:2; stroke-opacity:0.1; fill:none\" points=\"202.177,368.284 2352.76,368.284 \"/>\n",
       "<polyline clip-path=\"url(#clip390)\" style=\"stroke:#000000; stroke-linecap:round; stroke-linejoin:round; stroke-width:4; stroke-opacity:1; fill:none\" points=\"202.177,1486.45 202.177,47.2441 \"/>\n",
       "<polyline clip-path=\"url(#clip390)\" style=\"stroke:#000000; stroke-linecap:round; stroke-linejoin:round; stroke-width:4; stroke-opacity:1; fill:none\" points=\"202.177,1445.72 221.074,1445.72 \"/>\n",
       "<polyline clip-path=\"url(#clip390)\" style=\"stroke:#000000; stroke-linecap:round; stroke-linejoin:round; stroke-width:4; stroke-opacity:1; fill:none\" points=\"202.177,1086.57 221.074,1086.57 \"/>\n",
       "<polyline clip-path=\"url(#clip390)\" style=\"stroke:#000000; stroke-linecap:round; stroke-linejoin:round; stroke-width:4; stroke-opacity:1; fill:none\" points=\"202.177,727.428 221.074,727.428 \"/>\n",
       "<polyline clip-path=\"url(#clip390)\" style=\"stroke:#000000; stroke-linecap:round; stroke-linejoin:round; stroke-width:4; stroke-opacity:1; fill:none\" points=\"202.177,368.284 221.074,368.284 \"/>\n",
       "<path clip-path=\"url(#clip390)\" d=\"M154.232 1431.51 Q150.621 1431.51 148.793 1435.08 Q146.987 1438.62 146.987 1445.75 Q146.987 1452.86 148.793 1456.42 Q150.621 1459.96 154.232 1459.96 Q157.867 1459.96 159.672 1456.42 Q161.501 1452.86 161.501 1445.75 Q161.501 1438.62 159.672 1435.08 Q157.867 1431.51 154.232 1431.51 M154.232 1427.81 Q160.042 1427.81 163.098 1432.42 Q166.177 1437 166.177 1445.75 Q166.177 1454.48 163.098 1459.08 Q160.042 1463.67 154.232 1463.67 Q148.422 1463.67 145.343 1459.08 Q142.288 1454.48 142.288 1445.75 Q142.288 1437 145.343 1432.42 Q148.422 1427.81 154.232 1427.81 Z\" fill=\"#000000\" fill-rule=\"nonzero\" fill-opacity=\"1\" /><path clip-path=\"url(#clip390)\" d=\"M57.7745 1099.92 L74.0939 1099.92 L74.0939 1103.85 L52.1495 1103.85 L52.1495 1099.92 Q54.8115 1097.16 59.3949 1092.53 Q64.0013 1087.88 65.1819 1086.54 Q67.4272 1084.01 68.3068 1082.28 Q69.2096 1080.52 69.2096 1078.83 Q69.2096 1076.07 67.2652 1074.34 Q65.3439 1072.6 62.2421 1072.6 Q60.043 1072.6 57.5893 1073.37 Q55.1588 1074.13 52.381 1075.68 L52.381 1070.96 Q55.2051 1069.82 57.6588 1069.25 Q60.1124 1068.67 62.1495 1068.67 Q67.5198 1068.67 70.7142 1071.35 Q73.9087 1074.04 73.9087 1078.53 Q73.9087 1080.66 73.0985 1082.58 Q72.3115 1084.48 70.205 1087.07 Q69.6263 1087.74 66.5245 1090.96 Q63.4226 1094.15 57.7745 1099.92 Z\" fill=\"#000000\" fill-rule=\"nonzero\" fill-opacity=\"1\" /><path clip-path=\"url(#clip390)\" d=\"M93.9086 1072.37 Q90.2975 1072.37 88.4688 1075.94 Q86.6632 1079.48 86.6632 1086.61 Q86.6632 1093.71 88.4688 1097.28 Q90.2975 1100.82 93.9086 1100.82 Q97.5428 1100.82 99.3483 1097.28 Q101.177 1093.71 101.177 1086.61 Q101.177 1079.48 99.3483 1075.94 Q97.5428 1072.37 93.9086 1072.37 M93.9086 1068.67 Q99.7187 1068.67 102.774 1073.27 Q105.853 1077.86 105.853 1086.61 Q105.853 1095.33 102.774 1099.94 Q99.7187 1104.52 93.9086 1104.52 Q88.0984 1104.52 85.0197 1099.94 Q81.9642 1095.33 81.9642 1086.61 Q81.9642 1077.86 85.0197 1073.27 Q88.0984 1068.67 93.9086 1068.67 Z\" fill=\"#000000\" fill-rule=\"nonzero\" fill-opacity=\"1\" /><path clip-path=\"url(#clip390)\" d=\"M124.07 1072.37 Q120.459 1072.37 118.631 1075.94 Q116.825 1079.48 116.825 1086.61 Q116.825 1093.71 118.631 1097.28 Q120.459 1100.82 124.07 1100.82 Q127.705 1100.82 129.51 1097.28 Q131.339 1093.71 131.339 1086.61 Q131.339 1079.48 129.51 1075.94 Q127.705 1072.37 124.07 1072.37 M124.07 1068.67 Q129.881 1068.67 132.936 1073.27 Q136.015 1077.86 136.015 1086.61 Q136.015 1095.33 132.936 1099.94 Q129.881 1104.52 124.07 1104.52 Q118.26 1104.52 115.182 1099.94 Q112.126 1095.33 112.126 1086.61 Q112.126 1077.86 115.182 1073.27 Q118.26 1068.67 124.07 1068.67 Z\" fill=\"#000000\" fill-rule=\"nonzero\" fill-opacity=\"1\" /><path clip-path=\"url(#clip390)\" d=\"M154.232 1072.37 Q150.621 1072.37 148.793 1075.94 Q146.987 1079.48 146.987 1086.61 Q146.987 1093.71 148.793 1097.28 Q150.621 1100.82 154.232 1100.82 Q157.867 1100.82 159.672 1097.28 Q161.501 1093.71 161.501 1086.61 Q161.501 1079.48 159.672 1075.94 Q157.867 1072.37 154.232 1072.37 M154.232 1068.67 Q160.042 1068.67 163.098 1073.27 Q166.177 1077.86 166.177 1086.61 Q166.177 1095.33 163.098 1099.94 Q160.042 1104.52 154.232 1104.52 Q148.422 1104.52 145.343 1099.94 Q142.288 1095.33 142.288 1086.61 Q142.288 1077.86 145.343 1073.27 Q148.422 1068.67 154.232 1068.67 Z\" fill=\"#000000\" fill-rule=\"nonzero\" fill-opacity=\"1\" /><path clip-path=\"url(#clip390)\" d=\"M66.5939 714.222 L54.7884 732.671 L66.5939 732.671 L66.5939 714.222 M65.367 710.148 L71.2466 710.148 L71.2466 732.671 L76.1772 732.671 L76.1772 736.56 L71.2466 736.56 L71.2466 744.708 L66.5939 744.708 L66.5939 736.56 L50.9921 736.56 L50.9921 732.046 L65.367 710.148 Z\" fill=\"#000000\" fill-rule=\"nonzero\" fill-opacity=\"1\" /><path clip-path=\"url(#clip390)\" d=\"M93.9086 713.226 Q90.2975 713.226 88.4688 716.791 Q86.6632 720.333 86.6632 727.462 Q86.6632 734.569 88.4688 738.134 Q90.2975 741.675 93.9086 741.675 Q97.5428 741.675 99.3483 738.134 Q101.177 734.569 101.177 727.462 Q101.177 720.333 99.3483 716.791 Q97.5428 713.226 93.9086 713.226 M93.9086 709.523 Q99.7187 709.523 102.774 714.129 Q105.853 718.713 105.853 727.462 Q105.853 736.189 102.774 740.796 Q99.7187 745.379 93.9086 745.379 Q88.0984 745.379 85.0197 740.796 Q81.9642 736.189 81.9642 727.462 Q81.9642 718.713 85.0197 714.129 Q88.0984 709.523 93.9086 709.523 Z\" fill=\"#000000\" fill-rule=\"nonzero\" fill-opacity=\"1\" /><path clip-path=\"url(#clip390)\" d=\"M124.07 713.226 Q120.459 713.226 118.631 716.791 Q116.825 720.333 116.825 727.462 Q116.825 734.569 118.631 738.134 Q120.459 741.675 124.07 741.675 Q127.705 741.675 129.51 738.134 Q131.339 734.569 131.339 727.462 Q131.339 720.333 129.51 716.791 Q127.705 713.226 124.07 713.226 M124.07 709.523 Q129.881 709.523 132.936 714.129 Q136.015 718.713 136.015 727.462 Q136.015 736.189 132.936 740.796 Q129.881 745.379 124.07 745.379 Q118.26 745.379 115.182 740.796 Q112.126 736.189 112.126 727.462 Q112.126 718.713 115.182 714.129 Q118.26 709.523 124.07 709.523 Z\" fill=\"#000000\" fill-rule=\"nonzero\" fill-opacity=\"1\" /><path clip-path=\"url(#clip390)\" d=\"M154.232 713.226 Q150.621 713.226 148.793 716.791 Q146.987 720.333 146.987 727.462 Q146.987 734.569 148.793 738.134 Q150.621 741.675 154.232 741.675 Q157.867 741.675 159.672 738.134 Q161.501 734.569 161.501 727.462 Q161.501 720.333 159.672 716.791 Q157.867 713.226 154.232 713.226 M154.232 709.523 Q160.042 709.523 163.098 714.129 Q166.177 718.713 166.177 727.462 Q166.177 736.189 163.098 740.796 Q160.042 745.379 154.232 745.379 Q148.422 745.379 145.343 740.796 Q142.288 736.189 142.288 727.462 Q142.288 718.713 145.343 714.129 Q148.422 709.523 154.232 709.523 Z\" fill=\"#000000\" fill-rule=\"nonzero\" fill-opacity=\"1\" /><path clip-path=\"url(#clip390)\" d=\"M64.3254 366.42 Q61.1773 366.42 59.3254 368.573 Q57.4967 370.726 57.4967 374.476 Q57.4967 378.203 59.3254 380.379 Q61.1773 382.531 64.3254 382.531 Q67.4735 382.531 69.3022 380.379 Q71.1541 378.203 71.1541 374.476 Q71.1541 370.726 69.3022 368.573 Q67.4735 366.42 64.3254 366.42 M73.6077 351.768 L73.6077 356.027 Q71.8485 355.194 70.0429 354.754 Q68.2606 354.314 66.5013 354.314 Q61.8717 354.314 59.418 357.439 Q56.9875 360.564 56.6402 366.883 Q58.006 364.869 60.0662 363.805 Q62.1263 362.717 64.6032 362.717 Q69.8115 362.717 72.8207 365.888 Q75.8531 369.036 75.8531 374.476 Q75.8531 379.8 72.705 383.017 Q69.5568 386.235 64.3254 386.235 Q58.33 386.235 55.1588 381.652 Q51.9875 377.045 51.9875 368.318 Q51.9875 360.124 55.8764 355.263 Q59.7652 350.379 66.3161 350.379 Q68.0754 350.379 69.8578 350.726 Q71.6633 351.073 73.6077 351.768 Z\" fill=\"#000000\" fill-rule=\"nonzero\" fill-opacity=\"1\" /><path clip-path=\"url(#clip390)\" d=\"M93.9086 354.082 Q90.2975 354.082 88.4688 357.647 Q86.6632 361.189 86.6632 368.318 Q86.6632 375.425 88.4688 378.99 Q90.2975 382.531 93.9086 382.531 Q97.5428 382.531 99.3483 378.99 Q101.177 375.425 101.177 368.318 Q101.177 361.189 99.3483 357.647 Q97.5428 354.082 93.9086 354.082 M93.9086 350.379 Q99.7187 350.379 102.774 354.985 Q105.853 359.569 105.853 368.318 Q105.853 377.045 102.774 381.652 Q99.7187 386.235 93.9086 386.235 Q88.0984 386.235 85.0197 381.652 Q81.9642 377.045 81.9642 368.318 Q81.9642 359.569 85.0197 354.985 Q88.0984 350.379 93.9086 350.379 Z\" fill=\"#000000\" fill-rule=\"nonzero\" fill-opacity=\"1\" /><path clip-path=\"url(#clip390)\" d=\"M124.07 354.082 Q120.459 354.082 118.631 357.647 Q116.825 361.189 116.825 368.318 Q116.825 375.425 118.631 378.99 Q120.459 382.531 124.07 382.531 Q127.705 382.531 129.51 378.99 Q131.339 375.425 131.339 368.318 Q131.339 361.189 129.51 357.647 Q127.705 354.082 124.07 354.082 M124.07 350.379 Q129.881 350.379 132.936 354.985 Q136.015 359.569 136.015 368.318 Q136.015 377.045 132.936 381.652 Q129.881 386.235 124.07 386.235 Q118.26 386.235 115.182 381.652 Q112.126 377.045 112.126 368.318 Q112.126 359.569 115.182 354.985 Q118.26 350.379 124.07 350.379 Z\" fill=\"#000000\" fill-rule=\"nonzero\" fill-opacity=\"1\" /><path clip-path=\"url(#clip390)\" d=\"M154.232 354.082 Q150.621 354.082 148.793 357.647 Q146.987 361.189 146.987 368.318 Q146.987 375.425 148.793 378.99 Q150.621 382.531 154.232 382.531 Q157.867 382.531 159.672 378.99 Q161.501 375.425 161.501 368.318 Q161.501 361.189 159.672 357.647 Q157.867 354.082 154.232 354.082 M154.232 350.379 Q160.042 350.379 163.098 354.985 Q166.177 359.569 166.177 368.318 Q166.177 377.045 163.098 381.652 Q160.042 386.235 154.232 386.235 Q148.422 386.235 145.343 381.652 Q142.288 377.045 142.288 368.318 Q142.288 359.569 145.343 354.985 Q148.422 350.379 154.232 350.379 Z\" fill=\"#000000\" fill-rule=\"nonzero\" fill-opacity=\"1\" /><polyline clip-path=\"url(#clip392)\" style=\"stroke:#009af9; stroke-linecap:round; stroke-linejoin:round; stroke-width:4; stroke-opacity:1; fill:none\" points=\"263.042,1445.72 315.064,1445.72 367.086,1445.72 419.107,1445.72 471.129,1445.72 523.151,1445.72 575.173,1445.72 627.194,1445.72 679.216,1445.72 731.238,1445.72 783.26,1445.72 835.281,1445.72 887.303,1445.72 939.325,1445.72 991.347,1445.72 1043.37,1445.72 1095.39,1445.72 1147.41,1445.72 1199.43,1226.73 1251.46,87.9763 1303.48,1226.73 1355.5,1445.72 1407.52,1445.72 1459.54,1445.72 1511.56,1445.72 1563.59,1445.72 1615.61,1445.72 1667.63,1445.72 1719.65,1445.72 1771.67,1445.72 1823.69,1445.72 1875.72,1445.72 1927.74,1445.72 1979.76,1445.72 2031.78,1445.72 2083.8,1445.72 2135.83,1445.72 2187.85,1445.72 2239.87,1445.72 2291.89,1445.72 \"/>\n",
       "<polyline clip-path=\"url(#clip392)\" style=\"stroke:#e26f46; stroke-linecap:round; stroke-linejoin:round; stroke-width:4; stroke-opacity:1; fill:none\" points=\"263.042,1445.72 315.064,1445.72 367.086,1445.72 419.107,1445.72 471.129,1445.72 523.151,1445.72 575.173,1445.72 627.194,1445.72 679.216,1445.72 731.238,1445.72 783.26,1445.72 835.281,1445.71 887.303,1445.68 939.325,1445.29 991.347,1442.44 1043.37,1427.64 1095.39,1374.63 1147.41,1248.81 1199.43,1071.75 1251.46,977.565 1303.48,1071.75 1355.5,1248.81 1407.52,1374.63 1459.54,1427.64 1511.56,1442.44 1563.59,1445.29 1615.61,1445.68 1667.63,1445.71 1719.65,1445.72 1771.67,1445.72 1823.69,1445.72 1875.72,1445.72 1927.74,1445.72 1979.76,1445.72 2031.78,1445.72 2083.8,1445.72 2135.83,1445.72 2187.85,1445.72 2239.87,1445.72 2291.89,1445.72 \"/>\n",
       "<polyline clip-path=\"url(#clip392)\" style=\"stroke:#3da44d; stroke-linecap:round; stroke-linejoin:round; stroke-width:4; stroke-opacity:1; fill:none\" points=\"263.042,1445.72 315.064,1445.72 367.086,1445.72 419.107,1445.72 471.129,1445.72 523.151,1445.72 575.173,1445.72 627.194,1445.72 679.216,1445.71 731.238,1445.7 783.26,1445.61 835.281,1445.16 887.303,1443.37 939.325,1437.33 991.347,1420.7 1043.37,1383.63 1095.39,1318.35 1147.41,1231.32 1199.43,1151.62 1251.46,1118.72 1303.48,1151.62 1355.5,1231.32 1407.52,1318.35 1459.54,1383.63 1511.56,1420.7 1563.59,1437.33 1615.61,1443.37 1667.63,1445.16 1719.65,1445.61 1771.67,1445.7 1823.69,1445.71 1875.72,1445.72 1927.74,1445.72 1979.76,1445.72 2031.78,1445.72 2083.8,1445.72 2135.83,1445.72 2187.85,1445.72 2239.87,1445.72 2291.89,1445.72 \"/>\n",
       "<polyline clip-path=\"url(#clip392)\" style=\"stroke:#c271d2; stroke-linecap:round; stroke-linejoin:round; stroke-width:4; stroke-opacity:1; fill:none\" points=\"263.042,1445.72 315.064,1445.72 367.086,1445.72 419.107,1445.72 471.129,1445.72 523.151,1445.71 575.173,1445.71 627.194,1445.7 679.216,1445.63 731.238,1445.39 783.26,1444.58 835.281,1442.23 887.303,1436.28 939.325,1423.14 991.347,1398.15 1043.37,1357.74 1095.39,1303.26 1147.41,1244.26 1199.43,1197.47 1251.46,1179.53 1303.48,1197.47 1355.5,1244.26 1407.52,1303.26 1459.54,1357.74 1511.56,1398.15 1563.59,1423.14 1615.61,1436.28 1667.63,1442.23 1719.65,1444.58 1771.67,1445.39 1823.69,1445.63 1875.72,1445.7 1927.74,1445.71 1979.76,1445.71 2031.78,1445.72 2083.8,1445.72 2135.83,1445.72 2187.85,1445.72 2239.87,1445.72 2291.89,1445.72 \"/>\n",
       "<polyline clip-path=\"url(#clip392)\" style=\"stroke:#ac8d18; stroke-linecap:round; stroke-linejoin:round; stroke-width:4; stroke-opacity:1; fill:none\" points=\"263.042,1445.72 315.064,1445.72 367.086,1445.72 419.107,1445.71 471.129,1445.71 523.151,1445.7 575.173,1445.67 627.194,1445.55 679.216,1445.21 731.238,1444.28 783.26,1442.01 835.281,1437.01 887.303,1427.13 939.325,1409.69 991.347,1382.46 1043.37,1345.22 1095.39,1301.43 1147.41,1258.73 1199.43,1227.18 1251.46,1215.51 1303.48,1227.18 1355.5,1258.73 1407.52,1301.43 1459.54,1345.22 1511.56,1382.46 1563.59,1409.69 1615.61,1427.13 1667.63,1437.01 1719.65,1442.01 1771.67,1444.28 1823.69,1445.21 1875.72,1445.55 1927.74,1445.67 1979.76,1445.7 2031.78,1445.71 2083.8,1445.71 2135.83,1445.72 2187.85,1445.72 2239.87,1445.72 2291.89,1445.72 \"/>\n",
       "<polyline clip-path=\"url(#clip392)\" style=\"stroke:#00a9ad; stroke-linecap:round; stroke-linejoin:round; stroke-width:4; stroke-opacity:1; fill:none\" points=\"263.042,1445.72 315.064,1445.72 367.086,1445.71 419.107,1445.71 471.129,1445.69 523.151,1445.64 575.173,1445.5 627.194,1445.12 679.216,1444.22 731.238,1442.25 783.26,1438.25 835.281,1430.84 887.303,1418.32 939.325,1399.09 991.347,1372.47 1043.37,1339.6 1095.39,1304.01 1147.41,1271.42 1199.43,1248.33 1251.46,1239.97 1303.48,1248.33 1355.5,1271.42 1407.52,1304.01 1459.54,1339.6 1511.56,1372.47 1563.59,1399.09 1615.61,1418.32 1667.63,1430.84 1719.65,1438.25 1771.67,1442.25 1823.69,1444.22 1875.72,1445.12 1927.74,1445.5 1979.76,1445.64 2031.78,1445.69 2083.8,1445.71 2135.83,1445.71 2187.85,1445.72 2239.87,1445.72 2291.89,1445.72 \"/>\n",
       "<polyline clip-path=\"url(#clip392)\" style=\"stroke:#ed5d92; stroke-linecap:round; stroke-linejoin:round; stroke-width:4; stroke-opacity:1; fill:none\" points=\"263.042,1445.72 315.064,1445.71 367.086,1445.7 419.107,1445.68 471.129,1445.62 523.151,1445.47 575.173,1445.1 627.194,1444.31 679.216,1442.67 731.238,1439.52 783.26,1433.94 835.281,1424.75 887.303,1410.77 939.325,1391.22 991.347,1366.28 1043.37,1337.52 1095.39,1308.06 1147.41,1282.19 1199.43,1264.36 1251.46,1258 1303.48,1264.36 1355.5,1282.19 1407.52,1308.06 1459.54,1337.52 1511.56,1366.28 1563.59,1391.22 1615.61,1410.77 1667.63,1424.75 1719.65,1433.94 1771.67,1439.52 1823.69,1442.67 1875.72,1444.31 1927.74,1445.1 1979.76,1445.47 2031.78,1445.62 2083.8,1445.68 2135.83,1445.7 2187.85,1445.71 2239.87,1445.71 2291.89,1445.72 \"/>\n",
       "<polyline clip-path=\"url(#clip392)\" style=\"stroke:#c68125; stroke-linecap:round; stroke-linejoin:round; stroke-width:4; stroke-opacity:1; fill:none\" points=\"263.042,1445.72 315.064,1445.7 367.086,1445.68 419.107,1445.61 471.129,1445.46 523.151,1445.13 575.173,1444.45 627.194,1443.12 679.216,1440.67 731.238,1436.43 783.26,1429.57 835.281,1419.2 887.303,1404.6 939.325,1385.52 991.347,1362.55 1043.37,1337.33 1095.39,1312.5 1147.41,1291.33 1199.43,1277.04 1251.46,1271.98 1303.48,1277.04 1355.5,1291.33 1407.52,1312.5 1459.54,1337.33 1511.56,1362.55 1563.59,1385.52 1615.61,1404.6 1667.63,1419.2 1719.65,1429.57 1771.67,1436.43 1823.69,1440.67 1875.72,1443.12 1927.74,1444.45 1979.76,1445.13 2031.78,1445.46 2083.8,1445.61 2135.83,1445.67 2187.85,1445.7 2239.87,1445.71 2291.89,1445.72 \"/>\n",
       "<polyline clip-path=\"url(#clip392)\" style=\"stroke:#00a98d; stroke-linecap:round; stroke-linejoin:round; stroke-width:4; stroke-opacity:1; fill:none\" points=\"263.042,1445.72 315.064,1445.68 367.086,1445.61 419.107,1445.47 471.129,1445.19 523.151,1444.62 575.173,1443.55 627.194,1441.63 679.216,1438.39 731.238,1433.22 783.26,1425.42 835.281,1414.36 887.303,1399.67 939.325,1381.42 991.347,1360.41 1043.37,1338.17 1095.39,1316.91 1147.41,1299.18 1199.43,1287.39 1251.46,1283.25 1303.48,1287.39 1355.5,1299.18 1407.52,1316.91 1459.54,1338.17 1511.56,1360.41 1563.59,1381.42 1615.61,1399.67 1667.63,1414.36 1719.65,1425.42 1771.67,1433.22 1823.69,1438.39 1875.72,1441.63 1927.74,1443.55 1979.76,1444.62 2031.78,1445.19 2083.8,1445.47 2135.83,1445.61 2187.85,1445.67 2239.87,1445.7 2291.89,1445.72 \"/>\n",
       "<polyline clip-path=\"url(#clip392)\" style=\"stroke:#8e971d; stroke-linecap:round; stroke-linejoin:round; stroke-width:4; stroke-opacity:1; fill:none\" points=\"263.042,1445.72 315.064,1445.63 367.086,1445.5 419.107,1445.25 471.129,1444.79 523.151,1443.93 575.173,1442.43 627.194,1439.94 679.216,1436 731.238,1430.07 783.26,1421.62 835.281,1410.24 887.303,1395.77 939.325,1378.52 991.347,1359.31 1043.37,1339.56 1095.39,1321.11 1147.41,1305.99 1199.43,1296.04 1251.46,1292.57 1303.48,1296.04 1355.5,1305.99 1407.52,1321.11 1459.54,1339.56 1511.56,1359.31 1563.59,1378.52 1615.61,1395.77 1667.63,1410.24 1719.65,1421.62 1771.67,1430.07 1823.69,1436 1875.72,1439.94 1927.74,1442.43 1979.76,1443.93 2031.78,1444.79 2083.8,1445.25 2135.83,1445.49 2187.85,1445.62 2239.87,1445.68 2291.89,1445.72 \"/>\n",
       "<polyline clip-path=\"url(#clip392)\" style=\"stroke:#00a8cb; stroke-linecap:round; stroke-linejoin:round; stroke-width:4; stroke-opacity:1; fill:none\" points=\"263.042,1445.72 315.064,1445.56 367.086,1445.33 419.107,1444.94 471.129,1444.26 523.151,1443.08 575.173,1441.16 627.194,1438.13 679.216,1433.58 731.238,1427.08 783.26,1418.22 835.281,1406.76 887.303,1392.72 939.325,1376.49 991.347,1358.91 1043.37,1341.25 1095.39,1325.05 1147.41,1311.95 1199.43,1303.42 1251.46,1300.45 1303.48,1303.42 1355.5,1311.95 1407.52,1325.05 1459.54,1341.25 1511.56,1358.91 1563.59,1376.49 1615.61,1392.72 1667.63,1406.76 1719.65,1418.22 1771.67,1427.08 1823.69,1433.58 1875.72,1438.13 1927.74,1441.16 1979.76,1443.08 2031.78,1444.25 2083.8,1444.94 2135.83,1445.32 2187.85,1445.53 2239.87,1445.64 2291.89,1445.72 \"/>\n",
       "<path clip-path=\"url(#clip390)\" d=\"M2014.04 717.298 L2281.07 717.298 L2281.07 95.2176 L2014.04 95.2176  Z\" fill=\"#ffffff\" fill-rule=\"evenodd\" fill-opacity=\"1\"/>\n",
       "<polyline clip-path=\"url(#clip390)\" style=\"stroke:#000000; stroke-linecap:round; stroke-linejoin:round; stroke-width:4; stroke-opacity:1; fill:none\" points=\"2014.04,717.298 2281.07,717.298 2281.07,95.2176 2014.04,95.2176 2014.04,717.298 \"/>\n",
       "<polyline clip-path=\"url(#clip390)\" style=\"stroke:#009af9; stroke-linecap:round; stroke-linejoin:round; stroke-width:4; stroke-opacity:1; fill:none\" points=\"2037.94,147.058 2181.31,147.058 \"/>\n",
       "<path clip-path=\"url(#clip390)\" d=\"M2205.88 160.402 L2213.52 160.402 L2213.52 134.037 L2205.21 135.703 L2205.21 131.444 L2213.47 129.778 L2218.15 129.778 L2218.15 160.402 L2225.79 160.402 L2225.79 164.338 L2205.88 164.338 L2205.88 160.402 Z\" fill=\"#000000\" fill-rule=\"nonzero\" fill-opacity=\"1\" /><polyline clip-path=\"url(#clip390)\" style=\"stroke:#e26f46; stroke-linecap:round; stroke-linejoin:round; stroke-width:4; stroke-opacity:1; fill:none\" points=\"2037.94,198.898 2181.31,198.898 \"/>\n",
       "<path clip-path=\"url(#clip390)\" d=\"M2210.83 212.242 L2227.15 212.242 L2227.15 216.178 L2205.21 216.178 L2205.21 212.242 Q2207.87 209.488 2212.45 204.858 Q2217.06 200.205 2218.24 198.863 Q2220.48 196.34 2221.36 194.604 Q2222.27 192.844 2222.27 191.155 Q2222.27 188.4 2220.32 186.664 Q2218.4 184.928 2215.3 184.928 Q2213.1 184.928 2210.65 185.692 Q2208.22 186.455 2205.44 188.006 L2205.44 183.284 Q2208.26 182.15 2210.72 181.571 Q2213.17 180.993 2215.21 180.993 Q2220.58 180.993 2223.77 183.678 Q2226.97 186.363 2226.97 190.854 Q2226.97 192.983 2226.16 194.905 Q2225.37 196.803 2223.26 199.395 Q2222.68 200.067 2219.58 203.284 Q2216.48 206.479 2210.83 212.242 Z\" fill=\"#000000\" fill-rule=\"nonzero\" fill-opacity=\"1\" /><polyline clip-path=\"url(#clip390)\" style=\"stroke:#3da44d; stroke-linecap:round; stroke-linejoin:round; stroke-width:4; stroke-opacity:1; fill:none\" points=\"2037.94,250.738 2181.31,250.738 \"/>\n",
       "<path clip-path=\"url(#clip390)\" d=\"M2220.83 249.383 Q2224.19 250.101 2226.06 252.369 Q2227.96 254.638 2227.96 257.971 Q2227.96 263.087 2224.44 265.888 Q2220.92 268.689 2214.44 268.689 Q2212.27 268.689 2209.95 268.249 Q2207.66 267.832 2205.21 266.976 L2205.21 262.462 Q2207.15 263.596 2209.47 264.175 Q2211.78 264.754 2214.3 264.754 Q2218.7 264.754 2220.99 263.018 Q2223.31 261.281 2223.31 257.971 Q2223.31 254.916 2221.16 253.203 Q2219.03 251.467 2215.21 251.467 L2211.18 251.467 L2211.18 247.624 L2215.39 247.624 Q2218.84 247.624 2220.67 246.258 Q2222.5 244.87 2222.5 242.277 Q2222.5 239.615 2220.6 238.203 Q2218.73 236.768 2215.21 236.768 Q2213.29 236.768 2211.09 237.184 Q2208.89 237.601 2206.25 238.481 L2206.25 234.314 Q2208.91 233.573 2211.23 233.203 Q2213.56 232.833 2215.62 232.833 Q2220.95 232.833 2224.05 235.263 Q2227.15 237.67 2227.15 241.791 Q2227.15 244.661 2225.51 246.652 Q2223.86 248.62 2220.83 249.383 Z\" fill=\"#000000\" fill-rule=\"nonzero\" fill-opacity=\"1\" /><polyline clip-path=\"url(#clip390)\" style=\"stroke:#c271d2; stroke-linecap:round; stroke-linejoin:round; stroke-width:4; stroke-opacity:1; fill:none\" points=\"2037.94,302.578 2181.31,302.578 \"/>\n",
       "<path clip-path=\"url(#clip390)\" d=\"M2220.81 289.372 L2209 307.821 L2220.81 307.821 L2220.81 289.372 M2219.58 285.298 L2225.46 285.298 L2225.46 307.821 L2230.39 307.821 L2230.39 311.709 L2225.46 311.709 L2225.46 319.858 L2220.81 319.858 L2220.81 311.709 L2205.21 311.709 L2205.21 307.196 L2219.58 285.298 Z\" fill=\"#000000\" fill-rule=\"nonzero\" fill-opacity=\"1\" /><polyline clip-path=\"url(#clip390)\" style=\"stroke:#ac8d18; stroke-linecap:round; stroke-linejoin:round; stroke-width:4; stroke-opacity:1; fill:none\" points=\"2037.94,354.418 2181.31,354.418 \"/>\n",
       "<path clip-path=\"url(#clip390)\" d=\"M2206.67 337.138 L2225.02 337.138 L2225.02 341.073 L2210.95 341.073 L2210.95 349.545 Q2211.97 349.198 2212.99 349.036 Q2214 348.85 2215.02 348.85 Q2220.81 348.85 2224.19 352.022 Q2227.57 355.193 2227.57 360.61 Q2227.57 366.188 2224.1 369.29 Q2220.62 372.369 2214.3 372.369 Q2212.13 372.369 2209.86 371.998 Q2207.61 371.628 2205.21 370.887 L2205.21 366.188 Q2207.29 367.323 2209.51 367.878 Q2211.74 368.434 2214.21 368.434 Q2218.22 368.434 2220.55 366.327 Q2222.89 364.221 2222.89 360.61 Q2222.89 356.999 2220.55 354.892 Q2218.22 352.786 2214.21 352.786 Q2212.34 352.786 2210.46 353.202 Q2208.61 353.619 2206.67 354.499 L2206.67 337.138 Z\" fill=\"#000000\" fill-rule=\"nonzero\" fill-opacity=\"1\" /><polyline clip-path=\"url(#clip390)\" style=\"stroke:#00a9ad; stroke-linecap:round; stroke-linejoin:round; stroke-width:4; stroke-opacity:1; fill:none\" points=\"2037.94,406.258 2181.31,406.258 \"/>\n",
       "<path clip-path=\"url(#clip390)\" d=\"M2217.55 404.394 Q2214.4 404.394 2212.55 406.547 Q2210.72 408.7 2210.72 412.45 Q2210.72 416.176 2212.55 418.352 Q2214.4 420.505 2217.55 420.505 Q2220.69 420.505 2222.52 418.352 Q2224.37 416.176 2224.37 412.45 Q2224.37 408.7 2222.52 406.547 Q2220.69 404.394 2217.55 404.394 M2226.83 389.741 L2226.83 394.001 Q2225.07 393.167 2223.26 392.728 Q2221.48 392.288 2219.72 392.288 Q2215.09 392.288 2212.64 395.413 Q2210.21 398.538 2209.86 404.857 Q2211.23 402.843 2213.29 401.778 Q2215.35 400.69 2217.82 400.69 Q2223.03 400.69 2226.04 403.862 Q2229.07 407.01 2229.07 412.45 Q2229.07 417.774 2225.92 420.991 Q2222.78 424.209 2217.55 424.209 Q2211.55 424.209 2208.38 419.626 Q2205.21 415.019 2205.21 406.292 Q2205.21 398.098 2209.1 393.237 Q2212.99 388.353 2219.54 388.353 Q2221.3 388.353 2223.08 388.7 Q2224.88 389.047 2226.83 389.741 Z\" fill=\"#000000\" fill-rule=\"nonzero\" fill-opacity=\"1\" /><polyline clip-path=\"url(#clip390)\" style=\"stroke:#ed5d92; stroke-linecap:round; stroke-linejoin:round; stroke-width:4; stroke-opacity:1; fill:none\" points=\"2037.94,458.098 2181.31,458.098 \"/>\n",
       "<path clip-path=\"url(#clip390)\" d=\"M2205.21 440.818 L2227.43 440.818 L2227.43 442.808 L2214.88 475.378 L2210 475.378 L2221.8 444.753 L2205.21 444.753 L2205.21 440.818 Z\" fill=\"#000000\" fill-rule=\"nonzero\" fill-opacity=\"1\" /><polyline clip-path=\"url(#clip390)\" style=\"stroke:#c68125; stroke-linecap:round; stroke-linejoin:round; stroke-width:4; stroke-opacity:1; fill:none\" points=\"2037.94,509.938 2181.31,509.938 \"/>\n",
       "<path clip-path=\"url(#clip390)\" d=\"M2217.06 510.806 Q2213.73 510.806 2211.8 512.588 Q2209.91 514.37 2209.91 517.495 Q2209.91 520.62 2211.8 522.403 Q2213.73 524.185 2217.06 524.185 Q2220.39 524.185 2222.31 522.403 Q2224.23 520.597 2224.23 517.495 Q2224.23 514.37 2222.31 512.588 Q2220.42 510.806 2217.06 510.806 M2212.38 508.815 Q2209.37 508.074 2207.68 506.014 Q2206.02 503.954 2206.02 500.991 Q2206.02 496.847 2208.96 494.44 Q2211.92 492.033 2217.06 492.033 Q2222.22 492.033 2225.16 494.44 Q2228.1 496.847 2228.1 500.991 Q2228.1 503.954 2226.41 506.014 Q2224.74 508.074 2221.76 508.815 Q2225.14 509.602 2227.01 511.894 Q2228.91 514.185 2228.91 517.495 Q2228.91 522.519 2225.83 525.204 Q2222.78 527.889 2217.06 527.889 Q2211.34 527.889 2208.26 525.204 Q2205.21 522.519 2205.21 517.495 Q2205.21 514.185 2207.11 511.894 Q2209 509.602 2212.38 508.815 M2210.67 501.431 Q2210.67 504.116 2212.34 505.62 Q2214.03 507.125 2217.06 507.125 Q2220.07 507.125 2221.76 505.62 Q2223.47 504.116 2223.47 501.431 Q2223.47 498.745 2221.76 497.241 Q2220.07 495.736 2217.06 495.736 Q2214.03 495.736 2212.34 497.241 Q2210.67 498.745 2210.67 501.431 Z\" fill=\"#000000\" fill-rule=\"nonzero\" fill-opacity=\"1\" /><polyline clip-path=\"url(#clip390)\" style=\"stroke:#00a98d; stroke-linecap:round; stroke-linejoin:round; stroke-width:4; stroke-opacity:1; fill:none\" points=\"2037.94,561.778 2181.31,561.778 \"/>\n",
       "<path clip-path=\"url(#clip390)\" d=\"M2207.43 578.34 L2207.43 574.081 Q2209.19 574.914 2210.99 575.354 Q2212.8 575.794 2214.54 575.794 Q2219.17 575.794 2221.6 572.692 Q2224.05 569.567 2224.4 563.224 Q2223.05 565.215 2220.99 566.28 Q2218.93 567.345 2216.43 567.345 Q2211.25 567.345 2208.22 564.22 Q2205.21 561.072 2205.21 555.632 Q2205.21 550.308 2208.36 547.09 Q2211.5 543.873 2216.74 543.873 Q2222.73 543.873 2225.88 548.479 Q2229.05 553.062 2229.05 561.812 Q2229.05 569.984 2225.16 574.868 Q2221.3 579.729 2214.74 579.729 Q2212.99 579.729 2211.18 579.382 Q2209.37 579.034 2207.43 578.34 M2216.74 563.687 Q2219.88 563.687 2221.71 561.534 Q2223.56 559.382 2223.56 555.632 Q2223.56 551.905 2221.71 549.752 Q2219.88 547.576 2216.74 547.576 Q2213.59 547.576 2211.74 549.752 Q2209.91 551.905 2209.91 555.632 Q2209.91 559.382 2211.74 561.534 Q2213.59 563.687 2216.74 563.687 Z\" fill=\"#000000\" fill-rule=\"nonzero\" fill-opacity=\"1\" /><polyline clip-path=\"url(#clip390)\" style=\"stroke:#8e971d; stroke-linecap:round; stroke-linejoin:round; stroke-width:4; stroke-opacity:1; fill:none\" points=\"2037.94,613.618 2181.31,613.618 \"/>\n",
       "<path clip-path=\"url(#clip390)\" d=\"M2205.88 626.962 L2213.52 626.962 L2213.52 600.597 L2205.21 602.263 L2205.21 598.004 L2213.47 596.338 L2218.15 596.338 L2218.15 626.962 L2225.79 626.962 L2225.79 630.898 L2205.88 630.898 L2205.88 626.962 Z\" fill=\"#000000\" fill-rule=\"nonzero\" fill-opacity=\"1\" /><path clip-path=\"url(#clip390)\" d=\"M2245.23 599.416 Q2241.62 599.416 2239.79 602.981 Q2237.98 606.523 2237.98 613.652 Q2237.98 620.759 2239.79 624.324 Q2241.62 627.865 2245.23 627.865 Q2248.86 627.865 2250.67 624.324 Q2252.5 620.759 2252.5 613.652 Q2252.5 606.523 2250.67 602.981 Q2248.86 599.416 2245.23 599.416 M2245.23 595.713 Q2251.04 595.713 2254.1 600.319 Q2257.17 604.902 2257.17 613.652 Q2257.17 622.379 2254.1 626.986 Q2251.04 631.569 2245.23 631.569 Q2239.42 631.569 2236.34 626.986 Q2233.29 622.379 2233.29 613.652 Q2233.29 604.902 2236.34 600.319 Q2239.42 595.713 2245.23 595.713 Z\" fill=\"#000000\" fill-rule=\"nonzero\" fill-opacity=\"1\" /><polyline clip-path=\"url(#clip390)\" style=\"stroke:#00a8cb; stroke-linecap:round; stroke-linejoin:round; stroke-width:4; stroke-opacity:1; fill:none\" points=\"2037.94,665.458 2181.31,665.458 \"/>\n",
       "<path clip-path=\"url(#clip390)\" d=\"M2205.88 678.802 L2213.52 678.802 L2213.52 652.437 L2205.21 654.103 L2205.21 649.844 L2213.47 648.178 L2218.15 648.178 L2218.15 678.802 L2225.79 678.802 L2225.79 682.738 L2205.88 682.738 L2205.88 678.802 Z\" fill=\"#000000\" fill-rule=\"nonzero\" fill-opacity=\"1\" /><path clip-path=\"url(#clip390)\" d=\"M2236.04 678.802 L2243.68 678.802 L2243.68 652.437 L2235.37 654.103 L2235.37 649.844 L2243.63 648.178 L2248.31 648.178 L2248.31 678.802 L2255.95 678.802 L2255.95 682.738 L2236.04 682.738 L2236.04 678.802 Z\" fill=\"#000000\" fill-rule=\"nonzero\" fill-opacity=\"1\" /></svg>\n"
      ]
     },
     "execution_count": 49,
     "metadata": {},
     "output_type": "execute_result"
    }
   ],
   "source": [
    "plot()\n",
    "for (i,c) in enumerate(sols)\n",
    "    plot!(c, label=i)\n",
    "end\n",
    "plot!()"
   ]
  },
  {
   "cell_type": "code",
   "execution_count": null,
   "id": "05e1a1e0-cd8d-4408-be3c-bb2edde853d8",
   "metadata": {
    "slideshow": {
     "slide_type": "skip"
    },
    "tags": []
   },
   "outputs": [],
   "source": []
  }
 ],
 "metadata": {
  "kernelspec": {
   "display_name": "Julia 1.9.4",
   "language": "julia",
   "name": "julia-1.9.4"
  },
  "language_info": {
   "file_extension": ".jl",
   "mimetype": "application/julia",
   "name": "julia",
   "version": "1.9.4"
  }
 },
 "nbformat": 4,
 "nbformat_minor": 5
}

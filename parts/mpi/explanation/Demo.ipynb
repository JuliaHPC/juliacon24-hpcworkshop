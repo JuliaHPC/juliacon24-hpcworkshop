{
 "cells": [
  {
   "cell_type": "code",
   "execution_count": 1,
   "id": "89ab4e89-10ca-4ba8-a7bc-d33fcf3f2e60",
   "metadata": {
    "tags": []
   },
   "outputs": [
    {
     "name": "stderr",
     "output_type": "stream",
     "text": [
      "\u001b[32m\u001b[1m  Activating\u001b[22m\u001b[39m project at `/global/u1/b/blaschke/juliacon24-hpcworkshop/parts/mpi/explanation`\n"
     ]
    },
    {
     "name": "stdout",
     "output_type": "stream",
     "text": [
      "\u001b[32m\u001b[1mStatus\u001b[22m\u001b[39m `/global/u1/b/blaschke/juliacon24-hpcworkshop/parts/mpi/explanation/Project.toml`\n",
      "  \u001b[90m[1520ce14] \u001b[39mAbstractTrees v0.4.5\n",
      "  \u001b[90m[0e44f5e4] \u001b[39mHwloc v3.0.1\n",
      "  \u001b[90m[da04e1cc] \u001b[39mMPI v0.20.20\n",
      "  \u001b[90m[e7922434] \u001b[39mMPIClusterManagers v0.2.4\n",
      "  \u001b[90m[6f74fd91] \u001b[39mNetworkInterfaceControllers v0.1.0\n"
     ]
    }
   ],
   "source": [
    "import Pkg;\n",
    "Pkg.activate(@__DIR__)\n",
    "Pkg.status()"
   ]
  },
  {
   "cell_type": "code",
   "execution_count": 2,
   "id": "9a3e4382-ff41-4139-9c72-bce6865ea58e",
   "metadata": {
    "tags": []
   },
   "outputs": [
    {
     "data": {
      "text/plain": [
       "\"/global/u1/b/blaschke/juliacon24-hpcworkshop/parts/mpi/explanation/Project.toml\""
      ]
     },
     "execution_count": 2,
     "metadata": {},
     "output_type": "execute_result"
    }
   ],
   "source": [
    "Base.active_project()"
   ]
  },
  {
   "cell_type": "markdown",
   "id": "53799c57-9c82-4cb2-9a73-f858a8725071",
   "metadata": {
    "slideshow": {
     "slide_type": "slide"
    },
    "tags": []
   },
   "source": [
    "# Julia + MPI\n",
    "\n",
    "([Back to Overview](../index.html#/0/8))\n",
    "\n",
    "`MPI.jl` provides wrappers for the system MPI libraries. And the `MPIClusterManagers.jl` package lets you control MPI workflows within Julia"
   ]
  },
  {
   "cell_type": "code",
   "execution_count": 3,
   "id": "6bcb1ba8-c4da-4311-a873-3354126c952d",
   "metadata": {
    "tags": []
   },
   "outputs": [],
   "source": [
    "using MPI"
   ]
  },
  {
   "cell_type": "code",
   "execution_count": 4,
   "id": "8e4f0f96-001e-42b9-b039-ab39e01e79bc",
   "metadata": {
    "tags": []
   },
   "outputs": [
    {
     "name": "stdout",
     "output_type": "stream",
     "text": [
      "MPIPreferences:\n",
      "  binary:  system\n",
      "  abi:     MPICH\n",
      "  libmpi:  libmpi_gnu_123.so\n",
      "  mpiexec: srun\n",
      "\n",
      "Package versions\n",
      "  MPI.jl:             0.20.20\n",
      "  MPIPreferences.jl:  0.1.11\n",
      "\n",
      "Library information:\n",
      "  libmpi:  libmpi_gnu_123.so\n",
      "  libmpi dlpath:  /opt/cray/pe/lib64/libmpi_gnu_123.so\n",
      "  MPI version:  3.1.0\n",
      "  Library version:  \n",
      "    MPI VERSION    : CRAY MPICH version 8.1.28.29 (ANL base 3.4a2)\n",
      "    MPI BUILD INFO : Wed Nov 15 20:57 2023 (git hash 1cde46f)\n",
      "    \n"
     ]
    }
   ],
   "source": [
    "MPI.versioninfo()"
   ]
  },
  {
   "cell_type": "code",
   "execution_count": 5,
   "id": "744b3c69-7096-4d71-9464-2895e50d52b8",
   "metadata": {
    "tags": []
   },
   "outputs": [],
   "source": [
    "# using Hwloc, AbstractTrees\n",
    "# t = children(gettopology());\n",
    "\n",
    "# get_nodes(tree_node, type) = filter(\n",
    "#     x->x.type == type,\n",
    "#     collect(AbstractTrees.PreOrderDFS(tree_node))\n",
    "# )\n",
    "\n",
    "# network_devs = filter(\n",
    "#     x->Hwloc.hwloc_pci_class_string(nodevalue(x).attr.class_id) == \"Ethernet\",\n",
    "#     get_nodes(t, :PCI_Device)\n",
    "# );"
   ]
  },
  {
   "cell_type": "code",
   "execution_count": 6,
   "id": "be57152c-9c5d-4415-8683-d4a08d54c7aa",
   "metadata": {
    "tags": []
   },
   "outputs": [],
   "source": [
    "# network_devs[1].io_children[1].object.subtype"
   ]
  },
  {
   "cell_type": "code",
   "execution_count": 7,
   "id": "d2e41152-6380-4b21-8bbe-71257eb8aba7",
   "metadata": {
    "tags": []
   },
   "outputs": [
    {
     "data": {
      "text/plain": [
       "6-element Vector{NetworkInterfaceControllers.Interface}:\n",
       " NetworkInterfaceControllers.Interface(\"nmn0\", :v4, ip\"10.100.108.84\")\n",
       " NetworkInterfaceControllers.Interface(\"hsn0\", :v4, ip\"10.249.41.219\")\n",
       " NetworkInterfaceControllers.Interface(\"hsn0:chn\", :v4, ip\"128.55.84.131\")\n",
       " NetworkInterfaceControllers.Interface(\"hsn1\", :v4, ip\"10.249.41.203\")\n",
       " NetworkInterfaceControllers.Interface(\"hsn2\", :v4, ip\"10.249.41.204\")\n",
       " NetworkInterfaceControllers.Interface(\"hsn3\", :v4, ip\"10.249.41.220\")"
      ]
     },
     "execution_count": 7,
     "metadata": {},
     "output_type": "execute_result"
    }
   ],
   "source": [
    "using NetworkInterfaceControllers, Sockets\n",
    "interfaces = NetworkInterfaceControllers.get_interface_data(IPv4)"
   ]
  },
  {
   "cell_type": "code",
   "execution_count": 8,
   "id": "af6bdb63-1f0e-4bf6-ad6a-144d365a7e97",
   "metadata": {
    "tags": []
   },
   "outputs": [
    {
     "data": {
      "text/plain": [
       "NetworkInterfaceControllers.Interface(\"hsn0:chn\", :v4, ip\"128.55.84.131\")"
      ]
     },
     "execution_count": 8,
     "metadata": {},
     "output_type": "execute_result"
    }
   ],
   "source": [
    "hsn0 = filter(x->(x.name==\"hsn0:chn\" && x.version==:v4), interfaces) |> only "
   ]
  },
  {
   "cell_type": "code",
   "execution_count": 9,
   "id": "1a502b97-b4e1-44f9-a5e9-3bc09c0e8491",
   "metadata": {
    "tags": []
   },
   "outputs": [
    {
     "data": {
      "text/plain": [
       "\"nid200264-hsn0\""
      ]
     },
     "execution_count": 9,
     "metadata": {},
     "output_type": "execute_result"
    }
   ],
   "source": [
    "getnameinfo(hsn0.ip)"
   ]
  },
  {
   "cell_type": "code",
   "execution_count": 10,
   "id": "1c81c337-5e88-4688-bcf2-f48b6eeb98e8",
   "metadata": {
    "slideshow": {
     "slide_type": "subslide"
    },
    "tags": []
   },
   "outputs": [
    {
     "data": {
      "text/plain": [
       "4-element Vector{Int64}:\n",
       " 2\n",
       " 3\n",
       " 4\n",
       " 5"
      ]
     },
     "execution_count": 10,
     "metadata": {},
     "output_type": "execute_result"
    }
   ],
   "source": [
    "# to import MPIManager\n",
    "using MPIClusterManagers\n",
    "\n",
    "# need to also import Distributed to use addprocs()\n",
    "using Distributed\n",
    "\n",
    "# specify, number of mpi workers, launch cmd, etc.\n",
    "manager=MPIWorkerManager(4)\n",
    "\n",
    "# start mpi workers and add them as julia workers too.\n",
    "addprocs(\n",
    "    manager,\n",
    "    exeflags=`--project=$(Base.active_project())`,\n",
    "    master_tcp_interface=getnameinfo(hsn0.ip)\n",
    ")"
   ]
  },
  {
   "cell_type": "code",
   "execution_count": 11,
   "id": "0f6bc5b9-2973-4dc5-8fdd-bfd483f01460",
   "metadata": {
    "slideshow": {
     "slide_type": "subslide"
    },
    "tags": []
   },
   "outputs": [
    {
     "name": "stdout",
     "output_type": "stream",
     "text": [
      "      From worker 3:\tHello world, I am 1 of 4 on nid200264\n",
      "      From worker 2:\tHello world, I am 0 of 4 on nid200264\n",
      "      From worker 4:\tHello world, I am 2 of 4 on nid200265\n",
      "      From worker 5:\tHello world, I am 3 of 4 on nid200265\n"
     ]
    }
   ],
   "source": [
    "@mpi_do manager begin\n",
    "    using MPI: MPI, Comm, Win, free\n",
    "    comm = MPI.COMM_WORLD\n",
    "    rank = MPI.Comm_rank(comm)\n",
    "    size = MPI.Comm_size(comm)\n",
    "    name = gethostname()\n",
    "    println(\"Hello world, I am $(rank) of $(size) on $(name)\")\n",
    "end"
   ]
  },
  {
   "cell_type": "code",
   "execution_count": 12,
   "id": "1122c61b-aa2b-47e5-871f-ea7f2f1d501b",
   "metadata": {
    "tags": []
   },
   "outputs": [],
   "source": [
    "@mpi_do manager begin\n",
    "    dims = [0]\n",
    "    MPI.Dims_create!(size, dims)\n",
    "end"
   ]
  },
  {
   "cell_type": "code",
   "execution_count": 13,
   "id": "612ccdb8-8e29-41cc-8c1f-af533e355715",
   "metadata": {
    "tags": []
   },
   "outputs": [
    {
     "name": "stdout",
     "output_type": "stream",
     "text": [
      "      From worker 4:\t[4]\n",
      "      From worker 5:\t[4]\n",
      "      From worker 3:\t[4]\n",
      "      From worker 2:\t[4]\n"
     ]
    }
   ],
   "source": [
    "@mpi_do manager begin\n",
    "    println(dims)\n",
    "end"
   ]
  },
  {
   "cell_type": "code",
   "execution_count": 14,
   "id": "c33bfb02-e341-40e4-8315-83734796a18b",
   "metadata": {
    "tags": []
   },
   "outputs": [],
   "source": [
    "@mpi_do manager begin\n",
    "    comm_cart = MPI.Cart_create(\n",
    "        comm,  # MPI Communicator\n",
    "        dims,  # Dimensions of grid\n",
    "        [0],   # 0 == not periodic, 1 == periodic\n",
    "        1,     # 0 == not allowed to reorder, 1 == allowed to reoder\n",
    "    )\n",
    "    me        = MPI.Comm_rank(comm_cart)\n",
    "    coords    = MPI.Cart_coords(comm_cart)\n",
    "    neighbors = MPI.Cart_shift(\n",
    "        comm_cart,\n",
    "        0,  # Which dimension to shift (zero-indexed)\n",
    "        1,  # Shift magnitude\n",
    "    )\n",
    "end"
   ]
  },
  {
   "cell_type": "code",
   "execution_count": 15,
   "id": "d3ab1a58-0aea-4ec5-a79b-48bcd810c631",
   "metadata": {
    "tags": []
   },
   "outputs": [
    {
     "name": "stdout",
     "output_type": "stream",
     "text": [
      "      From worker 3:\trank=1; coord=[1], neighbors=(0, 2)\n",
      "      From worker 2:\trank=0; coord=[0], neighbors=(-1, 1)\n",
      "      From worker 4:\trank=2; coord=[2], neighbors=(1, 3)\n",
      "      From worker 5:\trank=3; coord=[3], neighbors=(2, -1)\n"
     ]
    }
   ],
   "source": [
    "@mpi_do manager begin\n",
    "    println(\"rank=$(me); coord=$(coords), neighbors=$(neighbors)\")\n",
    "end"
   ]
  },
  {
   "cell_type": "code",
   "execution_count": 16,
   "id": "94bc63d1-24cc-47f6-a6ab-4624d95523fd",
   "metadata": {
    "tags": []
   },
   "outputs": [
    {
     "data": {
      "text/plain": [
       "-1"
      ]
     },
     "execution_count": 16,
     "metadata": {},
     "output_type": "execute_result"
    }
   ],
   "source": [
    "MPI.PROC_NULL"
   ]
  },
  {
   "cell_type": "code",
   "execution_count": 17,
   "id": "e5187bd3-8699-4a3b-a43c-28d4a647cdc0",
   "metadata": {
    "tags": []
   },
   "outputs": [],
   "source": [
    "@mpi_do manager begin\n",
    "    using Random\n",
    "    my_int = rand(1:100)\n",
    "end"
   ]
  },
  {
   "cell_type": "code",
   "execution_count": 18,
   "id": "a926edfd-9b22-4e33-851d-6d9e26429065",
   "metadata": {
    "tags": []
   },
   "outputs": [
    {
     "name": "stdout",
     "output_type": "stream",
     "text": [
      "      From worker 3:\trank=1; my_int=65\n",
      "      From worker 2:\trank=0; my_int=5\n",
      "      From worker 5:\trank=3; my_int=76\n",
      "      From worker 4:\trank=2; my_int=84\n"
     ]
    }
   ],
   "source": [
    "@mpi_do manager begin\n",
    "    println(\"rank=$(me); my_int=$(my_int)\")\n",
    "end"
   ]
  },
  {
   "cell_type": "code",
   "execution_count": 19,
   "id": "343bd286-e07b-49b6-8342-ebd85b1a2af7",
   "metadata": {
    "tags": []
   },
   "outputs": [],
   "source": [
    "@mpi_do manager begin\n",
    "    send_1 = zeros(Int64, 1)\n",
    "    send_2 = zeros(Int64, 1)\n",
    "    recv_1 = zeros(Int64, 1)\n",
    "    recv_2 = zeros(Int64, 1)\n",
    "end"
   ]
  },
  {
   "cell_type": "code",
   "execution_count": 20,
   "id": "48a0fa62-2cd2-4071-9046-958e0b335916",
   "metadata": {
    "tags": []
   },
   "outputs": [],
   "source": [
    "@mpi_do manager begin\n",
    "    # Fill send buffers (MPI uses zero-copy memory access => buffer data)\n",
    "    if neighbors[1] != MPI.PROC_NULL\n",
    "        copyto!(send_1, my_int)\n",
    "    end\n",
    "    if neighbors[2] != MPI.PROC_NULL\n",
    "        copyto!(send_2, my_int)\n",
    "    end \n",
    "end"
   ]
  },
  {
   "cell_type": "code",
   "execution_count": 21,
   "id": "c05abe1a-8d67-4aff-9191-d135272ca4be",
   "metadata": {
    "tags": []
   },
   "outputs": [],
   "source": [
    "@mpi_do manager begin\n",
    "    # Placeholder for requests (so we can block on them later\n",
    "    reqs = MPI.MultiRequest(4)\n",
    "end"
   ]
  },
  {
   "cell_type": "code",
   "execution_count": 22,
   "id": "d847d757-71b4-4d62-8faa-228962bb4794",
   "metadata": {
    "tags": []
   },
   "outputs": [],
   "source": [
    "@mpi_do manager begin\n",
    "    # Initiate receive before send\n",
    "    if neighbors[1] != MPI.PROC_NULL\n",
    "        MPI.Irecv!(recv_1, comm, reqs[1]; source=neighbors[1])\n",
    "    end\n",
    "    if neighbors[2] != MPI.PROC_NULL\n",
    "        MPI.Irecv!(recv_2, comm, reqs[2]; source=neighbors[2])\n",
    "    end\n",
    "    # Send data\n",
    "    if neighbors[1] != MPI.PROC_NULL\n",
    "        MPI.Isend(send_1, comm, reqs[3]; dest=neighbors[1])\n",
    "    end\n",
    "    if neighbors[2] != MPI.PROC_NULL\n",
    "        MPI.Isend(send_2, comm, reqs[4]; dest=neighbors[2])\n",
    "    end\n",
    "end"
   ]
  },
  {
   "cell_type": "code",
   "execution_count": 23,
   "id": "113d8a31-1834-4d6d-931f-3991592e7ab5",
   "metadata": {
    "tags": []
   },
   "outputs": [],
   "source": [
    "@mpi_do manager begin\n",
    "    # Wait for all requests to finish\n",
    "    MPI.Waitall(reqs)\n",
    "end"
   ]
  },
  {
   "cell_type": "code",
   "execution_count": 24,
   "id": "c7f159d3-e651-4795-b63b-2b49a03af961",
   "metadata": {
    "tags": []
   },
   "outputs": [
    {
     "name": "stdout",
     "output_type": "stream",
     "text": [
      "      From worker 3:\trank=1; my_int=65; prev=[5]; next=[84]\n",
      "      From worker 2:\trank=0; my_int=5; prev=[0]; next=[65]\n",
      "      From worker 4:\trank=2; my_int=84; prev=[65]; next=[76]\n",
      "      From worker 5:\trank=3; my_int=76; prev=[84]; next=[0]\n"
     ]
    }
   ],
   "source": [
    "@mpi_do manager begin\n",
    "    println(\"rank=$(me); my_int=$(my_int); prev=$(recv_1); next=$(recv_2)\")\n",
    "end"
   ]
  },
  {
   "cell_type": "code",
   "execution_count": null,
   "id": "88e46e3b-f8d4-48d5-b8fc-2ae660f5a4a8",
   "metadata": {},
   "outputs": [],
   "source": []
  }
 ],
 "metadata": {
  "kernelspec": {
   "display_name": "Julia 1.9.4",
   "language": "julia",
   "name": "julia-1.9.4"
  },
  "language_info": {
   "file_extension": ".jl",
   "mimetype": "application/julia",
   "name": "julia",
   "version": "1.9.4"
  }
 },
 "nbformat": 4,
 "nbformat_minor": 5
}

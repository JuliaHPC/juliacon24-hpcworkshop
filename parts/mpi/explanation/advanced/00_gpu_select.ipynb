{
 "cells": [
  {
   "cell_type": "code",
   "execution_count": 1,
   "id": "7fc2f000-ba64-483f-99d7-37b7f24969d1",
   "metadata": {
    "tags": []
   },
   "outputs": [
    {
     "name": "stderr",
     "output_type": "stream",
     "text": [
      "\u001b[32m\u001b[1m  Activating\u001b[22m\u001b[39m project at `/global/u1/b/blaschke/juliacon24-hpcworkshop/parts/mpi/explanation`\n"
     ]
    },
    {
     "name": "stdout",
     "output_type": "stream",
     "text": [
      "\u001b[32m\u001b[1mStatus\u001b[22m\u001b[39m `/global/u1/b/blaschke/juliacon24-hpcworkshop/parts/mpi/explanation/Project.toml`\n",
      "  \u001b[90m[1520ce14] \u001b[39mAbstractTrees v0.4.5\n",
      "  \u001b[90m[052768ef] \u001b[39mCUDA v5.4.2\n",
      "  \u001b[90m[adafc99b] \u001b[39mCpuId v0.3.1\n",
      "  \u001b[90m[0e44f5e4] \u001b[39mHwloc v3.0.1\n",
      "  \u001b[90m[da04e1cc] \u001b[39mMPI v0.20.20\n",
      "  \u001b[90m[e7922434] \u001b[39mMPIClusterManagers v0.2.4\n",
      "  \u001b[90m[6f74fd91] \u001b[39mNetworkInterfaceControllers v0.1.0\n"
     ]
    }
   ],
   "source": [
    "import Pkg;\n",
    "Pkg.activate(@__DIR__)\n",
    "Pkg.status()"
   ]
  },
  {
   "cell_type": "code",
   "execution_count": 2,
   "id": "2fffd2fb-ff8c-45a3-963a-06e40f4511f7",
   "metadata": {
    "tags": []
   },
   "outputs": [
    {
     "data": {
      "text/plain": [
       "cpucycle_coreid (generic function with 1 method)"
      ]
     },
     "execution_count": 2,
     "metadata": {},
     "output_type": "execute_result"
    }
   ],
   "source": [
    "using CpuId\n",
    "\n",
    "const cpucycle_mask = (\n",
    "    (1 << (64 - leading_zeros(CpuId.cputhreads()))) - 1\n",
    ") % UInt32\n",
    "\n",
    "cpucycle_coreid() = Int(cpucycle_id()[2] & cpucycle_mask)"
   ]
  },
  {
   "cell_type": "code",
   "execution_count": 3,
   "id": "a38f335a-0c2c-43c3-bd9a-45656331d464",
   "metadata": {
    "tags": []
   },
   "outputs": [
    {
     "data": {
      "text/plain": [
       "13"
      ]
     },
     "execution_count": 3,
     "metadata": {},
     "output_type": "execute_result"
    }
   ],
   "source": [
    "cpucycle_coreid()"
   ]
  },
  {
   "cell_type": "code",
   "execution_count": 4,
   "id": "0ab0999d-bcac-4a10-885a-c689eda97924",
   "metadata": {
    "tags": []
   },
   "outputs": [],
   "source": [
    "using MPI, CUDA"
   ]
  },
  {
   "cell_type": "code",
   "execution_count": 5,
   "id": "7bc9f6ae-0ba6-4206-84d6-ce4dc6576f24",
   "metadata": {
    "tags": []
   },
   "outputs": [
    {
     "name": "stdout",
     "output_type": "stream",
     "text": [
      "MPIPreferences:\n",
      "  binary:  system\n",
      "  abi:     MPICH\n",
      "  libmpi:  libmpi_gnu_123.so\n",
      "  mpiexec: srun\n",
      "\n",
      "Package versions\n",
      "  MPI.jl:             0.20.20\n",
      "  MPIPreferences.jl:  0.1.11\n",
      "\n",
      "Library information:\n",
      "  libmpi:  libmpi_gnu_123.so\n",
      "  libmpi dlpath:  /opt/cray/pe/lib64/libmpi_gnu_123.so\n",
      "  MPI version:  3.1.0\n",
      "  Library version:  \n",
      "    MPI VERSION    : CRAY MPICH version 8.1.28.29 (ANL base 3.4a2)\n",
      "    MPI BUILD INFO : Wed Nov 15 20:57 2023 (git hash 1cde46f)\n",
      "    \n"
     ]
    }
   ],
   "source": [
    "MPI.versioninfo()"
   ]
  },
  {
   "cell_type": "code",
   "execution_count": 6,
   "id": "27fb385f-7c83-421f-b77d-a59289004f8e",
   "metadata": {
    "tags": []
   },
   "outputs": [
    {
     "name": "stdout",
     "output_type": "stream",
     "text": [
      "CUDA runtime 12.2, local installation\n",
      "CUDA driver 12.2\n",
      "NVIDIA driver 525.105.17\n",
      "\n",
      "CUDA libraries: \n",
      "- CUBLAS: 12.2.1\n",
      "- CURAND: 10.3.3\n",
      "- CUFFT: 11.0.8\n",
      "- CUSOLVER: 11.5.0\n",
      "- CUSPARSE: 12.1.1\n",
      "- CUPTI: 20.0.0\n",
      "- NVML: 12.0.0+525.105.17\n",
      "\n",
      "Julia packages: \n",
      "- CUDA: 5.4.2\n",
      "- CUDA_Driver_jll: 0.9.1+1\n",
      "- CUDA_Runtime_jll: 0.14.1+0\n",
      "- CUDA_Runtime_Discovery: 0.3.4\n",
      "\n",
      "Toolchain:\n",
      "- Julia: 1.9.4\n",
      "- LLVM: 14.0.6\n",
      "\n",
      "Preferences:\n",
      "- CUDA_Runtime_jll.version: 12.2\n",
      "- CUDA_Runtime_jll.local: true\n",
      "\n",
      "4 devices:\n",
      "  0: NVIDIA A100-SXM4-80GB (sm_80, 79.150 GiB / 80.000 GiB available)\n",
      "  1: NVIDIA A100-SXM4-80GB (sm_80, 79.150 GiB / 80.000 GiB available)\n",
      "  2: NVIDIA A100-SXM4-80GB (sm_80, 79.150 GiB / 80.000 GiB available)\n",
      "  3: NVIDIA A100-SXM4-80GB (sm_80, 79.150 GiB / 80.000 GiB available)\n"
     ]
    }
   ],
   "source": [
    "CUDA.versioninfo()"
   ]
  },
  {
   "cell_type": "code",
   "execution_count": 7,
   "id": "57b8e1ad-c17a-4af5-abda-a6bddb59c15f",
   "metadata": {
    "slideshow": {
     "slide_type": "skip"
    },
    "tags": []
   },
   "outputs": [
    {
     "data": {
      "text/plain": [
       "filter (generic function with 26 methods)"
      ]
     },
     "execution_count": 7,
     "metadata": {},
     "output_type": "execute_result"
    }
   ],
   "source": [
    "import Base: filter, Fix1\n",
    "filter(f::Function)::Function = Fix1(filter, f)"
   ]
  },
  {
   "cell_type": "code",
   "execution_count": 8,
   "id": "f51cb426-9357-4ed3-9ca9-319e81bc4f69",
   "metadata": {
    "tags": []
   },
   "outputs": [
    {
     "data": {
      "text/plain": [
       "get_device_attributes (generic function with 1 method)"
      ]
     },
     "execution_count": 8,
     "metadata": {},
     "output_type": "execute_result"
    }
   ],
   "source": [
    "function get_device_attributes()\n",
    "    attr = Dict{Tuple{Int32, Int32}, Int32}()\n",
    "    for i in 0:(ndevices()-1)\n",
    "        d = CuDevice(i)\n",
    "        attr[(\n",
    "            attribute(d, CUDA.CU_DEVICE_ATTRIBUTE_PCI_BUS_ID),\n",
    "            attribute(d, CUDA.CU_DEVICE_ATTRIBUTE_PCI_DEVICE_ID)\n",
    "        )] = d\n",
    "    end\n",
    "    attr\n",
    "end"
   ]
  },
  {
   "cell_type": "code",
   "execution_count": 9,
   "id": "bc7e78ce-3ed7-4663-981e-99da96e9f5c7",
   "metadata": {
    "slideshow": {
     "slide_type": "skip"
    },
    "tags": []
   },
   "outputs": [],
   "source": [
    "using Hwloc, AbstractTrees\n",
    "\n",
    "\n",
    "import AbstractTrees: PreOrderDFS\n",
    "import Hwloc: hwloc_pci_class_string"
   ]
  },
  {
   "cell_type": "code",
   "execution_count": 34,
   "id": "cc2c286d-9822-4ad6-8d55-efd4dcc442b0",
   "metadata": {
    "tags": []
   },
   "outputs": [
    {
     "data": {
      "text/plain": [
       "distance_to_core (generic function with 1 method)"
      ]
     },
     "execution_count": 34,
     "metadata": {},
     "output_type": "execute_result"
    }
   ],
   "source": [
    "function tag_subtree!(tree_node, val)\n",
    "    for n in collect(AbstractTrees.PreOrderDFS(tree_node))\n",
    "        n.tag = val\n",
    "    end\n",
    "end\n",
    "\n",
    "function distance_to_core!(node, target_index)\n",
    "    # shield re-entrance when iterating\n",
    "    node.tag = 1\n",
    "\n",
    "    if node.type == :PU\n",
    "        # println(\"Checking: $(nodevalue(node).os_index)\")\n",
    "        if nodevalue(node).os_index == target_index\n",
    "            return true, 0\n",
    "        end\n",
    "    end\n",
    "\n",
    "    for child in node.children\n",
    "        if child.tag == 1\n",
    "            continue\n",
    "        end\n",
    "\n",
    "        found, dist = distance_to_core!(child, target_index)\n",
    "        if found\n",
    "            return true, dist + 1\n",
    "        end\n",
    "    end\n",
    "\n",
    "    if node.parent != nothing\n",
    "        found, dist = distance_to_core!(node.parent, target_index)\n",
    "        if found\n",
    "            return true, dist + 1\n",
    "        end\n",
    "    end\n",
    "\n",
    "    return false, typemax(Int)\n",
    "end\n",
    "\n",
    "function distance_to_core(root, node, target_index)\n",
    "    tag_subtree!(root, 0) \n",
    "    found, dist = distance_to_core!(node, target_index)\n",
    "    tag_subtree!(root, 0) \n",
    "    return found, dist\n",
    "end"
   ]
  },
  {
   "cell_type": "code",
   "execution_count": 35,
   "id": "ddbadb39-1998-4472-b940-09648284ad8c",
   "metadata": {
    "tags": []
   },
   "outputs": [
    {
     "data": {
      "text/plain": [
       "Dict{Tuple{Int32, Int32}, Int32} with 4 entries:\n",
       "  (65, 0)  => 1\n",
       "  (193, 0) => 3\n",
       "  (130, 0) => 2\n",
       "  (3, 0)   => 0"
      ]
     },
     "execution_count": 35,
     "metadata": {},
     "output_type": "execute_result"
    }
   ],
   "source": [
    "get_device_attributes()"
   ]
  },
  {
   "cell_type": "code",
   "execution_count": 36,
   "id": "00f54295-a079-474c-8028-57fcea1fa288",
   "metadata": {
    "slideshow": {
     "slide_type": "skip"
    },
    "tags": []
   },
   "outputs": [
    {
     "data": {
      "text/plain": [
       "get_device_distances (generic function with 1 method)"
      ]
     },
     "execution_count": 36,
     "metadata": {},
     "output_type": "execute_result"
    }
   ],
   "source": [
    "sys_devs = children(gettopology())\n",
    "pci_devs = PreOrderDFS(sys_devs) |> collect |> filter(x->x.type==:PCI_Device)\n",
    "gpu_devs = pci_devs |> filter(x->hwloc_pci_class_string(nodevalue(x).attr.class_id) == \"3D\")\n",
    "\n",
    "function get_device_distances(core)\n",
    "    attr = get_device_attributes()\n",
    "    dist = Dict{Int32, Int32}()\n",
    "    dev  = Dict{Int32, Int32}()\n",
    "    for d in gpu_devs\n",
    "        idx = attr[(nodevalue(d).attr.bus, nodevalue(d).attr.dev)]\n",
    "        found, dev_d = distance_to_core(sys_devs, d, core)\n",
    "        if found\n",
    "            dist[idx] = dev_d\n",
    "            dev[dev_d] = idx\n",
    "        end\n",
    "    end\n",
    "    dist, dev\n",
    "end"
   ]
  },
  {
   "cell_type": "code",
   "execution_count": 37,
   "id": "d35ac271-b857-46f3-9744-a2512642c009",
   "metadata": {
    "tags": []
   },
   "outputs": [
    {
     "data": {
      "text/plain": [
       "49"
      ]
     },
     "execution_count": 37,
     "metadata": {},
     "output_type": "execute_result"
    }
   ],
   "source": [
    "cpucycle_coreid()"
   ]
  },
  {
   "cell_type": "code",
   "execution_count": 48,
   "id": "c867b0ed-85df-47c1-b85a-c99312c66430",
   "metadata": {
    "tags": []
   },
   "outputs": [
    {
     "data": {
      "text/plain": [
       "0"
      ]
     },
     "execution_count": 48,
     "metadata": {},
     "output_type": "execute_result"
    }
   ],
   "source": [
    "dist, dev = get_device_distances(cpucycle_coreid())\n",
    "closest_dev = dev[dev |> keys |> minimum]"
   ]
  },
  {
   "cell_type": "code",
   "execution_count": 45,
   "id": "e22f3df1-afef-45da-baef-8554c5f69189",
   "metadata": {
    "tags": []
   },
   "outputs": [
    {
     "data": {
      "text/plain": [
       "Dict{Int32, Int32} with 4 entries:\n",
       "  0 => 18\n",
       "  2 => 516\n",
       "  3 => 516\n",
       "  1 => 516"
      ]
     },
     "execution_count": 45,
     "metadata": {},
     "output_type": "execute_result"
    }
   ],
   "source": [
    "dist"
   ]
  },
  {
   "cell_type": "code",
   "execution_count": 46,
   "id": "24afd17a-2308-4089-933b-5d138f555482",
   "metadata": {
    "tags": []
   },
   "outputs": [
    {
     "data": {
      "text/plain": [
       "Dict{Int32, Int32} with 2 entries:\n",
       "  18  => 0\n",
       "  516 => 1"
      ]
     },
     "execution_count": 46,
     "metadata": {},
     "output_type": "execute_result"
    }
   ],
   "source": [
    "dev"
   ]
  },
  {
   "cell_type": "code",
   "execution_count": 47,
   "id": "8c844ec9-bb7b-4142-899c-acac3035d841",
   "metadata": {
    "tags": []
   },
   "outputs": [
    {
     "data": {
      "text/plain": [
       "0"
      ]
     },
     "execution_count": 47,
     "metadata": {},
     "output_type": "execute_result"
    }
   ],
   "source": []
  },
  {
   "cell_type": "code",
   "execution_count": null,
   "id": "a17f0a7a-5ced-4fa7-8c65-ee4da39d54af",
   "metadata": {},
   "outputs": [],
   "source": []
  }
 ],
 "metadata": {
  "kernelspec": {
   "display_name": "Julia 1.9.4",
   "language": "julia",
   "name": "julia-1.9.4"
  },
  "language_info": {
   "file_extension": ".jl",
   "mimetype": "application/julia",
   "name": "julia",
   "version": "1.9.4"
  }
 },
 "nbformat": 4,
 "nbformat_minor": 5
}

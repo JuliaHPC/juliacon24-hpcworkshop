{
 "cells": [
  {
   "cell_type": "code",
   "execution_count": 1,
   "id": "7fc2f000-ba64-483f-99d7-37b7f24969d1",
   "metadata": {
    "tags": []
   },
   "outputs": [
    {
     "name": "stderr",
     "output_type": "stream",
     "text": [
      "\u001b[32m\u001b[1m  Activating\u001b[22m\u001b[39m project at `/global/u1/b/blaschke/juliacon24-hpcworkshop/parts/mpi/explanation`\n"
     ]
    },
    {
     "name": "stdout",
     "output_type": "stream",
     "text": [
      "\u001b[32m\u001b[1mStatus\u001b[22m\u001b[39m `/global/u1/b/blaschke/juliacon24-hpcworkshop/parts/mpi/explanation/Project.toml`\n",
      "  \u001b[90m[1520ce14] \u001b[39mAbstractTrees v0.4.5\n",
      "  \u001b[90m[052768ef] \u001b[39mCUDA v5.4.2\n",
      "  \u001b[90m[adafc99b] \u001b[39mCpuId v0.3.1\n",
      "  \u001b[90m[0e44f5e4] \u001b[39mHwloc v3.0.1\n",
      "  \u001b[90m[da04e1cc] \u001b[39mMPI v0.20.20\n",
      "  \u001b[90m[e7922434] \u001b[39mMPIClusterManagers v0.2.4\n",
      "  \u001b[90m[6f74fd91] \u001b[39mNetworkInterfaceControllers v0.1.0\n"
     ]
    }
   ],
   "source": [
    "import Pkg;\n",
    "Pkg.activate(@__DIR__)\n",
    "Pkg.status()"
   ]
  },
  {
   "cell_type": "code",
   "execution_count": 2,
   "id": "2fffd2fb-ff8c-45a3-963a-06e40f4511f7",
   "metadata": {
    "tags": []
   },
   "outputs": [
    {
     "data": {
      "text/plain": [
       "cpucycle_coreid (generic function with 1 method)"
      ]
     },
     "execution_count": 2,
     "metadata": {},
     "output_type": "execute_result"
    }
   ],
   "source": [
    "using CpuId\n",
    "\n",
    "const cpucycle_mask = (\n",
    "    (1 << (64 - leading_zeros(CpuId.cputhreads()))) - 1\n",
    ") % UInt32\n",
    "\n",
    "cpucycle_coreid() = Int(cpucycle_id()[2] & cpucycle_mask)"
   ]
  },
  {
   "cell_type": "code",
   "execution_count": 3,
   "id": "a38f335a-0c2c-43c3-bd9a-45656331d464",
   "metadata": {
    "tags": []
   },
   "outputs": [
    {
     "data": {
      "text/plain": [
       "13"
      ]
     },
     "execution_count": 3,
     "metadata": {},
     "output_type": "execute_result"
    }
   ],
   "source": [
    "cpucycle_coreid()"
   ]
  },
  {
   "cell_type": "code",
   "execution_count": 4,
   "id": "0ab0999d-bcac-4a10-885a-c689eda97924",
   "metadata": {
    "tags": []
   },
   "outputs": [],
   "source": [
    "using MPI, CUDA"
   ]
  },
  {
   "cell_type": "code",
   "execution_count": 5,
   "id": "7bc9f6ae-0ba6-4206-84d6-ce4dc6576f24",
   "metadata": {
    "tags": []
   },
   "outputs": [
    {
     "name": "stdout",
     "output_type": "stream",
     "text": [
      "MPIPreferences:\n",
      "  binary:  system\n",
      "  abi:     MPICH\n",
      "  libmpi:  libmpi_gnu_123.so\n",
      "  mpiexec: srun\n",
      "\n",
      "Package versions\n",
      "  MPI.jl:             0.20.20\n",
      "  MPIPreferences.jl:  0.1.11\n",
      "\n",
      "Library information:\n",
      "  libmpi:  libmpi_gnu_123.so\n",
      "  libmpi dlpath:  /opt/cray/pe/lib64/libmpi_gnu_123.so\n",
      "  MPI version:  3.1.0\n",
      "  Library version:  \n",
      "    MPI VERSION    : CRAY MPICH version 8.1.28.29 (ANL base 3.4a2)\n",
      "    MPI BUILD INFO : Wed Nov 15 20:57 2023 (git hash 1cde46f)\n",
      "    \n"
     ]
    }
   ],
   "source": [
    "MPI.versioninfo()"
   ]
  },
  {
   "cell_type": "code",
   "execution_count": 6,
   "id": "27fb385f-7c83-421f-b77d-a59289004f8e",
   "metadata": {
    "tags": []
   },
   "outputs": [
    {
     "name": "stdout",
     "output_type": "stream",
     "text": [
      "CUDA runtime 12.2, local installation\n",
      "CUDA driver 12.2\n",
      "NVIDIA driver 525.105.17\n",
      "\n",
      "CUDA libraries: \n",
      "- CUBLAS: 12.2.1\n",
      "- CURAND: 10.3.3\n",
      "- CUFFT: 11.0.8\n",
      "- CUSOLVER: 11.5.0\n",
      "- CUSPARSE: 12.1.1\n",
      "- CUPTI: 20.0.0\n",
      "- NVML: 12.0.0+525.105.17\n",
      "\n",
      "Julia packages: \n",
      "- CUDA: 5.4.2\n",
      "- CUDA_Driver_jll: 0.9.1+1\n",
      "- CUDA_Runtime_jll: 0.14.1+0\n",
      "- CUDA_Runtime_Discovery: 0.3.4\n",
      "\n",
      "Toolchain:\n",
      "- Julia: 1.9.4\n",
      "- LLVM: 14.0.6\n",
      "\n",
      "Preferences:\n",
      "- CUDA_Runtime_jll.version: 12.2\n",
      "- CUDA_Runtime_jll.local: true\n",
      "\n",
      "4 devices:\n",
      "  0: NVIDIA A100-SXM4-80GB (sm_80, 79.150 GiB / 80.000 GiB available)\n",
      "  1: NVIDIA A100-SXM4-80GB (sm_80, 79.150 GiB / 80.000 GiB available)\n",
      "  2: NVIDIA A100-SXM4-80GB (sm_80, 79.150 GiB / 80.000 GiB available)\n",
      "  3: NVIDIA A100-SXM4-80GB (sm_80, 79.150 GiB / 80.000 GiB available)\n"
     ]
    }
   ],
   "source": [
    "CUDA.versioninfo()"
   ]
  },
  {
   "cell_type": "code",
   "execution_count": 7,
   "id": "57b8e1ad-c17a-4af5-abda-a6bddb59c15f",
   "metadata": {
    "slideshow": {
     "slide_type": "skip"
    },
    "tags": []
   },
   "outputs": [
    {
     "data": {
      "text/plain": [
       "filter (generic function with 26 methods)"
      ]
     },
     "execution_count": 7,
     "metadata": {},
     "output_type": "execute_result"
    }
   ],
   "source": [
    "import Base: filter, Fix1\n",
    "filter(f::Function)::Function = Fix1(filter, f)"
   ]
  },
  {
   "cell_type": "code",
   "execution_count": 8,
   "id": "f51cb426-9357-4ed3-9ca9-319e81bc4f69",
   "metadata": {
    "tags": []
   },
   "outputs": [
    {
     "data": {
      "text/plain": [
       "get_device_attributes (generic function with 1 method)"
      ]
     },
     "execution_count": 8,
     "metadata": {},
     "output_type": "execute_result"
    }
   ],
   "source": [
    "function get_device_attributes()\n",
    "    attr = Dict{Tuple{Int32, Int32}, Int32}()\n",
    "    for i in 0:(ndevices()-1)\n",
    "        d = CuDevice(i)\n",
    "        attr[(\n",
    "            attribute(d, CUDA.CU_DEVICE_ATTRIBUTE_PCI_BUS_ID),\n",
    "            attribute(d, CUDA.CU_DEVICE_ATTRIBUTE_PCI_DEVICE_ID)\n",
    "        )] = d\n",
    "    end\n",
    "    attr\n",
    "end"
   ]
  },
  {
   "cell_type": "code",
   "execution_count": 9,
   "id": "bc7e78ce-3ed7-4663-981e-99da96e9f5c7",
   "metadata": {
    "slideshow": {
     "slide_type": "skip"
    },
    "tags": []
   },
   "outputs": [],
   "source": [
    "using Hwloc, AbstractTrees\n",
    "\n",
    "\n",
    "import AbstractTrees: PreOrderDFS\n",
    "import Hwloc: hwloc_pci_class_string"
   ]
  },
  {
   "cell_type": "code",
   "execution_count": 34,
   "id": "cc2c286d-9822-4ad6-8d55-efd4dcc442b0",
   "metadata": {
    "tags": []
   },
   "outputs": [
    {
     "data": {
      "text/plain": [
       "distance_to_core (generic function with 1 method)"
      ]
     },
     "execution_count": 34,
     "metadata": {},
     "output_type": "execute_result"
    }
   ],
   "source": [
    "function tag_subtree!(tree_node, val)\n",
    "    for n in collect(AbstractTrees.PreOrderDFS(tree_node))\n",
    "        n.tag = val\n",
    "    end\n",
    "end\n",
    "\n",
    "function distance_to_core!(node, target_index)\n",
    "    # shield re-entrance when iterating\n",
    "    node.tag = 1\n",
    "\n",
    "    if node.type == :PU\n",
    "        # println(\"Checking: $(nodevalue(node).os_index)\")\n",
    "        if nodevalue(node).os_index == target_index\n",
    "            return true, 0\n",
    "        end\n",
    "    end\n",
    "\n",
    "    for child in node.children\n",
    "        if child.tag == 1\n",
    "            continue\n",
    "        end\n",
    "\n",
    "        found, dist = distance_to_core!(child, target_index)\n",
    "        if found\n",
    "            return true, dist + 1\n",
    "        end\n",
    "    end\n",
    "\n",
    "    if node.parent != nothing\n",
    "        found, dist = distance_to_core!(node.parent, target_index)\n",
    "        if found\n",
    "            return true, dist + 1\n",
    "        end\n",
    "    end\n",
    "\n",
    "    return false, typemax(Int)\n",
    "end\n",
    "\n",
    "function distance_to_core(root, node, target_index)\n",
    "    tag_subtree!(root, 0) \n",
    "    found, dist = distance_to_core!(node, target_index)\n",
    "    tag_subtree!(root, 0) \n",
    "    return found, dist\n",
    "end"
   ]
  },
  {
   "cell_type": "code",
   "execution_count": 35,
   "id": "ddbadb39-1998-4472-b940-09648284ad8c",
   "metadata": {
    "tags": []
   },
   "outputs": [
    {
     "data": {
      "text/plain": [
       "Dict{Tuple{Int32, Int32}, Int32} with 4 entries:\n",
       "  (65, 0)  => 1\n",
       "  (193, 0) => 3\n",
       "  (130, 0) => 2\n",
       "  (3, 0)   => 0"
      ]
     },
     "execution_count": 35,
     "metadata": {},
     "output_type": "execute_result"
    }
   ],
   "source": [
    "get_device_attributes()"
   ]
  },
  {
   "cell_type": "code",
   "execution_count": 36,
   "id": "00f54295-a079-474c-8028-57fcea1fa288",
   "metadata": {
    "slideshow": {
     "slide_type": "skip"
    },
    "tags": []
   },
   "outputs": [
    {
     "data": {
      "text/plain": [
       "get_device_distances (generic function with 1 method)"
      ]
     },
     "execution_count": 36,
     "metadata": {},
     "output_type": "execute_result"
    }
   ],
   "source": [
    "sys_devs = children(gettopology())\n",
    "pci_devs = PreOrderDFS(sys_devs) |> collect |> filter(x->x.type==:PCI_Device)\n",
    "gpu_devs = pci_devs |> filter(x->hwloc_pci_class_string(nodevalue(x).attr.class_id) == \"3D\")\n",
    "\n",
    "function get_device_distances(core)\n",
    "    attr = get_device_attributes()\n",
    "    dist = Dict{Int32, Int32}()\n",
    "    dev  = Dict{Int32, Int32}()\n",
    "    for d in gpu_devs\n",
    "        idx = attr[(nodevalue(d).attr.bus, nodevalue(d).attr.dev)]\n",
    "        found, dev_d = distance_to_core(sys_devs, d, core)\n",
    "        if found\n",
    "            dist[idx] = dev_d\n",
    "            dev[dev_d] = idx\n",
    "        end\n",
    "    end\n",
    "    dist, dev\n",
    "end"
   ]
  },
  {
   "cell_type": "code",
   "execution_count": 37,
   "id": "d35ac271-b857-46f3-9744-a2512642c009",
   "metadata": {
    "tags": []
   },
   "outputs": [
    {
     "data": {
      "text/plain": [
       "49"
      ]
     },
     "execution_count": 37,
     "metadata": {},
     "output_type": "execute_result"
    }
   ],
   "source": [
    "cpucycle_coreid()"
   ]
  },
  {
   "cell_type": "code",
   "execution_count": 48,
   "id": "c867b0ed-85df-47c1-b85a-c99312c66430",
   "metadata": {
    "tags": []
   },
   "outputs": [
    {
     "data": {
      "text/plain": [
       "0"
      ]
     },
     "execution_count": 48,
     "metadata": {},
     "output_type": "execute_result"
    }
   ],
   "source": [
    "dist, dev = get_device_distances(cpucycle_coreid())\n",
    "closest_dev = dev[dev |> keys |> minimum]"
   ]
  },
  {
   "cell_type": "code",
   "execution_count": 45,
   "id": "e22f3df1-afef-45da-baef-8554c5f69189",
   "metadata": {
    "tags": []
   },
   "outputs": [
    {
     "data": {
      "text/plain": [
       "Dict{Int32, Int32} with 4 entries:\n",
       "  0 => 18\n",
       "  2 => 516\n",
       "  3 => 516\n",
       "  1 => 516"
      ]
     },
     "execution_count": 45,
     "metadata": {},
     "output_type": "execute_result"
    }
   ],
   "source": [
    "dist"
   ]
  },
  {
   "cell_type": "code",
   "execution_count": 46,
   "id": "24afd17a-2308-4089-933b-5d138f555482",
   "metadata": {
    "tags": []
   },
   "outputs": [
    {
     "data": {
      "text/plain": [
       "Dict{Int32, Int32} with 2 entries:\n",
       "  18  => 0\n",
       "  516 => 1"
      ]
     },
     "execution_count": 46,
     "metadata": {},
     "output_type": "execute_result"
    }
   ],
   "source": [
    "dev"
   ]
  },
  {
   "cell_type": "code",
   "execution_count": 47,
   "id": "8c844ec9-bb7b-4142-899c-acac3035d841",
   "metadata": {
    "tags": []
   },
   "outputs": [
    {
     "data": {
      "text/plain": [
       "0"
      ]
     },
     "execution_count": 47,
     "metadata": {},
     "output_type": "execute_result"
    }
   ],
   "source": []
  },
  {
   "cell_type": "code",
   "execution_count": null,
   "id": "a17f0a7a-5ced-4fa7-8c65-ee4da39d54af",
   "metadata": {},
   "outputs": [],
   "source": []
  },
  {
   "cell_type": "code",
   "execution_count": null,
   "id": "a9e6d28f-4d34-4ea5-a245-d2f7e8b9816e",
   "metadata": {},
   "outputs": [],
   "source": []
  },
  {
   "cell_type": "code",
   "execution_count": null,
   "id": "7a995f5b-e877-47d1-9277-7d1c2bedf93e",
   "metadata": {},
   "outputs": [],
   "source": []
  },
  {
   "cell_type": "code",
   "execution_count": null,
   "id": "31a3d7ad-6b9b-46a8-99bb-baaaaf5f0dd9",
   "metadata": {},
   "outputs": [],
   "source": []
  },
  {
   "cell_type": "code",
   "execution_count": null,
   "id": "c2e871ea-deb5-45b0-ac8b-2a7b4c557f74",
   "metadata": {},
   "outputs": [],
   "source": []
  },
  {
   "cell_type": "code",
   "execution_count": 54,
   "id": "e6e8c857-882a-43ad-8c62-6f6df1594a83",
   "metadata": {
    "tags": []
   },
   "outputs": [],
   "source": [
    "for g in gpu_devs\n",
    "    obj.attr.bus, obj.attr.dev\n",
    "end"
   ]
  },
  {
   "cell_type": "code",
   "execution_count": 28,
   "id": "286177cc-a6b3-4206-b346-950519c88add",
   "metadata": {
    "tags": []
   },
   "outputs": [
    {
     "name": "stdout",
     "output_type": "stream",
     "text": [
      "Hwloc.Object: Machine\n",
      "└─ Hwloc.Object: Package [L#0 P#0]\n",
      "   ├─ Hwloc.Object: Group\n",
      "   │  ├─ Hwloc.Object: L3Cache\n",
      "   │  │  ├─ Hwloc.Object: L2Cache\n",
      "   │  │  │  └─ Hwloc.Object: L1Cache\n",
      "   │  │  │     └─ Hwloc.Object: Core [L#0 P#0]\n",
      "   │  │  │        ├─ Hwloc.Object: PU [L#0 P#0]\n",
      "   │  │  │        └─ Hwloc.Object: PU [L#1 P#64]\n",
      "   │  │  ├─ Hwloc.Object: L2Cache\n",
      "   │  │  │  └─ Hwloc.Object: L1Cache\n",
      "   │  │  │     └─ Hwloc.Object: Core [L#1 P#1]\n",
      "   │  │  │        ├─ Hwloc.Object: PU [L#2 P#1]\n",
      "   │  │  │        └─ Hwloc.Object: PU [L#3 P#65]\n",
      "   │  │  ├─ Hwloc.Object: L2Cache\n",
      "   │  │  │  └─ Hwloc.Object: L1Cache\n",
      "   │  │  │     └─ Hwloc.Object: Core [L#2 P#2]\n",
      "   │  │  │        ├─ Hwloc.Object: PU [L#4 P#2]\n",
      "   │  │  │        └─ Hwloc.Object: PU [L#5 P#66]\n",
      "   │  │  ├─ Hwloc.Object: L2Cache\n",
      "   │  │  │  └─ Hwloc.Object: L1Cache\n",
      "   │  │  │     └─ Hwloc.Object: Core [L#3 P#3]\n",
      "   │  │  │        ├─ Hwloc.Object: PU [L#6 P#3]\n",
      "   │  │  │        └─ Hwloc.Object: PU [L#7 P#67]\n",
      "   │  │  ├─ Hwloc.Object: L2Cache\n",
      "   │  │  │  └─ Hwloc.Object: L1Cache\n",
      "   │  │  │     └─ Hwloc.Object: Core [L#4 P#4]\n",
      "   │  │  │        ├─ Hwloc.Object: PU [L#8 P#4]\n",
      "   │  │  │        └─ Hwloc.Object: PU [L#9 P#68]\n",
      "   │  │  ├─ Hwloc.Object: L2Cache\n",
      "   │  │  │  └─ Hwloc.Object: L1Cache\n",
      "   │  │  │     └─ Hwloc.Object: Core [L#5 P#5]\n",
      "   │  │  │        ├─ Hwloc.Object: PU [L#10 P#5]\n",
      "   │  │  │        └─ Hwloc.Object: PU [L#11 P#69]\n",
      "   │  │  ├─ Hwloc.Object: L2Cache\n",
      "   │  │  │  └─ Hwloc.Object: L1Cache\n",
      "   │  │  │     └─ Hwloc.Object: Core [L#6 P#6]\n",
      "   │  │  │        ├─ Hwloc.Object: PU [L#12 P#6]\n",
      "   │  │  │        └─ Hwloc.Object: PU [L#13 P#70]\n",
      "   │  │  └─ Hwloc.Object: L2Cache\n",
      "   │  │     └─ Hwloc.Object: L1Cache\n",
      "   │  │        └─ Hwloc.Object: Core [L#7 P#7]\n",
      "   │  │           ├─ Hwloc.Object: PU [L#14 P#7]\n",
      "   │  │           └─ Hwloc.Object: PU [L#15 P#71]\n",
      "   │  ├─ Hwloc.Object: L3Cache\n",
      "   │  │  ├─ Hwloc.Object: L2Cache\n",
      "   │  │  │  └─ Hwloc.Object: L1Cache\n",
      "   │  │  │     └─ Hwloc.Object: Core [L#8 P#8]\n",
      "   │  │  │        ├─ Hwloc.Object: PU [L#16 P#8]\n",
      "   │  │  │        └─ Hwloc.Object: PU [L#17 P#72]\n",
      "   │  │  ├─ Hwloc.Object: L2Cache\n",
      "   │  │  │  └─ Hwloc.Object: L1Cache\n",
      "   │  │  │     └─ Hwloc.Object: Core [L#9 P#9]\n",
      "   │  │  │        ├─ Hwloc.Object: PU [L#18 P#9]\n",
      "   │  │  │        └─ Hwloc.Object: PU [L#19 P#73]\n",
      "   │  │  ├─ Hwloc.Object: L2Cache\n",
      "   │  │  │  └─ Hwloc.Object: L1Cache\n",
      "   │  │  │     └─ Hwloc.Object: Core [L#10 P#10]\n",
      "   │  │  │        ├─ Hwloc.Object: PU [L#20 P#10]\n",
      "   │  │  │        └─ Hwloc.Object: PU [L#21 P#74]\n",
      "   │  │  ├─ Hwloc.Object: L2Cache\n",
      "   │  │  │  └─ Hwloc.Object: L1Cache\n",
      "   │  │  │     └─ Hwloc.Object: Core [L#11 P#11]\n",
      "   │  │  │        ├─ Hwloc.Object: PU [L#22 P#11]\n",
      "   │  │  │        └─ Hwloc.Object: PU [L#23 P#75]\n",
      "   │  │  ├─ Hwloc.Object: L2Cache\n",
      "   │  │  │  └─ Hwloc.Object: L1Cache\n",
      "   │  │  │     └─ Hwloc.Object: Core [L#12 P#12]\n",
      "   │  │  │        ├─ Hwloc.Object: PU [L#24 P#12]\n",
      "   │  │  │        └─ Hwloc.Object: PU [L#25 P#76]\n",
      "   │  │  ├─ Hwloc.Object: L2Cache\n",
      "   │  │  │  └─ Hwloc.Object: L1Cache\n",
      "   │  │  │     └─ Hwloc.Object: Core [L#13 P#13]\n",
      "   │  │  │        ├─ Hwloc.Object: PU [L#26 P#13]\n",
      "   │  │  │        └─ Hwloc.Object: PU [L#27 P#77]\n",
      "   │  │  ├─ Hwloc.Object: L2Cache\n",
      "   │  │  │  └─ Hwloc.Object: L1Cache\n",
      "   │  │  │     └─ Hwloc.Object: Core [L#14 P#14]\n",
      "   │  │  │        ├─ Hwloc.Object: PU [L#28 P#14]\n",
      "   │  │  │        └─ Hwloc.Object: PU [L#29 P#78]\n",
      "   │  │  └─ Hwloc.Object: L2Cache\n",
      "   │  │     └─ Hwloc.Object: L1Cache\n",
      "   │  │        └─ Hwloc.Object: Core [L#15 P#15]\n",
      "   │  │           ├─ Hwloc.Object: PU [L#30 P#15]\n",
      "   │  │           └─ Hwloc.Object: PU [L#31 P#79]\n",
      "   │  ├─ Hwloc.Object: NUMANode\n",
      "   │  └─ Hwloc.Object: Bridge [HostBridge]\n",
      "   │     ├─ Hwloc.Object: PCI_Device [\u0000c0:00.0 (HostBridge)]\n",
      "   │     ├─ Hwloc.Object: PCI_Device [\u0000c0:00.2 (IOMMU)]\n",
      "   │     ├─ Hwloc.Object: PCI_Device [\u0000c0:01.0 (HostBridge)]\n",
      "   │     ├─ Hwloc.Object: Bridge [PCIBridge]\n",
      "   │     │  └─ Hwloc.Object: PCI_Device [\u0000c1:00.0 (3D)]\n",
      "   │     │     ├─ Hwloc.Object: OS_Device [GPU \"renderD128\"]\n",
      "   │     │     └─ Hwloc.Object: OS_Device [GPU \"card0\"]\n",
      "   │     ├─ Hwloc.Object: PCI_Device [\u0000c0:02.0 (HostBridge)]\n",
      "   │     ├─ Hwloc.Object: PCI_Device [\u0000c0:03.0 (HostBridge)]\n",
      "   │     ├─ Hwloc.Object: Bridge [PCIBridge]\n",
      "   │     │  └─ Hwloc.Object: PCI_Device [\u0000c2:00.0 (Ethernet)]\n",
      "   │     │     └─ Hwloc.Object: OS_Device [Net \"hsn0\"]\n",
      "   │     ├─ Hwloc.Object: PCI_Device [\u0000c0:04.0 (HostBridge)]\n",
      "   │     ├─ Hwloc.Object: PCI_Device [\u0000c0:05.0 (HostBridge)]\n",
      "   │     ├─ Hwloc.Object: Bridge [PCIBridge]\n",
      "   │     │  └─ Hwloc.Object: PCI_Device [\u0000c3:00.0 (Ethernet)]\n",
      "   │     │     └─ Hwloc.Object: OS_Device [Net \"nmn0\"]\n",
      "   │     ├─ Hwloc.Object: PCI_Device [\u0000c0:07.0 (HostBridge)]\n",
      "   │     ├─ Hwloc.Object: Bridge [PCIBridge]\n",
      "   │     │  ├─ Hwloc.Object: PCI_Device [\u0000c4:00.0 (Instrumentation)]\n",
      "   │     │  └─ Hwloc.Object: PCI_Device [\u0000c4:00.2 (Encryption)]\n",
      "   │     ├─ Hwloc.Object: PCI_Device [\u0000c0:08.0 (HostBridge)]\n",
      "   │     └─ Hwloc.Object: Bridge [PCIBridge]\n",
      "   │        ├─ Hwloc.Object: PCI_Device [\u0000c5:00.0 (Instrumentation)]\n",
      "   │        └─ Hwloc.Object: PCI_Device [\u0000c5:00.2 (Encryption)]\n",
      "   ├─ Hwloc.Object: Group\n",
      "   │  ├─ Hwloc.Object: L3Cache\n",
      "   │  │  ├─ Hwloc.Object: L2Cache\n",
      "   │  │  │  └─ Hwloc.Object: L1Cache\n",
      "   │  │  │     └─ Hwloc.Object: Core [L#16 P#16]\n",
      "   │  │  │        ├─ Hwloc.Object: PU [L#32 P#16]\n",
      "   │  │  │        └─ Hwloc.Object: PU [L#33 P#80]\n",
      "   │  │  ├─ Hwloc.Object: L2Cache\n",
      "   │  │  │  └─ Hwloc.Object: L1Cache\n",
      "   │  │  │     └─ Hwloc.Object: Core [L#17 P#17]\n",
      "   │  │  │        ├─ Hwloc.Object: PU [L#34 P#17]\n",
      "   │  │  │        └─ Hwloc.Object: PU [L#35 P#81]\n",
      "   │  │  ├─ Hwloc.Object: L2Cache\n",
      "   │  │  │  └─ Hwloc.Object: L1Cache\n",
      "   │  │  │     └─ Hwloc.Object: Core [L#18 P#18]\n",
      "   │  │  │        ├─ Hwloc.Object: PU [L#36 P#18]\n",
      "   │  │  │        └─ Hwloc.Object: PU [L#37 P#82]\n",
      "   │  │  ├─ Hwloc.Object: L2Cache\n",
      "   │  │  │  └─ Hwloc.Object: L1Cache\n",
      "   │  │  │     └─ Hwloc.Object: Core [L#19 P#19]\n",
      "   │  │  │        ├─ Hwloc.Object: PU [L#38 P#19]\n",
      "   │  │  │        └─ Hwloc.Object: PU [L#39 P#83]\n",
      "   │  │  ├─ Hwloc.Object: L2Cache\n",
      "   │  │  │  └─ Hwloc.Object: L1Cache\n",
      "   │  │  │     └─ Hwloc.Object: Core [L#20 P#20]\n",
      "   │  │  │        ├─ Hwloc.Object: PU [L#40 P#20]\n",
      "   │  │  │        └─ Hwloc.Object: PU [L#41 P#84]\n",
      "   │  │  ├─ Hwloc.Object: L2Cache\n",
      "   │  │  │  └─ Hwloc.Object: L1Cache\n",
      "   │  │  │     └─ Hwloc.Object: Core [L#21 P#21]\n",
      "   │  │  │        ├─ Hwloc.Object: PU [L#42 P#21]\n",
      "   │  │  │        └─ Hwloc.Object: PU [L#43 P#85]\n",
      "   │  │  ├─ Hwloc.Object: L2Cache\n",
      "   │  │  │  └─ Hwloc.Object: L1Cache\n",
      "   │  │  │     └─ Hwloc.Object: Core [L#22 P#22]\n",
      "   │  │  │        ├─ Hwloc.Object: PU [L#44 P#22]\n",
      "   │  │  │        └─ Hwloc.Object: PU [L#45 P#86]\n",
      "   │  │  └─ Hwloc.Object: L2Cache\n",
      "   │  │     └─ Hwloc.Object: L1Cache\n",
      "   │  │        └─ Hwloc.Object: Core [L#23 P#23]\n",
      "   │  │           ├─ Hwloc.Object: PU [L#46 P#23]\n",
      "   │  │           └─ Hwloc.Object: PU [L#47 P#87]\n",
      "   │  ├─ Hwloc.Object: L3Cache\n",
      "   │  │  ├─ Hwloc.Object: L2Cache\n",
      "   │  │  │  └─ Hwloc.Object: L1Cache\n",
      "   │  │  │     └─ Hwloc.Object: Core [L#24 P#24]\n",
      "   │  │  │        ├─ Hwloc.Object: PU [L#48 P#24]\n",
      "   │  │  │        └─ Hwloc.Object: PU [L#49 P#88]\n",
      "   │  │  ├─ Hwloc.Object: L2Cache\n",
      "   │  │  │  └─ Hwloc.Object: L1Cache\n",
      "   │  │  │     └─ Hwloc.Object: Core [L#25 P#25]\n",
      "   │  │  │        ├─ Hwloc.Object: PU [L#50 P#25]\n",
      "   │  │  │        └─ Hwloc.Object: PU [L#51 P#89]\n",
      "   │  │  ├─ Hwloc.Object: L2Cache\n",
      "   │  │  │  └─ Hwloc.Object: L1Cache\n",
      "   │  │  │     └─ Hwloc.Object: Core [L#26 P#26]\n",
      "   │  │  │        ├─ Hwloc.Object: PU [L#52 P#26]\n",
      "   │  │  │        └─ Hwloc.Object: PU [L#53 P#90]\n",
      "   │  │  ├─ Hwloc.Object: L2Cache\n",
      "   │  │  │  └─ Hwloc.Object: L1Cache\n",
      "   │  │  │     └─ Hwloc.Object: Core [L#27 P#27]\n",
      "   │  │  │        ├─ Hwloc.Object: PU [L#54 P#27]\n",
      "   │  │  │        └─ Hwloc.Object: PU [L#55 P#91]\n",
      "   │  │  ├─ Hwloc.Object: L2Cache\n",
      "   │  │  │  └─ Hwloc.Object: L1Cache\n",
      "   │  │  │     └─ Hwloc.Object: Core [L#28 P#28]\n",
      "   │  │  │        ├─ Hwloc.Object: PU [L#56 P#28]\n",
      "   │  │  │        └─ Hwloc.Object: PU [L#57 P#92]\n",
      "   │  │  ├─ Hwloc.Object: L2Cache\n",
      "   │  │  │  └─ Hwloc.Object: L1Cache\n",
      "   │  │  │     └─ Hwloc.Object: Core [L#29 P#29]\n",
      "   │  │  │        ├─ Hwloc.Object: PU [L#58 P#29]\n",
      "   │  │  │        └─ Hwloc.Object: PU [L#59 P#93]\n",
      "   │  │  ├─ Hwloc.Object: L2Cache\n",
      "   │  │  │  └─ Hwloc.Object: L1Cache\n",
      "   │  │  │     └─ Hwloc.Object: Core [L#30 P#30]\n",
      "   │  │  │        ├─ Hwloc.Object: PU [L#60 P#30]\n",
      "   │  │  │        └─ Hwloc.Object: PU [L#61 P#94]\n",
      "   │  │  └─ Hwloc.Object: L2Cache\n",
      "   │  │     └─ Hwloc.Object: L1Cache\n",
      "   │  │        └─ Hwloc.Object: Core [L#31 P#31]\n",
      "   │  │           ├─ Hwloc.Object: PU [L#62 P#31]\n",
      "   │  │           └─ Hwloc.Object: PU [L#63 P#95]\n",
      "   │  ├─ Hwloc.Object: NUMANode\n",
      "   │  └─ Hwloc.Object: Bridge [HostBridge]\n",
      "   │     ├─ Hwloc.Object: PCI_Device [\u000080:00.0 (HostBridge)]\n",
      "   │     ├─ Hwloc.Object: PCI_Device [\u000080:00.2 (IOMMU)]\n",
      "   │     ├─ Hwloc.Object: PCI_Device [\u000080:01.0 (HostBridge)]\n",
      "   │     ├─ Hwloc.Object: Bridge [PCIBridge]\n",
      "   │     │  └─ Hwloc.Object: PCI_Device [\u000081:00.0 (Ethernet)]\n",
      "   │     │     └─ Hwloc.Object: OS_Device [Net \"hsn1\"]\n",
      "   │     ├─ Hwloc.Object: PCI_Device [\u000080:02.0 (HostBridge)]\n",
      "   │     ├─ Hwloc.Object: PCI_Device [\u000080:03.0 (HostBridge)]\n",
      "   │     ├─ Hwloc.Object: Bridge [PCIBridge]\n",
      "   │     │  └─ Hwloc.Object: PCI_Device [\u000082:00.0 (3D)]\n",
      "   │     │     ├─ Hwloc.Object: OS_Device [GPU \"card1\"]\n",
      "   │     │     └─ Hwloc.Object: OS_Device [GPU \"renderD129\"]\n",
      "   │     ├─ Hwloc.Object: PCI_Device [\u000080:04.0 (HostBridge)]\n",
      "   │     ├─ Hwloc.Object: PCI_Device [\u000080:05.0 (HostBridge)]\n",
      "   │     ├─ Hwloc.Object: PCI_Device [\u000080:07.0 (HostBridge)]\n",
      "   │     ├─ Hwloc.Object: Bridge [PCIBridge]\n",
      "   │     │  ├─ Hwloc.Object: PCI_Device [\u000083:00.0 (Instrumentation)]\n",
      "   │     │  └─ Hwloc.Object: PCI_Device [\u000083:00.2 (Encryption)]\n",
      "   │     ├─ Hwloc.Object: PCI_Device [\u000080:08.0 (HostBridge)]\n",
      "   │     └─ Hwloc.Object: Bridge [PCIBridge]\n",
      "   │        ├─ Hwloc.Object: PCI_Device [\u000084:00.0 (Instrumentation)]\n",
      "   │        └─ Hwloc.Object: PCI_Device [\u000084:00.2 (Encryption)]\n",
      "   ├─ Hwloc.Object: Group\n",
      "   │  ├─ Hwloc.Object: L3Cache\n",
      "   │  │  ├─ Hwloc.Object: L2Cache\n",
      "   │  │  │  └─ Hwloc.Object: L1Cache\n",
      "   │  │  │     └─ Hwloc.Object: Core [L#32 P#32]\n",
      "   │  │  │        ├─ Hwloc.Object: PU [L#64 P#32]\n",
      "   │  │  │        └─ Hwloc.Object: PU [L#65 P#96]\n",
      "   │  │  ├─ Hwloc.Object: L2Cache\n",
      "   │  │  │  └─ Hwloc.Object: L1Cache\n",
      "   │  │  │     └─ Hwloc.Object: Core [L#33 P#33]\n",
      "   │  │  │        ├─ Hwloc.Object: PU [L#66 P#33]\n",
      "   │  │  │        └─ Hwloc.Object: PU [L#67 P#97]\n",
      "   │  │  ├─ Hwloc.Object: L2Cache\n",
      "   │  │  │  └─ Hwloc.Object: L1Cache\n",
      "   │  │  │     └─ Hwloc.Object: Core [L#34 P#34]\n",
      "   │  │  │        ├─ Hwloc.Object: PU [L#68 P#34]\n",
      "   │  │  │        └─ Hwloc.Object: PU [L#69 P#98]\n",
      "   │  │  ├─ Hwloc.Object: L2Cache\n",
      "   │  │  │  └─ Hwloc.Object: L1Cache\n",
      "   │  │  │     └─ Hwloc.Object: Core [L#35 P#35]\n",
      "   │  │  │        ├─ Hwloc.Object: PU [L#70 P#35]\n",
      "   │  │  │        └─ Hwloc.Object: PU [L#71 P#99]\n",
      "   │  │  ├─ Hwloc.Object: L2Cache\n",
      "   │  │  │  └─ Hwloc.Object: L1Cache\n",
      "   │  │  │     └─ Hwloc.Object: Core [L#36 P#36]\n",
      "   │  │  │        ├─ Hwloc.Object: PU [L#72 P#36]\n",
      "   │  │  │        └─ Hwloc.Object: PU [L#73 P#100]\n",
      "   │  │  ├─ Hwloc.Object: L2Cache\n",
      "   │  │  │  └─ Hwloc.Object: L1Cache\n",
      "   │  │  │     └─ Hwloc.Object: Core [L#37 P#37]\n",
      "   │  │  │        ├─ Hwloc.Object: PU [L#74 P#37]\n",
      "   │  │  │        └─ Hwloc.Object: PU [L#75 P#101]\n",
      "   │  │  ├─ Hwloc.Object: L2Cache\n",
      "   │  │  │  └─ Hwloc.Object: L1Cache\n",
      "   │  │  │     └─ Hwloc.Object: Core [L#38 P#38]\n",
      "   │  │  │        ├─ Hwloc.Object: PU [L#76 P#38]\n",
      "   │  │  │        └─ Hwloc.Object: PU [L#77 P#102]\n",
      "   │  │  └─ Hwloc.Object: L2Cache\n",
      "   │  │     └─ Hwloc.Object: L1Cache\n",
      "   │  │        └─ Hwloc.Object: Core [L#39 P#39]\n",
      "   │  │           ├─ Hwloc.Object: PU [L#78 P#39]\n",
      "   │  │           └─ Hwloc.Object: PU [L#79 P#103]\n",
      "   │  ├─ Hwloc.Object: L3Cache\n",
      "   │  │  ├─ Hwloc.Object: L2Cache\n",
      "   │  │  │  └─ Hwloc.Object: L1Cache\n",
      "   │  │  │     └─ Hwloc.Object: Core [L#40 P#40]\n",
      "   │  │  │        ├─ Hwloc.Object: PU [L#80 P#40]\n",
      "   │  │  │        └─ Hwloc.Object: PU [L#81 P#104]\n",
      "   │  │  ├─ Hwloc.Object: L2Cache\n",
      "   │  │  │  └─ Hwloc.Object: L1Cache\n",
      "   │  │  │     └─ Hwloc.Object: Core [L#41 P#41]\n",
      "   │  │  │        ├─ Hwloc.Object: PU [L#82 P#41]\n",
      "   │  │  │        └─ Hwloc.Object: PU [L#83 P#105]\n",
      "   │  │  ├─ Hwloc.Object: L2Cache\n",
      "   │  │  │  └─ Hwloc.Object: L1Cache\n",
      "   │  │  │     └─ Hwloc.Object: Core [L#42 P#42]\n",
      "   │  │  │        ├─ Hwloc.Object: PU [L#84 P#42]\n",
      "   │  │  │        └─ Hwloc.Object: PU [L#85 P#106]\n",
      "   │  │  ├─ Hwloc.Object: L2Cache\n",
      "   │  │  │  └─ Hwloc.Object: L1Cache\n",
      "   │  │  │     └─ Hwloc.Object: Core [L#43 P#43]\n",
      "   │  │  │        ├─ Hwloc.Object: PU [L#86 P#43]\n",
      "   │  │  │        └─ Hwloc.Object: PU [L#87 P#107]\n",
      "   │  │  ├─ Hwloc.Object: L2Cache\n",
      "   │  │  │  └─ Hwloc.Object: L1Cache\n",
      "   │  │  │     └─ Hwloc.Object: Core [L#44 P#44]\n",
      "   │  │  │        ├─ Hwloc.Object: PU [L#88 P#44]\n",
      "   │  │  │        └─ Hwloc.Object: PU [L#89 P#108]\n",
      "   │  │  ├─ Hwloc.Object: L2Cache\n",
      "   │  │  │  └─ Hwloc.Object: L1Cache\n",
      "   │  │  │     └─ Hwloc.Object: Core [L#45 P#45]\n",
      "   │  │  │        ├─ Hwloc.Object: PU [L#90 P#45]\n",
      "   │  │  │        └─ Hwloc.Object: PU [L#91 P#109]\n",
      "   │  │  ├─ Hwloc.Object: L2Cache\n",
      "   │  │  │  └─ Hwloc.Object: L1Cache\n",
      "   │  │  │     └─ Hwloc.Object: Core [L#46 P#46]\n",
      "   │  │  │        ├─ Hwloc.Object: PU [L#92 P#46]\n",
      "   │  │  │        └─ Hwloc.Object: PU [L#93 P#110]\n",
      "   │  │  └─ Hwloc.Object: L2Cache\n",
      "   │  │     └─ Hwloc.Object: L1Cache\n",
      "   │  │        └─ Hwloc.Object: Core [L#47 P#47]\n",
      "   │  │           ├─ Hwloc.Object: PU [L#94 P#47]\n",
      "   │  │           └─ Hwloc.Object: PU [L#95 P#111]\n",
      "   │  ├─ Hwloc.Object: NUMANode\n",
      "   │  └─ Hwloc.Object: Bridge [HostBridge]\n",
      "   │     ├─ Hwloc.Object: PCI_Device [\u000040:00.0 (HostBridge)]\n",
      "   │     ├─ Hwloc.Object: PCI_Device [\u000040:00.2 (IOMMU)]\n",
      "   │     ├─ Hwloc.Object: PCI_Device [\u000040:01.0 (HostBridge)]\n",
      "   │     ├─ Hwloc.Object: Bridge [PCIBridge]\n",
      "   │     │  └─ Hwloc.Object: PCI_Device [\u000041:00.0 (3D)]\n",
      "   │     │     ├─ Hwloc.Object: OS_Device [GPU \"renderD130\"]\n",
      "   │     │     └─ Hwloc.Object: OS_Device [GPU \"card2\"]\n",
      "   │     ├─ Hwloc.Object: PCI_Device [\u000040:02.0 (HostBridge)]\n",
      "   │     ├─ Hwloc.Object: PCI_Device [\u000040:03.0 (HostBridge)]\n",
      "   │     ├─ Hwloc.Object: Bridge [PCIBridge]\n",
      "   │     │  └─ Hwloc.Object: PCI_Device [\u000042:00.0 (Ethernet)]\n",
      "   │     │     └─ Hwloc.Object: OS_Device [Net \"hsn2\"]\n",
      "   │     ├─ Hwloc.Object: PCI_Device [\u000040:04.0 (HostBridge)]\n",
      "   │     ├─ Hwloc.Object: PCI_Device [\u000040:05.0 (HostBridge)]\n",
      "   │     ├─ Hwloc.Object: PCI_Device [\u000040:07.0 (HostBridge)]\n",
      "   │     ├─ Hwloc.Object: Bridge [PCIBridge]\n",
      "   │     │  ├─ Hwloc.Object: PCI_Device [\u000043:00.0 (Instrumentation)]\n",
      "   │     │  └─ Hwloc.Object: PCI_Device [\u000043:00.2 (Encryption)]\n",
      "   │     ├─ Hwloc.Object: PCI_Device [\u000040:08.0 (HostBridge)]\n",
      "   │     └─ Hwloc.Object: Bridge [PCIBridge]\n",
      "   │        ├─ Hwloc.Object: PCI_Device [\u000044:00.0 (Instrumentation)]\n",
      "   │        ├─ Hwloc.Object: PCI_Device [\u000044:00.1 (Encryption)]\n",
      "   │        ├─ Hwloc.Object: PCI_Device [\u000044:00.2 (Encryption)]\n",
      "   │        └─ Hwloc.Object: PCI_Device [\u000044:00.3 (USB)]\n",
      "   └─ Hwloc.Object: Group\n",
      "      ├─ Hwloc.Object: L3Cache\n",
      "      │  ├─ Hwloc.Object: L2Cache\n",
      "      │  │  └─ Hwloc.Object: L1Cache\n",
      "      │  │     └─ Hwloc.Object: Core [L#48 P#48]\n",
      "      │  │        ├─ Hwloc.Object: PU [L#96 P#48]\n",
      "      │  │        └─ Hwloc.Object: PU [L#97 P#112]\n",
      "      │  ├─ Hwloc.Object: L2Cache\n",
      "      │  │  └─ Hwloc.Object: L1Cache\n",
      "      │  │     └─ Hwloc.Object: Core [L#49 P#49]\n",
      "      │  │        ├─ Hwloc.Object: PU [L#98 P#49]\n",
      "      │  │        └─ Hwloc.Object: PU [L#99 P#113]\n",
      "      │  ├─ Hwloc.Object: L2Cache\n",
      "      │  │  └─ Hwloc.Object: L1Cache\n",
      "      │  │     └─ Hwloc.Object: Core [L#50 P#50]\n",
      "      │  │        ├─ Hwloc.Object: PU [L#100 P#50]\n",
      "      │  │        └─ Hwloc.Object: PU [L#101 P#114]\n",
      "      │  ├─ Hwloc.Object: L2Cache\n",
      "      │  │  └─ Hwloc.Object: L1Cache\n",
      "      │  │     └─ Hwloc.Object: Core [L#51 P#51]\n",
      "      │  │        ├─ Hwloc.Object: PU [L#102 P#51]\n",
      "      │  │        └─ Hwloc.Object: PU [L#103 P#115]\n",
      "      │  ├─ Hwloc.Object: L2Cache\n",
      "      │  │  └─ Hwloc.Object: L1Cache\n",
      "      │  │     └─ Hwloc.Object: Core [L#52 P#52]\n",
      "      │  │        ├─ Hwloc.Object: PU [L#104 P#52]\n",
      "      │  │        └─ Hwloc.Object: PU [L#105 P#116]\n",
      "      │  ├─ Hwloc.Object: L2Cache\n",
      "      │  │  └─ Hwloc.Object: L1Cache\n",
      "      │  │     └─ Hwloc.Object: Core [L#53 P#53]\n",
      "      │  │        ├─ Hwloc.Object: PU [L#106 P#53]\n",
      "      │  │        └─ Hwloc.Object: PU [L#107 P#117]\n",
      "      │  ├─ Hwloc.Object: L2Cache\n",
      "      │  │  └─ Hwloc.Object: L1Cache\n",
      "      │  │     └─ Hwloc.Object: Core [L#54 P#54]\n",
      "      │  │        ├─ Hwloc.Object: PU [L#108 P#54]\n",
      "      │  │        └─ Hwloc.Object: PU [L#109 P#118]\n",
      "      │  └─ Hwloc.Object: L2Cache\n",
      "      │     └─ Hwloc.Object: L1Cache\n",
      "      │        └─ Hwloc.Object: Core [L#55 P#55]\n",
      "      │           ├─ Hwloc.Object: PU [L#110 P#55]\n",
      "      │           └─ Hwloc.Object: PU [L#111 P#119]\n",
      "      ├─ Hwloc.Object: L3Cache\n",
      "      │  ├─ Hwloc.Object: L2Cache\n",
      "      │  │  └─ Hwloc.Object: L1Cache\n",
      "      │  │     └─ Hwloc.Object: Core [L#56 P#56]\n",
      "      │  │        ├─ Hwloc.Object: PU [L#112 P#56]\n",
      "      │  │        └─ Hwloc.Object: PU [L#113 P#120]\n",
      "      │  ├─ Hwloc.Object: L2Cache\n",
      "      │  │  └─ Hwloc.Object: L1Cache\n",
      "      │  │     └─ Hwloc.Object: Core [L#57 P#57]\n",
      "      │  │        ├─ Hwloc.Object: PU [L#114 P#57]\n",
      "      │  │        └─ Hwloc.Object: PU [L#115 P#121]\n",
      "      │  ├─ Hwloc.Object: L2Cache\n",
      "      │  │  └─ Hwloc.Object: L1Cache\n",
      "      │  │     └─ Hwloc.Object: Core [L#58 P#58]\n",
      "      │  │        ├─ Hwloc.Object: PU [L#116 P#58]\n",
      "      │  │        └─ Hwloc.Object: PU [L#117 P#122]\n",
      "      │  ├─ Hwloc.Object: L2Cache\n",
      "      │  │  └─ Hwloc.Object: L1Cache\n",
      "      │  │     └─ Hwloc.Object: Core [L#59 P#59]\n",
      "      │  │        ├─ Hwloc.Object: PU [L#118 P#59]\n",
      "      │  │        └─ Hwloc.Object: PU [L#119 P#123]\n",
      "      │  ├─ Hwloc.Object: L2Cache\n",
      "      │  │  └─ Hwloc.Object: L1Cache\n",
      "      │  │     └─ Hwloc.Object: Core [L#60 P#60]\n",
      "      │  │        ├─ Hwloc.Object: PU [L#120 P#60]\n",
      "      │  │        └─ Hwloc.Object: PU [L#121 P#124]\n",
      "      │  ├─ Hwloc.Object: L2Cache\n",
      "      │  │  └─ Hwloc.Object: L1Cache\n",
      "      │  │     └─ Hwloc.Object: Core [L#61 P#61]\n",
      "      │  │        ├─ Hwloc.Object: PU [L#122 P#61]\n",
      "      │  │        └─ Hwloc.Object: PU [L#123 P#125]\n",
      "      │  ├─ Hwloc.Object: L2Cache\n",
      "      │  │  └─ Hwloc.Object: L1Cache\n",
      "      │  │     └─ Hwloc.Object: Core [L#62 P#62]\n",
      "      │  │        ├─ Hwloc.Object: PU [L#124 P#62]\n",
      "      │  │        └─ Hwloc.Object: PU [L#125 P#126]\n",
      "      │  └─ Hwloc.Object: L2Cache\n",
      "      │     └─ Hwloc.Object: L1Cache\n",
      "      │        └─ Hwloc.Object: Core [L#63 P#63]\n",
      "      │           ├─ Hwloc.Object: PU [L#126 P#63]\n",
      "      │           └─ Hwloc.Object: PU [L#127 P#127]\n",
      "      ├─ Hwloc.Object: NUMANode\n",
      "      └─ Hwloc.Object: Bridge [HostBridge]\n",
      "         ├─ Hwloc.Object: PCI_Device [\u000000:00.0 (HostBridge)]\n",
      "         ├─ Hwloc.Object: PCI_Device [\u000000:00.2 (IOMMU)]\n",
      "         ├─ Hwloc.Object: PCI_Device [\u000000:01.0 (HostBridge)]\n",
      "         ├─ Hwloc.Object: Bridge [PCIBridge]\n",
      "         │  └─ Hwloc.Object: PCI_Device [\u000001:00.0 (Ethernet)]\n",
      "         │     └─ Hwloc.Object: OS_Device [Net \"hsn3\"]\n",
      "         ├─ Hwloc.Object: PCI_Device [\u000000:02.0 (HostBridge)]\n",
      "         ├─ Hwloc.Object: PCI_Device [\u000000:03.0 (HostBridge)]\n",
      "         ├─ Hwloc.Object: Bridge [PCIBridge]\n",
      "         │  └─ Hwloc.Object: PCI_Device [\u000003:00.0 (3D)]\n",
      "         │     ├─ Hwloc.Object: OS_Device [GPU \"card3\"]\n",
      "         │     └─ Hwloc.Object: OS_Device [GPU \"renderD131\"]\n",
      "         ├─ Hwloc.Object: PCI_Device [\u000000:04.0 (HostBridge)]\n",
      "         ├─ Hwloc.Object: PCI_Device [\u000000:05.0 (HostBridge)]\n",
      "         ├─ Hwloc.Object: PCI_Device [\u000000:07.0 (HostBridge)]\n",
      "         ├─ Hwloc.Object: Bridge [PCIBridge]\n",
      "         │  ├─ Hwloc.Object: PCI_Device [\u000004:00.0 (Instrumentation)]\n",
      "         │  └─ Hwloc.Object: PCI_Device [\u000004:00.2 (Encryption)]\n",
      "         ├─ Hwloc.Object: PCI_Device [\u000000:08.0 (HostBridge)]\n",
      "         ├─ Hwloc.Object: Bridge [PCIBridge]\n",
      "         │  ├─ Hwloc.Object: PCI_Device [\u000005:00.0 (Instrumentation)]\n",
      "         │  ├─ Hwloc.Object: PCI_Device [\u000005:00.2 (Encryption)]\n",
      "         │  └─ Hwloc.Object: PCI_Device [\u000005:00.3 (USB)]\n",
      "         ├─ Hwloc.Object: PCI_Device [\u000000:14.0 (SMBus)]\n",
      "         ├─ Hwloc.Object: PCI_Device [\u000000:14.3 (ISABridge)]\n",
      "         ├─ Hwloc.Object: PCI_Device [\u000000:18.0 (HostBridge)]\n",
      "         ├─ Hwloc.Object: PCI_Device [\u000000:18.1 (HostBridge)]\n",
      "         ├─ Hwloc.Object: PCI_Device [\u000000:18.2 (HostBridge)]\n",
      "         ├─ Hwloc.Object: PCI_Device [\u000000:18.3 (HostBridge)]\n",
      "         ├─ Hwloc.Object: PCI_Device [\u000000:18.4 (HostBridge)]\n",
      "         ├─ Hwloc.Object: PCI_Device [\u000000:18.5 (HostBridge)]\n",
      "         ├─ Hwloc.Object: PCI_Device [\u000000:18.6 (HostBridge)]\n",
      "         └─ Hwloc.Object: PCI_Device [\u000000:18.7 (HostBridge)]\n"
     ]
    }
   ],
   "source": [
    "print_tree(sys_devs; maxdepth=100)"
   ]
  },
  {
   "cell_type": "code",
   "execution_count": null,
   "id": "4877c59d-18d6-44fd-8330-7d22e7463048",
   "metadata": {},
   "outputs": [],
   "source": []
  },
  {
   "cell_type": "code",
   "execution_count": null,
   "id": "293845a2-593a-443d-b91f-fd66214c46da",
   "metadata": {},
   "outputs": [],
   "source": []
  },
  {
   "cell_type": "code",
   "execution_count": 9,
   "id": "ec0cdb15-54b8-458f-be49-edb13af464aa",
   "metadata": {
    "tags": []
   },
   "outputs": [
    {
     "data": {
      "text/plain": [
       "2"
      ]
     },
     "execution_count": 9,
     "metadata": {},
     "output_type": "execute_result"
    }
   ],
   "source": [
    "1+1"
   ]
  },
  {
   "cell_type": "code",
   "execution_count": null,
   "id": "542dce06-e8f3-4717-9e3a-10140845fc95",
   "metadata": {},
   "outputs": [],
   "source": []
  }
 ],
 "metadata": {
  "kernelspec": {
   "display_name": "Julia 1.9.4",
   "language": "julia",
   "name": "julia-1.9.4"
  },
  "language_info": {
   "file_extension": ".jl",
   "mimetype": "application/julia",
   "name": "julia",
   "version": "1.9.4"
  }
 },
 "nbformat": 4,
 "nbformat_minor": 5
}

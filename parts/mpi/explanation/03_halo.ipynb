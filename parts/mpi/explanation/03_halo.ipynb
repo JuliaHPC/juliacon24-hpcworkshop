{
 "cells": [
  {
   "cell_type": "markdown",
   "id": "d9a3797d-88ef-40ea-a243-ecc90a9b200f",
   "metadata": {
    "slideshow": {
     "slide_type": "skip"
    },
    "tags": []
   },
   "source": [
    "# Setup"
   ]
  },
  {
   "cell_type": "code",
   "execution_count": 1,
   "id": "df64b70e-4682-4885-b055-056bc4e88a59",
   "metadata": {
    "slideshow": {
     "slide_type": "skip"
    },
    "tags": []
   },
   "outputs": [
    {
     "name": "stderr",
     "output_type": "stream",
     "text": [
      "\u001b[32m\u001b[1m  Activating\u001b[22m\u001b[39m project at `/global/u1/b/blaschke/juliacon24-hpcworkshop/parts/mpi/explanation`\n"
     ]
    },
    {
     "name": "stdout",
     "output_type": "stream",
     "text": [
      "\u001b[32m\u001b[1mStatus\u001b[22m\u001b[39m `/global/u1/b/blaschke/juliacon24-hpcworkshop/parts/mpi/explanation/Project.toml`\n",
      "  \u001b[90m[1520ce14] \u001b[39mAbstractTrees v0.4.5\n",
      "  \u001b[90m[052768ef] \u001b[39mCUDA v5.4.2\n",
      "  \u001b[90m[adafc99b] \u001b[39mCpuId v0.3.1\n",
      "  \u001b[90m[0e44f5e4] \u001b[39mHwloc v3.0.1\n",
      "  \u001b[90m[da04e1cc] \u001b[39mMPI v0.20.20\n",
      "  \u001b[90m[e7922434] \u001b[39mMPIClusterManagers v0.2.4\n",
      "  \u001b[90m[6f74fd91] \u001b[39mNetworkInterfaceControllers v0.1.0\n"
     ]
    }
   ],
   "source": [
    "import Pkg;\n",
    "Pkg.activate(@__DIR__)\n",
    "Pkg.status()"
   ]
  },
  {
   "cell_type": "code",
   "execution_count": 2,
   "id": "cd1e1253-87a0-47b9-a225-33dffac6d33f",
   "metadata": {
    "tags": []
   },
   "outputs": [
    {
     "data": {
      "text/plain": [
       "\"nid200360-hsn0\""
      ]
     },
     "execution_count": 2,
     "metadata": {},
     "output_type": "execute_result"
    }
   ],
   "source": [
    "using MPI\n",
    "\n",
    "using NetworkInterfaceControllers, Sockets\n",
    "interfaces = NetworkInterfaceControllers.get_interface_data(IPv4)\n",
    "\n",
    "hsn0_public = filter(x->(x.name==\"hsn0:chn\" && x.version==:v4), interfaces) |> only \n",
    "public_slingshot_name = getnameinfo(hsn0_public.ip)"
   ]
  },
  {
   "cell_type": "code",
   "execution_count": 3,
   "id": "68377016-c3df-4a1c-9c42-150d6af80de8",
   "metadata": {
    "slideshow": {
     "slide_type": "skip"
    },
    "tags": []
   },
   "outputs": [
    {
     "data": {
      "text/plain": [
       "4-element Vector{Int64}:\n",
       " 2\n",
       " 3\n",
       " 4\n",
       " 5"
      ]
     },
     "execution_count": 3,
     "metadata": {},
     "output_type": "execute_result"
    }
   ],
   "source": [
    "# to import MPIManager\n",
    "using MPIClusterManagers\n",
    "\n",
    "# need to also import Distributed to use addprocs()\n",
    "using Distributed\n",
    "\n",
    "# specify, number of mpi workers, launch cmd, etc.\n",
    "manager=MPIWorkerManager(4)\n",
    "\n",
    "# start mpi workers and add them as julia workers too.\n",
    "addprocs(\n",
    "    manager,\n",
    "    exeflags=`--project=$(Base.active_project())`,\n",
    "    master_tcp_interface=public_slingshot_name\n",
    ")"
   ]
  },
  {
   "cell_type": "code",
   "execution_count": 5,
   "id": "b243745d-ad52-4d52-873a-b9bc6575054a",
   "metadata": {
    "slideshow": {
     "slide_type": "fragment"
    },
    "tags": []
   },
   "outputs": [
    {
     "name": "stdout",
     "output_type": "stream",
     "text": [
      "      From worker 5:\tHello world, I am 3 of 4 on nid200365\n",
      "      From worker 2:\tHello world, I am 0 of 4 on nid200360\n",
      "      From worker 4:\tHello world, I am 2 of 4 on nid200364\n",
      "      From worker 3:\tHello world, I am 1 of 4 on nid200361\n"
     ]
    },
    {
     "ename": "KeyError",
     "evalue": "KeyError: key \"usage_request\" not found",
     "output_type": "error",
     "traceback": [
      "KERNEL EXCEPTION",
      "KeyError: key \"usage_request\" not found",
      "",
      "Stacktrace:",
      " [1] getindex(h::Dict{String, Function}, key::String)",
      "   @ Base ./dict.jl:484",
      " [2] eventloop(socket::ZMQ.Socket)",
      "   @ IJulia ~/.julia/packages/IJulia/Vo51o/src/eventloop.jl:8",
      " [3] (::IJulia.var\"#14#17\")()",
      "   @ IJulia ./task.jl:514"
     ]
    },
    {
     "ename": "KeyError",
     "evalue": "KeyError: key \"usage_request\" not found",
     "output_type": "error",
     "traceback": [
      "KERNEL EXCEPTION",
      "KeyError: key \"usage_request\" not found",
      "",
      "Stacktrace:",
      " [1] getindex(h::Dict{String, Function}, key::String)",
      "   @ Base ./dict.jl:484",
      " [2] eventloop(socket::ZMQ.Socket)",
      "   @ IJulia ~/.julia/packages/IJulia/Vo51o/src/eventloop.jl:8",
      " [3] (::IJulia.var\"#14#17\")()",
      "   @ IJulia ./task.jl:514"
     ]
    }
   ],
   "source": [
    "@mpi_do manager begin\n",
    "    using MPI: MPI, Comm, Win, free\n",
    "    comm = MPI.COMM_WORLD\n",
    "    rank = MPI.Comm_rank(comm)\n",
    "    mpi_size = MPI.Comm_size(comm) # don't use \"size\" as this overwrites the `size` function\n",
    "    name = gethostname()\n",
    "    println(\"Hello world, I am $(rank) of $(mpi_size) on $(name)\")\n",
    "end"
   ]
  },
  {
   "cell_type": "code",
   "execution_count": 6,
   "id": "f4197ff5-6ba6-4964-aca4-178147857b74",
   "metadata": {
    "slideshow": {
     "slide_type": "fragment"
    },
    "tags": []
   },
   "outputs": [],
   "source": [
    "@mpi_do manager begin\n",
    "    dims = [0]\n",
    "    MPI.Dims_create!(mpi_size, dims)\n",
    "end"
   ]
  },
  {
   "cell_type": "code",
   "execution_count": 7,
   "id": "e56347d7-018b-4daa-8b0f-7934a3097718",
   "metadata": {
    "slideshow": {
     "slide_type": "fragment"
    },
    "tags": []
   },
   "outputs": [],
   "source": [
    "@mpi_do manager begin\n",
    "    comm_cart = MPI.Cart_create(\n",
    "        comm,  # MPI Communicator\n",
    "        dims,  # Dimensions of grid\n",
    "        [0],   # 0 == not periodic, 1 == periodic\n",
    "        1,     # 0 == not allowed to reorder, 1 == allowed to reoder\n",
    "    )\n",
    "    me        = MPI.Comm_rank(comm_cart)\n",
    "    coords    = MPI.Cart_coords(comm_cart)\n",
    "    neighbors = MPI.Cart_shift(\n",
    "        comm_cart,\n",
    "        0,  # Which dimension to shift (zero-indexed)\n",
    "        1,  # Shift magnitude\n",
    "    )\n",
    "end"
   ]
  },
  {
   "cell_type": "markdown",
   "id": "e591dff1-e930-405a-aced-7ba54ef75164",
   "metadata": {},
   "source": [
    "## Halo Exchange"
   ]
  },
  {
   "cell_type": "markdown",
   "id": "5eac60ff-cd2d-4561-bf87-a732e93cdbc5",
   "metadata": {},
   "source": [
    "When cast into the discrete form:\n",
    "\n",
    "$$\n",
    "\\partial_t x = -D \\mathrm{div}(\\mathrm{grad}(x)) \\\\\n",
    "\\Delta_t x = -D \\frac{q_i - q_{i-1}}{\\Delta s} = \\frac{(x_{i+1} - x_i) - (x_{i} - x_{i-1})}{(\\Delta s)^2} = \\frac{x_{i+1} + 2 x_i - x_{i-1}}{(\\Delta s)^2}\n",
    "$$\n",
    "\n",
    "The diffusion equation has a stencil width of 2, but the necessary halo only needs 1 cell to be transferred:"
   ]
  },
  {
   "cell_type": "markdown",
   "id": "c67e1b1e-7bec-4b02-bcd8-4fecefd8170b",
   "metadata": {},
   "source": [
    "![1D_halo](l8_1D_global_grid.png)"
   ]
  },
  {
   "cell_type": "markdown",
   "id": "7ebe2ba1-2ea3-498d-be6e-bd34d6a50ad9",
   "metadata": {},
   "source": [
    "In 2D this will look as follows:\n",
    "\n",
    "![2D_halo](diffusion_2d_halo_exchange.png)"
   ]
  },
  {
   "cell_type": "markdown",
   "id": "1e075e1e-0575-4a32-b5ad-da0fa724279b",
   "metadata": {},
   "source": [
    "In the previous example we exchanged `Int64`, now we're going to tranfer `Float64`"
   ]
  },
  {
   "cell_type": "code",
   "execution_count": 8,
   "id": "d36f644b-65fb-44d0-998c-09c74e805235",
   "metadata": {
    "tags": []
   },
   "outputs": [],
   "source": [
    "@mpi_do manager begin\n",
    "    send_1 = zeros(Float64, 1)\n",
    "    send_2 = zeros(Float64, 1)\n",
    "    recv_1 = zeros(Float64, 1)\n",
    "    recv_2 = zeros(Float64, 1)\n",
    "end"
   ]
  },
  {
   "cell_type": "code",
   "execution_count": 244,
   "id": "a6891fa9-6d92-4c65-b791-2aa4246e1e2e",
   "metadata": {
    "tags": []
   },
   "outputs": [],
   "source": [
    "@mpi_do manager begin\n",
    "    function halo_exchange!(A)\n",
    "        # Copy to buffers\n",
    "        (neighbors[1] != MPI.PROC_NULL) && copyto!(send_1, A[2:2, 1])\n",
    "        (neighbors[2] != MPI.PROC_NULL) && copyto!(send_2, A[(end-1):(end-1), 1]) \n",
    "        # Request handler\n",
    "        reqs = MPI.MultiRequest(4)\n",
    "        # Initiate data reciever\n",
    "        (neighbors[1] != MPI.PROC_NULL) && MPI.Irecv!(recv_1, comm_cart, reqs[1]; source=neighbors[1])\n",
    "        (neighbors[2] != MPI.PROC_NULL) && MPI.Irecv!(recv_2, comm_cart, reqs[2]; source=neighbors[2])\n",
    "        # Send data\n",
    "        (neighbors[1] != MPI.PROC_NULL) && MPI.Isend(send_1, comm_cart, reqs[3]; dest=neighbors[1])\n",
    "        (neighbors[2] != MPI.PROC_NULL) && MPI.Isend(send_2, comm_cart, reqs[4]; dest=neighbors[2])\n",
    "        # Block until all transactions are done before touching buffers\n",
    "        MPI.Waitall(reqs) \n",
    "        # Copy from buffers (copyto! needs a pointer to the cell)\n",
    "        r1 = @view A[1:1, 1] \n",
    "        r2 = @view A[end:end, 1]\n",
    "        (neighbors[1] != MPI.PROC_NULL) && copyto!(r1, recv_1)\n",
    "        (neighbors[2] != MPI.PROC_NULL) && copyto!(r2, recv_2)\n",
    "    end\n",
    "end"
   ]
  },
  {
   "cell_type": "code",
   "execution_count": 245,
   "id": "49fc3f16-27d8-4589-8f89-76d868c4f3c1",
   "metadata": {
    "tags": []
   },
   "outputs": [],
   "source": [
    "@mpi_do manager begin\n",
    "    D  = 1e-4\n",
    "    ds = 1e-4\n",
    "    dt = ds^2 / D / 8.2    \n",
    "    qx(ix, D, C, ds) = -D * (C[ix+1, 1] - C[ix, 1]) / ds\n",
    "end"
   ]
  },
  {
   "cell_type": "code",
   "execution_count": 246,
   "id": "e0085955-4b07-4942-b471-7f9a130ab908",
   "metadata": {
    "tags": []
   },
   "outputs": [],
   "source": [
    "@mpi_do manager begin\n",
    "    C = zeros(10, 1)\n",
    "    if rank == 1\n",
    "        C[8] = 1/ds\n",
    "    end\n",
    "end"
   ]
  },
  {
   "cell_type": "code",
   "execution_count": 247,
   "id": "9c67b1a0-3dfa-44a6-b0a7-32e2cf550db8",
   "metadata": {
    "tags": []
   },
   "outputs": [
    {
     "name": "stdout",
     "output_type": "stream",
     "text": [
      "      From worker 2:\t[0.0; 0.0; 0.0; 0.0; 0.0; 0.0; 0.0; 0.0; 0.0; 0.0;;]\n",
      "      From worker 4:\t[0.0; 0.0; 0.0; 0.0; 0.0; 0.0; 0.0; 0.0; 0.0; 0.0;;]\n",
      "      From worker 5:\t[0.0; 0.0; 0.0; 0.0; 0.0; 0.0; 0.0; 0.0; 0.0; 0.0;;]\n",
      "      From worker 3:\t[0.0; 0.0; 0.0; 0.0; 0.0; 0.0; 0.0; 10000.0; 0.0; 0.0;;]\n"
     ]
    }
   ],
   "source": [
    "@mpi_do manager begin\n",
    "    println(C)\n",
    "end"
   ]
  },
  {
   "cell_type": "code",
   "execution_count": 248,
   "id": "b1f885ad-b823-45da-a33c-8ab615425362",
   "metadata": {
    "tags": []
   },
   "outputs": [],
   "source": [
    "@mpi_do manager begin\n",
    "    function step_diffusion!(C2, C)\n",
    "        for i in 1:size(C, 1) - 2\n",
    "            C2[i+1] = C[i+1] - dt * (qx(i+1, D, C, ds) - qx(i, D, C, ds)) / ds\n",
    "        end\n",
    "    end\n",
    "end"
   ]
  },
  {
   "cell_type": "code",
   "execution_count": 249,
   "id": "b09f3b69-a733-467a-84ed-a91b577c89ba",
   "metadata": {
    "tags": []
   },
   "outputs": [],
   "source": [
    "@mpi_do manager begin\n",
    "    C2 = similar(C)\n",
    "    fill!(C2, 0.)\n",
    "end"
   ]
  },
  {
   "cell_type": "code",
   "execution_count": 250,
   "id": "871692b2-3589-4e13-9889-bad943325e23",
   "metadata": {
    "tags": []
   },
   "outputs": [],
   "source": [
    "@mpi_do manager begin\n",
    "    step_diffusion!(C2, C)\n",
    "    halo_exchange!(C2)\n",
    "    C, C2 = C2, C\n",
    "end"
   ]
  },
  {
   "cell_type": "code",
   "execution_count": 252,
   "id": "7ccd49d0-3eee-46ea-a888-8094047e3bd8",
   "metadata": {
    "tags": []
   },
   "outputs": [
    {
     "name": "stdout",
     "output_type": "stream",
     "text": [
      "      From worker 5:\t[0.0; 0.0; 0.0; 0.0; 0.0; 0.0; 0.0; 0.0; 0.0; 0.0;;]\n",
      "      From worker 4:\t[1219.5121951219512; 0.0; 0.0; 0.0; 0.0; 0.0; 0.0; 0.0; 0.0; 0.0;;]\n",
      "      From worker 2:\t[0.0; 0.0; 0.0; 0.0; 0.0; 0.0; 0.0; 0.0; 0.0; 0.0;;]\n",
      "      From worker 3:\t[0.0; 0.0; 0.0; 0.0; 0.0; 0.0; 1219.5121951219512; 7560.975609756098; 1219.5121951219512; 0.0;;]\n"
     ]
    }
   ],
   "source": [
    "@mpi_do manager begin\n",
    "    println(C)\n",
    "end"
   ]
  },
  {
   "cell_type": "code",
   "execution_count": null,
   "id": "2dc8e0fd-66e7-43aa-9035-95e84915971b",
   "metadata": {},
   "outputs": [],
   "source": []
  },
  {
   "cell_type": "code",
   "execution_count": null,
   "id": "cb627cb2-540f-4236-92ae-559efb91673b",
   "metadata": {},
   "outputs": [],
   "source": []
  },
  {
   "cell_type": "code",
   "execution_count": null,
   "id": "e57079e8-6d80-43fa-acf4-5ff0dedc5224",
   "metadata": {},
   "outputs": [],
   "source": []
  },
  {
   "cell_type": "code",
   "execution_count": 253,
   "id": "8cb9cb7e-b2fc-4066-bbb3-99b12ec02d64",
   "metadata": {
    "tags": []
   },
   "outputs": [
    {
     "data": {
      "text/plain": [
       "2"
      ]
     },
     "execution_count": 253,
     "metadata": {},
     "output_type": "execute_result"
    }
   ],
   "source": [
    "1+1"
   ]
  },
  {
   "cell_type": "code",
   "execution_count": null,
   "id": "27e94ae9-5c79-49f8-8014-60157055d6a2",
   "metadata": {},
   "outputs": [],
   "source": []
  }
 ],
 "metadata": {
  "kernelspec": {
   "display_name": "Julia 1.9.4",
   "language": "julia",
   "name": "julia-1.9.4"
  },
  "language_info": {
   "file_extension": ".jl",
   "mimetype": "application/julia",
   "name": "julia",
   "version": "1.9.4"
  }
 },
 "nbformat": 4,
 "nbformat_minor": 5
}

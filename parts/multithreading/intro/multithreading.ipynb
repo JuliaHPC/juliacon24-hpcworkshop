{
 "cells": [
  {
   "cell_type": "markdown",
   "metadata": {},
   "source": [
    "# Multithreading"
   ]
  },
  {
   "cell_type": "markdown",
   "metadata": {},
   "source": [
    "## Overview"
   ]
  },
  {
   "cell_type": "markdown",
   "metadata": {},
   "source": [
    "* **What are threads?**\n",
    "\n",
    "* **How many threads are there?**\n",
    "\n",
    "* **Where are the threads running?**\n",
    "\n",
    "* **How do I use the threads?**"
   ]
  },
  {
   "cell_type": "markdown",
   "metadata": {},
   "source": [
    "## What are threads?\n",
    "Threads are **execution units within a process** that can run simultaneously and **share memory** (heap).\n",
    "\n",
    "<br>\n",
    "<img src=\"./imgs/stack_heap_threads.png\" width=450px>\n",
    "<br>"
   ]
  },
  {
   "cell_type": "markdown",
   "metadata": {},
   "source": [
    "## How many threads are there?"
   ]
  },
  {
   "cell_type": "markdown",
   "metadata": {},
   "source": [
    "By default, Julia starts with a single *user thread*. We must tell it explicitly to start multiple user threads.\n",
    "\n",
    "* Environment variable: `export JULIA_NUM_THREADS=8`\n",
    "\n",
    "* Command line argument: `julia -t 8` or `julia --threads 8`"
   ]
  },
  {
   "cell_type": "markdown",
   "metadata": {},
   "source": [
    "**It is currently not really possible to change the number of threads at runtime!**"
   ]
  },
  {
   "cell_type": "code",
   "execution_count": 1,
   "metadata": {},
   "outputs": [
    {
     "data": {
      "text/plain": [
       "8"
      ]
     },
     "metadata": {},
     "output_type": "display_data"
    }
   ],
   "source": [
    "Threads.nthreads()"
   ]
  },
  {
   "cell_type": "markdown",
   "metadata": {},
   "source": [
    "## Where are the threads running?"
   ]
  },
  {
   "cell_type": "markdown",
   "metadata": {},
   "source": [
    "[ThreadPinning.jl](https://github.com/carstenbauer/ThreadPinning.jl) is the best tool for visualizing and controlling thread placement in Julia. (Disclaimer: I'm the main author 😉)"
   ]
  },
  {
   "cell_type": "code",
   "execution_count": 2,
   "metadata": {},
   "outputs": [
    {
     "name": "stdout",
     "output_type": "stream",
     "text": [
      "\n",
      "System: 128 cores (2-way SMT), 2 sockets, 8 NUMA domains\n",
      "\n",
      "\u001b[0m\u001b[1m| \u001b[22m\u001b[39m0,\u001b[39m1,\u001b[39m2,\u001b[39m3,\u001b[39m4,\u001b[39m5,\u001b[39m6,\u001b[39m7,\u001b[39m8,\u001b[39m9,\u001b[39m10,\u001b[39m11,\u001b[39m12,\u001b[39m13,\u001b[39m14,\u001b[39m15,\n",
      "  \u001b[39m16,\u001b[39m17,\u001b[39m18,\u001b[39m19,\u001b[39m20,\u001b[39m21,\u001b[39m22,\u001b[39m23,\u001b[39m24,\u001b[39m25,\u001b[39m26,\u001b[39m27,\u001b[33m\u001b[1m28\u001b[22m\u001b[39m,\u001b[39m29,\u001b[39m30,\u001b[39m31,\n",
      "  \u001b[39m32,\u001b[39m33,\u001b[39m34,\u001b[39m35,\u001b[39m36,\u001b[39m37,\u001b[39m38,\u001b[33m\u001b[1m39\u001b[22m\u001b[39m,\u001b[39m40,\u001b[39m41,\u001b[39m42,\u001b[39m43,\u001b[39m44,\u001b[39m45,\u001b[39m46,\u001b[39m47,\n",
      "  \u001b[39m48,\u001b[39m49,\u001b[39m50,\u001b[39m51,\u001b[39m52,\u001b[39m53,\u001b[33m\u001b[1m54\u001b[22m\u001b[39m,\u001b[39m55,\u001b[39m56,\u001b[39m57,\u001b[39m58,\u001b[39m59,\u001b[39m60,\u001b[39m61,\u001b[39m62,\u001b[39m63,\n",
      "  \u001b[90m128\u001b[39m,\u001b[90m129\u001b[39m,\u001b[90m130\u001b[39m,\u001b[90m131\u001b[39m,\u001b[90m132\u001b[39m,\u001b[90m133\u001b[39m,\u001b[90m134\u001b[39m,\u001b[90m135\u001b[39m,\u001b[90m136\u001b[39m,\u001b[90m137\u001b[39m,\u001b[90m138\u001b[39m,\u001b[90m139\u001b[39m,\u001b[90m140\u001b[39m,\u001b[90m141\u001b[39m,\u001b[90m142\u001b[39m,\u001b[90m143\u001b[39m,\n",
      "  \u001b[90m144\u001b[39m,\u001b[90m145\u001b[39m,\u001b[90m146\u001b[39m,\u001b[90m147\u001b[39m,\u001b[90m148\u001b[39m,\u001b[90m149\u001b[39m,\u001b[90m150\u001b[39m,\u001b[90m151\u001b[39m,\u001b[90m152\u001b[39m,\u001b[90m153\u001b[39m,\u001b[90m154\u001b[39m,\u001b[90m155\u001b[39m,\u001b[90m156\u001b[39m,\u001b[90m157\u001b[39m,\u001b[90m158\u001b[39m,\u001b[90m159\u001b[39m,\n",
      "  \u001b[90m160\u001b[39m,\u001b[90m161\u001b[39m,\u001b[90m162\u001b[39m,\u001b[90m163\u001b[39m,\u001b[90m164\u001b[39m,\u001b[90m165\u001b[39m,\u001b[90m166\u001b[39m,\u001b[90m167\u001b[39m,\u001b[95m\u001b[1m168\u001b[22m\u001b[39m,\u001b[90m169\u001b[39m,\u001b[90m170\u001b[39m,\u001b[90m171\u001b[39m,\u001b[90m172\u001b[39m,\u001b[90m173\u001b[39m,\u001b[90m174\u001b[39m,\u001b[90m175\u001b[39m,\n",
      "  \u001b[90m176\u001b[39m,\u001b[90m177\u001b[39m,\u001b[90m178\u001b[39m,\u001b[90m179\u001b[39m,\u001b[90m180\u001b[39m,\u001b[90m181\u001b[39m,\u001b[90m182\u001b[39m,\u001b[90m183\u001b[39m,\u001b[90m184\u001b[39m,\u001b[90m185\u001b[39m,\u001b[90m186\u001b[39m,\u001b[90m187\u001b[39m,\u001b[90m188\u001b[39m,\u001b[90m189\u001b[39m,\u001b[90m190\u001b[39m,\u001b[90m191\u001b[39m\u001b[0m\u001b[1m |\u001b[22m\n",
      "\u001b[0m\u001b[1m| \u001b[22m\u001b[39m64,\u001b[39m65,\u001b[39m66,\u001b[39m67,\u001b[39m68,\u001b[39m69,\u001b[39m70,\u001b[39m71,\u001b[39m72,\u001b[39m73,\u001b[39m74,\u001b[39m75,\u001b[39m76,\u001b[39m77,\u001b[39m78,\u001b[39m79,\n",
      "  \u001b[39m80,\u001b[39m81,\u001b[39m82,\u001b[39m83,\u001b[39m84,\u001b[39m85,\u001b[39m86,\u001b[39m87,\u001b[39m88,\u001b[39m89,\u001b[39m90,\u001b[39m91,\u001b[39m92,\u001b[39m93,\u001b[39m94,\u001b[39m95,\n",
      "  \u001b[39m96,\u001b[39m97,\u001b[33m\u001b[1m98\u001b[22m\u001b[39m,\u001b[39m99,\u001b[39m100,\u001b[39m101,\u001b[39m102,\u001b[39m103,\u001b[39m104,\u001b[39m105,\u001b[39m106,\u001b[39m107,\u001b[39m108,\u001b[39m109,\u001b[39m110,\u001b[39m111,\n",
      "  \u001b[39m112,\u001b[33m\u001b[1m113\u001b[22m\u001b[39m,\u001b[39m114,\u001b[39m115,\u001b[39m116,\u001b[39m117,\u001b[39m118,\u001b[39m119,\u001b[39m120,\u001b[33m\u001b[1m121\u001b[22m\u001b[39m,\u001b[39m122,\u001b[39m123,\u001b[39m124,\u001b[39m125,\u001b[39m126,\u001b[39m127,\n",
      "  \u001b[90m192\u001b[39m,\u001b[90m193\u001b[39m,\u001b[90m194\u001b[39m,\u001b[90m195\u001b[39m,\u001b[90m196\u001b[39m,\u001b[90m197\u001b[39m,\u001b[90m198\u001b[39m,\u001b[90m199\u001b[39m,\u001b[90m200\u001b[39m,\u001b[90m201\u001b[39m,\u001b[90m202\u001b[39m,\u001b[90m203\u001b[39m,\u001b[90m204\u001b[39m,\u001b[90m205\u001b[39m,\u001b[90m206\u001b[39m,\u001b[90m207\u001b[39m,\n",
      "  \u001b[90m208\u001b[39m,\u001b[95m\u001b[1m209\u001b[22m\u001b[39m,\u001b[90m210\u001b[39m,\u001b[90m211\u001b[39m,\u001b[90m212\u001b[39m,\u001b[90m213\u001b[39m,\u001b[90m214\u001b[39m,\u001b[90m215\u001b[39m,\u001b[90m216\u001b[39m,\u001b[90m217\u001b[39m,\u001b[90m218\u001b[39m,\u001b[90m219\u001b[39m,\u001b[90m220\u001b[39m,\u001b[90m221\u001b[39m,\u001b[90m222\u001b[39m,\u001b[90m223\u001b[39m,\n",
      "  \u001b[90m224\u001b[39m,\u001b[90m225\u001b[39m,\u001b[90m226\u001b[39m,\u001b[90m227\u001b[39m,\u001b[90m228\u001b[39m,\u001b[90m229\u001b[39m,\u001b[90m230\u001b[39m,\u001b[90m231\u001b[39m,\u001b[90m232\u001b[39m,\u001b[90m233\u001b[39m,\u001b[90m234\u001b[39m,\u001b[90m235\u001b[39m,\u001b[90m236\u001b[39m,\u001b[90m237\u001b[39m,\u001b[90m238\u001b[39m,\u001b[90m239\u001b[39m,\n",
      "  \u001b[90m240\u001b[39m,\u001b[90m241\u001b[39m,\u001b[90m242\u001b[39m,\u001b[90m243\u001b[39m,\u001b[90m244\u001b[39m,\u001b[90m245\u001b[39m,\u001b[90m246\u001b[39m,\u001b[90m247\u001b[39m,\u001b[90m248\u001b[39m,\u001b[90m249\u001b[39m,\u001b[90m250\u001b[39m,\u001b[90m251\u001b[39m,\u001b[90m252\u001b[39m,\u001b[90m253\u001b[39m,\u001b[90m254\u001b[39m,\u001b[90m255\u001b[39m\u001b[0m\u001b[1m |\u001b[22m\n",
      "\n",
      "\u001b[33m\u001b[1m#\u001b[22m\u001b[39m = Julia thread, \u001b[90m#\u001b[39m = HT, \u001b[95m\u001b[1m#\u001b[22m\u001b[39m = Julia thread on HT, \u001b[0m\u001b[1m|\u001b[22m = Socket seperator\n",
      "\n",
      "Julia threads: \u001b[32m8\u001b[39m\n",
      "├ Occupied CPU-threads: \u001b[32m8\u001b[39m\n",
      "└ Mapping (Thread => CPUID): 1 => 98, 2 => 168, 3 => 54, 4 => 39, 5 => 28, ...\n"
     ]
    }
   ],
   "source": [
    "using ThreadPinning\n",
    "\n",
    "threadinfo()"
   ]
  },
  {
   "cell_type": "markdown",
   "metadata": {},
   "source": [
    "### Pinning threads (i.e. controling where they are running)"
   ]
  },
  {
   "cell_type": "markdown",
   "metadata": {},
   "source": [
    "#### Why?\n",
    "\n",
    "* To avoid double occupancy of CPU cores.\n",
    "\n",
    "* To reduce noise in benchmarks.\n",
    "\n",
    "* To address the complexity of the system topology, e.g. to use specific/all memory domains (NUMA).\n",
    "\n",
    "* ..."
   ]
  },
  {
   "cell_type": "markdown",
   "metadata": {},
   "source": [
    "#### How?\n",
    "\n",
    "`pinthreads(strategy)`\n",
    "* `:cputhreads` pin to CPU threads (incl. \"hypterthreads\") one after another\n",
    "* `:cores:` pin to CPU cores one after another\n",
    "* `:numa:` alternate between NUMA domains (round-robin)\n",
    "* `:sockets:` alternate between sockets (round-robin)\n",
    "* `:affinitymask`: pin according to an external affinity mask (e.g. set by SLURM)\n",
    "\n",
    "(More? See my talk at JuliaCon2023 @ MIT: https://youtu.be/6Whc9XtlCC0)"
   ]
  },
  {
   "cell_type": "code",
   "execution_count": 13,
   "metadata": {},
   "outputs": [
    {
     "name": "stdout",
     "output_type": "stream",
     "text": [
      "\n",
      "System: 128 cores (2-way SMT), 2 sockets, 8 NUMA domains\n",
      "\n",
      "\u001b[0m\u001b[1m| \u001b[22m\u001b[33m\u001b[1m0\u001b[22m\u001b[39m,\u001b[33m\u001b[1m1\u001b[22m\u001b[39m,\u001b[33m\u001b[1m2\u001b[22m\u001b[39m,\u001b[33m\u001b[1m3\u001b[22m\u001b[39m,\u001b[33m\u001b[1m4\u001b[22m\u001b[39m,\u001b[33m\u001b[1m5\u001b[22m\u001b[39m,\u001b[33m\u001b[1m6\u001b[22m\u001b[39m,\u001b[33m\u001b[1m7\u001b[22m\u001b[39m,\u001b[39m8,\u001b[39m9,\u001b[39m10,\u001b[39m11,\u001b[39m12,\u001b[39m13,\u001b[39m14,\u001b[39m15,\n",
      "  \u001b[39m16,\u001b[39m17,\u001b[39m18,\u001b[39m19,\u001b[39m20,\u001b[39m21,\u001b[39m22,\u001b[39m23,\u001b[39m24,\u001b[39m25,\u001b[39m26,\u001b[39m27,\u001b[39m28,\u001b[39m29,\u001b[39m30,\u001b[39m31,\n",
      "  \u001b[39m32,\u001b[39m33,\u001b[39m34,\u001b[39m35,\u001b[39m36,\u001b[39m37,\u001b[39m38,\u001b[39m39,\u001b[39m40,\u001b[39m41,\u001b[39m42,\u001b[39m43,\u001b[39m44,\u001b[39m45,\u001b[39m46,\u001b[39m47,\n",
      "  \u001b[39m48,\u001b[39m49,\u001b[39m50,\u001b[39m51,\u001b[39m52,\u001b[39m53,\u001b[39m54,\u001b[39m55,\u001b[39m56,\u001b[39m57,\u001b[39m58,\u001b[39m59,\u001b[39m60,\u001b[39m61,\u001b[39m62,\u001b[39m63,\n",
      "  \u001b[90m128\u001b[39m,\u001b[90m129\u001b[39m,\u001b[90m130\u001b[39m,\u001b[90m131\u001b[39m,\u001b[90m132\u001b[39m,\u001b[90m133\u001b[39m,\u001b[90m134\u001b[39m,\u001b[90m135\u001b[39m,\u001b[90m136\u001b[39m,\u001b[90m137\u001b[39m,\u001b[90m138\u001b[39m,\u001b[90m139\u001b[39m,\u001b[90m140\u001b[39m,\u001b[90m141\u001b[39m,\u001b[90m142\u001b[39m,\u001b[90m143\u001b[39m,\n",
      "  \u001b[90m144\u001b[39m,\u001b[90m145\u001b[39m,\u001b[90m146\u001b[39m,\u001b[90m147\u001b[39m,\u001b[90m148\u001b[39m,\u001b[90m149\u001b[39m,\u001b[90m150\u001b[39m,\u001b[90m151\u001b[39m,\u001b[90m152\u001b[39m,\u001b[90m153\u001b[39m,\u001b[90m154\u001b[39m,\u001b[90m155\u001b[39m,\u001b[90m156\u001b[39m,\u001b[90m157\u001b[39m,\u001b[90m158\u001b[39m,\u001b[90m159\u001b[39m,\n",
      "  \u001b[90m160\u001b[39m,\u001b[90m161\u001b[39m,\u001b[90m162\u001b[39m,\u001b[90m163\u001b[39m,\u001b[90m164\u001b[39m,\u001b[90m165\u001b[39m,\u001b[90m166\u001b[39m,\u001b[90m167\u001b[39m,\u001b[90m168\u001b[39m,\u001b[90m169\u001b[39m,\u001b[90m170\u001b[39m,\u001b[90m171\u001b[39m,\u001b[90m172\u001b[39m,\u001b[90m173\u001b[39m,\u001b[90m174\u001b[39m,\u001b[90m175\u001b[39m,\n",
      "  \u001b[90m176\u001b[39m,\u001b[90m177\u001b[39m,\u001b[90m178\u001b[39m,\u001b[90m179\u001b[39m,\u001b[90m180\u001b[39m,\u001b[90m181\u001b[39m,\u001b[90m182\u001b[39m,\u001b[90m183\u001b[39m,\u001b[90m184\u001b[39m,\u001b[90m185\u001b[39m,\u001b[90m186\u001b[39m,\u001b[90m187\u001b[39m,\u001b[90m188\u001b[39m,\u001b[90m189\u001b[39m,\u001b[90m190\u001b[39m,\u001b[90m191\u001b[39m\u001b[0m\u001b[1m |\u001b[22m\n",
      "\u001b[0m\u001b[1m| \u001b[22m\u001b[39m64,\u001b[39m65,\u001b[39m66,\u001b[39m67,\u001b[39m68,\u001b[39m69,\u001b[39m70,\u001b[39m71,\u001b[39m72,\u001b[39m73,\u001b[39m74,\u001b[39m75,\u001b[39m76,\u001b[39m77,\u001b[39m78,\u001b[39m79,\n",
      "  \u001b[39m80,\u001b[39m81,\u001b[39m82,\u001b[39m83,\u001b[39m84,\u001b[39m85,\u001b[39m86,\u001b[39m87,\u001b[39m88,\u001b[39m89,\u001b[39m90,\u001b[39m91,\u001b[39m92,\u001b[39m93,\u001b[39m94,\u001b[39m95,\n",
      "  \u001b[39m96,\u001b[39m97,\u001b[39m98,\u001b[39m99,\u001b[39m100,\u001b[39m101,\u001b[39m102,\u001b[39m103,\u001b[39m104,\u001b[39m105,\u001b[39m106,\u001b[39m107,\u001b[39m108,\u001b[39m109,\u001b[39m110,\u001b[39m111,\n",
      "  \u001b[39m112,\u001b[39m113,\u001b[39m114,\u001b[39m115,\u001b[39m116,\u001b[39m117,\u001b[39m118,\u001b[39m119,\u001b[39m120,\u001b[39m121,\u001b[39m122,\u001b[39m123,\u001b[39m124,\u001b[39m125,\u001b[39m126,\u001b[39m127,\n",
      "  \u001b[90m192\u001b[39m,\u001b[90m193\u001b[39m,\u001b[90m194\u001b[39m,\u001b[90m195\u001b[39m,\u001b[90m196\u001b[39m,\u001b[90m197\u001b[39m,\u001b[90m198\u001b[39m,\u001b[90m199\u001b[39m,\u001b[90m200\u001b[39m,\u001b[90m201\u001b[39m,\u001b[90m202\u001b[39m,\u001b[90m203\u001b[39m,\u001b[90m204\u001b[39m,\u001b[90m205\u001b[39m,\u001b[90m206\u001b[39m,\u001b[90m207\u001b[39m,\n",
      "  \u001b[90m208\u001b[39m,\u001b[90m209\u001b[39m,\u001b[90m210\u001b[39m,\u001b[90m211\u001b[39m,\u001b[90m212\u001b[39m,\u001b[90m213\u001b[39m,\u001b[90m214\u001b[39m,\u001b[90m215\u001b[39m,\u001b[90m216\u001b[39m,\u001b[90m217\u001b[39m,\u001b[90m218\u001b[39m,\u001b[90m219\u001b[39m,\u001b[90m220\u001b[39m,\u001b[90m221\u001b[39m,\u001b[90m222\u001b[39m,\u001b[90m223\u001b[39m,\n",
      "  \u001b[90m224\u001b[39m,\u001b[90m225\u001b[39m,\u001b[90m226\u001b[39m,\u001b[90m227\u001b[39m,\u001b[90m228\u001b[39m,\u001b[90m229\u001b[39m,\u001b[90m230\u001b[39m,\u001b[90m231\u001b[39m,\u001b[90m232\u001b[39m,\u001b[90m233\u001b[39m,\u001b[90m234\u001b[39m,\u001b[90m235\u001b[39m,\u001b[90m236\u001b[39m,\u001b[90m237\u001b[39m,\u001b[90m238\u001b[39m,\u001b[90m239\u001b[39m,\n",
      "  \u001b[90m240\u001b[39m,\u001b[90m241\u001b[39m,\u001b[90m242\u001b[39m,\u001b[90m243\u001b[39m,\u001b[90m244\u001b[39m,\u001b[90m245\u001b[39m,\u001b[90m246\u001b[39m,\u001b[90m247\u001b[39m,\u001b[90m248\u001b[39m,\u001b[90m249\u001b[39m,\u001b[90m250\u001b[39m,\u001b[90m251\u001b[39m,\u001b[90m252\u001b[39m,\u001b[90m253\u001b[39m,\u001b[90m254\u001b[39m,\u001b[90m255\u001b[39m\u001b[0m\u001b[1m |\u001b[22m\n",
      "\n",
      "\u001b[33m\u001b[1m#\u001b[22m\u001b[39m = Julia thread, \u001b[90m#\u001b[39m = HT, \u001b[95m\u001b[1m#\u001b[22m\u001b[39m = Julia thread on HT, \u001b[0m\u001b[1m|\u001b[22m = Socket seperator\n",
      "\n",
      "Julia threads: \u001b[32m8\u001b[39m\n",
      "├ Occupied CPU-threads: \u001b[32m8\u001b[39m\n",
      "└ Mapping (Thread => CPUID): 1 => 0, 2 => 1, 3 => 2, 4 => 3, 5 => 4, ...\n"
     ]
    }
   ],
   "source": [
    "pinthreads(:cores) # try :cores or :sockets or :random\n",
    "threadinfo()"
   ]
  },
  {
   "cell_type": "code",
   "execution_count": 14,
   "metadata": {},
   "outputs": [
    {
     "name": "stdout",
     "output_type": "stream",
     "text": [
      "\n",
      "System: 128 cores (2-way SMT), 2 sockets, 8 NUMA domains\n",
      "\n",
      "\u001b[0m\u001b[1m| \u001b[22m\u001b[33m\u001b[1m0\u001b[22m\u001b[39m,\u001b[39m1,\u001b[39m2,\u001b[39m3,\u001b[39m4,\u001b[39m5,\u001b[39m6,\u001b[39m7,\u001b[39m8,\u001b[39m9,\u001b[39m10,\u001b[39m11,\u001b[39m12,\u001b[39m13,\u001b[39m14,\u001b[39m15,\n",
      "  \u001b[90m128\u001b[39m,\u001b[90m129\u001b[39m,\u001b[90m130\u001b[39m,\u001b[90m131\u001b[39m,\u001b[90m132\u001b[39m,\u001b[90m133\u001b[39m,\u001b[90m134\u001b[39m,\u001b[90m135\u001b[39m,\u001b[90m136\u001b[39m,\u001b[90m137\u001b[39m,\u001b[90m138\u001b[39m,\u001b[90m139\u001b[39m,\u001b[90m140\u001b[39m,\u001b[90m141\u001b[39m,\u001b[90m142\u001b[39m,\u001b[90m143\u001b[39m\u001b[0m\u001b[1m |\u001b[22m\n",
      "\u001b[0m\u001b[1m| \u001b[22m\u001b[33m\u001b[1m16\u001b[22m\u001b[39m,\u001b[39m17,\u001b[39m18,\u001b[39m19,\u001b[39m20,\u001b[39m21,\u001b[39m22,\u001b[39m23,\u001b[39m24,\u001b[39m25,\u001b[39m26,\u001b[39m27,\u001b[39m28,\u001b[39m29,\u001b[39m30,\u001b[39m31,\n",
      "  \u001b[90m144\u001b[39m,\u001b[90m145\u001b[39m,\u001b[90m146\u001b[39m,\u001b[90m147\u001b[39m,\u001b[90m148\u001b[39m,\u001b[90m149\u001b[39m,\u001b[90m150\u001b[39m,\u001b[90m151\u001b[39m,\u001b[90m152\u001b[39m,\u001b[90m153\u001b[39m,\u001b[90m154\u001b[39m,\u001b[90m155\u001b[39m,\u001b[90m156\u001b[39m,\u001b[90m157\u001b[39m,\u001b[90m158\u001b[39m,\u001b[90m159\u001b[39m\u001b[0m\u001b[1m |\u001b[22m\n",
      "\u001b[0m\u001b[1m| \u001b[22m\u001b[33m\u001b[1m32\u001b[22m\u001b[39m,\u001b[39m33,\u001b[39m34,\u001b[39m35,\u001b[39m36,\u001b[39m37,\u001b[39m38,\u001b[39m39,\u001b[39m40,\u001b[39m41,\u001b[39m42,\u001b[39m43,\u001b[39m44,\u001b[39m45,\u001b[39m46,\u001b[39m47,\n",
      "  \u001b[90m160\u001b[39m,\u001b[90m161\u001b[39m,\u001b[90m162\u001b[39m,\u001b[90m163\u001b[39m,\u001b[90m164\u001b[39m,\u001b[90m165\u001b[39m,\u001b[90m166\u001b[39m,\u001b[90m167\u001b[39m,\u001b[90m168\u001b[39m,\u001b[90m169\u001b[39m,\u001b[90m170\u001b[39m,\u001b[90m171\u001b[39m,\u001b[90m172\u001b[39m,\u001b[90m173\u001b[39m,\u001b[90m174\u001b[39m,\u001b[90m175\u001b[39m\u001b[0m\u001b[1m |\u001b[22m\n",
      "\u001b[0m\u001b[1m| \u001b[22m\u001b[33m\u001b[1m48\u001b[22m\u001b[39m,\u001b[39m49,\u001b[39m50,\u001b[39m51,\u001b[39m52,\u001b[39m53,\u001b[39m54,\u001b[39m55,\u001b[39m56,\u001b[39m57,\u001b[39m58,\u001b[39m59,\u001b[39m60,\u001b[39m61,\u001b[39m62,\u001b[39m63,\n",
      "  \u001b[90m176\u001b[39m,\u001b[90m177\u001b[39m,\u001b[90m178\u001b[39m,\u001b[90m179\u001b[39m,\u001b[90m180\u001b[39m,\u001b[90m181\u001b[39m,\u001b[90m182\u001b[39m,\u001b[90m183\u001b[39m,\u001b[90m184\u001b[39m,\u001b[90m185\u001b[39m,\u001b[90m186\u001b[39m,\u001b[90m187\u001b[39m,\u001b[90m188\u001b[39m,\u001b[90m189\u001b[39m,\u001b[90m190\u001b[39m,\u001b[90m191\u001b[39m\u001b[0m\u001b[1m |\u001b[22m\n",
      "\u001b[0m\u001b[1m| \u001b[22m\u001b[33m\u001b[1m64\u001b[22m\u001b[39m,\u001b[39m65,\u001b[39m66,\u001b[39m67,\u001b[39m68,\u001b[39m69,\u001b[39m70,\u001b[39m71,\u001b[39m72,\u001b[39m73,\u001b[39m74,\u001b[39m75,\u001b[39m76,\u001b[39m77,\u001b[39m78,\u001b[39m79,\n",
      "  \u001b[90m192\u001b[39m,\u001b[90m193\u001b[39m,\u001b[90m194\u001b[39m,\u001b[90m195\u001b[39m,\u001b[90m196\u001b[39m,\u001b[90m197\u001b[39m,\u001b[90m198\u001b[39m,\u001b[90m199\u001b[39m,\u001b[90m200\u001b[39m,\u001b[90m201\u001b[39m,\u001b[90m202\u001b[39m,\u001b[90m203\u001b[39m,\u001b[90m204\u001b[39m,\u001b[90m205\u001b[39m,\u001b[90m206\u001b[39m,\u001b[90m207\u001b[39m\u001b[0m\u001b[1m |\u001b[22m\n",
      "\u001b[0m\u001b[1m| \u001b[22m\u001b[33m\u001b[1m80\u001b[22m\u001b[39m,\u001b[39m81,\u001b[39m82,\u001b[39m83,\u001b[39m84,\u001b[39m85,\u001b[39m86,\u001b[39m87,\u001b[39m88,\u001b[39m89,\u001b[39m90,\u001b[39m91,\u001b[39m92,\u001b[39m93,\u001b[39m94,\u001b[39m95,\n",
      "  \u001b[90m208\u001b[39m,\u001b[90m209\u001b[39m,\u001b[90m210\u001b[39m,\u001b[90m211\u001b[39m,\u001b[90m212\u001b[39m,\u001b[90m213\u001b[39m,\u001b[90m214\u001b[39m,\u001b[90m215\u001b[39m,\u001b[90m216\u001b[39m,\u001b[90m217\u001b[39m,\u001b[90m218\u001b[39m,\u001b[90m219\u001b[39m,\u001b[90m220\u001b[39m,\u001b[90m221\u001b[39m,\u001b[90m222\u001b[39m,\u001b[90m223\u001b[39m\u001b[0m\u001b[1m |\u001b[22m\n",
      "\u001b[0m\u001b[1m| \u001b[22m\u001b[33m\u001b[1m96\u001b[22m\u001b[39m,\u001b[39m97,\u001b[39m98,\u001b[39m99,\u001b[39m100,\u001b[39m101,\u001b[39m102,\u001b[39m103,\u001b[39m104,\u001b[39m105,\u001b[39m106,\u001b[39m107,\u001b[39m108,\u001b[39m109,\u001b[39m110,\u001b[39m111,\n",
      "  \u001b[90m224\u001b[39m,\u001b[90m225\u001b[39m,\u001b[90m226\u001b[39m,\u001b[90m227\u001b[39m,\u001b[90m228\u001b[39m,\u001b[90m229\u001b[39m,\u001b[90m230\u001b[39m,\u001b[90m231\u001b[39m,\u001b[90m232\u001b[39m,\u001b[90m233\u001b[39m,\u001b[90m234\u001b[39m,\u001b[90m235\u001b[39m,\u001b[90m236\u001b[39m,\u001b[90m237\u001b[39m,\u001b[90m238\u001b[39m,\u001b[90m239\u001b[39m\u001b[0m\u001b[1m |\u001b[22m\n",
      "\u001b[0m\u001b[1m| \u001b[22m\u001b[33m\u001b[1m112\u001b[22m\u001b[39m,\u001b[39m113,\u001b[39m114,\u001b[39m115,\u001b[39m116,\u001b[39m117,\u001b[39m118,\u001b[39m119,\u001b[39m120,\u001b[39m121,\u001b[39m122,\u001b[39m123,\u001b[39m124,\u001b[39m125,\u001b[39m126,\u001b[39m127,\n",
      "  \u001b[90m240\u001b[39m,\u001b[90m241\u001b[39m,\u001b[90m242\u001b[39m,\u001b[90m243\u001b[39m,\u001b[90m244\u001b[39m,\u001b[90m245\u001b[39m,\u001b[90m246\u001b[39m,\u001b[90m247\u001b[39m,\u001b[90m248\u001b[39m,\u001b[90m249\u001b[39m,\u001b[90m250\u001b[39m,\u001b[90m251\u001b[39m,\u001b[90m252\u001b[39m,\u001b[90m253\u001b[39m,\u001b[90m254\u001b[39m,\u001b[90m255\u001b[39m\u001b[0m\u001b[1m |\u001b[22m\n",
      "\n",
      "\u001b[33m\u001b[1m#\u001b[22m\u001b[39m = Julia thread, \u001b[90m#\u001b[39m = HT, \u001b[95m\u001b[1m#\u001b[22m\u001b[39m = Julia thread on HT, \u001b[0m\u001b[1m|\u001b[22m = NUMA seperator\n",
      "\n",
      "Julia threads: \u001b[32m8\u001b[39m\n",
      "├ Occupied CPU-threads: \u001b[32m8\u001b[39m\n",
      "└ Mapping (Thread => CPUID): 1 => 0, 2 => 16, 3 => 32, 4 => 48, 5 => 64, ...\n"
     ]
    }
   ],
   "source": [
    "pinthreads(:numa)\n",
    "threadinfo(; groupby=:numa)"
   ]
  },
  {
   "cell_type": "markdown",
   "metadata": {},
   "source": [
    "#### Memory domains (NUMA)"
   ]
  },
  {
   "cell_type": "markdown",
   "metadata": {},
   "source": [
    "NUMA = **n**on-**u**niform **m**emory **a**ccess"
   ]
  },
  {
   "cell_type": "markdown",
   "metadata": {},
   "source": [
    "One (of two) AMD Milan CPUs in a Perlmutter node:\n",
    "\n",
    "<img src=\"imgs/amd_milan_cpu_die.svg\" width=800px>\n",
    "\n",
    "**Image source:** [AMD, High Performance Computing (HPC) Tuning Guide for AMD EPYCTM 7003 Series Processors](https://www.amd.com/system/files/documents/high-performance-computing-tuning-guide-amd-epyc7003-series-processors.pdf)"
   ]
  },
  {
   "cell_type": "code",
   "execution_count": null,
   "metadata": {},
   "outputs": [],
   "source": [
    "# Other useful options for querying system information\n",
    "\n",
    "# using CpuId\n",
    "# cpuinfo()\n",
    "\n",
    "# using Hwloc\n",
    "# topology_graphical()"
   ]
  },
  {
   "cell_type": "markdown",
   "metadata": {},
   "source": [
    "## How do I use the threads?"
   ]
  },
  {
   "cell_type": "markdown",
   "metadata": {},
   "source": [
    "### Task-based multithreading\n",
    "\n",
    "In traditional HPC, one typically tells each thread what to do. **(\"One thinks about threads\")**\n",
    "\n",
    "Julia implements **task-based multithreading**. In this paradigm, a task - e.g. a computational piece of a code - is marked for **parallel** execution on **any** of the available Julia threads. Julia's **dynamic scheduler** will automatically put the task on one of the threads and trigger the execution of the task on said thread.\n",
    "\n",
    "<br>\n",
    "<img src=\"./imgs/tasks_threads_cores.svg\" width=750px>\n",
    "</br>\n",
    "\n",
    "Generally speaking, the user should **think about tasks and not threads**.\n",
    "* The scheduler is controlling on which thread a task will eventually run.\n",
    "* It might even dynamically [migrate tasks](https://docs.julialang.org/en/v1/manual/multi-threading/#man-task-migration) between threads.\n",
    "\n",
    "**Advantages:**\n",
    "* high-level abstraction\n",
    "* nestability / composability (especially important for libraries)\n",
    "\n",
    "**Disadvantages:**\n",
    "* scheduling overhead\n",
    "* uncertain and potentially suboptimal task → thread assignment\n",
    "  * **can get in the way when performance engineering** because\n",
    "    * scheduler has limited information (e.g. about the system topology)\n",
    "    * profiling tools often don't know anything about tasks but monitor threads (or even CPU-cores) instead (e.g. LIKWID)."
   ]
  },
  {
   "cell_type": "markdown",
   "metadata": {},
   "source": [
    "### `@threads for ... in ...`"
   ]
  },
  {
   "cell_type": "markdown",
   "metadata": {},
   "source": [
    "* **Splits up the iteration space into `nthreads()` contiguous chunks**\n",
    "\n",
    "* Creates a task for each of them and hands them off to the dynamic scheduler (essentially `@spawn`)."
   ]
  },
  {
   "cell_type": "code",
   "execution_count": 15,
   "metadata": {},
   "outputs": [],
   "source": [
    "using Base.Threads: @threads, threadid, nthreads\n",
    "using ThreadPinning: taskid # for pedagogical purposes only"
   ]
  },
  {
   "cell_type": "code",
   "execution_count": 16,
   "metadata": {},
   "outputs": [
    {
     "name": "stdout",
     "output_type": "stream",
     "text": [
      "Task 14861510704624281442 is running iteration 3 on thread 6\n",
      "Task 14175704995940435965 is running iteration 9 on thread 8\n",
      "Task 14861510704624281442 is running iteration 4 on thread 6\n",
      "Task 14175704995940435965 is running iteration 10 on thread 8\n",
      "Task 2638481533447028374 is running iteration 7 on thread 5\n",
      "Task 11763296367304083218 is running iteration 5 on thread 7\n",
      "Task 2638481533447028374 is running iteration 8 on thread 5\n",
      "Task 11910625230368068474 is running iteration 1 on thread 1\n",
      "Task 11910625230368068474 is running iteration 2 on thread 8\n",
      "Task 1984371753562007792 is running iteration 11 on thread 4\n",
      "Task 15990662284487850768 is running iteration 13 on thread 2\n",
      "Task 15990662284487850768 is running iteration 14 on thread 2\n",
      "Task 1984371753562007792 is running iteration 12 on thread 4\n",
      "Task 11763296367304083218 is running iteration 6 on thread 7\n",
      "Task 17984801083959781576 is running iteration 15 on thread 3\n",
      "Task 17984801083959781576 is running iteration 16 on thread 3\n"
     ]
    }
   ],
   "source": [
    "# creates nthreads() many tasks\n",
    "\n",
    "@threads for i in 1:2*nthreads()\n",
    "    println(\"Task \", ThreadPinning.taskid(), \" is running iteration \", i, \" on thread \", threadid())\n",
    "end"
   ]
  },
  {
   "cell_type": "markdown",
   "metadata": {},
   "source": [
    "#### Static scheduling: `@threads :static for ... in ...`"
   ]
  },
  {
   "cell_type": "markdown",
   "metadata": {},
   "source": [
    "* `:static` scheduling option to opt-out of Julia's dynamic scheduling\n",
    "\n",
    "* Statically **\"pins\" tasks to threads**\n",
    "  * task 1 → thread 1, task 2 → thread 2, and so on.\n",
    "\n",
    "Pro\n",
    "   * no task migration, i.e. **fixed task-thread mapping** 👍\n",
    "   \n",
    "Con\n",
    "   * only little overhead 👍\n",
    "   * not composable / nestable 👎"
   ]
  },
  {
   "cell_type": "code",
   "execution_count": 17,
   "metadata": {},
   "outputs": [
    {
     "name": "stdout",
     "output_type": "stream",
     "text": [
      "Task 1944217483586526427 is running iteration 3 on thread 2\n",
      "Task 17213828643279112869 is running iteration 7 on thread 4\n",
      "Task 13740810260962294991 is running iteration 11 on thread 6\n",
      "Task 17565571350995400555 is running iteration 15 on thread 8\n",
      "Task 13740810260962294991 is running iteration 12 on thread 6\n",
      "Task 16256560978224147096 is running iteration 5 on thread 3\n",
      "Task 3712476857570664011 is running iteration 9 on thread 5\n",
      "Task 17565571350995400555 is running iteration 16 on thread 8\n",
      "Task 4303338266125538787 is running iteration 13 on thread 7\n",
      "Task 16320237495516898705 is running iteration 1 on thread 1\n",
      "Task 1944217483586526427 is running iteration 4 on thread 2\n",
      "Task 16320237495516898705 is running iteration 2 on thread 1\n",
      "Task 17213828643279112869 is running iteration 8 on thread 4\n",
      "Task 16256560978224147096 is running iteration 6 on thread 3\n",
      "Task 3712476857570664011 is running iteration 10 on thread 5\n",
      "Task 4303338266125538787 is running iteration 14 on thread 7\n"
     ]
    }
   ],
   "source": [
    "@threads :static for i in 1:2*nthreads()\n",
    "    println(\"Task \", taskid(), \" is running iteration \", i, \" on thread \", threadid());\n",
    "end"
   ]
  },
  {
   "cell_type": "markdown",
   "metadata": {},
   "source": [
    "For `@threads :static`, every thread handles precisely two iterations!"
   ]
  },
  {
   "cell_type": "markdown",
   "metadata": {},
   "source": [
    "## \"Data pinning\" (NUMA revisited)"
   ]
  },
  {
   "cell_type": "markdown",
   "metadata": {},
   "source": [
    "Implicitly → **NUMA \"first-touch\" policy**\n",
    "\n",
    "Explicitly → [NUMA.jl](https://github.com/JuliaPerf/NUMA.jl)"
   ]
  },
  {
   "cell_type": "markdown",
   "metadata": {},
   "source": [
    "### NUMA \"first-touch\" policy\n",
    "\n",
    "Data is (typically) placed in the **NUMA domain that is closest to the thread/CPU core** that is \"touching\" the data.\n",
    "\n",
    "```julia\n",
    "x = Vector{Float64}(undef, 10)   # allocation, no \"touch\" yet\n",
    "rand!(x)                         # first touch == first write\n",
    "```"
   ]
  },
  {
   "cell_type": "code",
   "execution_count": 18,
   "metadata": {},
   "outputs": [
    {
     "name": "stdout",
     "output_type": "stream",
     "text": [
      "\n",
      "System: 128 cores (2-way SMT), 2 sockets, 8 NUMA domains\n",
      "\n",
      "\u001b[0m\u001b[1m| \u001b[22m\u001b[33m\u001b[1m0\u001b[22m\u001b[39m,\u001b[39m1,\u001b[39m2,\u001b[39m3,\u001b[39m4,\u001b[39m5,\u001b[39m6,\u001b[39m7,\u001b[39m8,\u001b[39m9,\u001b[39m10,\u001b[39m11,\u001b[39m12,\u001b[39m13,\u001b[39m14,\u001b[39m15,\n",
      "  \u001b[90m128\u001b[39m,\u001b[90m129\u001b[39m,\u001b[90m130\u001b[39m,\u001b[90m131\u001b[39m,\u001b[90m132\u001b[39m,\u001b[90m133\u001b[39m,\u001b[90m134\u001b[39m,\u001b[90m135\u001b[39m,\u001b[90m136\u001b[39m,\u001b[90m137\u001b[39m,\u001b[90m138\u001b[39m,\u001b[90m139\u001b[39m,\u001b[90m140\u001b[39m,\u001b[90m141\u001b[39m,\u001b[90m142\u001b[39m,\u001b[90m143\u001b[39m\u001b[0m\u001b[1m |\u001b[22m\n",
      "\u001b[0m\u001b[1m| \u001b[22m\u001b[33m\u001b[1m16\u001b[22m\u001b[39m,\u001b[39m17,\u001b[39m18,\u001b[39m19,\u001b[39m20,\u001b[39m21,\u001b[39m22,\u001b[39m23,\u001b[39m24,\u001b[39m25,\u001b[39m26,\u001b[39m27,\u001b[39m28,\u001b[39m29,\u001b[39m30,\u001b[39m31,\n",
      "  \u001b[90m144\u001b[39m,\u001b[90m145\u001b[39m,\u001b[90m146\u001b[39m,\u001b[90m147\u001b[39m,\u001b[90m148\u001b[39m,\u001b[90m149\u001b[39m,\u001b[90m150\u001b[39m,\u001b[90m151\u001b[39m,\u001b[90m152\u001b[39m,\u001b[90m153\u001b[39m,\u001b[90m154\u001b[39m,\u001b[90m155\u001b[39m,\u001b[90m156\u001b[39m,\u001b[90m157\u001b[39m,\u001b[90m158\u001b[39m,\u001b[90m159\u001b[39m\u001b[0m\u001b[1m |\u001b[22m\n",
      "\u001b[0m\u001b[1m| \u001b[22m\u001b[33m\u001b[1m32\u001b[22m\u001b[39m,\u001b[39m33,\u001b[39m34,\u001b[39m35,\u001b[39m36,\u001b[39m37,\u001b[39m38,\u001b[39m39,\u001b[39m40,\u001b[39m41,\u001b[39m42,\u001b[39m43,\u001b[39m44,\u001b[39m45,\u001b[39m46,\u001b[39m47,\n",
      "  \u001b[90m160\u001b[39m,\u001b[90m161\u001b[39m,\u001b[90m162\u001b[39m,\u001b[90m163\u001b[39m,\u001b[90m164\u001b[39m,\u001b[90m165\u001b[39m,\u001b[90m166\u001b[39m,\u001b[90m167\u001b[39m,\u001b[90m168\u001b[39m,\u001b[90m169\u001b[39m,\u001b[90m170\u001b[39m,\u001b[90m171\u001b[39m,\u001b[90m172\u001b[39m,\u001b[90m173\u001b[39m,\u001b[90m174\u001b[39m,\u001b[90m175\u001b[39m\u001b[0m\u001b[1m |\u001b[22m\n",
      "\u001b[0m\u001b[1m| \u001b[22m\u001b[33m\u001b[1m48\u001b[22m\u001b[39m,\u001b[39m49,\u001b[39m50,\u001b[39m51,\u001b[39m52,\u001b[39m53,\u001b[39m54,\u001b[39m55,\u001b[39m56,\u001b[39m57,\u001b[39m58,\u001b[39m59,\u001b[39m60,\u001b[39m61,\u001b[39m62,\u001b[39m63,\n",
      "  \u001b[90m176\u001b[39m,\u001b[90m177\u001b[39m,\u001b[90m178\u001b[39m,\u001b[90m179\u001b[39m,\u001b[90m180\u001b[39m,\u001b[90m181\u001b[39m,\u001b[90m182\u001b[39m,\u001b[90m183\u001b[39m,\u001b[90m184\u001b[39m,\u001b[90m185\u001b[39m,\u001b[90m186\u001b[39m,\u001b[90m187\u001b[39m,\u001b[90m188\u001b[39m,\u001b[90m189\u001b[39m,\u001b[90m190\u001b[39m,\u001b[90m191\u001b[39m\u001b[0m\u001b[1m |\u001b[22m\n",
      "\u001b[0m\u001b[1m| \u001b[22m\u001b[33m\u001b[1m64\u001b[22m\u001b[39m,\u001b[39m65,\u001b[39m66,\u001b[39m67,\u001b[39m68,\u001b[39m69,\u001b[39m70,\u001b[39m71,\u001b[39m72,\u001b[39m73,\u001b[39m74,\u001b[39m75,\u001b[39m76,\u001b[39m77,\u001b[39m78,\u001b[39m79,\n",
      "  \u001b[90m192\u001b[39m,\u001b[90m193\u001b[39m,\u001b[90m194\u001b[39m,\u001b[90m195\u001b[39m,\u001b[90m196\u001b[39m,\u001b[90m197\u001b[39m,\u001b[90m198\u001b[39m,\u001b[90m199\u001b[39m,\u001b[90m200\u001b[39m,\u001b[90m201\u001b[39m,\u001b[90m202\u001b[39m,\u001b[90m203\u001b[39m,\u001b[90m204\u001b[39m,\u001b[90m205\u001b[39m,\u001b[90m206\u001b[39m,\u001b[90m207\u001b[39m\u001b[0m\u001b[1m |\u001b[22m\n",
      "\u001b[0m\u001b[1m| \u001b[22m\u001b[33m\u001b[1m80\u001b[22m\u001b[39m,\u001b[39m81,\u001b[39m82,\u001b[39m83,\u001b[39m84,\u001b[39m85,\u001b[39m86,\u001b[39m87,\u001b[39m88,\u001b[39m89,\u001b[39m90,\u001b[39m91,\u001b[39m92,\u001b[39m93,\u001b[39m94,\u001b[39m95,\n",
      "  \u001b[90m208\u001b[39m,\u001b[90m209\u001b[39m,\u001b[90m210\u001b[39m,\u001b[90m211\u001b[39m,\u001b[90m212\u001b[39m,\u001b[90m213\u001b[39m,\u001b[90m214\u001b[39m,\u001b[90m215\u001b[39m,\u001b[90m216\u001b[39m,\u001b[90m217\u001b[39m,\u001b[90m218\u001b[39m,\u001b[90m219\u001b[39m,\u001b[90m220\u001b[39m,\u001b[90m221\u001b[39m,\u001b[90m222\u001b[39m,\u001b[90m223\u001b[39m\u001b[0m\u001b[1m |\u001b[22m\n",
      "\u001b[0m\u001b[1m| \u001b[22m\u001b[33m\u001b[1m96\u001b[22m\u001b[39m,\u001b[39m97,\u001b[39m98,\u001b[39m99,\u001b[39m100,\u001b[39m101,\u001b[39m102,\u001b[39m103,\u001b[39m104,\u001b[39m105,\u001b[39m106,\u001b[39m107,\u001b[39m108,\u001b[39m109,\u001b[39m110,\u001b[39m111,\n",
      "  \u001b[90m224\u001b[39m,\u001b[90m225\u001b[39m,\u001b[90m226\u001b[39m,\u001b[90m227\u001b[39m,\u001b[90m228\u001b[39m,\u001b[90m229\u001b[39m,\u001b[90m230\u001b[39m,\u001b[90m231\u001b[39m,\u001b[90m232\u001b[39m,\u001b[90m233\u001b[39m,\u001b[90m234\u001b[39m,\u001b[90m235\u001b[39m,\u001b[90m236\u001b[39m,\u001b[90m237\u001b[39m,\u001b[90m238\u001b[39m,\u001b[90m239\u001b[39m\u001b[0m\u001b[1m |\u001b[22m\n",
      "\u001b[0m\u001b[1m| \u001b[22m\u001b[33m\u001b[1m112\u001b[22m\u001b[39m,\u001b[39m113,\u001b[39m114,\u001b[39m115,\u001b[39m116,\u001b[39m117,\u001b[39m118,\u001b[39m119,\u001b[39m120,\u001b[39m121,\u001b[39m122,\u001b[39m123,\u001b[39m124,\u001b[39m125,\u001b[39m126,\u001b[39m127,\n",
      "  \u001b[90m240\u001b[39m,\u001b[90m241\u001b[39m,\u001b[90m242\u001b[39m,\u001b[90m243\u001b[39m,\u001b[90m244\u001b[39m,\u001b[90m245\u001b[39m,\u001b[90m246\u001b[39m,\u001b[90m247\u001b[39m,\u001b[90m248\u001b[39m,\u001b[90m249\u001b[39m,\u001b[90m250\u001b[39m,\u001b[90m251\u001b[39m,\u001b[90m252\u001b[39m,\u001b[90m253\u001b[39m,\u001b[90m254\u001b[39m,\u001b[90m255\u001b[39m\u001b[0m\u001b[1m |\u001b[22m\n",
      "\n",
      "\u001b[33m\u001b[1m#\u001b[22m\u001b[39m = Julia thread, \u001b[90m#\u001b[39m = HT, \u001b[95m\u001b[1m#\u001b[22m\u001b[39m = Julia thread on HT, \u001b[0m\u001b[1m|\u001b[22m = NUMA seperator\n",
      "\n",
      "Julia threads: \u001b[32m8\u001b[39m\n",
      "├ Occupied CPU-threads: \u001b[32m8\u001b[39m\n",
      "└ Mapping (Thread => CPUID): 1 => 0, 2 => 16, 3 => 32, 4 => 48, 5 => 64, ...\n"
     ]
    }
   ],
   "source": [
    "pinthreads(:numa)\n",
    "threadinfo(; groupby=:numa)"
   ]
  },
  {
   "cell_type": "markdown",
   "metadata": {},
   "source": [
    "### Array initialization: serial vs parallel"
   ]
  },
  {
   "cell_type": "markdown",
   "metadata": {},
   "source": [
    "**Different parts of an array can be placed in different NUMA domains!**\n",
    "\n",
    "(Data is managed in terms of smaller units, namley memory pages.)"
   ]
  },
  {
   "cell_type": "markdown",
   "metadata": {},
   "source": [
    "#### Serial\n",
    "\n",
    "```julia\n",
    "x = Vector{Float64}(undef, 100)   # allocation, no \"touch\" yet\n",
    "rand!(x)                          # first touch == first write\n",
    "```\n",
    "\n",
    "The location of the \"main\" thread determines the NUMA domain of the entire array!\n",
    "\n",
    "If we later access the data in parallel, all threads must read from the same NUMA domain → competition for the memory bus → potential bottleneck."
   ]
  },
  {
   "cell_type": "markdown",
   "metadata": {},
   "source": [
    "#### Parallel\n",
    "\n",
    "```julia\n",
    "pinthreads(:numa)                       # pin threads to different NUMA domains\n",
    "x = Vector{Float64}(undef, 100)         # allocation, no \"touch\" yet\n",
    "@threads :static for i in eachindex(x)  # parallel iteration\n",
    "    x[i] = rand()                       # first touch == first write\n",
    "end\n",
    "```\n",
    "\n",
    "Different threads - running in different NUMA regions - touch different parts of the array → the latter will (likely) be placed in different NUMA domains.\n",
    "\n",
    "If we later access the data in parallel, all threads can read their part of the array from their local NUMA domain → no bottleneck."
   ]
  },
  {
   "cell_type": "markdown",
   "metadata": {},
   "source": [
    "**Crucial point: How you initialize your data influences the performance of your computational kernel(s)!**\n",
    "* up to a factor of 8 performance difference possible on Perlmutter\n",
    "\n",
    "* non-local performance effect → hard to debug"
   ]
  }
 ],
 "metadata": {
  "kernelspec": {
   "display_name": "Julia 1.10.4",
   "language": "julia",
   "name": "julia-1.10"
  },
  "language_info": {
   "file_extension": ".jl",
   "mimetype": "application/julia",
   "name": "julia",
   "version": "1.10.4"
  }
 },
 "nbformat": 4,
 "nbformat_minor": 2
}
